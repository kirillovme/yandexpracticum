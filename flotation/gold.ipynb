{
  "metadata": {
    "ExecuteTimeLog": [
      {
        "duration": 466,
        "start_time": "2022-12-04T13:44:22.827Z"
      },
      {
        "duration": 181,
        "start_time": "2022-12-04T13:44:23.294Z"
      },
      {
        "duration": 6,
        "start_time": "2022-12-04T13:44:23.500Z"
      },
      {
        "duration": 43,
        "start_time": "2022-12-04T13:44:26.887Z"
      },
      {
        "duration": 407,
        "start_time": "2022-12-04T13:44:52.249Z"
      },
      {
        "duration": 98,
        "start_time": "2022-12-04T13:44:52.658Z"
      },
      {
        "duration": 0,
        "start_time": "2022-12-04T13:44:52.758Z"
      },
      {
        "duration": 49,
        "start_time": "2022-12-04T13:45:08.901Z"
      },
      {
        "duration": 470,
        "start_time": "2022-12-04T13:45:45.417Z"
      },
      {
        "duration": 2179,
        "start_time": "2022-12-04T13:45:45.890Z"
      },
      {
        "duration": 111,
        "start_time": "2022-12-04T13:45:48.071Z"
      },
      {
        "duration": 386,
        "start_time": "2022-12-04T14:07:23.370Z"
      },
      {
        "duration": 752,
        "start_time": "2022-12-04T14:07:23.758Z"
      },
      {
        "duration": 127,
        "start_time": "2022-12-04T14:07:24.512Z"
      },
      {
        "duration": 3,
        "start_time": "2022-12-04T14:07:24.641Z"
      },
      {
        "duration": 185,
        "start_time": "2022-12-04T14:07:24.646Z"
      },
      {
        "duration": 69,
        "start_time": "2022-12-04T14:07:24.833Z"
      },
      {
        "duration": 1169,
        "start_time": "2022-12-04T14:07:59.440Z"
      },
      {
        "duration": 756,
        "start_time": "2022-12-04T14:08:00.611Z"
      },
      {
        "duration": 123,
        "start_time": "2022-12-04T14:08:01.369Z"
      },
      {
        "duration": 3,
        "start_time": "2022-12-04T14:08:01.495Z"
      },
      {
        "duration": 216,
        "start_time": "2022-12-04T14:08:01.500Z"
      },
      {
        "duration": 5,
        "start_time": "2022-12-04T14:08:01.718Z"
      },
      {
        "duration": 1075,
        "start_time": "2022-12-04T14:08:40.480Z"
      },
      {
        "duration": 720,
        "start_time": "2022-12-04T14:08:41.557Z"
      },
      {
        "duration": 113,
        "start_time": "2022-12-04T14:08:42.279Z"
      },
      {
        "duration": 3,
        "start_time": "2022-12-04T14:08:42.394Z"
      },
      {
        "duration": 202,
        "start_time": "2022-12-04T14:08:42.399Z"
      },
      {
        "duration": 7,
        "start_time": "2022-12-04T14:08:42.602Z"
      },
      {
        "duration": 1116,
        "start_time": "2022-12-04T14:08:57.515Z"
      },
      {
        "duration": 753,
        "start_time": "2022-12-04T14:08:58.633Z"
      },
      {
        "duration": 106,
        "start_time": "2022-12-04T14:08:59.388Z"
      },
      {
        "duration": 3,
        "start_time": "2022-12-04T14:08:59.495Z"
      },
      {
        "duration": 191,
        "start_time": "2022-12-04T14:08:59.500Z"
      },
      {
        "duration": 6,
        "start_time": "2022-12-04T14:08:59.693Z"
      },
      {
        "duration": 1154,
        "start_time": "2022-12-04T14:09:06.919Z"
      },
      {
        "duration": 741,
        "start_time": "2022-12-04T14:09:08.075Z"
      },
      {
        "duration": 152,
        "start_time": "2022-12-04T14:09:08.818Z"
      },
      {
        "duration": 3,
        "start_time": "2022-12-04T14:09:08.973Z"
      },
      {
        "duration": 194,
        "start_time": "2022-12-04T14:09:08.979Z"
      },
      {
        "duration": 6,
        "start_time": "2022-12-04T14:09:09.175Z"
      },
      {
        "duration": 109,
        "start_time": "2022-12-04T14:26:49.179Z"
      },
      {
        "duration": 7,
        "start_time": "2022-12-04T14:32:49.462Z"
      },
      {
        "duration": 1056,
        "start_time": "2022-12-04T14:43:19.463Z"
      },
      {
        "duration": 708,
        "start_time": "2022-12-04T14:43:20.521Z"
      },
      {
        "duration": 114,
        "start_time": "2022-12-04T14:43:21.230Z"
      },
      {
        "duration": 3,
        "start_time": "2022-12-04T14:43:21.345Z"
      },
      {
        "duration": 192,
        "start_time": "2022-12-04T14:43:21.350Z"
      },
      {
        "duration": 5,
        "start_time": "2022-12-04T14:43:21.544Z"
      },
      {
        "duration": 11,
        "start_time": "2022-12-04T14:43:21.551Z"
      },
      {
        "duration": 1063,
        "start_time": "2022-12-05T09:59:48.468Z"
      },
      {
        "duration": 2805,
        "start_time": "2022-12-05T09:59:49.533Z"
      },
      {
        "duration": 110,
        "start_time": "2022-12-05T09:59:52.340Z"
      },
      {
        "duration": 16,
        "start_time": "2022-12-05T09:59:52.454Z"
      },
      {
        "duration": 197,
        "start_time": "2022-12-05T09:59:52.472Z"
      },
      {
        "duration": 7,
        "start_time": "2022-12-05T09:59:52.671Z"
      },
      {
        "duration": 9,
        "start_time": "2022-12-05T09:59:52.679Z"
      },
      {
        "duration": 266,
        "start_time": "2022-12-05T09:59:52.690Z"
      },
      {
        "duration": 241,
        "start_time": "2022-12-05T10:00:03.093Z"
      },
      {
        "duration": 103,
        "start_time": "2022-12-05T10:02:35.638Z"
      },
      {
        "duration": 273,
        "start_time": "2022-12-05T10:02:40.753Z"
      },
      {
        "duration": 236,
        "start_time": "2022-12-05T10:02:51.035Z"
      },
      {
        "duration": 265,
        "start_time": "2022-12-05T10:03:33.053Z"
      },
      {
        "duration": 266,
        "start_time": "2022-12-05T10:03:50.753Z"
      },
      {
        "duration": 255,
        "start_time": "2022-12-05T10:03:59.580Z"
      },
      {
        "duration": 241,
        "start_time": "2022-12-05T10:04:07.633Z"
      },
      {
        "duration": 274,
        "start_time": "2022-12-05T10:05:07.785Z"
      },
      {
        "duration": 1016,
        "start_time": "2022-12-05T10:13:37.209Z"
      },
      {
        "duration": 651,
        "start_time": "2022-12-05T10:13:38.227Z"
      },
      {
        "duration": 121,
        "start_time": "2022-12-05T10:13:38.880Z"
      },
      {
        "duration": 3,
        "start_time": "2022-12-05T10:13:39.004Z"
      },
      {
        "duration": 204,
        "start_time": "2022-12-05T10:13:39.009Z"
      },
      {
        "duration": 6,
        "start_time": "2022-12-05T10:13:39.215Z"
      },
      {
        "duration": 10,
        "start_time": "2022-12-05T10:13:39.223Z"
      },
      {
        "duration": 279,
        "start_time": "2022-12-05T10:13:39.234Z"
      },
      {
        "duration": 13,
        "start_time": "2022-12-05T10:13:39.514Z"
      },
      {
        "duration": 27,
        "start_time": "2022-12-05T10:14:08.409Z"
      },
      {
        "duration": 26,
        "start_time": "2022-12-05T10:14:16.751Z"
      },
      {
        "duration": 102,
        "start_time": "2022-12-05T11:01:24.870Z"
      },
      {
        "duration": 4,
        "start_time": "2022-12-05T11:01:32.001Z"
      },
      {
        "duration": 751,
        "start_time": "2022-12-05T11:01:44.174Z"
      },
      {
        "duration": 184,
        "start_time": "2022-12-05T11:02:06.721Z"
      },
      {
        "duration": 1282,
        "start_time": "2022-12-05T11:02:31.779Z"
      },
      {
        "duration": 680,
        "start_time": "2022-12-05T11:02:33.063Z"
      },
      {
        "duration": 123,
        "start_time": "2022-12-05T11:02:33.748Z"
      },
      {
        "duration": 3,
        "start_time": "2022-12-05T11:02:33.874Z"
      },
      {
        "duration": 224,
        "start_time": "2022-12-05T11:02:33.879Z"
      },
      {
        "duration": 7,
        "start_time": "2022-12-05T11:02:34.105Z"
      },
      {
        "duration": 21,
        "start_time": "2022-12-05T11:02:34.114Z"
      },
      {
        "duration": 288,
        "start_time": "2022-12-05T11:02:34.137Z"
      },
      {
        "duration": 13,
        "start_time": "2022-12-05T11:02:34.427Z"
      },
      {
        "duration": 35,
        "start_time": "2022-12-05T11:02:34.455Z"
      },
      {
        "duration": 612,
        "start_time": "2022-12-05T11:02:34.492Z"
      },
      {
        "duration": 583,
        "start_time": "2022-12-05T11:03:34.801Z"
      },
      {
        "duration": 558,
        "start_time": "2022-12-05T11:03:48.238Z"
      },
      {
        "duration": 807,
        "start_time": "2022-12-05T11:04:00.407Z"
      },
      {
        "duration": 550,
        "start_time": "2022-12-05T11:04:09.071Z"
      },
      {
        "duration": 588,
        "start_time": "2022-12-05T11:05:02.328Z"
      },
      {
        "duration": 626,
        "start_time": "2022-12-05T11:05:14.353Z"
      },
      {
        "duration": 373,
        "start_time": "2022-12-05T11:05:49.846Z"
      },
      {
        "duration": 736,
        "start_time": "2022-12-05T11:06:01.097Z"
      },
      {
        "duration": 704,
        "start_time": "2022-12-05T11:06:32.231Z"
      },
      {
        "duration": 761,
        "start_time": "2022-12-05T11:06:40.943Z"
      },
      {
        "duration": 198,
        "start_time": "2022-12-05T11:20:36.886Z"
      },
      {
        "duration": 256,
        "start_time": "2022-12-05T11:20:45.054Z"
      },
      {
        "duration": 132,
        "start_time": "2022-12-05T11:20:49.319Z"
      },
      {
        "duration": 139,
        "start_time": "2022-12-05T11:20:53.332Z"
      },
      {
        "duration": 137,
        "start_time": "2022-12-05T11:20:57.201Z"
      },
      {
        "duration": 252,
        "start_time": "2022-12-05T11:21:07.718Z"
      },
      {
        "duration": 521,
        "start_time": "2022-12-05T11:21:13.459Z"
      },
      {
        "duration": 676,
        "start_time": "2022-12-05T11:21:21.879Z"
      },
      {
        "duration": 620,
        "start_time": "2022-12-05T11:21:36.502Z"
      },
      {
        "duration": 1222,
        "start_time": "2022-12-05T11:30:35.126Z"
      },
      {
        "duration": 1467,
        "start_time": "2022-12-05T11:31:03.766Z"
      },
      {
        "duration": 983,
        "start_time": "2022-12-05T11:31:11.454Z"
      },
      {
        "duration": 1059,
        "start_time": "2022-12-05T11:31:17.874Z"
      },
      {
        "duration": 580,
        "start_time": "2022-12-05T11:31:28.619Z"
      },
      {
        "duration": 1378,
        "start_time": "2022-12-05T11:59:24.911Z"
      },
      {
        "duration": 801,
        "start_time": "2022-12-05T11:59:26.291Z"
      },
      {
        "duration": 114,
        "start_time": "2022-12-05T11:59:27.094Z"
      },
      {
        "duration": 3,
        "start_time": "2022-12-05T11:59:27.210Z"
      },
      {
        "duration": 192,
        "start_time": "2022-12-05T11:59:27.215Z"
      },
      {
        "duration": 6,
        "start_time": "2022-12-05T11:59:27.409Z"
      },
      {
        "duration": 14,
        "start_time": "2022-12-05T11:59:27.416Z"
      },
      {
        "duration": 254,
        "start_time": "2022-12-05T11:59:27.432Z"
      },
      {
        "duration": 12,
        "start_time": "2022-12-05T11:59:27.688Z"
      },
      {
        "duration": 26,
        "start_time": "2022-12-05T11:59:27.703Z"
      },
      {
        "duration": 719,
        "start_time": "2022-12-05T11:59:27.731Z"
      },
      {
        "duration": 660,
        "start_time": "2022-12-05T11:59:28.455Z"
      },
      {
        "duration": 831,
        "start_time": "2022-12-05T11:59:29.117Z"
      },
      {
        "duration": 0,
        "start_time": "2022-12-05T11:59:29.950Z"
      },
      {
        "duration": 0,
        "start_time": "2022-12-05T11:59:29.952Z"
      },
      {
        "duration": 974,
        "start_time": "2022-12-05T12:05:21.429Z"
      },
      {
        "duration": 814,
        "start_time": "2022-12-05T12:06:17.465Z"
      },
      {
        "duration": 14,
        "start_time": "2022-12-05T12:06:34.199Z"
      },
      {
        "duration": 15,
        "start_time": "2022-12-05T12:07:43.624Z"
      },
      {
        "duration": 4,
        "start_time": "2022-12-05T12:07:47.606Z"
      },
      {
        "duration": 1236,
        "start_time": "2022-12-05T12:07:48.700Z"
      },
      {
        "duration": 11,
        "start_time": "2022-12-05T12:11:39.014Z"
      },
      {
        "duration": 10,
        "start_time": "2022-12-05T12:11:56.491Z"
      },
      {
        "duration": 511,
        "start_time": "2022-12-05T12:12:04.290Z"
      },
      {
        "duration": 1682,
        "start_time": "2022-12-05T12:14:03.338Z"
      },
      {
        "duration": 820,
        "start_time": "2022-12-05T12:14:05.022Z"
      },
      {
        "duration": 137,
        "start_time": "2022-12-05T12:14:05.844Z"
      },
      {
        "duration": 3,
        "start_time": "2022-12-05T12:14:05.983Z"
      },
      {
        "duration": 185,
        "start_time": "2022-12-05T12:14:05.988Z"
      },
      {
        "duration": 6,
        "start_time": "2022-12-05T12:14:06.175Z"
      },
      {
        "duration": 29,
        "start_time": "2022-12-05T12:14:06.182Z"
      },
      {
        "duration": 295,
        "start_time": "2022-12-05T12:14:06.213Z"
      },
      {
        "duration": 13,
        "start_time": "2022-12-05T12:14:06.509Z"
      },
      {
        "duration": 35,
        "start_time": "2022-12-05T12:14:06.525Z"
      },
      {
        "duration": 764,
        "start_time": "2022-12-05T12:14:06.562Z"
      },
      {
        "duration": 672,
        "start_time": "2022-12-05T12:14:07.328Z"
      },
      {
        "duration": 12,
        "start_time": "2022-12-05T12:14:08.002Z"
      },
      {
        "duration": 20,
        "start_time": "2022-12-05T12:14:08.015Z"
      },
      {
        "duration": 1159,
        "start_time": "2022-12-05T12:14:08.037Z"
      },
      {
        "duration": 417,
        "start_time": "2022-12-05T12:14:09.198Z"
      },
      {
        "duration": 4,
        "start_time": "2022-12-05T12:19:23.143Z"
      },
      {
        "duration": 1945,
        "start_time": "2022-12-05T12:30:02.134Z"
      },
      {
        "duration": 1354,
        "start_time": "2022-12-05T12:30:04.081Z"
      },
      {
        "duration": 131,
        "start_time": "2022-12-05T12:30:05.437Z"
      },
      {
        "duration": 4,
        "start_time": "2022-12-05T12:30:05.571Z"
      },
      {
        "duration": 197,
        "start_time": "2022-12-05T12:30:05.576Z"
      },
      {
        "duration": 6,
        "start_time": "2022-12-05T12:30:05.775Z"
      },
      {
        "duration": 25,
        "start_time": "2022-12-05T12:30:05.783Z"
      },
      {
        "duration": 281,
        "start_time": "2022-12-05T12:30:05.810Z"
      },
      {
        "duration": 13,
        "start_time": "2022-12-05T12:30:06.092Z"
      },
      {
        "duration": 29,
        "start_time": "2022-12-05T12:30:06.108Z"
      },
      {
        "duration": 789,
        "start_time": "2022-12-05T12:30:06.155Z"
      },
      {
        "duration": 708,
        "start_time": "2022-12-05T12:30:06.947Z"
      },
      {
        "duration": 13,
        "start_time": "2022-12-05T12:30:07.658Z"
      },
      {
        "duration": 10,
        "start_time": "2022-12-05T12:30:07.673Z"
      },
      {
        "duration": 1219,
        "start_time": "2022-12-05T12:30:07.685Z"
      },
      {
        "duration": 466,
        "start_time": "2022-12-05T12:30:08.906Z"
      },
      {
        "duration": 5,
        "start_time": "2022-12-05T12:30:09.374Z"
      },
      {
        "duration": 40,
        "start_time": "2022-12-05T12:30:09.380Z"
      },
      {
        "duration": 137,
        "start_time": "2022-12-05T12:30:09.422Z"
      },
      {
        "duration": 1431,
        "start_time": "2022-12-05T12:34:08.541Z"
      },
      {
        "duration": 836,
        "start_time": "2022-12-05T12:34:09.978Z"
      },
      {
        "duration": 140,
        "start_time": "2022-12-05T12:34:10.816Z"
      },
      {
        "duration": 13,
        "start_time": "2022-12-05T12:34:10.961Z"
      },
      {
        "duration": 204,
        "start_time": "2022-12-05T12:34:10.976Z"
      },
      {
        "duration": 6,
        "start_time": "2022-12-05T12:34:11.181Z"
      },
      {
        "duration": 10,
        "start_time": "2022-12-05T12:34:11.188Z"
      },
      {
        "duration": 291,
        "start_time": "2022-12-05T12:34:11.200Z"
      },
      {
        "duration": 13,
        "start_time": "2022-12-05T12:34:11.493Z"
      },
      {
        "duration": 49,
        "start_time": "2022-12-05T12:34:11.508Z"
      },
      {
        "duration": 751,
        "start_time": "2022-12-05T12:34:11.558Z"
      },
      {
        "duration": 706,
        "start_time": "2022-12-05T12:34:12.311Z"
      },
      {
        "duration": 13,
        "start_time": "2022-12-05T12:34:13.019Z"
      },
      {
        "duration": 22,
        "start_time": "2022-12-05T12:34:13.034Z"
      },
      {
        "duration": 1625,
        "start_time": "2022-12-05T12:34:13.060Z"
      },
      {
        "duration": 1297,
        "start_time": "2022-12-05T12:34:14.687Z"
      },
      {
        "duration": 4,
        "start_time": "2022-12-05T12:34:15.986Z"
      },
      {
        "duration": 300,
        "start_time": "2022-12-05T12:34:15.992Z"
      },
      {
        "duration": 1,
        "start_time": "2022-12-05T12:34:16.293Z"
      },
      {
        "duration": 16,
        "start_time": "2022-12-05T12:58:28.899Z"
      },
      {
        "duration": 18,
        "start_time": "2022-12-05T12:59:00.549Z"
      },
      {
        "duration": 1556,
        "start_time": "2022-12-05T13:00:15.832Z"
      },
      {
        "duration": 788,
        "start_time": "2022-12-05T13:00:17.390Z"
      },
      {
        "duration": 122,
        "start_time": "2022-12-05T13:00:18.180Z"
      },
      {
        "duration": 3,
        "start_time": "2022-12-05T13:00:18.304Z"
      },
      {
        "duration": 213,
        "start_time": "2022-12-05T13:00:18.310Z"
      },
      {
        "duration": 8,
        "start_time": "2022-12-05T13:00:18.525Z"
      },
      {
        "duration": 35,
        "start_time": "2022-12-05T13:00:18.536Z"
      },
      {
        "duration": 327,
        "start_time": "2022-12-05T13:00:18.573Z"
      },
      {
        "duration": 12,
        "start_time": "2022-12-05T13:00:18.902Z"
      },
      {
        "duration": 55,
        "start_time": "2022-12-05T13:00:18.916Z"
      },
      {
        "duration": 844,
        "start_time": "2022-12-05T13:00:18.976Z"
      },
      {
        "duration": 756,
        "start_time": "2022-12-05T13:00:19.821Z"
      },
      {
        "duration": 15,
        "start_time": "2022-12-05T13:00:20.579Z"
      },
      {
        "duration": 30,
        "start_time": "2022-12-05T13:00:20.598Z"
      },
      {
        "duration": 1417,
        "start_time": "2022-12-05T13:00:20.630Z"
      },
      {
        "duration": 545,
        "start_time": "2022-12-05T13:00:22.049Z"
      },
      {
        "duration": 5,
        "start_time": "2022-12-05T13:00:22.596Z"
      },
      {
        "duration": 64,
        "start_time": "2022-12-05T13:00:22.603Z"
      },
      {
        "duration": 124,
        "start_time": "2022-12-05T13:00:22.669Z"
      },
      {
        "duration": 1517,
        "start_time": "2022-12-05T13:17:10.480Z"
      },
      {
        "duration": 799,
        "start_time": "2022-12-05T13:17:11.999Z"
      },
      {
        "duration": 134,
        "start_time": "2022-12-05T13:17:12.800Z"
      },
      {
        "duration": 20,
        "start_time": "2022-12-05T13:17:12.936Z"
      },
      {
        "duration": 321,
        "start_time": "2022-12-05T13:17:12.960Z"
      },
      {
        "duration": 7,
        "start_time": "2022-12-05T13:17:13.283Z"
      },
      {
        "duration": 19,
        "start_time": "2022-12-05T13:17:13.292Z"
      },
      {
        "duration": 309,
        "start_time": "2022-12-05T13:17:13.314Z"
      },
      {
        "duration": 23,
        "start_time": "2022-12-05T13:17:13.625Z"
      },
      {
        "duration": 49,
        "start_time": "2022-12-05T13:17:13.657Z"
      },
      {
        "duration": 886,
        "start_time": "2022-12-05T13:17:13.709Z"
      },
      {
        "duration": 932,
        "start_time": "2022-12-05T13:17:14.598Z"
      },
      {
        "duration": 27,
        "start_time": "2022-12-05T13:17:15.532Z"
      },
      {
        "duration": 5,
        "start_time": "2022-12-05T13:17:15.563Z"
      },
      {
        "duration": 1322,
        "start_time": "2022-12-05T13:17:15.570Z"
      },
      {
        "duration": 577,
        "start_time": "2022-12-05T13:17:16.895Z"
      },
      {
        "duration": 11,
        "start_time": "2022-12-05T13:17:17.474Z"
      },
      {
        "duration": 69,
        "start_time": "2022-12-05T13:17:17.487Z"
      },
      {
        "duration": 207,
        "start_time": "2022-12-05T13:17:17.559Z"
      },
      {
        "duration": 1564,
        "start_time": "2022-12-05T13:17:54.670Z"
      },
      {
        "duration": 842,
        "start_time": "2022-12-05T13:17:56.237Z"
      },
      {
        "duration": 184,
        "start_time": "2022-12-05T13:17:57.081Z"
      },
      {
        "duration": 4,
        "start_time": "2022-12-05T13:17:57.268Z"
      },
      {
        "duration": 337,
        "start_time": "2022-12-05T13:17:57.274Z"
      },
      {
        "duration": 7,
        "start_time": "2022-12-05T13:17:57.614Z"
      },
      {
        "duration": 6,
        "start_time": "2022-12-05T13:17:57.624Z"
      },
      {
        "duration": 387,
        "start_time": "2022-12-05T13:17:57.632Z"
      },
      {
        "duration": 18,
        "start_time": "2022-12-05T13:17:58.023Z"
      },
      {
        "duration": 38,
        "start_time": "2022-12-05T13:17:58.055Z"
      },
      {
        "duration": 864,
        "start_time": "2022-12-05T13:17:58.096Z"
      },
      {
        "duration": 773,
        "start_time": "2022-12-05T13:17:58.962Z"
      },
      {
        "duration": 24,
        "start_time": "2022-12-05T13:17:59.737Z"
      },
      {
        "duration": 5,
        "start_time": "2022-12-05T13:17:59.762Z"
      },
      {
        "duration": 1324,
        "start_time": "2022-12-05T13:17:59.770Z"
      },
      {
        "duration": 595,
        "start_time": "2022-12-05T13:18:01.096Z"
      },
      {
        "duration": 6,
        "start_time": "2022-12-05T13:18:01.693Z"
      },
      {
        "duration": 56,
        "start_time": "2022-12-05T13:18:01.701Z"
      },
      {
        "duration": 1344,
        "start_time": "2022-12-05T13:18:01.759Z"
      },
      {
        "duration": 1263,
        "start_time": "2022-12-05T13:20:01.958Z"
      },
      {
        "duration": 1516,
        "start_time": "2022-12-05T13:20:27.558Z"
      },
      {
        "duration": 756,
        "start_time": "2022-12-05T13:20:29.076Z"
      },
      {
        "duration": 143,
        "start_time": "2022-12-05T13:20:29.834Z"
      },
      {
        "duration": 5,
        "start_time": "2022-12-05T13:20:29.979Z"
      },
      {
        "duration": 210,
        "start_time": "2022-12-05T13:20:29.986Z"
      },
      {
        "duration": 7,
        "start_time": "2022-12-05T13:20:30.198Z"
      },
      {
        "duration": 23,
        "start_time": "2022-12-05T13:20:30.207Z"
      },
      {
        "duration": 311,
        "start_time": "2022-12-05T13:20:30.232Z"
      },
      {
        "duration": 20,
        "start_time": "2022-12-05T13:20:30.545Z"
      },
      {
        "duration": 38,
        "start_time": "2022-12-05T13:20:30.568Z"
      },
      {
        "duration": 823,
        "start_time": "2022-12-05T13:20:30.608Z"
      },
      {
        "duration": 703,
        "start_time": "2022-12-05T13:20:31.434Z"
      },
      {
        "duration": 22,
        "start_time": "2022-12-05T13:20:32.139Z"
      },
      {
        "duration": 4,
        "start_time": "2022-12-05T13:20:32.165Z"
      },
      {
        "duration": 1268,
        "start_time": "2022-12-05T13:20:32.170Z"
      },
      {
        "duration": 546,
        "start_time": "2022-12-05T13:20:33.441Z"
      },
      {
        "duration": 6,
        "start_time": "2022-12-05T13:20:33.989Z"
      },
      {
        "duration": 52,
        "start_time": "2022-12-05T13:20:33.996Z"
      },
      {
        "duration": 1787,
        "start_time": "2022-12-05T13:20:34.051Z"
      },
      {
        "duration": 6,
        "start_time": "2022-12-05T13:25:24.750Z"
      },
      {
        "duration": 26,
        "start_time": "2022-12-05T13:25:26.752Z"
      },
      {
        "duration": 1647,
        "start_time": "2022-12-05T13:25:28.732Z"
      },
      {
        "duration": 8,
        "start_time": "2022-12-05T13:25:49.116Z"
      },
      {
        "duration": 23,
        "start_time": "2022-12-05T13:25:49.964Z"
      },
      {
        "duration": 72233,
        "start_time": "2022-12-05T13:25:51.132Z"
      },
      {
        "duration": 5,
        "start_time": "2022-12-05T13:27:27.143Z"
      },
      {
        "duration": 22,
        "start_time": "2022-12-05T13:27:28.106Z"
      },
      {
        "duration": 70385,
        "start_time": "2022-12-05T13:27:29.371Z"
      },
      {
        "duration": 10,
        "start_time": "2022-12-05T14:08:03.861Z"
      },
      {
        "duration": 1379,
        "start_time": "2022-12-05T14:08:11.673Z"
      },
      {
        "duration": 1577,
        "start_time": "2022-12-05T14:08:13.054Z"
      },
      {
        "duration": 135,
        "start_time": "2022-12-05T14:08:14.633Z"
      },
      {
        "duration": 3,
        "start_time": "2022-12-05T14:08:14.770Z"
      },
      {
        "duration": 194,
        "start_time": "2022-12-05T14:08:14.774Z"
      },
      {
        "duration": 6,
        "start_time": "2022-12-05T14:08:14.970Z"
      },
      {
        "duration": 6,
        "start_time": "2022-12-05T14:08:14.978Z"
      },
      {
        "duration": 284,
        "start_time": "2022-12-05T14:08:14.986Z"
      },
      {
        "duration": 18,
        "start_time": "2022-12-05T14:08:15.272Z"
      },
      {
        "duration": 30,
        "start_time": "2022-12-05T14:08:15.293Z"
      },
      {
        "duration": 746,
        "start_time": "2022-12-05T14:08:15.325Z"
      },
      {
        "duration": 723,
        "start_time": "2022-12-05T14:08:16.073Z"
      },
      {
        "duration": 14,
        "start_time": "2022-12-05T14:08:16.798Z"
      },
      {
        "duration": 9,
        "start_time": "2022-12-05T14:08:16.814Z"
      },
      {
        "duration": 1160,
        "start_time": "2022-12-05T14:08:16.825Z"
      },
      {
        "duration": 533,
        "start_time": "2022-12-05T14:08:17.987Z"
      },
      {
        "duration": 4,
        "start_time": "2022-12-05T14:08:18.522Z"
      },
      {
        "duration": 50,
        "start_time": "2022-12-05T14:08:18.528Z"
      },
      {
        "duration": 70575,
        "start_time": "2022-12-05T14:08:18.580Z"
      },
      {
        "duration": 179,
        "start_time": "2022-12-05T14:09:29.157Z"
      },
      {
        "duration": 3414,
        "start_time": "2022-12-05T14:09:40.554Z"
      },
      {
        "duration": 28,
        "start_time": "2022-12-05T14:19:00.275Z"
      },
      {
        "duration": 1430,
        "start_time": "2022-12-05T14:24:50.614Z"
      },
      {
        "duration": 806,
        "start_time": "2022-12-05T14:24:52.046Z"
      },
      {
        "duration": 124,
        "start_time": "2022-12-05T14:24:52.854Z"
      },
      {
        "duration": 5,
        "start_time": "2022-12-05T14:24:52.981Z"
      },
      {
        "duration": 203,
        "start_time": "2022-12-05T14:24:52.989Z"
      },
      {
        "duration": 8,
        "start_time": "2022-12-05T14:24:53.194Z"
      },
      {
        "duration": 19,
        "start_time": "2022-12-05T14:24:53.204Z"
      },
      {
        "duration": 311,
        "start_time": "2022-12-05T14:24:53.226Z"
      },
      {
        "duration": 19,
        "start_time": "2022-12-05T14:24:53.539Z"
      },
      {
        "duration": 26,
        "start_time": "2022-12-05T14:24:53.561Z"
      },
      {
        "duration": 855,
        "start_time": "2022-12-05T14:24:53.590Z"
      },
      {
        "duration": 789,
        "start_time": "2022-12-05T14:24:54.452Z"
      },
      {
        "duration": 19,
        "start_time": "2022-12-05T14:24:55.243Z"
      },
      {
        "duration": 9,
        "start_time": "2022-12-05T14:24:55.264Z"
      },
      {
        "duration": 1257,
        "start_time": "2022-12-05T14:24:55.275Z"
      },
      {
        "duration": 579,
        "start_time": "2022-12-05T14:24:56.534Z"
      },
      {
        "duration": 7,
        "start_time": "2022-12-05T14:24:57.115Z"
      },
      {
        "duration": 49,
        "start_time": "2022-12-05T14:24:57.124Z"
      },
      {
        "duration": 71483,
        "start_time": "2022-12-05T14:24:57.175Z"
      },
      {
        "duration": 5065,
        "start_time": "2022-12-05T14:26:08.661Z"
      },
      {
        "duration": 154,
        "start_time": "2022-12-05T14:26:13.728Z"
      },
      {
        "duration": 16261,
        "start_time": "2022-12-05T14:27:04.969Z"
      },
      {
        "duration": 5031,
        "start_time": "2022-12-05T14:27:54.587Z"
      },
      {
        "duration": 5058,
        "start_time": "2022-12-05T14:28:04.463Z"
      },
      {
        "duration": 20425,
        "start_time": "2022-12-05T14:30:33.712Z"
      },
      {
        "duration": 1580,
        "start_time": "2022-12-05T14:30:59.053Z"
      },
      {
        "duration": 834,
        "start_time": "2022-12-05T14:31:00.636Z"
      },
      {
        "duration": 139,
        "start_time": "2022-12-05T14:31:01.473Z"
      },
      {
        "duration": 4,
        "start_time": "2022-12-05T14:31:01.614Z"
      },
      {
        "duration": 233,
        "start_time": "2022-12-05T14:31:01.620Z"
      },
      {
        "duration": 6,
        "start_time": "2022-12-05T14:31:01.855Z"
      },
      {
        "duration": 7,
        "start_time": "2022-12-05T14:31:01.863Z"
      },
      {
        "duration": 316,
        "start_time": "2022-12-05T14:31:01.872Z"
      },
      {
        "duration": 14,
        "start_time": "2022-12-05T14:31:02.190Z"
      },
      {
        "duration": 50,
        "start_time": "2022-12-05T14:31:02.207Z"
      },
      {
        "duration": 872,
        "start_time": "2022-12-05T14:31:02.259Z"
      },
      {
        "duration": 708,
        "start_time": "2022-12-05T14:31:03.133Z"
      },
      {
        "duration": 20,
        "start_time": "2022-12-05T14:31:03.843Z"
      },
      {
        "duration": 34,
        "start_time": "2022-12-05T14:31:03.864Z"
      },
      {
        "duration": 1279,
        "start_time": "2022-12-05T14:31:03.900Z"
      },
      {
        "duration": 519,
        "start_time": "2022-12-05T14:31:05.181Z"
      },
      {
        "duration": 5,
        "start_time": "2022-12-05T14:31:05.702Z"
      },
      {
        "duration": 55,
        "start_time": "2022-12-05T14:31:05.708Z"
      },
      {
        "duration": 71601,
        "start_time": "2022-12-05T14:31:05.765Z"
      },
      {
        "duration": 5849,
        "start_time": "2022-12-05T14:32:17.368Z"
      },
      {
        "duration": 16232,
        "start_time": "2022-12-05T14:32:23.219Z"
      },
      {
        "duration": 1924439,
        "start_time": "2022-12-05T14:32:39.454Z"
      },
      {
        "duration": 5,
        "start_time": "2022-12-05T15:10:00.474Z"
      },
      {
        "duration": 195,
        "start_time": "2022-12-05T15:12:50.028Z"
      },
      {
        "duration": 20,
        "start_time": "2022-12-05T15:14:04.107Z"
      },
      {
        "duration": 20,
        "start_time": "2022-12-05T15:15:20.012Z"
      },
      {
        "duration": 30,
        "start_time": "2022-12-05T15:17:02.539Z"
      },
      {
        "duration": 139,
        "start_time": "2022-12-05T15:17:51.517Z"
      },
      {
        "duration": 1835,
        "start_time": "2022-12-05T16:32:55.206Z"
      },
      {
        "duration": 719,
        "start_time": "2022-12-05T16:32:57.042Z"
      },
      {
        "duration": 113,
        "start_time": "2022-12-05T16:32:57.762Z"
      },
      {
        "duration": 3,
        "start_time": "2022-12-05T16:32:57.877Z"
      },
      {
        "duration": 177,
        "start_time": "2022-12-05T16:32:57.882Z"
      },
      {
        "duration": 6,
        "start_time": "2022-12-05T16:32:58.060Z"
      },
      {
        "duration": 6,
        "start_time": "2022-12-05T16:32:58.067Z"
      },
      {
        "duration": 264,
        "start_time": "2022-12-05T16:32:58.074Z"
      },
      {
        "duration": 18,
        "start_time": "2022-12-05T16:32:58.340Z"
      },
      {
        "duration": 27,
        "start_time": "2022-12-05T16:32:58.359Z"
      },
      {
        "duration": 715,
        "start_time": "2022-12-05T16:32:58.387Z"
      },
      {
        "duration": 668,
        "start_time": "2022-12-05T16:32:59.104Z"
      },
      {
        "duration": 13,
        "start_time": "2022-12-05T16:32:59.774Z"
      },
      {
        "duration": 8,
        "start_time": "2022-12-05T16:32:59.791Z"
      },
      {
        "duration": 1161,
        "start_time": "2022-12-05T16:32:59.801Z"
      },
      {
        "duration": 510,
        "start_time": "2022-12-05T16:33:00.964Z"
      },
      {
        "duration": 4,
        "start_time": "2022-12-05T16:33:01.476Z"
      },
      {
        "duration": 51,
        "start_time": "2022-12-05T16:33:01.482Z"
      },
      {
        "duration": 4,
        "start_time": "2022-12-05T16:33:01.535Z"
      },
      {
        "duration": 1440,
        "start_time": "2022-12-05T19:43:16.977Z"
      },
      {
        "duration": 2560,
        "start_time": "2022-12-05T19:43:18.419Z"
      },
      {
        "duration": 88,
        "start_time": "2022-12-05T19:43:20.980Z"
      },
      {
        "duration": 2,
        "start_time": "2022-12-05T19:43:21.077Z"
      },
      {
        "duration": 171,
        "start_time": "2022-12-05T19:43:21.080Z"
      },
      {
        "duration": 5,
        "start_time": "2022-12-05T19:43:21.253Z"
      },
      {
        "duration": 7,
        "start_time": "2022-12-05T19:43:21.259Z"
      },
      {
        "duration": 229,
        "start_time": "2022-12-05T19:43:21.275Z"
      },
      {
        "duration": 13,
        "start_time": "2022-12-05T19:43:21.506Z"
      },
      {
        "duration": 26,
        "start_time": "2022-12-05T19:43:21.522Z"
      },
      {
        "duration": 632,
        "start_time": "2022-12-05T19:43:21.549Z"
      },
      {
        "duration": 643,
        "start_time": "2022-12-05T19:43:22.183Z"
      },
      {
        "duration": 11,
        "start_time": "2022-12-05T19:43:22.828Z"
      },
      {
        "duration": 12,
        "start_time": "2022-12-05T19:43:22.841Z"
      },
      {
        "duration": 1123,
        "start_time": "2022-12-05T19:43:22.855Z"
      },
      {
        "duration": 354,
        "start_time": "2022-12-05T19:43:23.980Z"
      },
      {
        "duration": 4,
        "start_time": "2022-12-05T19:43:24.336Z"
      },
      {
        "duration": 44,
        "start_time": "2022-12-05T19:43:24.341Z"
      },
      {
        "duration": 66901,
        "start_time": "2022-12-05T19:43:24.387Z"
      },
      {
        "duration": 4566,
        "start_time": "2022-12-05T19:44:31.375Z"
      },
      {
        "duration": 14985,
        "start_time": "2022-12-05T19:44:35.942Z"
      },
      {
        "duration": 1792075,
        "start_time": "2022-12-05T19:44:50.928Z"
      },
      {
        "duration": 4,
        "start_time": "2022-12-05T20:14:43.005Z"
      },
      {
        "duration": 99,
        "start_time": "2022-12-05T20:14:43.011Z"
      },
      {
        "duration": 99,
        "start_time": "2022-12-05T20:14:43.178Z"
      }
    ],
    "kernelspec": {
      "name": "python",
      "display_name": "Python (Pyodide)",
      "language": "python"
    },
    "language_info": {
      "codemirror_mode": {
        "name": "python",
        "version": 3
      },
      "file_extension": ".py",
      "mimetype": "text/x-python",
      "name": "python",
      "nbconvert_exporter": "python",
      "pygments_lexer": "ipython3",
      "version": "3.8"
    },
    "toc": {
      "base_numbering": 1,
      "nav_menu": {},
      "number_sections": true,
      "sideBar": true,
      "skip_h1_title": true,
      "title_cell": "Содержание",
      "title_sidebar": "Contents",
      "toc_cell": true,
      "toc_position": {},
      "toc_section_display": true,
      "toc_window_display": true
    }
  },
  "nbformat_minor": 4,
  "nbformat": 4,
  "cells": [
    {
      "cell_type": "markdown",
      "source": "<h1>Содержание<span class=\"tocSkip\"></span></h1>\n<div class=\"toc\"><ul class=\"toc-item\"><li><span><a href=\"#Подготовка-данных\" data-toc-modified-id=\"Подготовка-данных-1\"><span class=\"toc-item-num\">1&nbsp;&nbsp;</span>Подготовка данных</a></span><ul class=\"toc-item\"><li><span><a href=\"#Расчет-эффективности\" data-toc-modified-id=\"Расчет-эффективности-1.1\"><span class=\"toc-item-num\">1.1&nbsp;&nbsp;</span>Расчет эффективности</a></span></li><li><span><a href=\"#Анализ-отсутствующих-признаков\" data-toc-modified-id=\"Анализ-отсутствующих-признаков-1.2\"><span class=\"toc-item-num\">1.2&nbsp;&nbsp;</span>Анализ отсутствующих признаков</a></span></li><li><span><a href=\"#Предобработка-данных\" data-toc-modified-id=\"Предобработка-данных-1.3\"><span class=\"toc-item-num\">1.3&nbsp;&nbsp;</span>Предобработка данных</a></span></li><li><span><a href=\"#Вывод\" data-toc-modified-id=\"Вывод-1.4\"><span class=\"toc-item-num\">1.4&nbsp;&nbsp;</span>Вывод</a></span></li></ul></li><li><span><a href=\"#Анализ-данных\" data-toc-modified-id=\"Анализ-данных-2\"><span class=\"toc-item-num\">2&nbsp;&nbsp;</span>Анализ данных</a></span><ul class=\"toc-item\"><li><span><a href=\"#Анализ-концентрации-металлов\" data-toc-modified-id=\"Анализ-концентрации-металлов-2.1\"><span class=\"toc-item-num\">2.1&nbsp;&nbsp;</span>Анализ концентрации металлов</a></span><ul class=\"toc-item\"><li><span><a href=\"#Вывод-по-графикам\" data-toc-modified-id=\"Вывод-по-графикам-2.1.1\"><span class=\"toc-item-num\">2.1.1&nbsp;&nbsp;</span>Вывод по графикам</a></span></li></ul></li><li><span><a href=\"#Анализ-распределения-размеров-гранул-сырья-на-обучающей-и-тестовой-выборках\" data-toc-modified-id=\"Анализ-распределения-размеров-гранул-сырья-на-обучающей-и-тестовой-выборках-2.2\"><span class=\"toc-item-num\">2.2&nbsp;&nbsp;</span>Анализ распределения размеров гранул сырья на обучающей и тестовой выборках</a></span><ul class=\"toc-item\"><li><span><a href=\"#Вывод\" data-toc-modified-id=\"Вывод-2.2.1\"><span class=\"toc-item-num\">2.2.1&nbsp;&nbsp;</span>Вывод</a></span></li></ul></li><li><span><a href=\"#Анализ-суммарной-концентрации-веществ\" data-toc-modified-id=\"Анализ-суммарной-концентрации-веществ-2.3\"><span class=\"toc-item-num\">2.3&nbsp;&nbsp;</span>Анализ суммарной концентрации веществ</a></span></li><li><span><a href=\"#Вывод\" data-toc-modified-id=\"Вывод-2.4\"><span class=\"toc-item-num\">2.4&nbsp;&nbsp;</span>Вывод</a></span></li></ul></li><li><span><a href=\"#Модель\" data-toc-modified-id=\"Модель-3\"><span class=\"toc-item-num\">3&nbsp;&nbsp;</span>Модель</a></span><ul class=\"toc-item\"><li><span><a href=\"#Создадим-функцию-для-вычисления-SMAPE\" data-toc-modified-id=\"Создадим-функцию-для-вычисления-SMAPE-3.1\"><span class=\"toc-item-num\">3.1&nbsp;&nbsp;</span>Создадим функцию для вычисления SMAPE</a></span></li><li><span><a href=\"#Разделим-выборки-на-тренировочную-и-тестовую\" data-toc-modified-id=\"Разделим-выборки-на-тренировочную-и-тестовую-3.2\"><span class=\"toc-item-num\">3.2&nbsp;&nbsp;</span>Разделим выборки на тренировочную и тестовую</a></span></li><li><span><a href=\"#Baseline\" data-toc-modified-id=\"Baseline-3.3\"><span class=\"toc-item-num\">3.3&nbsp;&nbsp;</span>Baseline</a></span></li><li><span><a href=\"#LinearRegression\" data-toc-modified-id=\"LinearRegression-3.4\"><span class=\"toc-item-num\">3.4&nbsp;&nbsp;</span>LinearRegression</a></span></li><li><span><a href=\"#DecisionTreeRegressor\" data-toc-modified-id=\"DecisionTreeRegressor-3.5\"><span class=\"toc-item-num\">3.5&nbsp;&nbsp;</span>DecisionTreeRegressor</a></span></li><li><span><a href=\"#RandomForestRegressor\" data-toc-modified-id=\"RandomForestRegressor-3.6\"><span class=\"toc-item-num\">3.6&nbsp;&nbsp;</span>RandomForestRegressor</a></span></li><li><span><a href=\"#Проверка-на-тестовой-модели\" data-toc-modified-id=\"Проверка-на-тестовой-модели-3.7\"><span class=\"toc-item-num\">3.7&nbsp;&nbsp;</span>Проверка на тестовой модели</a></span></li><li><span><a href=\"#Проверка-адекватности-модели\" data-toc-modified-id=\"Проверка-адекватности-модели-3.8\"><span class=\"toc-item-num\">3.8&nbsp;&nbsp;</span>Проверка адекватности модели</a></span></li></ul></li><li><span><a href=\"#Вывод\" data-toc-modified-id=\"Вывод-4\"><span class=\"toc-item-num\">4&nbsp;&nbsp;</span>Вывод</a></span></li><li><span><a href=\"#Чек-лист-готовности-проекта\" data-toc-modified-id=\"Чек-лист-готовности-проекта-5\"><span class=\"toc-item-num\">5&nbsp;&nbsp;</span>Чек-лист готовности проекта</a></span></li></ul></div>",
      "metadata": {
        "toc": true
      }
    },
    {
      "cell_type": "markdown",
      "source": "# Восстановление золота из руды",
      "metadata": {}
    },
    {
      "cell_type": "markdown",
      "source": "Подготовьте прототип модели машинного обучения для «Цифры». Компания разрабатывает решения для эффективной работы промышленных предприятий.\n\nМодель должна предсказать коэффициент восстановления золота из золотосодержащей руды. Используйте данные с параметрами добычи и очистки. \n\nМодель поможет оптимизировать производство, чтобы не запускать предприятие с убыточными характеристиками.\n\nВам нужно:\n\n1. Подготовить данные;\n2. Провести исследовательский анализ данных;\n3. Построить и обучить модель.\n\nЧтобы выполнить проект, обращайтесь к библиотекам *pandas*, *matplotlib* и *sklearn.* Вам поможет их документация.",
      "metadata": {}
    },
    {
      "cell_type": "markdown",
      "source": "## Подготовка данных",
      "metadata": {}
    },
    {
      "cell_type": "code",
      "source": "import pandas as pd\nimport numpy as np\nfrom sklearn.metrics import mean_absolute_error\nimport matplotlib.pyplot as plt\nfrom sklearn.linear_model import LinearRegression \nfrom sklearn.tree import DecisionTreeRegressor\nfrom sklearn.ensemble import RandomForestRegressor\nfrom sklearn.preprocessing import StandardScaler\nfrom sklearn.metrics import mean_absolute_error, make_scorer\nfrom sklearn.model_selection import GridSearchCV\nfrom sklearn.dummy import DummyRegressor",
      "metadata": {},
      "execution_count": 1,
      "outputs": []
    },
    {
      "cell_type": "code",
      "source": "df_train = pd.read_csv('/datasets/gold_recovery_train_new.csv')\ndf_test = pd.read_csv('/datasets/gold_recovery_test_new.csv')\ndf_full = pd.read_csv('/datasets/gold_recovery_full_new.csv')\n\ndf_list = [df_train, df_test, df_full]",
      "metadata": {},
      "execution_count": 2,
      "outputs": []
    },
    {
      "cell_type": "code",
      "source": "for df in df_list:\n    display(df.head())\n    df.info()",
      "metadata": {
        "collapsed": true,
        "jupyter": {
          "outputs_hidden": true
        }
      },
      "execution_count": 3,
      "outputs": [
        {
          "output_type": "display_data",
          "data": {
            "text/html": [
              "<div>\n",
              "<style scoped>\n",
              "    .dataframe tbody tr th:only-of-type {\n",
              "        vertical-align: middle;\n",
              "    }\n",
              "\n",
              "    .dataframe tbody tr th {\n",
              "        vertical-align: top;\n",
              "    }\n",
              "\n",
              "    .dataframe thead th {\n",
              "        text-align: right;\n",
              "    }\n",
              "</style>\n",
              "<table border=\"1\" class=\"dataframe\">\n",
              "  <thead>\n",
              "    <tr style=\"text-align: right;\">\n",
              "      <th></th>\n",
              "      <th>date</th>\n",
              "      <th>final.output.concentrate_ag</th>\n",
              "      <th>final.output.concentrate_pb</th>\n",
              "      <th>final.output.concentrate_sol</th>\n",
              "      <th>final.output.concentrate_au</th>\n",
              "      <th>final.output.recovery</th>\n",
              "      <th>final.output.tail_ag</th>\n",
              "      <th>final.output.tail_pb</th>\n",
              "      <th>final.output.tail_sol</th>\n",
              "      <th>final.output.tail_au</th>\n",
              "      <th>...</th>\n",
              "      <th>secondary_cleaner.state.floatbank4_a_air</th>\n",
              "      <th>secondary_cleaner.state.floatbank4_a_level</th>\n",
              "      <th>secondary_cleaner.state.floatbank4_b_air</th>\n",
              "      <th>secondary_cleaner.state.floatbank4_b_level</th>\n",
              "      <th>secondary_cleaner.state.floatbank5_a_air</th>\n",
              "      <th>secondary_cleaner.state.floatbank5_a_level</th>\n",
              "      <th>secondary_cleaner.state.floatbank5_b_air</th>\n",
              "      <th>secondary_cleaner.state.floatbank5_b_level</th>\n",
              "      <th>secondary_cleaner.state.floatbank6_a_air</th>\n",
              "      <th>secondary_cleaner.state.floatbank6_a_level</th>\n",
              "    </tr>\n",
              "  </thead>\n",
              "  <tbody>\n",
              "    <tr>\n",
              "      <th>0</th>\n",
              "      <td>2016-01-15 00:00:00</td>\n",
              "      <td>6.055403</td>\n",
              "      <td>9.889648</td>\n",
              "      <td>5.507324</td>\n",
              "      <td>42.192020</td>\n",
              "      <td>70.541216</td>\n",
              "      <td>10.411962</td>\n",
              "      <td>0.895447</td>\n",
              "      <td>16.904297</td>\n",
              "      <td>2.143149</td>\n",
              "      <td>...</td>\n",
              "      <td>14.016835</td>\n",
              "      <td>-502.488007</td>\n",
              "      <td>12.099931</td>\n",
              "      <td>-504.715942</td>\n",
              "      <td>9.925633</td>\n",
              "      <td>-498.310211</td>\n",
              "      <td>8.079666</td>\n",
              "      <td>-500.470978</td>\n",
              "      <td>14.151341</td>\n",
              "      <td>-605.841980</td>\n",
              "    </tr>\n",
              "    <tr>\n",
              "      <th>1</th>\n",
              "      <td>2016-01-15 01:00:00</td>\n",
              "      <td>6.029369</td>\n",
              "      <td>9.968944</td>\n",
              "      <td>5.257781</td>\n",
              "      <td>42.701629</td>\n",
              "      <td>69.266198</td>\n",
              "      <td>10.462676</td>\n",
              "      <td>0.927452</td>\n",
              "      <td>16.634514</td>\n",
              "      <td>2.224930</td>\n",
              "      <td>...</td>\n",
              "      <td>13.992281</td>\n",
              "      <td>-505.503262</td>\n",
              "      <td>11.950531</td>\n",
              "      <td>-501.331529</td>\n",
              "      <td>10.039245</td>\n",
              "      <td>-500.169983</td>\n",
              "      <td>7.984757</td>\n",
              "      <td>-500.582168</td>\n",
              "      <td>13.998353</td>\n",
              "      <td>-599.787184</td>\n",
              "    </tr>\n",
              "    <tr>\n",
              "      <th>2</th>\n",
              "      <td>2016-01-15 02:00:00</td>\n",
              "      <td>6.055926</td>\n",
              "      <td>10.213995</td>\n",
              "      <td>5.383759</td>\n",
              "      <td>42.657501</td>\n",
              "      <td>68.116445</td>\n",
              "      <td>10.507046</td>\n",
              "      <td>0.953716</td>\n",
              "      <td>16.208849</td>\n",
              "      <td>2.257889</td>\n",
              "      <td>...</td>\n",
              "      <td>14.015015</td>\n",
              "      <td>-502.520901</td>\n",
              "      <td>11.912783</td>\n",
              "      <td>-501.133383</td>\n",
              "      <td>10.070913</td>\n",
              "      <td>-500.129135</td>\n",
              "      <td>8.013877</td>\n",
              "      <td>-500.517572</td>\n",
              "      <td>14.028663</td>\n",
              "      <td>-601.427363</td>\n",
              "    </tr>\n",
              "    <tr>\n",
              "      <th>3</th>\n",
              "      <td>2016-01-15 03:00:00</td>\n",
              "      <td>6.047977</td>\n",
              "      <td>9.977019</td>\n",
              "      <td>4.858634</td>\n",
              "      <td>42.689819</td>\n",
              "      <td>68.347543</td>\n",
              "      <td>10.422762</td>\n",
              "      <td>0.883763</td>\n",
              "      <td>16.532835</td>\n",
              "      <td>2.146849</td>\n",
              "      <td>...</td>\n",
              "      <td>14.036510</td>\n",
              "      <td>-500.857308</td>\n",
              "      <td>11.999550</td>\n",
              "      <td>-501.193686</td>\n",
              "      <td>9.970366</td>\n",
              "      <td>-499.201640</td>\n",
              "      <td>7.977324</td>\n",
              "      <td>-500.255908</td>\n",
              "      <td>14.005551</td>\n",
              "      <td>-599.996129</td>\n",
              "    </tr>\n",
              "    <tr>\n",
              "      <th>4</th>\n",
              "      <td>2016-01-15 04:00:00</td>\n",
              "      <td>6.148599</td>\n",
              "      <td>10.142511</td>\n",
              "      <td>4.939416</td>\n",
              "      <td>42.774141</td>\n",
              "      <td>66.927016</td>\n",
              "      <td>10.360302</td>\n",
              "      <td>0.792826</td>\n",
              "      <td>16.525686</td>\n",
              "      <td>2.055292</td>\n",
              "      <td>...</td>\n",
              "      <td>14.027298</td>\n",
              "      <td>-499.838632</td>\n",
              "      <td>11.953070</td>\n",
              "      <td>-501.053894</td>\n",
              "      <td>9.925709</td>\n",
              "      <td>-501.686727</td>\n",
              "      <td>7.894242</td>\n",
              "      <td>-500.356035</td>\n",
              "      <td>13.996647</td>\n",
              "      <td>-601.496691</td>\n",
              "    </tr>\n",
              "  </tbody>\n",
              "</table>\n",
              "<p>5 rows × 87 columns</p>\n",
              "</div>"
            ],
            "text/plain": [
              "                  date  final.output.concentrate_ag  \\\n",
              "0  2016-01-15 00:00:00                     6.055403   \n",
              "1  2016-01-15 01:00:00                     6.029369   \n",
              "2  2016-01-15 02:00:00                     6.055926   \n",
              "3  2016-01-15 03:00:00                     6.047977   \n",
              "4  2016-01-15 04:00:00                     6.148599   \n",
              "\n",
              "   final.output.concentrate_pb  final.output.concentrate_sol  \\\n",
              "0                     9.889648                      5.507324   \n",
              "1                     9.968944                      5.257781   \n",
              "2                    10.213995                      5.383759   \n",
              "3                     9.977019                      4.858634   \n",
              "4                    10.142511                      4.939416   \n",
              "\n",
              "   final.output.concentrate_au  final.output.recovery  final.output.tail_ag  \\\n",
              "0                    42.192020              70.541216             10.411962   \n",
              "1                    42.701629              69.266198             10.462676   \n",
              "2                    42.657501              68.116445             10.507046   \n",
              "3                    42.689819              68.347543             10.422762   \n",
              "4                    42.774141              66.927016             10.360302   \n",
              "\n",
              "   final.output.tail_pb  final.output.tail_sol  final.output.tail_au  ...  \\\n",
              "0              0.895447              16.904297              2.143149  ...   \n",
              "1              0.927452              16.634514              2.224930  ...   \n",
              "2              0.953716              16.208849              2.257889  ...   \n",
              "3              0.883763              16.532835              2.146849  ...   \n",
              "4              0.792826              16.525686              2.055292  ...   \n",
              "\n",
              "   secondary_cleaner.state.floatbank4_a_air  \\\n",
              "0                                 14.016835   \n",
              "1                                 13.992281   \n",
              "2                                 14.015015   \n",
              "3                                 14.036510   \n",
              "4                                 14.027298   \n",
              "\n",
              "   secondary_cleaner.state.floatbank4_a_level  \\\n",
              "0                                 -502.488007   \n",
              "1                                 -505.503262   \n",
              "2                                 -502.520901   \n",
              "3                                 -500.857308   \n",
              "4                                 -499.838632   \n",
              "\n",
              "   secondary_cleaner.state.floatbank4_b_air  \\\n",
              "0                                 12.099931   \n",
              "1                                 11.950531   \n",
              "2                                 11.912783   \n",
              "3                                 11.999550   \n",
              "4                                 11.953070   \n",
              "\n",
              "   secondary_cleaner.state.floatbank4_b_level  \\\n",
              "0                                 -504.715942   \n",
              "1                                 -501.331529   \n",
              "2                                 -501.133383   \n",
              "3                                 -501.193686   \n",
              "4                                 -501.053894   \n",
              "\n",
              "   secondary_cleaner.state.floatbank5_a_air  \\\n",
              "0                                  9.925633   \n",
              "1                                 10.039245   \n",
              "2                                 10.070913   \n",
              "3                                  9.970366   \n",
              "4                                  9.925709   \n",
              "\n",
              "   secondary_cleaner.state.floatbank5_a_level  \\\n",
              "0                                 -498.310211   \n",
              "1                                 -500.169983   \n",
              "2                                 -500.129135   \n",
              "3                                 -499.201640   \n",
              "4                                 -501.686727   \n",
              "\n",
              "   secondary_cleaner.state.floatbank5_b_air  \\\n",
              "0                                  8.079666   \n",
              "1                                  7.984757   \n",
              "2                                  8.013877   \n",
              "3                                  7.977324   \n",
              "4                                  7.894242   \n",
              "\n",
              "   secondary_cleaner.state.floatbank5_b_level  \\\n",
              "0                                 -500.470978   \n",
              "1                                 -500.582168   \n",
              "2                                 -500.517572   \n",
              "3                                 -500.255908   \n",
              "4                                 -500.356035   \n",
              "\n",
              "   secondary_cleaner.state.floatbank6_a_air  \\\n",
              "0                                 14.151341   \n",
              "1                                 13.998353   \n",
              "2                                 14.028663   \n",
              "3                                 14.005551   \n",
              "4                                 13.996647   \n",
              "\n",
              "   secondary_cleaner.state.floatbank6_a_level  \n",
              "0                                 -605.841980  \n",
              "1                                 -599.787184  \n",
              "2                                 -601.427363  \n",
              "3                                 -599.996129  \n",
              "4                                 -601.496691  \n",
              "\n",
              "[5 rows x 87 columns]"
            ]
          },
          "metadata": {}
        },
        {
          "name": "stdout",
          "output_type": "stream",
          "text": "<class 'pandas.core.frame.DataFrame'>\n\nRangeIndex: 14149 entries, 0 to 14148\n\nData columns (total 87 columns):\n\n #   Column                                              Non-Null Count  Dtype  \n\n---  ------                                              --------------  -----  \n\n 0   date                                                14149 non-null  object \n\n 1   final.output.concentrate_ag                         14148 non-null  float64\n\n 2   final.output.concentrate_pb                         14148 non-null  float64\n\n 3   final.output.concentrate_sol                        13938 non-null  float64\n\n 4   final.output.concentrate_au                         14149 non-null  float64\n\n 5   final.output.recovery                               14149 non-null  float64\n\n 6   final.output.tail_ag                                14149 non-null  float64\n\n 7   final.output.tail_pb                                14049 non-null  float64\n\n 8   final.output.tail_sol                               14144 non-null  float64\n\n 9   final.output.tail_au                                14149 non-null  float64\n\n 10  primary_cleaner.input.sulfate                       14129 non-null  float64\n\n 11  primary_cleaner.input.depressant                    14117 non-null  float64\n\n 12  primary_cleaner.input.feed_size                     14149 non-null  float64\n\n 13  primary_cleaner.input.xanthate                      14049 non-null  float64\n\n 14  primary_cleaner.output.concentrate_ag               14149 non-null  float64\n\n 15  primary_cleaner.output.concentrate_pb               14063 non-null  float64\n\n 16  primary_cleaner.output.concentrate_sol              13863 non-null  float64\n\n 17  primary_cleaner.output.concentrate_au               14149 non-null  float64\n\n 18  primary_cleaner.output.tail_ag                      14148 non-null  float64\n\n 19  primary_cleaner.output.tail_pb                      14134 non-null  float64\n\n 20  primary_cleaner.output.tail_sol                     14103 non-null  float64\n\n 21  primary_cleaner.output.tail_au                      14149 non-null  float64\n\n 22  primary_cleaner.state.floatbank8_a_air              14145 non-null  float64\n\n 23  primary_cleaner.state.floatbank8_a_level            14148 non-null  float64\n\n 24  primary_cleaner.state.floatbank8_b_air              14145 non-null  float64\n\n 25  primary_cleaner.state.floatbank8_b_level            14148 non-null  float64\n\n 26  primary_cleaner.state.floatbank8_c_air              14147 non-null  float64\n\n 27  primary_cleaner.state.floatbank8_c_level            14148 non-null  float64\n\n 28  primary_cleaner.state.floatbank8_d_air              14146 non-null  float64\n\n 29  primary_cleaner.state.floatbank8_d_level            14148 non-null  float64\n\n 30  rougher.calculation.sulfate_to_au_concentrate       14148 non-null  float64\n\n 31  rougher.calculation.floatbank10_sulfate_to_au_feed  14148 non-null  float64\n\n 32  rougher.calculation.floatbank11_sulfate_to_au_feed  14148 non-null  float64\n\n 33  rougher.calculation.au_pb_ratio                     14149 non-null  float64\n\n 34  rougher.input.feed_ag                               14149 non-null  float64\n\n 35  rougher.input.feed_pb                               14049 non-null  float64\n\n 36  rougher.input.feed_rate                             14141 non-null  float64\n\n 37  rougher.input.feed_size                             14005 non-null  float64\n\n 38  rougher.input.feed_sol                              14071 non-null  float64\n\n 39  rougher.input.feed_au                               14149 non-null  float64\n\n 40  rougher.input.floatbank10_sulfate                   14120 non-null  float64\n\n 41  rougher.input.floatbank10_xanthate                  14141 non-null  float64\n\n 42  rougher.input.floatbank11_sulfate                   14113 non-null  float64\n\n 43  rougher.input.floatbank11_xanthate                  13721 non-null  float64\n\n 44  rougher.output.concentrate_ag                       14149 non-null  float64\n\n 45  rougher.output.concentrate_pb                       14149 non-null  float64\n\n 46  rougher.output.concentrate_sol                      14127 non-null  float64\n\n 47  rougher.output.concentrate_au                       14149 non-null  float64\n\n 48  rougher.output.recovery                             14149 non-null  float64\n\n 49  rougher.output.tail_ag                              14148 non-null  float64\n\n 50  rougher.output.tail_pb                              14149 non-null  float64\n\n 51  rougher.output.tail_sol                             14149 non-null  float64\n\n 52  rougher.output.tail_au                              14149 non-null  float64\n\n 53  rougher.state.floatbank10_a_air                     14148 non-null  float64\n\n 54  rougher.state.floatbank10_a_level                   14148 non-null  float64\n\n 55  rougher.state.floatbank10_b_air                     14148 non-null  float64\n\n 56  rougher.state.floatbank10_b_level                   14148 non-null  float64\n\n 57  rougher.state.floatbank10_c_air                     14148 non-null  float64\n\n 58  rougher.state.floatbank10_c_level                   14148 non-null  float64\n\n 59  rougher.state.floatbank10_d_air                     14149 non-null  float64\n\n 60  rougher.state.floatbank10_d_level                   14149 non-null  float64\n\n 61  rougher.state.floatbank10_e_air                     13713 non-null  float64\n\n 62  rougher.state.floatbank10_e_level                   14149 non-null  float64\n\n 63  rougher.state.floatbank10_f_air                     14149 non-null  float64\n\n 64  rougher.state.floatbank10_f_level                   14149 non-null  float64\n\n 65  secondary_cleaner.output.tail_ag                    14147 non-null  float64\n\n 66  secondary_cleaner.output.tail_pb                    14139 non-null  float64\n\n 67  secondary_cleaner.output.tail_sol                   12544 non-null  float64\n\n 68  secondary_cleaner.output.tail_au                    14149 non-null  float64\n\n 69  secondary_cleaner.state.floatbank2_a_air            13932 non-null  float64\n\n 70  secondary_cleaner.state.floatbank2_a_level          14148 non-null  float64\n\n 71  secondary_cleaner.state.floatbank2_b_air            14128 non-null  float64\n\n 72  secondary_cleaner.state.floatbank2_b_level          14148 non-null  float64\n\n 73  secondary_cleaner.state.floatbank3_a_air            14145 non-null  float64\n\n 74  secondary_cleaner.state.floatbank3_a_level          14148 non-null  float64\n\n 75  secondary_cleaner.state.floatbank3_b_air            14148 non-null  float64\n\n 76  secondary_cleaner.state.floatbank3_b_level          14148 non-null  float64\n\n 77  secondary_cleaner.state.floatbank4_a_air            14143 non-null  float64\n\n 78  secondary_cleaner.state.floatbank4_a_level          14148 non-null  float64\n\n 79  secondary_cleaner.state.floatbank4_b_air            14148 non-null  float64\n\n 80  secondary_cleaner.state.floatbank4_b_level          14148 non-null  float64\n\n 81  secondary_cleaner.state.floatbank5_a_air            14148 non-null  float64\n\n 82  secondary_cleaner.state.floatbank5_a_level          14148 non-null  float64\n\n 83  secondary_cleaner.state.floatbank5_b_air            14148 non-null  float64\n\n 84  secondary_cleaner.state.floatbank5_b_level          14148 non-null  float64\n\n 85  secondary_cleaner.state.floatbank6_a_air            14147 non-null  float64\n\n 86  secondary_cleaner.state.floatbank6_a_level          14148 non-null  float64\n\ndtypes: float64(86), object(1)\n\nmemory usage: 9.4+ MB\n"
        },
        {
          "output_type": "display_data",
          "data": {
            "text/html": [
              "<div>\n",
              "<style scoped>\n",
              "    .dataframe tbody tr th:only-of-type {\n",
              "        vertical-align: middle;\n",
              "    }\n",
              "\n",
              "    .dataframe tbody tr th {\n",
              "        vertical-align: top;\n",
              "    }\n",
              "\n",
              "    .dataframe thead th {\n",
              "        text-align: right;\n",
              "    }\n",
              "</style>\n",
              "<table border=\"1\" class=\"dataframe\">\n",
              "  <thead>\n",
              "    <tr style=\"text-align: right;\">\n",
              "      <th></th>\n",
              "      <th>date</th>\n",
              "      <th>primary_cleaner.input.sulfate</th>\n",
              "      <th>primary_cleaner.input.depressant</th>\n",
              "      <th>primary_cleaner.input.feed_size</th>\n",
              "      <th>primary_cleaner.input.xanthate</th>\n",
              "      <th>primary_cleaner.state.floatbank8_a_air</th>\n",
              "      <th>primary_cleaner.state.floatbank8_a_level</th>\n",
              "      <th>primary_cleaner.state.floatbank8_b_air</th>\n",
              "      <th>primary_cleaner.state.floatbank8_b_level</th>\n",
              "      <th>primary_cleaner.state.floatbank8_c_air</th>\n",
              "      <th>...</th>\n",
              "      <th>secondary_cleaner.state.floatbank4_a_air</th>\n",
              "      <th>secondary_cleaner.state.floatbank4_a_level</th>\n",
              "      <th>secondary_cleaner.state.floatbank4_b_air</th>\n",
              "      <th>secondary_cleaner.state.floatbank4_b_level</th>\n",
              "      <th>secondary_cleaner.state.floatbank5_a_air</th>\n",
              "      <th>secondary_cleaner.state.floatbank5_a_level</th>\n",
              "      <th>secondary_cleaner.state.floatbank5_b_air</th>\n",
              "      <th>secondary_cleaner.state.floatbank5_b_level</th>\n",
              "      <th>secondary_cleaner.state.floatbank6_a_air</th>\n",
              "      <th>secondary_cleaner.state.floatbank6_a_level</th>\n",
              "    </tr>\n",
              "  </thead>\n",
              "  <tbody>\n",
              "    <tr>\n",
              "      <th>0</th>\n",
              "      <td>2016-09-01 00:59:59</td>\n",
              "      <td>210.800909</td>\n",
              "      <td>14.993118</td>\n",
              "      <td>8.080000</td>\n",
              "      <td>1.005021</td>\n",
              "      <td>1398.981301</td>\n",
              "      <td>-500.225577</td>\n",
              "      <td>1399.144926</td>\n",
              "      <td>-499.919735</td>\n",
              "      <td>1400.102998</td>\n",
              "      <td>...</td>\n",
              "      <td>12.023554</td>\n",
              "      <td>-497.795834</td>\n",
              "      <td>8.016656</td>\n",
              "      <td>-501.289139</td>\n",
              "      <td>7.946562</td>\n",
              "      <td>-432.317850</td>\n",
              "      <td>4.872511</td>\n",
              "      <td>-500.037437</td>\n",
              "      <td>26.705889</td>\n",
              "      <td>-499.709414</td>\n",
              "    </tr>\n",
              "    <tr>\n",
              "      <th>1</th>\n",
              "      <td>2016-09-01 01:59:59</td>\n",
              "      <td>215.392455</td>\n",
              "      <td>14.987471</td>\n",
              "      <td>8.080000</td>\n",
              "      <td>0.990469</td>\n",
              "      <td>1398.777912</td>\n",
              "      <td>-500.057435</td>\n",
              "      <td>1398.055362</td>\n",
              "      <td>-499.778182</td>\n",
              "      <td>1396.151033</td>\n",
              "      <td>...</td>\n",
              "      <td>12.058140</td>\n",
              "      <td>-498.695773</td>\n",
              "      <td>8.130979</td>\n",
              "      <td>-499.634209</td>\n",
              "      <td>7.958270</td>\n",
              "      <td>-525.839648</td>\n",
              "      <td>4.878850</td>\n",
              "      <td>-500.162375</td>\n",
              "      <td>25.019940</td>\n",
              "      <td>-499.819438</td>\n",
              "    </tr>\n",
              "    <tr>\n",
              "      <th>2</th>\n",
              "      <td>2016-09-01 02:59:59</td>\n",
              "      <td>215.259946</td>\n",
              "      <td>12.884934</td>\n",
              "      <td>7.786667</td>\n",
              "      <td>0.996043</td>\n",
              "      <td>1398.493666</td>\n",
              "      <td>-500.868360</td>\n",
              "      <td>1398.860436</td>\n",
              "      <td>-499.764529</td>\n",
              "      <td>1398.075709</td>\n",
              "      <td>...</td>\n",
              "      <td>11.962366</td>\n",
              "      <td>-498.767484</td>\n",
              "      <td>8.096893</td>\n",
              "      <td>-500.827423</td>\n",
              "      <td>8.071056</td>\n",
              "      <td>-500.801673</td>\n",
              "      <td>4.905125</td>\n",
              "      <td>-499.828510</td>\n",
              "      <td>24.994862</td>\n",
              "      <td>-500.622559</td>\n",
              "    </tr>\n",
              "    <tr>\n",
              "      <th>3</th>\n",
              "      <td>2016-09-01 03:59:59</td>\n",
              "      <td>215.336236</td>\n",
              "      <td>12.006805</td>\n",
              "      <td>7.640000</td>\n",
              "      <td>0.863514</td>\n",
              "      <td>1399.618111</td>\n",
              "      <td>-498.863574</td>\n",
              "      <td>1397.440120</td>\n",
              "      <td>-499.211024</td>\n",
              "      <td>1400.129303</td>\n",
              "      <td>...</td>\n",
              "      <td>12.033091</td>\n",
              "      <td>-498.350935</td>\n",
              "      <td>8.074946</td>\n",
              "      <td>-499.474407</td>\n",
              "      <td>7.897085</td>\n",
              "      <td>-500.868509</td>\n",
              "      <td>4.931400</td>\n",
              "      <td>-499.963623</td>\n",
              "      <td>24.948919</td>\n",
              "      <td>-498.709987</td>\n",
              "    </tr>\n",
              "    <tr>\n",
              "      <th>4</th>\n",
              "      <td>2016-09-01 04:59:59</td>\n",
              "      <td>199.099327</td>\n",
              "      <td>10.682530</td>\n",
              "      <td>7.530000</td>\n",
              "      <td>0.805575</td>\n",
              "      <td>1401.268123</td>\n",
              "      <td>-500.808305</td>\n",
              "      <td>1398.128818</td>\n",
              "      <td>-499.504543</td>\n",
              "      <td>1402.172226</td>\n",
              "      <td>...</td>\n",
              "      <td>12.025367</td>\n",
              "      <td>-500.786497</td>\n",
              "      <td>8.054678</td>\n",
              "      <td>-500.397500</td>\n",
              "      <td>8.107890</td>\n",
              "      <td>-509.526725</td>\n",
              "      <td>4.957674</td>\n",
              "      <td>-500.360026</td>\n",
              "      <td>25.003331</td>\n",
              "      <td>-500.856333</td>\n",
              "    </tr>\n",
              "  </tbody>\n",
              "</table>\n",
              "<p>5 rows × 53 columns</p>\n",
              "</div>"
            ],
            "text/plain": [
              "                  date  primary_cleaner.input.sulfate  \\\n",
              "0  2016-09-01 00:59:59                     210.800909   \n",
              "1  2016-09-01 01:59:59                     215.392455   \n",
              "2  2016-09-01 02:59:59                     215.259946   \n",
              "3  2016-09-01 03:59:59                     215.336236   \n",
              "4  2016-09-01 04:59:59                     199.099327   \n",
              "\n",
              "   primary_cleaner.input.depressant  primary_cleaner.input.feed_size  \\\n",
              "0                         14.993118                         8.080000   \n",
              "1                         14.987471                         8.080000   \n",
              "2                         12.884934                         7.786667   \n",
              "3                         12.006805                         7.640000   \n",
              "4                         10.682530                         7.530000   \n",
              "\n",
              "   primary_cleaner.input.xanthate  primary_cleaner.state.floatbank8_a_air  \\\n",
              "0                        1.005021                             1398.981301   \n",
              "1                        0.990469                             1398.777912   \n",
              "2                        0.996043                             1398.493666   \n",
              "3                        0.863514                             1399.618111   \n",
              "4                        0.805575                             1401.268123   \n",
              "\n",
              "   primary_cleaner.state.floatbank8_a_level  \\\n",
              "0                               -500.225577   \n",
              "1                               -500.057435   \n",
              "2                               -500.868360   \n",
              "3                               -498.863574   \n",
              "4                               -500.808305   \n",
              "\n",
              "   primary_cleaner.state.floatbank8_b_air  \\\n",
              "0                             1399.144926   \n",
              "1                             1398.055362   \n",
              "2                             1398.860436   \n",
              "3                             1397.440120   \n",
              "4                             1398.128818   \n",
              "\n",
              "   primary_cleaner.state.floatbank8_b_level  \\\n",
              "0                               -499.919735   \n",
              "1                               -499.778182   \n",
              "2                               -499.764529   \n",
              "3                               -499.211024   \n",
              "4                               -499.504543   \n",
              "\n",
              "   primary_cleaner.state.floatbank8_c_air  ...  \\\n",
              "0                             1400.102998  ...   \n",
              "1                             1396.151033  ...   \n",
              "2                             1398.075709  ...   \n",
              "3                             1400.129303  ...   \n",
              "4                             1402.172226  ...   \n",
              "\n",
              "   secondary_cleaner.state.floatbank4_a_air  \\\n",
              "0                                 12.023554   \n",
              "1                                 12.058140   \n",
              "2                                 11.962366   \n",
              "3                                 12.033091   \n",
              "4                                 12.025367   \n",
              "\n",
              "   secondary_cleaner.state.floatbank4_a_level  \\\n",
              "0                                 -497.795834   \n",
              "1                                 -498.695773   \n",
              "2                                 -498.767484   \n",
              "3                                 -498.350935   \n",
              "4                                 -500.786497   \n",
              "\n",
              "   secondary_cleaner.state.floatbank4_b_air  \\\n",
              "0                                  8.016656   \n",
              "1                                  8.130979   \n",
              "2                                  8.096893   \n",
              "3                                  8.074946   \n",
              "4                                  8.054678   \n",
              "\n",
              "   secondary_cleaner.state.floatbank4_b_level  \\\n",
              "0                                 -501.289139   \n",
              "1                                 -499.634209   \n",
              "2                                 -500.827423   \n",
              "3                                 -499.474407   \n",
              "4                                 -500.397500   \n",
              "\n",
              "   secondary_cleaner.state.floatbank5_a_air  \\\n",
              "0                                  7.946562   \n",
              "1                                  7.958270   \n",
              "2                                  8.071056   \n",
              "3                                  7.897085   \n",
              "4                                  8.107890   \n",
              "\n",
              "   secondary_cleaner.state.floatbank5_a_level  \\\n",
              "0                                 -432.317850   \n",
              "1                                 -525.839648   \n",
              "2                                 -500.801673   \n",
              "3                                 -500.868509   \n",
              "4                                 -509.526725   \n",
              "\n",
              "   secondary_cleaner.state.floatbank5_b_air  \\\n",
              "0                                  4.872511   \n",
              "1                                  4.878850   \n",
              "2                                  4.905125   \n",
              "3                                  4.931400   \n",
              "4                                  4.957674   \n",
              "\n",
              "   secondary_cleaner.state.floatbank5_b_level  \\\n",
              "0                                 -500.037437   \n",
              "1                                 -500.162375   \n",
              "2                                 -499.828510   \n",
              "3                                 -499.963623   \n",
              "4                                 -500.360026   \n",
              "\n",
              "   secondary_cleaner.state.floatbank6_a_air  \\\n",
              "0                                 26.705889   \n",
              "1                                 25.019940   \n",
              "2                                 24.994862   \n",
              "3                                 24.948919   \n",
              "4                                 25.003331   \n",
              "\n",
              "   secondary_cleaner.state.floatbank6_a_level  \n",
              "0                                 -499.709414  \n",
              "1                                 -499.819438  \n",
              "2                                 -500.622559  \n",
              "3                                 -498.709987  \n",
              "4                                 -500.856333  \n",
              "\n",
              "[5 rows x 53 columns]"
            ]
          },
          "metadata": {}
        },
        {
          "name": "stdout",
          "output_type": "stream",
          "text": "<class 'pandas.core.frame.DataFrame'>\n\nRangeIndex: 5290 entries, 0 to 5289\n\nData columns (total 53 columns):\n\n #   Column                                      Non-Null Count  Dtype  \n\n---  ------                                      --------------  -----  \n\n 0   date                                        5290 non-null   object \n\n 1   primary_cleaner.input.sulfate               5286 non-null   float64\n\n 2   primary_cleaner.input.depressant            5285 non-null   float64\n\n 3   primary_cleaner.input.feed_size             5290 non-null   float64\n\n 4   primary_cleaner.input.xanthate              5286 non-null   float64\n\n 5   primary_cleaner.state.floatbank8_a_air      5290 non-null   float64\n\n 6   primary_cleaner.state.floatbank8_a_level    5290 non-null   float64\n\n 7   primary_cleaner.state.floatbank8_b_air      5290 non-null   float64\n\n 8   primary_cleaner.state.floatbank8_b_level    5290 non-null   float64\n\n 9   primary_cleaner.state.floatbank8_c_air      5290 non-null   float64\n\n 10  primary_cleaner.state.floatbank8_c_level    5290 non-null   float64\n\n 11  primary_cleaner.state.floatbank8_d_air      5290 non-null   float64\n\n 12  primary_cleaner.state.floatbank8_d_level    5290 non-null   float64\n\n 13  rougher.input.feed_ag                       5290 non-null   float64\n\n 14  rougher.input.feed_pb                       5290 non-null   float64\n\n 15  rougher.input.feed_rate                     5287 non-null   float64\n\n 16  rougher.input.feed_size                     5289 non-null   float64\n\n 17  rougher.input.feed_sol                      5269 non-null   float64\n\n 18  rougher.input.feed_au                       5290 non-null   float64\n\n 19  rougher.input.floatbank10_sulfate           5285 non-null   float64\n\n 20  rougher.input.floatbank10_xanthate          5290 non-null   float64\n\n 21  rougher.input.floatbank11_sulfate           5282 non-null   float64\n\n 22  rougher.input.floatbank11_xanthate          5265 non-null   float64\n\n 23  rougher.state.floatbank10_a_air             5290 non-null   float64\n\n 24  rougher.state.floatbank10_a_level           5290 non-null   float64\n\n 25  rougher.state.floatbank10_b_air             5290 non-null   float64\n\n 26  rougher.state.floatbank10_b_level           5290 non-null   float64\n\n 27  rougher.state.floatbank10_c_air             5290 non-null   float64\n\n 28  rougher.state.floatbank10_c_level           5290 non-null   float64\n\n 29  rougher.state.floatbank10_d_air             5290 non-null   float64\n\n 30  rougher.state.floatbank10_d_level           5290 non-null   float64\n\n 31  rougher.state.floatbank10_e_air             5290 non-null   float64\n\n 32  rougher.state.floatbank10_e_level           5290 non-null   float64\n\n 33  rougher.state.floatbank10_f_air             5290 non-null   float64\n\n 34  rougher.state.floatbank10_f_level           5290 non-null   float64\n\n 35  secondary_cleaner.state.floatbank2_a_air    5287 non-null   float64\n\n 36  secondary_cleaner.state.floatbank2_a_level  5290 non-null   float64\n\n 37  secondary_cleaner.state.floatbank2_b_air    5288 non-null   float64\n\n 38  secondary_cleaner.state.floatbank2_b_level  5290 non-null   float64\n\n 39  secondary_cleaner.state.floatbank3_a_air    5281 non-null   float64\n\n 40  secondary_cleaner.state.floatbank3_a_level  5290 non-null   float64\n\n 41  secondary_cleaner.state.floatbank3_b_air    5290 non-null   float64\n\n 42  secondary_cleaner.state.floatbank3_b_level  5290 non-null   float64\n\n 43  secondary_cleaner.state.floatbank4_a_air    5290 non-null   float64\n\n 44  secondary_cleaner.state.floatbank4_a_level  5290 non-null   float64\n\n 45  secondary_cleaner.state.floatbank4_b_air    5290 non-null   float64\n\n 46  secondary_cleaner.state.floatbank4_b_level  5290 non-null   float64\n\n 47  secondary_cleaner.state.floatbank5_a_air    5290 non-null   float64\n\n 48  secondary_cleaner.state.floatbank5_a_level  5290 non-null   float64\n\n 49  secondary_cleaner.state.floatbank5_b_air    5290 non-null   float64\n\n 50  secondary_cleaner.state.floatbank5_b_level  5290 non-null   float64\n\n 51  secondary_cleaner.state.floatbank6_a_air    5290 non-null   float64\n\n 52  secondary_cleaner.state.floatbank6_a_level  5290 non-null   float64\n\ndtypes: float64(52), object(1)\n\nmemory usage: 2.1+ MB\n"
        },
        {
          "output_type": "display_data",
          "data": {
            "text/html": [
              "<div>\n",
              "<style scoped>\n",
              "    .dataframe tbody tr th:only-of-type {\n",
              "        vertical-align: middle;\n",
              "    }\n",
              "\n",
              "    .dataframe tbody tr th {\n",
              "        vertical-align: top;\n",
              "    }\n",
              "\n",
              "    .dataframe thead th {\n",
              "        text-align: right;\n",
              "    }\n",
              "</style>\n",
              "<table border=\"1\" class=\"dataframe\">\n",
              "  <thead>\n",
              "    <tr style=\"text-align: right;\">\n",
              "      <th></th>\n",
              "      <th>date</th>\n",
              "      <th>final.output.concentrate_ag</th>\n",
              "      <th>final.output.concentrate_pb</th>\n",
              "      <th>final.output.concentrate_sol</th>\n",
              "      <th>final.output.concentrate_au</th>\n",
              "      <th>final.output.recovery</th>\n",
              "      <th>final.output.tail_ag</th>\n",
              "      <th>final.output.tail_pb</th>\n",
              "      <th>final.output.tail_sol</th>\n",
              "      <th>final.output.tail_au</th>\n",
              "      <th>...</th>\n",
              "      <th>secondary_cleaner.state.floatbank4_a_air</th>\n",
              "      <th>secondary_cleaner.state.floatbank4_a_level</th>\n",
              "      <th>secondary_cleaner.state.floatbank4_b_air</th>\n",
              "      <th>secondary_cleaner.state.floatbank4_b_level</th>\n",
              "      <th>secondary_cleaner.state.floatbank5_a_air</th>\n",
              "      <th>secondary_cleaner.state.floatbank5_a_level</th>\n",
              "      <th>secondary_cleaner.state.floatbank5_b_air</th>\n",
              "      <th>secondary_cleaner.state.floatbank5_b_level</th>\n",
              "      <th>secondary_cleaner.state.floatbank6_a_air</th>\n",
              "      <th>secondary_cleaner.state.floatbank6_a_level</th>\n",
              "    </tr>\n",
              "  </thead>\n",
              "  <tbody>\n",
              "    <tr>\n",
              "      <th>0</th>\n",
              "      <td>2016-01-15 00:00:00</td>\n",
              "      <td>6.055403</td>\n",
              "      <td>9.889648</td>\n",
              "      <td>5.507324</td>\n",
              "      <td>42.192020</td>\n",
              "      <td>70.541216</td>\n",
              "      <td>10.411962</td>\n",
              "      <td>0.895447</td>\n",
              "      <td>16.904297</td>\n",
              "      <td>2.143149</td>\n",
              "      <td>...</td>\n",
              "      <td>14.016835</td>\n",
              "      <td>-502.488007</td>\n",
              "      <td>12.099931</td>\n",
              "      <td>-504.715942</td>\n",
              "      <td>9.925633</td>\n",
              "      <td>-498.310211</td>\n",
              "      <td>8.079666</td>\n",
              "      <td>-500.470978</td>\n",
              "      <td>14.151341</td>\n",
              "      <td>-605.841980</td>\n",
              "    </tr>\n",
              "    <tr>\n",
              "      <th>1</th>\n",
              "      <td>2016-01-15 01:00:00</td>\n",
              "      <td>6.029369</td>\n",
              "      <td>9.968944</td>\n",
              "      <td>5.257781</td>\n",
              "      <td>42.701629</td>\n",
              "      <td>69.266198</td>\n",
              "      <td>10.462676</td>\n",
              "      <td>0.927452</td>\n",
              "      <td>16.634514</td>\n",
              "      <td>2.224930</td>\n",
              "      <td>...</td>\n",
              "      <td>13.992281</td>\n",
              "      <td>-505.503262</td>\n",
              "      <td>11.950531</td>\n",
              "      <td>-501.331529</td>\n",
              "      <td>10.039245</td>\n",
              "      <td>-500.169983</td>\n",
              "      <td>7.984757</td>\n",
              "      <td>-500.582168</td>\n",
              "      <td>13.998353</td>\n",
              "      <td>-599.787184</td>\n",
              "    </tr>\n",
              "    <tr>\n",
              "      <th>2</th>\n",
              "      <td>2016-01-15 02:00:00</td>\n",
              "      <td>6.055926</td>\n",
              "      <td>10.213995</td>\n",
              "      <td>5.383759</td>\n",
              "      <td>42.657501</td>\n",
              "      <td>68.116445</td>\n",
              "      <td>10.507046</td>\n",
              "      <td>0.953716</td>\n",
              "      <td>16.208849</td>\n",
              "      <td>2.257889</td>\n",
              "      <td>...</td>\n",
              "      <td>14.015015</td>\n",
              "      <td>-502.520901</td>\n",
              "      <td>11.912783</td>\n",
              "      <td>-501.133383</td>\n",
              "      <td>10.070913</td>\n",
              "      <td>-500.129135</td>\n",
              "      <td>8.013877</td>\n",
              "      <td>-500.517572</td>\n",
              "      <td>14.028663</td>\n",
              "      <td>-601.427363</td>\n",
              "    </tr>\n",
              "    <tr>\n",
              "      <th>3</th>\n",
              "      <td>2016-01-15 03:00:00</td>\n",
              "      <td>6.047977</td>\n",
              "      <td>9.977019</td>\n",
              "      <td>4.858634</td>\n",
              "      <td>42.689819</td>\n",
              "      <td>68.347543</td>\n",
              "      <td>10.422762</td>\n",
              "      <td>0.883763</td>\n",
              "      <td>16.532835</td>\n",
              "      <td>2.146849</td>\n",
              "      <td>...</td>\n",
              "      <td>14.036510</td>\n",
              "      <td>-500.857308</td>\n",
              "      <td>11.999550</td>\n",
              "      <td>-501.193686</td>\n",
              "      <td>9.970366</td>\n",
              "      <td>-499.201640</td>\n",
              "      <td>7.977324</td>\n",
              "      <td>-500.255908</td>\n",
              "      <td>14.005551</td>\n",
              "      <td>-599.996129</td>\n",
              "    </tr>\n",
              "    <tr>\n",
              "      <th>4</th>\n",
              "      <td>2016-01-15 04:00:00</td>\n",
              "      <td>6.148599</td>\n",
              "      <td>10.142511</td>\n",
              "      <td>4.939416</td>\n",
              "      <td>42.774141</td>\n",
              "      <td>66.927016</td>\n",
              "      <td>10.360302</td>\n",
              "      <td>0.792826</td>\n",
              "      <td>16.525686</td>\n",
              "      <td>2.055292</td>\n",
              "      <td>...</td>\n",
              "      <td>14.027298</td>\n",
              "      <td>-499.838632</td>\n",
              "      <td>11.953070</td>\n",
              "      <td>-501.053894</td>\n",
              "      <td>9.925709</td>\n",
              "      <td>-501.686727</td>\n",
              "      <td>7.894242</td>\n",
              "      <td>-500.356035</td>\n",
              "      <td>13.996647</td>\n",
              "      <td>-601.496691</td>\n",
              "    </tr>\n",
              "  </tbody>\n",
              "</table>\n",
              "<p>5 rows × 87 columns</p>\n",
              "</div>"
            ],
            "text/plain": [
              "                  date  final.output.concentrate_ag  \\\n",
              "0  2016-01-15 00:00:00                     6.055403   \n",
              "1  2016-01-15 01:00:00                     6.029369   \n",
              "2  2016-01-15 02:00:00                     6.055926   \n",
              "3  2016-01-15 03:00:00                     6.047977   \n",
              "4  2016-01-15 04:00:00                     6.148599   \n",
              "\n",
              "   final.output.concentrate_pb  final.output.concentrate_sol  \\\n",
              "0                     9.889648                      5.507324   \n",
              "1                     9.968944                      5.257781   \n",
              "2                    10.213995                      5.383759   \n",
              "3                     9.977019                      4.858634   \n",
              "4                    10.142511                      4.939416   \n",
              "\n",
              "   final.output.concentrate_au  final.output.recovery  final.output.tail_ag  \\\n",
              "0                    42.192020              70.541216             10.411962   \n",
              "1                    42.701629              69.266198             10.462676   \n",
              "2                    42.657501              68.116445             10.507046   \n",
              "3                    42.689819              68.347543             10.422762   \n",
              "4                    42.774141              66.927016             10.360302   \n",
              "\n",
              "   final.output.tail_pb  final.output.tail_sol  final.output.tail_au  ...  \\\n",
              "0              0.895447              16.904297              2.143149  ...   \n",
              "1              0.927452              16.634514              2.224930  ...   \n",
              "2              0.953716              16.208849              2.257889  ...   \n",
              "3              0.883763              16.532835              2.146849  ...   \n",
              "4              0.792826              16.525686              2.055292  ...   \n",
              "\n",
              "   secondary_cleaner.state.floatbank4_a_air  \\\n",
              "0                                 14.016835   \n",
              "1                                 13.992281   \n",
              "2                                 14.015015   \n",
              "3                                 14.036510   \n",
              "4                                 14.027298   \n",
              "\n",
              "   secondary_cleaner.state.floatbank4_a_level  \\\n",
              "0                                 -502.488007   \n",
              "1                                 -505.503262   \n",
              "2                                 -502.520901   \n",
              "3                                 -500.857308   \n",
              "4                                 -499.838632   \n",
              "\n",
              "   secondary_cleaner.state.floatbank4_b_air  \\\n",
              "0                                 12.099931   \n",
              "1                                 11.950531   \n",
              "2                                 11.912783   \n",
              "3                                 11.999550   \n",
              "4                                 11.953070   \n",
              "\n",
              "   secondary_cleaner.state.floatbank4_b_level  \\\n",
              "0                                 -504.715942   \n",
              "1                                 -501.331529   \n",
              "2                                 -501.133383   \n",
              "3                                 -501.193686   \n",
              "4                                 -501.053894   \n",
              "\n",
              "   secondary_cleaner.state.floatbank5_a_air  \\\n",
              "0                                  9.925633   \n",
              "1                                 10.039245   \n",
              "2                                 10.070913   \n",
              "3                                  9.970366   \n",
              "4                                  9.925709   \n",
              "\n",
              "   secondary_cleaner.state.floatbank5_a_level  \\\n",
              "0                                 -498.310211   \n",
              "1                                 -500.169983   \n",
              "2                                 -500.129135   \n",
              "3                                 -499.201640   \n",
              "4                                 -501.686727   \n",
              "\n",
              "   secondary_cleaner.state.floatbank5_b_air  \\\n",
              "0                                  8.079666   \n",
              "1                                  7.984757   \n",
              "2                                  8.013877   \n",
              "3                                  7.977324   \n",
              "4                                  7.894242   \n",
              "\n",
              "   secondary_cleaner.state.floatbank5_b_level  \\\n",
              "0                                 -500.470978   \n",
              "1                                 -500.582168   \n",
              "2                                 -500.517572   \n",
              "3                                 -500.255908   \n",
              "4                                 -500.356035   \n",
              "\n",
              "   secondary_cleaner.state.floatbank6_a_air  \\\n",
              "0                                 14.151341   \n",
              "1                                 13.998353   \n",
              "2                                 14.028663   \n",
              "3                                 14.005551   \n",
              "4                                 13.996647   \n",
              "\n",
              "   secondary_cleaner.state.floatbank6_a_level  \n",
              "0                                 -605.841980  \n",
              "1                                 -599.787184  \n",
              "2                                 -601.427363  \n",
              "3                                 -599.996129  \n",
              "4                                 -601.496691  \n",
              "\n",
              "[5 rows x 87 columns]"
            ]
          },
          "metadata": {}
        },
        {
          "name": "stdout",
          "output_type": "stream",
          "text": "<class 'pandas.core.frame.DataFrame'>\n\nRangeIndex: 19439 entries, 0 to 19438\n\nData columns (total 87 columns):\n\n #   Column                                              Non-Null Count  Dtype  \n\n---  ------                                              --------------  -----  \n\n 0   date                                                19439 non-null  object \n\n 1   final.output.concentrate_ag                         19438 non-null  float64\n\n 2   final.output.concentrate_pb                         19438 non-null  float64\n\n 3   final.output.concentrate_sol                        19228 non-null  float64\n\n 4   final.output.concentrate_au                         19439 non-null  float64\n\n 5   final.output.recovery                               19439 non-null  float64\n\n 6   final.output.tail_ag                                19438 non-null  float64\n\n 7   final.output.tail_pb                                19338 non-null  float64\n\n 8   final.output.tail_sol                               19433 non-null  float64\n\n 9   final.output.tail_au                                19439 non-null  float64\n\n 10  primary_cleaner.input.sulfate                       19415 non-null  float64\n\n 11  primary_cleaner.input.depressant                    19402 non-null  float64\n\n 12  primary_cleaner.input.feed_size                     19439 non-null  float64\n\n 13  primary_cleaner.input.xanthate                      19335 non-null  float64\n\n 14  primary_cleaner.output.concentrate_ag               19439 non-null  float64\n\n 15  primary_cleaner.output.concentrate_pb               19323 non-null  float64\n\n 16  primary_cleaner.output.concentrate_sol              19069 non-null  float64\n\n 17  primary_cleaner.output.concentrate_au               19439 non-null  float64\n\n 18  primary_cleaner.output.tail_ag                      19435 non-null  float64\n\n 19  primary_cleaner.output.tail_pb                      19418 non-null  float64\n\n 20  primary_cleaner.output.tail_sol                     19377 non-null  float64\n\n 21  primary_cleaner.output.tail_au                      19439 non-null  float64\n\n 22  primary_cleaner.state.floatbank8_a_air              19435 non-null  float64\n\n 23  primary_cleaner.state.floatbank8_a_level            19438 non-null  float64\n\n 24  primary_cleaner.state.floatbank8_b_air              19435 non-null  float64\n\n 25  primary_cleaner.state.floatbank8_b_level            19438 non-null  float64\n\n 26  primary_cleaner.state.floatbank8_c_air              19437 non-null  float64\n\n 27  primary_cleaner.state.floatbank8_c_level            19438 non-null  float64\n\n 28  primary_cleaner.state.floatbank8_d_air              19436 non-null  float64\n\n 29  primary_cleaner.state.floatbank8_d_level            19438 non-null  float64\n\n 30  rougher.calculation.sulfate_to_au_concentrate       19437 non-null  float64\n\n 31  rougher.calculation.floatbank10_sulfate_to_au_feed  19437 non-null  float64\n\n 32  rougher.calculation.floatbank11_sulfate_to_au_feed  19437 non-null  float64\n\n 33  rougher.calculation.au_pb_ratio                     19439 non-null  float64\n\n 34  rougher.input.feed_ag                               19439 non-null  float64\n\n 35  rougher.input.feed_pb                               19339 non-null  float64\n\n 36  rougher.input.feed_rate                             19428 non-null  float64\n\n 37  rougher.input.feed_size                             19294 non-null  float64\n\n 38  rougher.input.feed_sol                              19340 non-null  float64\n\n 39  rougher.input.feed_au                               19439 non-null  float64\n\n 40  rougher.input.floatbank10_sulfate                   19405 non-null  float64\n\n 41  rougher.input.floatbank10_xanthate                  19431 non-null  float64\n\n 42  rougher.input.floatbank11_sulfate                   19395 non-null  float64\n\n 43  rougher.input.floatbank11_xanthate                  18986 non-null  float64\n\n 44  rougher.output.concentrate_ag                       19439 non-null  float64\n\n 45  rougher.output.concentrate_pb                       19439 non-null  float64\n\n 46  rougher.output.concentrate_sol                      19416 non-null  float64\n\n 47  rougher.output.concentrate_au                       19439 non-null  float64\n\n 48  rougher.output.recovery                             19439 non-null  float64\n\n 49  rougher.output.tail_ag                              19438 non-null  float64\n\n 50  rougher.output.tail_pb                              19439 non-null  float64\n\n 51  rougher.output.tail_sol                             19439 non-null  float64\n\n 52  rougher.output.tail_au                              19439 non-null  float64\n\n 53  rougher.state.floatbank10_a_air                     19438 non-null  float64\n\n 54  rougher.state.floatbank10_a_level                   19438 non-null  float64\n\n 55  rougher.state.floatbank10_b_air                     19438 non-null  float64\n\n 56  rougher.state.floatbank10_b_level                   19438 non-null  float64\n\n 57  rougher.state.floatbank10_c_air                     19438 non-null  float64\n\n 58  rougher.state.floatbank10_c_level                   19438 non-null  float64\n\n 59  rougher.state.floatbank10_d_air                     19439 non-null  float64\n\n 60  rougher.state.floatbank10_d_level                   19439 non-null  float64\n\n 61  rougher.state.floatbank10_e_air                     19003 non-null  float64\n\n 62  rougher.state.floatbank10_e_level                   19439 non-null  float64\n\n 63  rougher.state.floatbank10_f_air                     19439 non-null  float64\n\n 64  rougher.state.floatbank10_f_level                   19439 non-null  float64\n\n 65  secondary_cleaner.output.tail_ag                    19437 non-null  float64\n\n 66  secondary_cleaner.output.tail_pb                    19427 non-null  float64\n\n 67  secondary_cleaner.output.tail_sol                   17691 non-null  float64\n\n 68  secondary_cleaner.output.tail_au                    19439 non-null  float64\n\n 69  secondary_cleaner.state.floatbank2_a_air            19219 non-null  float64\n\n 70  secondary_cleaner.state.floatbank2_a_level          19438 non-null  float64\n\n 71  secondary_cleaner.state.floatbank2_b_air            19416 non-null  float64\n\n 72  secondary_cleaner.state.floatbank2_b_level          19438 non-null  float64\n\n 73  secondary_cleaner.state.floatbank3_a_air            19426 non-null  float64\n\n 74  secondary_cleaner.state.floatbank3_a_level          19438 non-null  float64\n\n 75  secondary_cleaner.state.floatbank3_b_air            19438 non-null  float64\n\n 76  secondary_cleaner.state.floatbank3_b_level          19438 non-null  float64\n\n 77  secondary_cleaner.state.floatbank4_a_air            19433 non-null  float64\n\n 78  secondary_cleaner.state.floatbank4_a_level          19438 non-null  float64\n\n 79  secondary_cleaner.state.floatbank4_b_air            19438 non-null  float64\n\n 80  secondary_cleaner.state.floatbank4_b_level          19438 non-null  float64\n\n 81  secondary_cleaner.state.floatbank5_a_air            19438 non-null  float64\n\n 82  secondary_cleaner.state.floatbank5_a_level          19438 non-null  float64\n\n 83  secondary_cleaner.state.floatbank5_b_air            19438 non-null  float64\n\n 84  secondary_cleaner.state.floatbank5_b_level          19438 non-null  float64\n\n 85  secondary_cleaner.state.floatbank6_a_air            19437 non-null  float64\n\n 86  secondary_cleaner.state.floatbank6_a_level          19438 non-null  float64\n\ndtypes: float64(86), object(1)\n\nmemory usage: 12.9+ MB\n"
        }
      ]
    },
    {
      "cell_type": "markdown",
      "source": "Замечаем, что количество колонок в тестовой выборке и тренировочной различается. Чего не хватает мы подробнее рассмотрим позже.",
      "metadata": {}
    },
    {
      "cell_type": "markdown",
      "source": "### Расчет эффективности",
      "metadata": {}
    },
    {
      "cell_type": "code",
      "source": "def recovery(C, F, T):\n    return (C * (F - T)) / (F * (C - T)) * 100",
      "metadata": {},
      "execution_count": 4,
      "outputs": []
    },
    {
      "cell_type": "markdown",
      "source": "где:\n- C — доля золота в концентрате после флотации/очистки;\n- F — доля золота в сырье/концентрате до флотации/очистки;\n- T — доля золота в отвальных хвостах после флотации/очистки.",
      "metadata": {}
    },
    {
      "cell_type": "markdown",
      "source": "Проверим вычисление recovery из тренировочного датасета",
      "metadata": {}
    },
    {
      "cell_type": "code",
      "source": "df_recovery = df_train[['rougher.output.concentrate_au', \n                            'rougher.input.feed_au', \n                            'rougher.output.tail_au', \n                            'rougher.output.recovery']]\ndf_recovery['recovery_test'] = df_recovery.apply(lambda row: recovery(row['rougher.output.concentrate_au'],\n                                                                     row['rougher.input.feed_au'],\n                                                                     row['rougher.output.tail_au']), axis=1)",
      "metadata": {},
      "execution_count": 5,
      "outputs": [
        {
          "name": "stderr",
          "output_type": "stream",
          "text": "/tmp/ipykernel_48/3359750467.py:5: SettingWithCopyWarning: \n\nA value is trying to be set on a copy of a slice from a DataFrame.\n\nTry using .loc[row_indexer,col_indexer] = value instead\n\n\n\nSee the caveats in the documentation: https://pandas.pydata.org/pandas-docs/stable/user_guide/indexing.html#returning-a-view-versus-a-copy\n\n  df_recovery['recovery_test'] = df_recovery.apply(lambda row: recovery(row['rougher.output.concentrate_au'],\n"
        }
      ]
    },
    {
      "cell_type": "code",
      "source": "round(mean_absolute_error(df_recovery['rougher.output.recovery'], df_recovery['recovery_test']), 3)",
      "metadata": {},
      "execution_count": 6,
      "outputs": [
        {
          "execution_count": 6,
          "output_type": "execute_result",
          "data": {
            "text/plain": [
              "0.0"
            ]
          },
          "metadata": {}
        }
      ]
    },
    {
      "cell_type": "markdown",
      "source": "Видим, что рассчет верный.",
      "metadata": {}
    },
    {
      "cell_type": "markdown",
      "source": "### Анализ отсутствующих признаков",
      "metadata": {}
    },
    {
      "cell_type": "code",
      "source": "columns_difference = list(set(df_full.columns).symmetric_difference(set(df_test.columns)))",
      "metadata": {},
      "execution_count": 7,
      "outputs": []
    },
    {
      "cell_type": "markdown",
      "source": "- final.output.concentrate - финальная концентрация металлов\n- final.output.recovey - финальная эффективность обогащения\n- final.output.tail - отвальные хвосты\n\nТоже самое для первичной очистки, флотации, а для вторичной очистки только отвальные хвосты.",
      "metadata": {}
    },
    {
      "cell_type": "markdown",
      "source": "### Предобработка данных",
      "metadata": {}
    },
    {
      "cell_type": "code",
      "source": "for df in df_list:\n    print(f'Дубликатов в датафрейме - {df.duplicated().sum()}')\n    print('xxxxxxxxxxxxxxxxxxxxxxxxxxxxxxxxxxxxxxxxxxxxxxxxxxxxxxxxxx')\n    print(f'Пропущенных значений в датафрейме - {df.isna().sum()[df.isna().sum() > 0]}')\n    print('-----------------------------------------------------------------------------')",
      "metadata": {},
      "execution_count": 8,
      "outputs": [
        {
          "name": "stdout",
          "output_type": "stream",
          "text": "Дубликатов в датафрейме - 0\n\nxxxxxxxxxxxxxxxxxxxxxxxxxxxxxxxxxxxxxxxxxxxxxxxxxxxxxxxxxx\n\nПропущенных значений в датафрейме - final.output.concentrate_ag                     1\n\nfinal.output.concentrate_pb                     1\n\nfinal.output.concentrate_sol                  211\n\nfinal.output.tail_pb                          100\n\nfinal.output.tail_sol                           5\n\n                                             ... \n\nsecondary_cleaner.state.floatbank5_a_level      1\n\nsecondary_cleaner.state.floatbank5_b_air        1\n\nsecondary_cleaner.state.floatbank5_b_level      1\n\nsecondary_cleaner.state.floatbank6_a_air        2\n\nsecondary_cleaner.state.floatbank6_a_level      1\n\nLength: 62, dtype: int64\n\n-----------------------------------------------------------------------------\n\nДубликатов в датафрейме - 0\n\nxxxxxxxxxxxxxxxxxxxxxxxxxxxxxxxxxxxxxxxxxxxxxxxxxxxxxxxxxx\n\nПропущенных значений в датафрейме - primary_cleaner.input.sulfate                4\n\nprimary_cleaner.input.depressant             5\n\nprimary_cleaner.input.xanthate               4\n\nrougher.input.feed_rate                      3\n\nrougher.input.feed_size                      1\n\nrougher.input.feed_sol                      21\n\nrougher.input.floatbank10_sulfate            5\n\nrougher.input.floatbank11_sulfate            8\n\nrougher.input.floatbank11_xanthate          25\n\nsecondary_cleaner.state.floatbank2_a_air     3\n\nsecondary_cleaner.state.floatbank2_b_air     2\n\nsecondary_cleaner.state.floatbank3_a_air     9\n\ndtype: int64\n\n-----------------------------------------------------------------------------\n\nДубликатов в датафрейме - 0\n\nxxxxxxxxxxxxxxxxxxxxxxxxxxxxxxxxxxxxxxxxxxxxxxxxxxxxxxxxxx\n\nПропущенных значений в датафрейме - final.output.concentrate_ag                     1\n\nfinal.output.concentrate_pb                     1\n\nfinal.output.concentrate_sol                  211\n\nfinal.output.tail_ag                            1\n\nfinal.output.tail_pb                          101\n\n                                             ... \n\nsecondary_cleaner.state.floatbank5_a_level      1\n\nsecondary_cleaner.state.floatbank5_b_air        1\n\nsecondary_cleaner.state.floatbank5_b_level      1\n\nsecondary_cleaner.state.floatbank6_a_air        2\n\nsecondary_cleaner.state.floatbank6_a_level      1\n\nLength: 63, dtype: int64\n\n-----------------------------------------------------------------------------\n"
        }
      ]
    },
    {
      "cell_type": "markdown",
      "source": "Так как данные измеряются постоянно с течением времени - наилушчим решением будет заполнить пропуски значением из предыдущего, либо же следующего измерения.",
      "metadata": {}
    },
    {
      "cell_type": "code",
      "source": "for df in df_list:\n    df.fillna(method='ffill', inplace=True)",
      "metadata": {},
      "execution_count": 9,
      "outputs": []
    },
    {
      "cell_type": "code",
      "source": "for df in df_list:\n    print(df.isna().sum()[df.isna().sum() > 0])",
      "metadata": {},
      "execution_count": 10,
      "outputs": [
        {
          "name": "stdout",
          "output_type": "stream",
          "text": "Series([], dtype: int64)\n\nSeries([], dtype: int64)\n\nSeries([], dtype: int64)\n"
        }
      ]
    },
    {
      "cell_type": "markdown",
      "source": "### Вывод",
      "metadata": {}
    },
    {
      "cell_type": "markdown",
      "source": "В данном разделе мы ознакомились с данными, проанализироваали отсутствующие признаки, а также выполнили предобработку данных.",
      "metadata": {}
    },
    {
      "cell_type": "markdown",
      "source": "## Анализ данных",
      "metadata": {}
    },
    {
      "cell_type": "markdown",
      "source": "### Анализ концентрации металлов",
      "metadata": {}
    },
    {
      "cell_type": "code",
      "source": "metal_list = ['au', 'ag', 'pb']\n\nfor metal in metal_list:\n    plt.figure(figsize=(6,6))\n    for col in df_full.columns:\n        if ('concentrate_' + metal) in col:\n            df_full[col].hist()            \n    plt.legend(list(filter(lambda col: ('concentrate_'+ metal) in col, df_full.columns)))\n    plt.title(f'Концентрация {metal} на различных этапах обработки')\n    plt.xlabel('Value')\n    plt.ylabel('Amount')\n    plt.show()",
      "metadata": {},
      "execution_count": 11,
      "outputs": [
        {
          "output_type": "display_data",
          "data": {
            "image/png": "[encoded data removed]",
            "text/plain": [
              "<Figure size 432x432 with 1 Axes>"
            ]
          },
          "metadata": {
            "needs_background": "light"
          }
        },
        {
          "output_type": "display_data",
          "data": {
            "image/png": "[encoded data removed]",
            "text/plain": [
              "<Figure size 432x432 with 1 Axes>"
            ]
          },
          "metadata": {
            "needs_background": "light"
          }
        },
        {
          "output_type": "display_data",
          "data": {
            "image/png": "[encoded data removed]",
            "text/plain": [
              "<Figure size 432x432 with 1 Axes>"
            ]
          },
          "metadata": {
            "needs_background": "light"
          }
        }
      ]
    },
    {
      "cell_type": "markdown",
      "source": "#### Вывод по графикам",
      "metadata": {}
    },
    {
      "cell_type": "markdown",
      "source": "- Концентрация золота немного выростает с каждой обработкой\n- Концентрация серебра падает\n- Концентрация свинца практически не изменяется",
      "metadata": {}
    },
    {
      "cell_type": "markdown",
      "source": "### Анализ распределения размеров гранул сырья на обучающей и тестовой выборках",
      "metadata": {}
    },
    {
      "cell_type": "code",
      "source": "plt.style.use('ggplot')\n\nplt.figure(figsize=(10,10))\n\nplt.title('Распределение размеров гранул сырья на обучающей и тестовой выборках')\n\nplt.hist(df_train['rougher.input.feed_size'], edgecolor='black', color='blue', rwidth=0.9, alpha=0.5, bins=100, label='Train')\nplt.hist(df_test['rougher.input.feed_size'], edgecolor='black', color='brown', rwidth=0.7, alpha=0.5, bins=100, label='Test')\n\nplt.legend(loc='upper right')\n\nplt.xlabel('Value')\nplt.ylabel('Amount')\n\nplt.tight_layout()\n\nplt.show()",
      "metadata": {},
      "execution_count": 12,
      "outputs": [
        {
          "output_type": "display_data",
          "data": {
            "image/png": "[encoded data removed]",
            "text/plain": [
              "<Figure size 720x720 with 1 Axes>"
            ]
          },
          "metadata": {}
        }
      ]
    },
    {
      "cell_type": "markdown",
      "source": "#### Вывод",
      "metadata": {}
    },
    {
      "cell_type": "markdown",
      "source": "Видим, что распределение в целом находится в одном диапазоне, поэтому оценка модели будет верной.",
      "metadata": {}
    },
    {
      "cell_type": "markdown",
      "source": "### Анализ суммарной концентрации веществ ",
      "metadata": {}
    },
    {
      "cell_type": "code",
      "source": "df_sum = df_full[['date', 'rougher.input.feed_au', 'rougher.input.feed_ag', 'rougher.input.feed_pb', 'rougher.input.feed_sol', \n                    'rougher.output.concentrate_au', 'rougher.output.concentrate_ag', 'rougher.output.concentrate_pb', 'rougher.output.concentrate_sol', \n                    'final.output.concentrate_au', 'final.output.concentrate_ag', 'final.output.concentrate_pb', 'final.output.concentrate_sol']]\ndf_sum['rougher.input.feed'] = (\n    df_sum['rougher.input.feed_au'] +\n    df_sum['rougher.input.feed_ag'] +\n    df_sum['rougher.input.feed_pb'] +\n    df_sum['rougher.input.feed_sol']\n)\n\ndf_sum['rougher.output.concentrate'] = (\n    df_sum['rougher.output.concentrate_au'] +\n    df_sum['rougher.output.concentrate_ag'] +\n    df_sum['rougher.output.concentrate_pb'] +\n    df_sum['rougher.output.concentrate_sol']\n)\n\ndf_sum['final.output.concentrate'] = (\n    df_sum['final.output.concentrate_au'] +\n    df_sum['final.output.concentrate_ag'] +\n    df_sum['final.output.concentrate_pb'] +\n    df_sum['final.output.concentrate_sol']\n)",
      "metadata": {},
      "execution_count": 13,
      "outputs": [
        {
          "name": "stderr",
          "output_type": "stream",
          "text": "/tmp/ipykernel_48/585750713.py:4: SettingWithCopyWarning: \n\nA value is trying to be set on a copy of a slice from a DataFrame.\n\nTry using .loc[row_indexer,col_indexer] = value instead\n\n\n\nSee the caveats in the documentation: https://pandas.pydata.org/pandas-docs/stable/user_guide/indexing.html#returning-a-view-versus-a-copy\n\n  df_sum['rougher.input.feed'] = (\n\n/tmp/ipykernel_48/585750713.py:11: SettingWithCopyWarning: \n\nA value is trying to be set on a copy of a slice from a DataFrame.\n\nTry using .loc[row_indexer,col_indexer] = value instead\n\n\n\nSee the caveats in the documentation: https://pandas.pydata.org/pandas-docs/stable/user_guide/indexing.html#returning-a-view-versus-a-copy\n\n  df_sum['rougher.output.concentrate'] = (\n\n/tmp/ipykernel_48/585750713.py:18: SettingWithCopyWarning: \n\nA value is trying to be set on a copy of a slice from a DataFrame.\n\nTry using .loc[row_indexer,col_indexer] = value instead\n\n\n\nSee the caveats in the documentation: https://pandas.pydata.org/pandas-docs/stable/user_guide/indexing.html#returning-a-view-versus-a-copy\n\n  df_sum['final.output.concentrate'] = (\n"
        }
      ]
    },
    {
      "cell_type": "code",
      "source": "def make_hist(column, color):\n    plt.figure(figsize=(7,7))\n    df_sum[column].hist(bins=200, color=color)\n    plt.title(f'Концентрация {column}')\n    plt.show()",
      "metadata": {},
      "execution_count": 14,
      "outputs": []
    },
    {
      "cell_type": "code",
      "source": "make_hist('rougher.input.feed', 'red')\nmake_hist('rougher.output.concentrate', 'blue')\nmake_hist('final.output.concentrate', 'green')",
      "metadata": {
        "scrolled": true
      },
      "execution_count": 15,
      "outputs": [
        {
          "output_type": "display_data",
          "data": {
            "image/png": "[encoded data removed]",
            "text/plain": [
              "<Figure size 504x504 with 1 Axes>"
            ]
          },
          "metadata": {}
        },
        {
          "output_type": "display_data",
          "data": {
            "image/png": "[encoded data removed]",
            "text/plain": [
              "<Figure size 504x504 with 1 Axes>"
            ]
          },
          "metadata": {}
        },
        {
          "output_type": "display_data",
          "data": {
            "image/png": "[encoded data removed]",
            "text/plain": [
              "<Figure size 504x504 with 1 Axes>"
            ]
          },
          "metadata": {}
        }
      ]
    },
    {
      "cell_type": "markdown",
      "source": "Видим выбросы в 0, которые нужно убрать.",
      "metadata": {}
    },
    {
      "cell_type": "code",
      "source": "delete_rows = []\n\nfor row in df_sum.index:\n    if (df_sum.loc[row, 'final.output.concentrate'] == 0.0 or\n        df_sum.loc[row, 'rougher.output.concentrate'] == 0.0 or \n        df_sum.loc[row, 'rougher.input.feed'] == 0.0):\n        delete_rows.append(df_sum.loc[row, 'date'])\n        \ndf_full.drop(df_full[df_full['date'].isin(delete_rows)].index, inplace=True)\ndf_train.drop(df_train[df_train['date'].isin(delete_rows)].index, inplace=True)\ndf_test.drop(df_test[df_test['date'].isin(delete_rows)].index, inplace=True)",
      "metadata": {},
      "execution_count": 16,
      "outputs": []
    },
    {
      "cell_type": "markdown",
      "source": "### Вывод",
      "metadata": {}
    },
    {
      "cell_type": "markdown",
      "source": "- Концентрация золота немного выростает с каждой обработкой\n- Концентрация серебра падает\n- Концентрация свинца практически не изменяется\n- Распределения размеров гранул сырья на обучающей и тестовой выборках оставим без изменений\n- Выбросы с нулевым значением концентрации были убраны.",
      "metadata": {}
    },
    {
      "cell_type": "markdown",
      "source": "## Модель",
      "metadata": {}
    },
    {
      "cell_type": "markdown",
      "source": "### Создадим функцию для вычисления SMAPE",
      "metadata": {}
    },
    {
      "cell_type": "code",
      "source": "def smape(target, predict):\n    target_rougher = target['rougher.output.recovery']\n    target_final = target['final.output.recovery']\n    predict_rougher = predict[:, 0]\n    predict_final = predict[:, 1]\n    smape_1 = 1/len(target_rougher) * np.sum(2 * np.abs(predict_rougher-target_rougher) / (np.abs(target_rougher) + np.abs(predict_rougher))*100)\n    smape_2 = 1/len(target_final) * np.sum(2 * np.abs(predict_final-target_final) / (np.abs(target_final) + np.abs(predict_final))*100)\n    return 0.25 * smape_1 + 0.75 * smape_2\n\nsmape_score = make_scorer(smape, greater_is_better=False)",
      "metadata": {},
      "execution_count": 17,
      "outputs": []
    },
    {
      "cell_type": "markdown",
      "source": "### Разделим выборки на тренировочную и тестовую",
      "metadata": {}
    },
    {
      "cell_type": "code",
      "source": "columns_difference.append('date')\nfeatures_train = df_train.drop(columns_difference, axis=1)\ntarget_train = df_train[['rougher.output.recovery', 'final.output.recovery']]\ntarget_test =(\n    df_full[df_full['date']\n           .isin(df_test['date'])]\n    .reset_index(drop=True)\n)\nfeatures_test = target_test.drop(columns_difference, axis=1)\n\nscaler = StandardScaler()\nscaler.fit(features_train)\nfeatures_train = scaler.transform(features_train)\nfeatures_test = scaler.transform(features_test)",
      "metadata": {},
      "execution_count": 18,
      "outputs": []
    },
    {
      "cell_type": "markdown",
      "source": "### Baseline",
      "metadata": {}
    },
    {
      "cell_type": "code",
      "source": "models = [DecisionTreeRegressor(), RandomForestRegressor(), LinearRegression()]\nfor m in models:\n    m.fit(features_train, target_train)\n    pred_train = m.predict(features_train)\n    \n    print(f'model: {str(m)}')\n    print(f'SMAPE: {smape(target_train, pred_train)}')\n    print('-'*30, '\\n')",
      "metadata": {
        "scrolled": true
      },
      "execution_count": 19,
      "outputs": [
        {
          "name": "stdout",
          "output_type": "stream",
          "text": "model: DecisionTreeRegressor()\n\nSMAPE: 0.0\n\n------------------------------ \n\n\n\nmodel: RandomForestRegressor()\n\nSMAPE: 1.8375068262938914\n\n------------------------------ \n\n\n\nmodel: LinearRegression()\n\nSMAPE: 7.241562665005449\n\n------------------------------ \n\n\n"
        }
      ]
    },
    {
      "cell_type": "markdown",
      "source": "Так как мы не делили на валидационную выборку Baseline особой роли не играет, построили его фактически лишь для проверки работоспособности smape.",
      "metadata": {}
    },
    {
      "cell_type": "markdown",
      "source": "### LinearRegression",
      "metadata": {}
    },
    {
      "cell_type": "code",
      "source": "params_lr = {'normalize': [False, True],\n            'positive': [False, True]}\nlr = LinearRegression()\ngrid_lr = GridSearchCV(estimator=lr, param_grid=params_lr, scoring=smape_score, cv=5, n_jobs=-1)\ngrid_lr.fit(features_train, target_train)\nprint('Наилучшее значение smape: ', grid_lr.best_score_)",
      "metadata": {},
      "execution_count": 20,
      "outputs": [
        {
          "name": "stdout",
          "output_type": "stream",
          "text": "Наилучшее значение smape:  -9.228053769433917\n"
        }
      ]
    },
    {
      "cell_type": "markdown",
      "source": "### DecisionTreeRegressor",
      "metadata": {}
    },
    {
      "cell_type": "code",
      "source": "params_dt = {'max_depth': [2, 4, 8, 12, 16, 20],}\n\ndt = DecisionTreeRegressor(random_state=12345)\ngrid_dt = GridSearchCV(estimator=dt, param_grid=params_dt, scoring=smape_score, cv=5, n_jobs=-1, verbose=6)\ngrid_dt.fit(features_train, target_train)\n\nprint('Наилучшее значение smape: ', grid_dt.best_score_)",
      "metadata": {},
      "execution_count": 21,
      "outputs": [
        {
          "name": "stdout",
          "output_type": "stream",
          "text": "Fitting 5 folds for each of 6 candidates, totalling 30 fits\n\n[CV 1/5] END ....................................max_depth=2; total time=   0.1s\n\n[CV 2/5] END ....................................max_depth=2; total time=   0.1s\n\n[CV 3/5] END ....................................max_depth=2; total time=   0.1s\n\n[CV 4/5] END ....................................max_depth=2; total time=   0.1s\n\n[CV 5/5] END ....................................max_depth=2; total time=   0.1s\n\n[CV 1/5] END ....................................max_depth=4; total time=   0.3s\n\n[CV 2/5] END ....................................max_depth=4; total time=   0.2s\n\n[CV 3/5] END ....................................max_depth=4; total time=   0.2s\n\n[CV 4/5] END ....................................max_depth=4; total time=   0.2s\n\n[CV 5/5] END ....................................max_depth=4; total time=   0.3s\n\n[CV 1/5] END ....................................max_depth=8; total time=   0.5s\n\n[CV 2/5] END ....................................max_depth=8; total time=   0.4s\n\n[CV 3/5] END ....................................max_depth=8; total time=   0.4s\n\n[CV 4/5] END ....................................max_depth=8; total time=   0.4s\n\n[CV 5/5] END ....................................max_depth=8; total time=   0.4s\n\n[CV 1/5] END ...................................max_depth=12; total time=   0.6s\n\n[CV 2/5] END ...................................max_depth=12; total time=   0.6s\n\n[CV 3/5] END ...................................max_depth=12; total time=   0.6s\n\n[CV 4/5] END ...................................max_depth=12; total time=   0.6s\n\n[CV 5/5] END ...................................max_depth=12; total time=   0.6s\n\n[CV 1/5] END ...................................max_depth=16; total time=   0.8s\n\n[CV 2/5] END ...................................max_depth=16; total time=   0.7s\n\n[CV 3/5] END ...................................max_depth=16; total time=   0.7s\n\n[CV 4/5] END ...................................max_depth=16; total time=   0.7s\n\n[CV 5/5] END ...................................max_depth=16; total time=   0.7s\n\n[CV 1/5] END ...................................max_depth=20; total time=   0.8s\n\n[CV 2/5] END ...................................max_depth=20; total time=   0.8s\n\n[CV 3/5] END ...................................max_depth=20; total time=   0.8s\n\n[CV 4/5] END ...................................max_depth=20; total time=   0.8s\n\n[CV 5/5] END ...................................max_depth=20; total time=   0.8s\n\nНаилучшее значение smape:  -9.208192302488342\n"
        }
      ]
    },
    {
      "cell_type": "markdown",
      "source": "### RandomForestRegressor",
      "metadata": {}
    },
    {
      "cell_type": "code",
      "source": "params_rf = {'max_depth': [2, 8, 16],\n            'n_estimators': range(100, 140, 10)}\nrf = RandomForestRegressor(random_state=12345)\ngrid_rf = GridSearchCV(estimator=rf, param_grid=params_rf, scoring=smape_score, cv=5, n_jobs=-1, verbose=6)\ngrid_rf.fit(features_train, target_train)\nprint('Наилучшее значение smape: ', grid_rf.best_score_)",
      "metadata": {},
      "execution_count": 22,
      "outputs": [
        {
          "name": "stdout",
          "output_type": "stream",
          "text": "Fitting 5 folds for each of 12 candidates, totalling 60 fits\n\n[CV 1/5] END ..................max_depth=2, n_estimators=100; total time=   7.9s\n\n[CV 2/5] END ..................max_depth=2, n_estimators=100; total time=   8.2s\n\n[CV 3/5] END ..................max_depth=2, n_estimators=100; total time=   8.3s\n\n[CV 4/5] END ..................max_depth=2, n_estimators=100; total time=   7.6s\n\n[CV 5/5] END ..................max_depth=2, n_estimators=100; total time=   7.5s\n\n[CV 1/5] END ..................max_depth=2, n_estimators=110; total time=   8.4s\n\n[CV 2/5] END ..................max_depth=2, n_estimators=110; total time=   8.1s\n\n[CV 3/5] END ..................max_depth=2, n_estimators=110; total time=   8.3s\n\n[CV 4/5] END ..................max_depth=2, n_estimators=110; total time=   8.2s\n\n[CV 5/5] END ..................max_depth=2, n_estimators=110; total time=   8.6s\n\n[CV 1/5] END ..................max_depth=2, n_estimators=120; total time=   9.1s\n\n[CV 2/5] END ..................max_depth=2, n_estimators=120; total time=   8.9s\n\n[CV 3/5] END ..................max_depth=2, n_estimators=120; total time=   9.1s\n\n[CV 4/5] END ..................max_depth=2, n_estimators=120; total time=   9.2s\n\n[CV 5/5] END ..................max_depth=2, n_estimators=120; total time=   8.9s\n\n[CV 1/5] END ..................max_depth=2, n_estimators=130; total time=  10.0s\n\n[CV 2/5] END ..................max_depth=2, n_estimators=130; total time=   9.8s\n\n[CV 3/5] END ..................max_depth=2, n_estimators=130; total time=   9.7s\n\n[CV 4/5] END ..................max_depth=2, n_estimators=130; total time=   9.9s\n\n[CV 5/5] END ..................max_depth=2, n_estimators=130; total time=  10.1s\n\n[CV 1/5] END ..................max_depth=8, n_estimators=100; total time=  26.9s\n\n[CV 2/5] END ..................max_depth=8, n_estimators=100; total time=  26.7s\n\n[CV 3/5] END ..................max_depth=8, n_estimators=100; total time=  26.0s\n\n[CV 4/5] END ..................max_depth=8, n_estimators=100; total time=  25.3s\n\n[CV 5/5] END ..................max_depth=8, n_estimators=100; total time=  25.3s\n\n[CV 1/5] END ..................max_depth=8, n_estimators=110; total time=  28.5s\n\n[CV 2/5] END ..................max_depth=8, n_estimators=110; total time=  28.6s\n\n[CV 3/5] END ..................max_depth=8, n_estimators=110; total time=  28.0s\n\n[CV 4/5] END ..................max_depth=8, n_estimators=110; total time=  28.1s\n\n[CV 5/5] END ..................max_depth=8, n_estimators=110; total time=  28.6s\n\n[CV 1/5] END ..................max_depth=8, n_estimators=120; total time=  31.1s\n\n[CV 2/5] END ..................max_depth=8, n_estimators=120; total time=  31.0s\n\n[CV 3/5] END ..................max_depth=8, n_estimators=120; total time=  30.4s\n\n[CV 4/5] END ..................max_depth=8, n_estimators=120; total time=  30.7s\n\n[CV 5/5] END ..................max_depth=8, n_estimators=120; total time=  30.4s\n\n[CV 1/5] END ..................max_depth=8, n_estimators=130; total time=  34.9s\n\n[CV 2/5] END ..................max_depth=8, n_estimators=130; total time=  34.7s\n\n[CV 3/5] END ..................max_depth=8, n_estimators=130; total time=  34.5s\n\n[CV 4/5] END ..................max_depth=8, n_estimators=130; total time=  34.0s\n\n[CV 5/5] END ..................max_depth=8, n_estimators=130; total time=  33.2s\n\n[CV 1/5] END .................max_depth=16, n_estimators=100; total time=  43.6s\n\n[CV 2/5] END .................max_depth=16, n_estimators=100; total time=  43.5s\n\n[CV 3/5] END .................max_depth=16, n_estimators=100; total time=  42.8s\n\n[CV 4/5] END .................max_depth=16, n_estimators=100; total time=  45.6s\n\n[CV 5/5] END .................max_depth=16, n_estimators=100; total time=  44.4s\n\n[CV 1/5] END .................max_depth=16, n_estimators=110; total time=  48.9s\n\n[CV 2/5] END .................max_depth=16, n_estimators=110; total time=  50.1s\n\n[CV 3/5] END .................max_depth=16, n_estimators=110; total time=  48.6s\n\n[CV 4/5] END .................max_depth=16, n_estimators=110; total time=  47.2s\n\n[CV 5/5] END .................max_depth=16, n_estimators=110; total time=  47.9s\n\n[CV 1/5] END .................max_depth=16, n_estimators=120; total time=  55.0s\n\n[CV 2/5] END .................max_depth=16, n_estimators=120; total time=  55.3s\n\n[CV 3/5] END .................max_depth=16, n_estimators=120; total time=  51.2s\n\n[CV 4/5] END .................max_depth=16, n_estimators=120; total time=  52.0s\n\n[CV 5/5] END .................max_depth=16, n_estimators=120; total time=  53.7s\n\n[CV 1/5] END .................max_depth=16, n_estimators=130; total time=  56.7s\n\n[CV 2/5] END .................max_depth=16, n_estimators=130; total time=  56.1s\n\n[CV 3/5] END .................max_depth=16, n_estimators=130; total time=  56.7s\n\n[CV 4/5] END .................max_depth=16, n_estimators=130; total time=  55.8s\n\n[CV 5/5] END .................max_depth=16, n_estimators=130; total time=  54.7s\n\nНаилучшее значение smape:  -9.086275592970605\n"
        }
      ]
    },
    {
      "cell_type": "markdown",
      "source": "### Проверка на тестовой модели",
      "metadata": {}
    },
    {
      "cell_type": "code",
      "source": "grid_lr.best_params_",
      "metadata": {},
      "execution_count": 23,
      "outputs": [
        {
          "execution_count": 23,
          "output_type": "execute_result",
          "data": {
            "text/plain": [
              "{'normalize': False, 'positive': True}"
            ]
          },
          "metadata": {}
        }
      ]
    },
    {
      "cell_type": "code",
      "source": "best_model = LinearRegression(normalize=False, positive=True)\nbest_model.fit(features_train, target_train)\npredict_test = best_model.predict(features_test)\nprint(f'Значение smape на тестовой выборке: ', smape(target_test, predict_test))",
      "metadata": {},
      "execution_count": 24,
      "outputs": [
        {
          "name": "stdout",
          "output_type": "stream",
          "text": "Значение smape на тестовой выборке:  6.928284503712857\n"
        }
      ]
    },
    {
      "cell_type": "markdown",
      "source": "### Проверка адекватности модели",
      "metadata": {}
    },
    {
      "cell_type": "code",
      "source": "dummy = DummyRegressor()\ndummy.fit(features_train, target_train)\npred_dummy = dummy.predict(features_test)\nprint(f'Значение smape используя dummyregressor: {smape(target_test, pred_dummy)}')",
      "metadata": {},
      "execution_count": 25,
      "outputs": [
        {
          "name": "stdout",
          "output_type": "stream",
          "text": "Значение smape используя dummyregressor: 7.766604067388528\n"
        }
      ]
    },
    {
      "cell_type": "markdown",
      "source": "## Вывод",
      "metadata": {}
    },
    {
      "cell_type": "markdown",
      "source": "В ходе данной работы были:\nИзучены данные из золотодобывающей отрасли.\n\nБыла произведена предобработка данных, а также первичный анализ признаков.\n\nБыл произведен анализ данных, в ходе которого были сделаны следующие выводы:\n\n- Концентрация золота немного выростает с каждой обработкой\n- Концентрация серебра падает\n- Концентрация свинца практически не изменяется\n- Распределения размеров гранул сырья на обучающей и тестовой выборках оставим без изменений\n- Выбросы с нулевым значением концентрации были убраны.\n\nБыли обучены модели LinearRegression, DecisionTreeRegressor, RandomForestRegressor и наилучшей результат при использовании кросс-валидации показала модель LinearRegression. Которую мы и использовали на тестовой выборке, получив резульатат SMAPE: 6.928284503712857 \n\nТакже сравнили результат с dummyregressor, где показатель smape: 7.766604067388528, что значительно выше, чем в нашей модели.",
      "metadata": {}
    }
  ]
}