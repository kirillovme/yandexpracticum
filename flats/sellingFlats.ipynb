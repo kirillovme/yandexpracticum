{
  "metadata": {
    "ExecuteTimeLog": [
      {
        "duration": 1060,
        "start_time": "2022-09-12T11:29:59.196Z"
      },
      {
        "duration": 174,
        "start_time": "2022-09-12T11:30:15.758Z"
      },
      {
        "duration": 94,
        "start_time": "2022-09-12T11:30:25.823Z"
      },
      {
        "duration": 128,
        "start_time": "2022-09-12T11:30:34.225Z"
      },
      {
        "duration": 15,
        "start_time": "2022-09-12T11:32:20.060Z"
      },
      {
        "duration": 12,
        "start_time": "2022-09-12T11:32:31.035Z"
      },
      {
        "duration": 113,
        "start_time": "2022-09-12T11:32:43.019Z"
      },
      {
        "duration": 14414,
        "start_time": "2022-09-12T11:43:29.045Z"
      },
      {
        "duration": 9,
        "start_time": "2022-09-12T11:51:20.638Z"
      },
      {
        "duration": 75,
        "start_time": "2022-09-12T11:55:52.026Z"
      },
      {
        "duration": 422,
        "start_time": "2022-09-12T12:05:38.944Z"
      },
      {
        "duration": 224,
        "start_time": "2022-09-12T12:05:47.566Z"
      },
      {
        "duration": 262,
        "start_time": "2022-09-12T12:07:36.803Z"
      },
      {
        "duration": 235,
        "start_time": "2022-09-12T12:08:12.397Z"
      },
      {
        "duration": 138,
        "start_time": "2022-09-12T12:09:53.282Z"
      },
      {
        "duration": 1059,
        "start_time": "2022-09-12T12:10:11.984Z"
      },
      {
        "duration": 1132,
        "start_time": "2022-09-12T12:10:16.996Z"
      },
      {
        "duration": 432,
        "start_time": "2022-09-12T12:10:47.403Z"
      },
      {
        "duration": 190,
        "start_time": "2022-09-12T12:10:57.146Z"
      },
      {
        "duration": 174,
        "start_time": "2022-09-12T12:11:34.903Z"
      },
      {
        "duration": 174,
        "start_time": "2022-09-12T12:11:41.927Z"
      },
      {
        "duration": 178,
        "start_time": "2022-09-12T12:12:51.507Z"
      },
      {
        "duration": 158,
        "start_time": "2022-09-12T12:13:02.614Z"
      },
      {
        "duration": 171,
        "start_time": "2022-09-12T12:13:10.186Z"
      },
      {
        "duration": 151,
        "start_time": "2022-09-12T12:14:24.798Z"
      },
      {
        "duration": 159,
        "start_time": "2022-09-12T12:15:04.811Z"
      },
      {
        "duration": 173,
        "start_time": "2022-09-12T12:15:16.685Z"
      },
      {
        "duration": 212,
        "start_time": "2022-09-12T12:15:19.749Z"
      },
      {
        "duration": 267,
        "start_time": "2022-09-12T12:20:31.309Z"
      },
      {
        "duration": 328,
        "start_time": "2022-09-12T12:24:35.743Z"
      },
      {
        "duration": 285,
        "start_time": "2022-09-12T12:24:42.446Z"
      },
      {
        "duration": 173,
        "start_time": "2022-09-12T12:24:47.846Z"
      },
      {
        "duration": 155,
        "start_time": "2022-09-12T12:25:20.524Z"
      },
      {
        "duration": 153,
        "start_time": "2022-09-12T12:25:29.150Z"
      },
      {
        "duration": 28,
        "start_time": "2022-09-12T12:26:35.671Z"
      },
      {
        "duration": 5,
        "start_time": "2022-09-12T12:26:44.351Z"
      },
      {
        "duration": 6,
        "start_time": "2022-09-12T12:30:19.260Z"
      },
      {
        "duration": 2,
        "start_time": "2022-09-12T12:33:12.980Z"
      },
      {
        "duration": 2,
        "start_time": "2022-09-12T12:33:15.441Z"
      },
      {
        "duration": 14,
        "start_time": "2022-09-12T12:34:30.283Z"
      },
      {
        "duration": 1152,
        "start_time": "2022-09-12T12:36:47.592Z"
      },
      {
        "duration": 137,
        "start_time": "2022-09-12T12:37:07.724Z"
      },
      {
        "duration": 17,
        "start_time": "2022-09-12T12:38:24.889Z"
      },
      {
        "duration": 741,
        "start_time": "2022-09-12T12:39:36.641Z"
      },
      {
        "duration": 14,
        "start_time": "2022-09-12T12:40:33.130Z"
      },
      {
        "duration": 17,
        "start_time": "2022-09-12T12:56:19.054Z"
      },
      {
        "duration": 11,
        "start_time": "2022-09-12T13:01:35.935Z"
      },
      {
        "duration": 928,
        "start_time": "2022-09-12T13:02:01.494Z"
      },
      {
        "duration": 16,
        "start_time": "2022-09-12T13:02:02.426Z"
      },
      {
        "duration": 89,
        "start_time": "2022-09-12T13:02:02.443Z"
      },
      {
        "duration": 10,
        "start_time": "2022-09-12T13:02:02.534Z"
      },
      {
        "duration": 252,
        "start_time": "2022-09-12T13:02:02.546Z"
      },
      {
        "duration": 27,
        "start_time": "2022-09-12T13:02:02.800Z"
      },
      {
        "duration": 22,
        "start_time": "2022-09-12T13:02:02.829Z"
      },
      {
        "duration": 93,
        "start_time": "2022-09-12T13:02:02.853Z"
      },
      {
        "duration": 181,
        "start_time": "2022-09-12T13:03:05.101Z"
      },
      {
        "duration": 208,
        "start_time": "2022-09-12T13:03:30.319Z"
      },
      {
        "duration": 239,
        "start_time": "2022-09-12T13:03:53.346Z"
      },
      {
        "duration": 181,
        "start_time": "2022-09-12T13:04:27.089Z"
      },
      {
        "duration": 201,
        "start_time": "2022-09-12T13:04:34.636Z"
      },
      {
        "duration": 150,
        "start_time": "2022-09-12T13:04:39.005Z"
      },
      {
        "duration": 1670,
        "start_time": "2022-09-12T13:05:03.962Z"
      },
      {
        "duration": 242,
        "start_time": "2022-09-12T13:05:15.445Z"
      },
      {
        "duration": 358,
        "start_time": "2022-09-12T13:05:32.065Z"
      },
      {
        "duration": 246,
        "start_time": "2022-09-12T13:05:36.977Z"
      },
      {
        "duration": 346,
        "start_time": "2022-09-12T13:06:01.241Z"
      },
      {
        "duration": 160,
        "start_time": "2022-09-12T13:06:49.329Z"
      },
      {
        "duration": 192,
        "start_time": "2022-09-12T13:08:15.859Z"
      },
      {
        "duration": 183,
        "start_time": "2022-09-12T13:08:18.332Z"
      },
      {
        "duration": 153,
        "start_time": "2022-09-12T13:08:28.197Z"
      },
      {
        "duration": 9,
        "start_time": "2022-09-12T13:15:04.061Z"
      },
      {
        "duration": 24164,
        "start_time": "2022-09-12T13:15:20.204Z"
      },
      {
        "duration": 24506,
        "start_time": "2022-09-12T13:16:12.603Z"
      },
      {
        "duration": 24536,
        "start_time": "2022-09-12T13:17:56.102Z"
      },
      {
        "duration": 26206,
        "start_time": "2022-09-12T13:18:27.934Z"
      },
      {
        "duration": 33995,
        "start_time": "2022-09-12T13:19:17.157Z"
      },
      {
        "duration": 178,
        "start_time": "2022-09-12T13:23:09.321Z"
      },
      {
        "duration": 6,
        "start_time": "2022-09-12T13:30:49.145Z"
      },
      {
        "duration": 15,
        "start_time": "2022-09-12T13:33:00.063Z"
      },
      {
        "duration": 8,
        "start_time": "2022-09-12T13:33:19.032Z"
      },
      {
        "duration": 56,
        "start_time": "2022-09-12T13:34:21.030Z"
      },
      {
        "duration": 7,
        "start_time": "2022-09-12T13:34:51.396Z"
      },
      {
        "duration": 11,
        "start_time": "2022-09-12T13:35:49.316Z"
      },
      {
        "duration": 6,
        "start_time": "2022-09-12T13:36:35.760Z"
      },
      {
        "duration": 5,
        "start_time": "2022-09-12T13:36:51.062Z"
      },
      {
        "duration": 9,
        "start_time": "2022-09-12T13:42:16.731Z"
      },
      {
        "duration": 199,
        "start_time": "2022-09-12T13:44:25.858Z"
      },
      {
        "duration": 178,
        "start_time": "2022-09-12T13:44:33.404Z"
      },
      {
        "duration": 6,
        "start_time": "2022-09-12T13:49:07.274Z"
      },
      {
        "duration": 5,
        "start_time": "2022-09-12T13:49:50.357Z"
      },
      {
        "duration": 12,
        "start_time": "2022-09-12T13:50:30.872Z"
      },
      {
        "duration": 6,
        "start_time": "2022-09-12T13:50:44.450Z"
      },
      {
        "duration": 4,
        "start_time": "2022-09-12T13:53:53.202Z"
      },
      {
        "duration": 5,
        "start_time": "2022-09-12T13:53:59.999Z"
      },
      {
        "duration": 7,
        "start_time": "2022-09-12T13:55:58.667Z"
      },
      {
        "duration": 6,
        "start_time": "2022-09-12T13:56:10.752Z"
      },
      {
        "duration": 786,
        "start_time": "2022-09-12T13:57:35.007Z"
      },
      {
        "duration": 35,
        "start_time": "2022-09-12T13:57:35.796Z"
      },
      {
        "duration": 68,
        "start_time": "2022-09-12T13:57:35.833Z"
      },
      {
        "duration": 28,
        "start_time": "2022-09-12T13:57:35.903Z"
      },
      {
        "duration": 195,
        "start_time": "2022-09-12T13:57:35.937Z"
      },
      {
        "duration": 9,
        "start_time": "2022-09-12T13:57:36.134Z"
      },
      {
        "duration": 6,
        "start_time": "2022-09-12T13:57:36.144Z"
      },
      {
        "duration": 11,
        "start_time": "2022-09-12T13:57:36.151Z"
      },
      {
        "duration": 5,
        "start_time": "2022-09-12T13:57:36.163Z"
      },
      {
        "duration": 7,
        "start_time": "2022-09-12T13:57:36.170Z"
      },
      {
        "duration": 200,
        "start_time": "2022-09-12T13:57:36.179Z"
      },
      {
        "duration": 6,
        "start_time": "2022-09-12T13:57:36.380Z"
      },
      {
        "duration": 4,
        "start_time": "2022-09-12T13:57:36.388Z"
      },
      {
        "duration": 7,
        "start_time": "2022-09-12T13:57:36.414Z"
      },
      {
        "duration": 114,
        "start_time": "2022-09-12T13:58:04.576Z"
      },
      {
        "duration": 33,
        "start_time": "2022-09-12T13:58:17.806Z"
      },
      {
        "duration": 7,
        "start_time": "2022-09-12T13:58:34.678Z"
      },
      {
        "duration": 6,
        "start_time": "2022-09-12T13:58:50.535Z"
      },
      {
        "duration": 13,
        "start_time": "2022-09-12T13:59:02.612Z"
      },
      {
        "duration": 6,
        "start_time": "2022-09-12T14:03:23.367Z"
      },
      {
        "duration": 4,
        "start_time": "2022-09-12T14:03:43.660Z"
      },
      {
        "duration": 12,
        "start_time": "2022-09-12T14:05:32.969Z"
      },
      {
        "duration": 5,
        "start_time": "2022-09-12T14:06:11.430Z"
      },
      {
        "duration": 709,
        "start_time": "2022-09-12T14:07:02.963Z"
      },
      {
        "duration": 13,
        "start_time": "2022-09-12T14:07:03.674Z"
      },
      {
        "duration": 83,
        "start_time": "2022-09-12T14:07:03.688Z"
      },
      {
        "duration": 8,
        "start_time": "2022-09-12T14:07:03.773Z"
      },
      {
        "duration": 173,
        "start_time": "2022-09-12T14:07:03.782Z"
      },
      {
        "duration": 7,
        "start_time": "2022-09-12T14:07:03.957Z"
      },
      {
        "duration": 6,
        "start_time": "2022-09-12T14:07:03.965Z"
      },
      {
        "duration": 7,
        "start_time": "2022-09-12T14:07:03.972Z"
      },
      {
        "duration": 4,
        "start_time": "2022-09-12T14:07:03.980Z"
      },
      {
        "duration": 29,
        "start_time": "2022-09-12T14:07:03.986Z"
      },
      {
        "duration": 172,
        "start_time": "2022-09-12T14:07:04.016Z"
      },
      {
        "duration": 5,
        "start_time": "2022-09-12T14:07:04.190Z"
      },
      {
        "duration": 23,
        "start_time": "2022-09-12T14:07:04.196Z"
      },
      {
        "duration": 17,
        "start_time": "2022-09-12T14:07:04.220Z"
      },
      {
        "duration": 100,
        "start_time": "2022-09-12T14:07:04.239Z"
      },
      {
        "duration": 0,
        "start_time": "2022-09-12T14:07:04.341Z"
      },
      {
        "duration": 7,
        "start_time": "2022-09-12T14:07:10.950Z"
      },
      {
        "duration": 5,
        "start_time": "2022-09-12T14:07:14.430Z"
      },
      {
        "duration": 721,
        "start_time": "2022-09-12T14:14:41.368Z"
      },
      {
        "duration": 32,
        "start_time": "2022-09-12T14:14:42.090Z"
      },
      {
        "duration": 63,
        "start_time": "2022-09-12T14:14:42.124Z"
      },
      {
        "duration": 8,
        "start_time": "2022-09-12T14:14:42.189Z"
      },
      {
        "duration": 178,
        "start_time": "2022-09-12T14:14:42.198Z"
      },
      {
        "duration": 7,
        "start_time": "2022-09-12T14:14:42.377Z"
      },
      {
        "duration": 6,
        "start_time": "2022-09-12T14:14:42.385Z"
      },
      {
        "duration": 22,
        "start_time": "2022-09-12T14:14:42.393Z"
      },
      {
        "duration": 8,
        "start_time": "2022-09-12T14:14:42.416Z"
      },
      {
        "duration": 8,
        "start_time": "2022-09-12T14:14:42.427Z"
      },
      {
        "duration": 191,
        "start_time": "2022-09-12T14:14:42.436Z"
      },
      {
        "duration": 5,
        "start_time": "2022-09-12T14:14:42.629Z"
      },
      {
        "duration": 14,
        "start_time": "2022-09-12T14:14:42.635Z"
      },
      {
        "duration": 7,
        "start_time": "2022-09-12T14:14:42.651Z"
      },
      {
        "duration": 8,
        "start_time": "2022-09-12T14:14:42.660Z"
      },
      {
        "duration": 8,
        "start_time": "2022-09-12T14:14:42.669Z"
      },
      {
        "duration": 15,
        "start_time": "2022-09-12T14:17:08.906Z"
      },
      {
        "duration": 6,
        "start_time": "2022-09-12T14:27:05.482Z"
      },
      {
        "duration": 5,
        "start_time": "2022-09-12T14:28:12.553Z"
      },
      {
        "duration": 702,
        "start_time": "2022-09-12T14:28:37.856Z"
      },
      {
        "duration": 14,
        "start_time": "2022-09-12T14:28:38.560Z"
      },
      {
        "duration": 74,
        "start_time": "2022-09-12T14:28:38.576Z"
      },
      {
        "duration": 9,
        "start_time": "2022-09-12T14:28:38.652Z"
      },
      {
        "duration": 174,
        "start_time": "2022-09-12T14:28:38.663Z"
      },
      {
        "duration": 8,
        "start_time": "2022-09-12T14:28:38.839Z"
      },
      {
        "duration": 8,
        "start_time": "2022-09-12T14:28:38.848Z"
      },
      {
        "duration": 13,
        "start_time": "2022-09-12T14:28:38.857Z"
      },
      {
        "duration": 5,
        "start_time": "2022-09-12T14:28:38.872Z"
      },
      {
        "duration": 5,
        "start_time": "2022-09-12T14:28:38.879Z"
      },
      {
        "duration": 173,
        "start_time": "2022-09-12T14:28:38.909Z"
      },
      {
        "duration": 5,
        "start_time": "2022-09-12T14:28:39.083Z"
      },
      {
        "duration": 20,
        "start_time": "2022-09-12T14:28:39.090Z"
      },
      {
        "duration": 5,
        "start_time": "2022-09-12T14:28:39.112Z"
      },
      {
        "duration": 9,
        "start_time": "2022-09-12T14:28:39.119Z"
      },
      {
        "duration": 7,
        "start_time": "2022-09-12T14:28:39.129Z"
      },
      {
        "duration": 16,
        "start_time": "2022-09-12T14:28:39.137Z"
      },
      {
        "duration": 7,
        "start_time": "2022-09-12T14:28:39.154Z"
      },
      {
        "duration": 7,
        "start_time": "2022-09-12T14:28:39.162Z"
      },
      {
        "duration": 653,
        "start_time": "2022-09-12T14:39:28.811Z"
      },
      {
        "duration": 1080,
        "start_time": "2022-09-12T14:39:40.649Z"
      },
      {
        "duration": 609,
        "start_time": "2022-09-12T14:40:32.498Z"
      },
      {
        "duration": 10,
        "start_time": "2022-09-12T14:41:57.451Z"
      },
      {
        "duration": 92,
        "start_time": "2022-09-12T14:44:19.204Z"
      },
      {
        "duration": 9,
        "start_time": "2022-09-12T14:45:58.625Z"
      },
      {
        "duration": 13,
        "start_time": "2022-09-12T14:46:27.831Z"
      },
      {
        "duration": 13,
        "start_time": "2022-09-12T14:49:26.977Z"
      },
      {
        "duration": 18,
        "start_time": "2022-09-12T14:51:07.515Z"
      },
      {
        "duration": 13,
        "start_time": "2022-09-12T14:51:20.831Z"
      },
      {
        "duration": 4,
        "start_time": "2022-09-12T14:52:03.663Z"
      },
      {
        "duration": 685,
        "start_time": "2022-09-12T14:52:29.273Z"
      },
      {
        "duration": 13,
        "start_time": "2022-09-12T14:52:29.960Z"
      },
      {
        "duration": 75,
        "start_time": "2022-09-12T14:52:29.975Z"
      },
      {
        "duration": 4,
        "start_time": "2022-09-12T14:52:30.052Z"
      },
      {
        "duration": 14,
        "start_time": "2022-09-12T14:52:30.057Z"
      },
      {
        "duration": 179,
        "start_time": "2022-09-12T14:52:30.072Z"
      },
      {
        "duration": 8,
        "start_time": "2022-09-12T14:52:30.252Z"
      },
      {
        "duration": 10,
        "start_time": "2022-09-12T14:52:30.261Z"
      },
      {
        "duration": 15,
        "start_time": "2022-09-12T14:52:30.272Z"
      },
      {
        "duration": 22,
        "start_time": "2022-09-12T14:52:30.290Z"
      },
      {
        "duration": 9,
        "start_time": "2022-09-12T14:52:30.313Z"
      },
      {
        "duration": 169,
        "start_time": "2022-09-12T14:52:30.324Z"
      },
      {
        "duration": 5,
        "start_time": "2022-09-12T14:52:30.494Z"
      },
      {
        "duration": 19,
        "start_time": "2022-09-12T14:52:30.500Z"
      },
      {
        "duration": 33,
        "start_time": "2022-09-12T14:52:30.520Z"
      },
      {
        "duration": 41,
        "start_time": "2022-09-12T14:52:30.555Z"
      },
      {
        "duration": 28,
        "start_time": "2022-09-12T14:52:30.598Z"
      },
      {
        "duration": 52,
        "start_time": "2022-09-12T14:52:30.628Z"
      },
      {
        "duration": 21,
        "start_time": "2022-09-12T14:52:30.681Z"
      },
      {
        "duration": 19,
        "start_time": "2022-09-12T14:52:30.703Z"
      },
      {
        "duration": 54,
        "start_time": "2022-09-12T14:52:30.724Z"
      },
      {
        "duration": 51,
        "start_time": "2022-09-12T14:52:30.779Z"
      },
      {
        "duration": 16,
        "start_time": "2022-09-12T14:52:30.832Z"
      },
      {
        "duration": 5,
        "start_time": "2022-09-12T14:54:39.224Z"
      },
      {
        "duration": 715,
        "start_time": "2022-09-12T14:55:18.120Z"
      },
      {
        "duration": 13,
        "start_time": "2022-09-12T14:55:18.837Z"
      },
      {
        "duration": 76,
        "start_time": "2022-09-12T14:55:18.851Z"
      },
      {
        "duration": 4,
        "start_time": "2022-09-12T14:55:18.928Z"
      },
      {
        "duration": 19,
        "start_time": "2022-09-12T14:55:18.933Z"
      },
      {
        "duration": 173,
        "start_time": "2022-09-12T14:55:18.954Z"
      },
      {
        "duration": 8,
        "start_time": "2022-09-12T14:55:19.128Z"
      },
      {
        "duration": 5,
        "start_time": "2022-09-12T14:55:19.137Z"
      },
      {
        "duration": 45,
        "start_time": "2022-09-12T14:55:19.143Z"
      },
      {
        "duration": 0,
        "start_time": "2022-09-12T14:55:19.190Z"
      },
      {
        "duration": 0,
        "start_time": "2022-09-12T14:55:19.191Z"
      },
      {
        "duration": 1,
        "start_time": "2022-09-12T14:55:19.191Z"
      },
      {
        "duration": 0,
        "start_time": "2022-09-12T14:55:19.192Z"
      },
      {
        "duration": 0,
        "start_time": "2022-09-12T14:55:19.193Z"
      },
      {
        "duration": 0,
        "start_time": "2022-09-12T14:55:19.194Z"
      },
      {
        "duration": 0,
        "start_time": "2022-09-12T14:55:19.195Z"
      },
      {
        "duration": 0,
        "start_time": "2022-09-12T14:55:19.197Z"
      },
      {
        "duration": 0,
        "start_time": "2022-09-12T14:55:19.197Z"
      },
      {
        "duration": 0,
        "start_time": "2022-09-12T14:55:19.198Z"
      },
      {
        "duration": 0,
        "start_time": "2022-09-12T14:55:19.199Z"
      },
      {
        "duration": 0,
        "start_time": "2022-09-12T14:55:19.201Z"
      },
      {
        "duration": 0,
        "start_time": "2022-09-12T14:55:19.202Z"
      },
      {
        "duration": 0,
        "start_time": "2022-09-12T14:55:19.203Z"
      },
      {
        "duration": 0,
        "start_time": "2022-09-12T14:55:19.204Z"
      },
      {
        "duration": 10,
        "start_time": "2022-09-12T14:56:05.663Z"
      },
      {
        "duration": 726,
        "start_time": "2022-09-12T14:56:15.140Z"
      },
      {
        "duration": 14,
        "start_time": "2022-09-12T14:56:15.868Z"
      },
      {
        "duration": 69,
        "start_time": "2022-09-12T14:56:15.884Z"
      },
      {
        "duration": 4,
        "start_time": "2022-09-12T14:56:15.955Z"
      },
      {
        "duration": 11,
        "start_time": "2022-09-12T14:56:15.961Z"
      },
      {
        "duration": 180,
        "start_time": "2022-09-12T14:56:15.974Z"
      },
      {
        "duration": 8,
        "start_time": "2022-09-12T14:56:16.155Z"
      },
      {
        "duration": 7,
        "start_time": "2022-09-12T14:56:16.164Z"
      },
      {
        "duration": 20,
        "start_time": "2022-09-12T14:56:16.172Z"
      },
      {
        "duration": 17,
        "start_time": "2022-09-12T14:56:16.195Z"
      },
      {
        "duration": 5,
        "start_time": "2022-09-12T14:56:16.214Z"
      },
      {
        "duration": 200,
        "start_time": "2022-09-12T14:56:16.221Z"
      },
      {
        "duration": 5,
        "start_time": "2022-09-12T14:56:16.423Z"
      },
      {
        "duration": 5,
        "start_time": "2022-09-12T14:56:16.430Z"
      },
      {
        "duration": 8,
        "start_time": "2022-09-12T14:56:16.437Z"
      },
      {
        "duration": 6,
        "start_time": "2022-09-12T14:56:16.447Z"
      },
      {
        "duration": 5,
        "start_time": "2022-09-12T14:56:16.455Z"
      },
      {
        "duration": 4,
        "start_time": "2022-09-12T14:56:16.462Z"
      },
      {
        "duration": 11,
        "start_time": "2022-09-12T14:56:16.509Z"
      },
      {
        "duration": 7,
        "start_time": "2022-09-12T14:56:16.522Z"
      },
      {
        "duration": 13,
        "start_time": "2022-09-12T14:56:16.530Z"
      },
      {
        "duration": 15,
        "start_time": "2022-09-12T14:56:16.545Z"
      },
      {
        "duration": 15,
        "start_time": "2022-09-12T14:56:16.562Z"
      },
      {
        "duration": 41,
        "start_time": "2022-09-12T14:56:16.579Z"
      },
      {
        "duration": 14,
        "start_time": "2022-09-12T14:58:12.912Z"
      },
      {
        "duration": 761,
        "start_time": "2022-09-12T14:58:17.183Z"
      },
      {
        "duration": 14,
        "start_time": "2022-09-12T14:58:17.946Z"
      },
      {
        "duration": 71,
        "start_time": "2022-09-12T14:58:17.962Z"
      },
      {
        "duration": 8,
        "start_time": "2022-09-12T14:58:18.035Z"
      },
      {
        "duration": 176,
        "start_time": "2022-09-12T14:58:18.044Z"
      },
      {
        "duration": 7,
        "start_time": "2022-09-12T14:58:18.221Z"
      },
      {
        "duration": 7,
        "start_time": "2022-09-12T14:58:18.229Z"
      },
      {
        "duration": 17,
        "start_time": "2022-09-12T14:58:18.237Z"
      },
      {
        "duration": 5,
        "start_time": "2022-09-12T14:58:18.255Z"
      },
      {
        "duration": 6,
        "start_time": "2022-09-12T14:58:18.262Z"
      },
      {
        "duration": 199,
        "start_time": "2022-09-12T14:58:18.270Z"
      },
      {
        "duration": 5,
        "start_time": "2022-09-12T14:58:18.471Z"
      },
      {
        "duration": 19,
        "start_time": "2022-09-12T14:58:18.477Z"
      },
      {
        "duration": 11,
        "start_time": "2022-09-12T14:58:18.498Z"
      },
      {
        "duration": 6,
        "start_time": "2022-09-12T14:58:18.510Z"
      },
      {
        "duration": 9,
        "start_time": "2022-09-12T14:58:18.517Z"
      },
      {
        "duration": 5,
        "start_time": "2022-09-12T14:58:18.528Z"
      },
      {
        "duration": 11,
        "start_time": "2022-09-12T14:58:18.534Z"
      },
      {
        "duration": 7,
        "start_time": "2022-09-12T14:58:18.547Z"
      },
      {
        "duration": 7,
        "start_time": "2022-09-12T14:58:18.556Z"
      },
      {
        "duration": 47,
        "start_time": "2022-09-12T14:58:18.565Z"
      },
      {
        "duration": 13,
        "start_time": "2022-09-12T14:58:18.613Z"
      },
      {
        "duration": 15,
        "start_time": "2022-09-12T14:58:18.628Z"
      },
      {
        "duration": 1956,
        "start_time": "2022-09-12T15:07:39.192Z"
      },
      {
        "duration": 1890,
        "start_time": "2022-09-12T15:07:56.948Z"
      },
      {
        "duration": 1799,
        "start_time": "2022-09-12T15:08:31.314Z"
      },
      {
        "duration": 696,
        "start_time": "2022-09-12T15:16:38.259Z"
      },
      {
        "duration": 14,
        "start_time": "2022-09-12T15:16:38.956Z"
      },
      {
        "duration": 80,
        "start_time": "2022-09-12T15:16:38.971Z"
      },
      {
        "duration": 1691,
        "start_time": "2022-09-12T15:16:39.053Z"
      },
      {
        "duration": 10,
        "start_time": "2022-09-12T15:16:40.746Z"
      },
      {
        "duration": 145,
        "start_time": "2022-09-12T15:16:40.758Z"
      },
      {
        "duration": 8,
        "start_time": "2022-09-12T15:16:40.909Z"
      },
      {
        "duration": 7,
        "start_time": "2022-09-12T15:16:40.918Z"
      },
      {
        "duration": 6,
        "start_time": "2022-09-12T15:16:40.926Z"
      },
      {
        "duration": 7,
        "start_time": "2022-09-12T15:16:40.934Z"
      },
      {
        "duration": 195,
        "start_time": "2022-09-12T15:16:40.942Z"
      },
      {
        "duration": 5,
        "start_time": "2022-09-12T15:16:41.139Z"
      },
      {
        "duration": 5,
        "start_time": "2022-09-12T15:16:41.145Z"
      },
      {
        "duration": 8,
        "start_time": "2022-09-12T15:16:41.152Z"
      },
      {
        "duration": 6,
        "start_time": "2022-09-12T15:16:41.161Z"
      },
      {
        "duration": 5,
        "start_time": "2022-09-12T15:16:41.169Z"
      },
      {
        "duration": 34,
        "start_time": "2022-09-12T15:16:41.175Z"
      },
      {
        "duration": 6,
        "start_time": "2022-09-12T15:16:41.210Z"
      },
      {
        "duration": 6,
        "start_time": "2022-09-12T15:16:41.218Z"
      },
      {
        "duration": 94,
        "start_time": "2022-09-12T15:16:41.225Z"
      },
      {
        "duration": 0,
        "start_time": "2022-09-12T15:16:41.320Z"
      },
      {
        "duration": 0,
        "start_time": "2022-09-12T15:16:41.321Z"
      },
      {
        "duration": 17,
        "start_time": "2022-09-12T15:16:54.968Z"
      },
      {
        "duration": 7,
        "start_time": "2022-09-12T15:21:50.042Z"
      },
      {
        "duration": 11,
        "start_time": "2022-09-12T15:24:00.544Z"
      },
      {
        "duration": 15,
        "start_time": "2022-09-12T15:24:11.403Z"
      },
      {
        "duration": 951,
        "start_time": "2022-09-12T15:27:47.082Z"
      },
      {
        "duration": 15,
        "start_time": "2022-09-12T15:27:48.035Z"
      },
      {
        "duration": 84,
        "start_time": "2022-09-12T15:27:48.051Z"
      },
      {
        "duration": 1764,
        "start_time": "2022-09-12T15:27:48.136Z"
      },
      {
        "duration": 8,
        "start_time": "2022-09-12T15:27:49.902Z"
      },
      {
        "duration": 151,
        "start_time": "2022-09-12T15:27:49.911Z"
      },
      {
        "duration": 7,
        "start_time": "2022-09-12T15:27:50.063Z"
      },
      {
        "duration": 12,
        "start_time": "2022-09-12T15:27:50.072Z"
      },
      {
        "duration": 50,
        "start_time": "2022-09-12T15:27:50.086Z"
      },
      {
        "duration": 52,
        "start_time": "2022-09-12T15:27:50.138Z"
      },
      {
        "duration": 17,
        "start_time": "2022-09-12T15:27:50.191Z"
      },
      {
        "duration": 7,
        "start_time": "2022-09-12T15:27:50.210Z"
      },
      {
        "duration": 26,
        "start_time": "2022-09-12T15:27:50.218Z"
      },
      {
        "duration": 175,
        "start_time": "2022-09-12T15:27:50.247Z"
      },
      {
        "duration": 5,
        "start_time": "2022-09-12T15:27:50.423Z"
      },
      {
        "duration": 7,
        "start_time": "2022-09-12T15:27:50.429Z"
      },
      {
        "duration": 10,
        "start_time": "2022-09-12T15:27:50.437Z"
      },
      {
        "duration": 28,
        "start_time": "2022-09-12T15:27:50.448Z"
      },
      {
        "duration": 8,
        "start_time": "2022-09-12T15:27:50.478Z"
      },
      {
        "duration": 8,
        "start_time": "2022-09-12T15:27:50.487Z"
      },
      {
        "duration": 17,
        "start_time": "2022-09-12T15:27:50.497Z"
      },
      {
        "duration": 82,
        "start_time": "2022-09-12T15:27:50.515Z"
      },
      {
        "duration": 0,
        "start_time": "2022-09-12T15:27:50.598Z"
      },
      {
        "duration": 0,
        "start_time": "2022-09-12T15:27:50.608Z"
      },
      {
        "duration": 19,
        "start_time": "2022-09-12T15:29:09.214Z"
      },
      {
        "duration": 16,
        "start_time": "2022-09-12T15:29:13.078Z"
      },
      {
        "duration": 27,
        "start_time": "2022-09-12T15:34:11.020Z"
      },
      {
        "duration": 20,
        "start_time": "2022-09-12T15:34:14.005Z"
      },
      {
        "duration": 29,
        "start_time": "2022-09-12T15:34:55.612Z"
      },
      {
        "duration": 33,
        "start_time": "2022-09-12T15:35:12.676Z"
      },
      {
        "duration": 31,
        "start_time": "2022-09-12T15:38:56.069Z"
      },
      {
        "duration": 14,
        "start_time": "2022-09-12T15:39:03.873Z"
      },
      {
        "duration": 13,
        "start_time": "2022-09-12T15:39:49.532Z"
      },
      {
        "duration": 14,
        "start_time": "2022-09-12T15:40:01.915Z"
      },
      {
        "duration": 11,
        "start_time": "2022-09-12T15:54:41.288Z"
      },
      {
        "duration": 2193,
        "start_time": "2022-09-12T15:55:26.585Z"
      },
      {
        "duration": 687,
        "start_time": "2022-09-12T15:56:11.546Z"
      },
      {
        "duration": 13,
        "start_time": "2022-09-12T15:56:12.235Z"
      },
      {
        "duration": 76,
        "start_time": "2022-09-12T15:56:12.249Z"
      },
      {
        "duration": 1729,
        "start_time": "2022-09-12T15:56:12.327Z"
      },
      {
        "duration": 9,
        "start_time": "2022-09-12T15:56:14.057Z"
      },
      {
        "duration": 152,
        "start_time": "2022-09-12T15:56:14.067Z"
      },
      {
        "duration": 7,
        "start_time": "2022-09-12T15:56:14.221Z"
      },
      {
        "duration": 5,
        "start_time": "2022-09-12T15:56:14.229Z"
      },
      {
        "duration": 34,
        "start_time": "2022-09-12T15:56:14.236Z"
      },
      {
        "duration": 178,
        "start_time": "2022-09-12T15:56:14.272Z"
      },
      {
        "duration": 4,
        "start_time": "2022-09-12T15:56:14.452Z"
      },
      {
        "duration": 13,
        "start_time": "2022-09-12T15:56:14.458Z"
      },
      {
        "duration": 218,
        "start_time": "2022-09-12T15:56:14.473Z"
      },
      {
        "duration": 4,
        "start_time": "2022-09-12T15:56:14.693Z"
      },
      {
        "duration": 10,
        "start_time": "2022-09-12T15:56:14.699Z"
      },
      {
        "duration": 5,
        "start_time": "2022-09-12T15:56:14.710Z"
      },
      {
        "duration": 6,
        "start_time": "2022-09-12T15:56:14.716Z"
      },
      {
        "duration": 7,
        "start_time": "2022-09-12T15:56:14.723Z"
      },
      {
        "duration": 6,
        "start_time": "2022-09-12T15:56:14.731Z"
      },
      {
        "duration": 8,
        "start_time": "2022-09-12T15:56:14.739Z"
      },
      {
        "duration": 110,
        "start_time": "2022-09-12T15:56:14.748Z"
      },
      {
        "duration": 0,
        "start_time": "2022-09-12T15:56:14.860Z"
      },
      {
        "duration": 0,
        "start_time": "2022-09-12T15:56:14.861Z"
      },
      {
        "duration": 3,
        "start_time": "2022-09-12T15:59:20.086Z"
      },
      {
        "duration": 9,
        "start_time": "2022-09-12T16:01:42.795Z"
      },
      {
        "duration": 703,
        "start_time": "2022-09-12T16:01:49.752Z"
      },
      {
        "duration": 15,
        "start_time": "2022-09-12T16:01:50.457Z"
      },
      {
        "duration": 73,
        "start_time": "2022-09-12T16:01:50.474Z"
      },
      {
        "duration": 1791,
        "start_time": "2022-09-12T16:01:50.549Z"
      },
      {
        "duration": 8,
        "start_time": "2022-09-12T16:01:52.342Z"
      },
      {
        "duration": 154,
        "start_time": "2022-09-12T16:01:52.352Z"
      },
      {
        "duration": 8,
        "start_time": "2022-09-12T16:01:52.507Z"
      },
      {
        "duration": 16,
        "start_time": "2022-09-12T16:01:52.516Z"
      },
      {
        "duration": 39,
        "start_time": "2022-09-12T16:01:52.534Z"
      },
      {
        "duration": 8,
        "start_time": "2022-09-12T16:01:52.576Z"
      },
      {
        "duration": 6,
        "start_time": "2022-09-12T16:01:52.585Z"
      },
      {
        "duration": 18,
        "start_time": "2022-09-12T16:01:52.592Z"
      },
      {
        "duration": 189,
        "start_time": "2022-09-12T16:01:52.611Z"
      },
      {
        "duration": 9,
        "start_time": "2022-09-12T16:01:52.801Z"
      },
      {
        "duration": 8,
        "start_time": "2022-09-12T16:01:52.811Z"
      },
      {
        "duration": 13,
        "start_time": "2022-09-12T16:01:52.820Z"
      },
      {
        "duration": 10,
        "start_time": "2022-09-12T16:01:52.834Z"
      },
      {
        "duration": 12,
        "start_time": "2022-09-12T16:01:52.845Z"
      },
      {
        "duration": 15,
        "start_time": "2022-09-12T16:01:52.859Z"
      },
      {
        "duration": 11,
        "start_time": "2022-09-12T16:01:52.876Z"
      },
      {
        "duration": 124,
        "start_time": "2022-09-12T16:01:52.888Z"
      },
      {
        "duration": 0,
        "start_time": "2022-09-12T16:01:53.014Z"
      },
      {
        "duration": 0,
        "start_time": "2022-09-12T16:01:53.016Z"
      },
      {
        "duration": 8,
        "start_time": "2022-09-12T16:04:31.505Z"
      },
      {
        "duration": 9,
        "start_time": "2022-09-12T16:04:48.649Z"
      },
      {
        "duration": 935,
        "start_time": "2022-09-12T16:04:58.048Z"
      },
      {
        "duration": 13,
        "start_time": "2022-09-12T16:04:58.985Z"
      },
      {
        "duration": 68,
        "start_time": "2022-09-12T16:04:59.000Z"
      },
      {
        "duration": 1761,
        "start_time": "2022-09-12T16:04:59.069Z"
      },
      {
        "duration": 9,
        "start_time": "2022-09-12T16:05:00.848Z"
      },
      {
        "duration": 159,
        "start_time": "2022-09-12T16:05:00.859Z"
      },
      {
        "duration": 8,
        "start_time": "2022-09-12T16:05:01.019Z"
      },
      {
        "duration": 11,
        "start_time": "2022-09-12T16:05:01.028Z"
      },
      {
        "duration": 43,
        "start_time": "2022-09-12T16:05:01.040Z"
      },
      {
        "duration": 23,
        "start_time": "2022-09-12T16:05:01.086Z"
      },
      {
        "duration": 5,
        "start_time": "2022-09-12T16:05:01.110Z"
      },
      {
        "duration": 10,
        "start_time": "2022-09-12T16:05:01.117Z"
      },
      {
        "duration": 208,
        "start_time": "2022-09-12T16:05:01.129Z"
      },
      {
        "duration": 5,
        "start_time": "2022-09-12T16:05:01.339Z"
      },
      {
        "duration": 16,
        "start_time": "2022-09-12T16:05:01.345Z"
      },
      {
        "duration": 18,
        "start_time": "2022-09-12T16:05:01.363Z"
      },
      {
        "duration": 16,
        "start_time": "2022-09-12T16:05:01.383Z"
      },
      {
        "duration": 37,
        "start_time": "2022-09-12T16:05:01.401Z"
      },
      {
        "duration": 28,
        "start_time": "2022-09-12T16:05:01.439Z"
      },
      {
        "duration": 26,
        "start_time": "2022-09-12T16:05:01.469Z"
      },
      {
        "duration": 98,
        "start_time": "2022-09-12T16:05:01.496Z"
      },
      {
        "duration": 0,
        "start_time": "2022-09-12T16:05:01.595Z"
      },
      {
        "duration": 0,
        "start_time": "2022-09-12T16:05:01.596Z"
      },
      {
        "duration": 10,
        "start_time": "2022-09-12T16:06:34.685Z"
      },
      {
        "duration": 12,
        "start_time": "2022-09-12T16:09:44.253Z"
      },
      {
        "duration": 708,
        "start_time": "2022-09-12T16:09:48.241Z"
      },
      {
        "duration": 17,
        "start_time": "2022-09-12T16:09:48.951Z"
      },
      {
        "duration": 82,
        "start_time": "2022-09-12T16:09:48.969Z"
      },
      {
        "duration": 1699,
        "start_time": "2022-09-12T16:09:49.053Z"
      },
      {
        "duration": 10,
        "start_time": "2022-09-12T16:09:50.754Z"
      },
      {
        "duration": 146,
        "start_time": "2022-09-12T16:09:50.765Z"
      },
      {
        "duration": 9,
        "start_time": "2022-09-12T16:09:50.912Z"
      },
      {
        "duration": 11,
        "start_time": "2022-09-12T16:09:50.922Z"
      },
      {
        "duration": 42,
        "start_time": "2022-09-12T16:09:50.935Z"
      },
      {
        "duration": 95,
        "start_time": "2022-09-12T16:09:50.980Z"
      },
      {
        "duration": 0,
        "start_time": "2022-09-12T16:09:51.077Z"
      },
      {
        "duration": 0,
        "start_time": "2022-09-12T16:09:51.078Z"
      },
      {
        "duration": 0,
        "start_time": "2022-09-12T16:09:51.080Z"
      },
      {
        "duration": 0,
        "start_time": "2022-09-12T16:09:51.081Z"
      },
      {
        "duration": 0,
        "start_time": "2022-09-12T16:09:51.082Z"
      },
      {
        "duration": 0,
        "start_time": "2022-09-12T16:09:51.083Z"
      },
      {
        "duration": 0,
        "start_time": "2022-09-12T16:09:51.085Z"
      },
      {
        "duration": 0,
        "start_time": "2022-09-12T16:09:51.086Z"
      },
      {
        "duration": 0,
        "start_time": "2022-09-12T16:09:51.087Z"
      },
      {
        "duration": 0,
        "start_time": "2022-09-12T16:09:51.088Z"
      },
      {
        "duration": 0,
        "start_time": "2022-09-12T16:09:51.109Z"
      },
      {
        "duration": 0,
        "start_time": "2022-09-12T16:09:51.110Z"
      },
      {
        "duration": 0,
        "start_time": "2022-09-12T16:09:51.111Z"
      },
      {
        "duration": 753,
        "start_time": "2022-09-12T16:10:05.275Z"
      },
      {
        "duration": 16,
        "start_time": "2022-09-12T16:10:06.029Z"
      },
      {
        "duration": 80,
        "start_time": "2022-09-12T16:10:06.047Z"
      },
      {
        "duration": 1775,
        "start_time": "2022-09-12T16:10:06.129Z"
      },
      {
        "duration": 9,
        "start_time": "2022-09-12T16:10:07.906Z"
      },
      {
        "duration": 158,
        "start_time": "2022-09-12T16:10:07.917Z"
      },
      {
        "duration": 7,
        "start_time": "2022-09-12T16:10:08.077Z"
      },
      {
        "duration": 8,
        "start_time": "2022-09-12T16:10:08.085Z"
      },
      {
        "duration": 46,
        "start_time": "2022-09-12T16:10:08.094Z"
      },
      {
        "duration": 10,
        "start_time": "2022-09-12T16:10:08.141Z"
      },
      {
        "duration": 4,
        "start_time": "2022-09-12T16:10:08.152Z"
      },
      {
        "duration": 9,
        "start_time": "2022-09-12T16:10:08.157Z"
      },
      {
        "duration": 204,
        "start_time": "2022-09-12T16:10:08.167Z"
      },
      {
        "duration": 5,
        "start_time": "2022-09-12T16:10:08.374Z"
      },
      {
        "duration": 19,
        "start_time": "2022-09-12T16:10:08.380Z"
      },
      {
        "duration": 20,
        "start_time": "2022-09-12T16:10:08.400Z"
      },
      {
        "duration": 9,
        "start_time": "2022-09-12T16:10:08.421Z"
      },
      {
        "duration": 23,
        "start_time": "2022-09-12T16:10:08.431Z"
      },
      {
        "duration": 12,
        "start_time": "2022-09-12T16:10:08.455Z"
      },
      {
        "duration": 11,
        "start_time": "2022-09-12T16:10:08.468Z"
      },
      {
        "duration": 92,
        "start_time": "2022-09-12T16:10:08.481Z"
      },
      {
        "duration": 0,
        "start_time": "2022-09-12T16:10:08.575Z"
      },
      {
        "duration": 0,
        "start_time": "2022-09-12T16:10:08.576Z"
      },
      {
        "duration": 12,
        "start_time": "2022-09-12T16:11:02.531Z"
      },
      {
        "duration": 5,
        "start_time": "2022-09-12T16:11:19.073Z"
      },
      {
        "duration": 716,
        "start_time": "2022-09-12T16:11:47.240Z"
      },
      {
        "duration": 15,
        "start_time": "2022-09-12T16:11:47.959Z"
      },
      {
        "duration": 81,
        "start_time": "2022-09-12T16:11:47.978Z"
      },
      {
        "duration": 1739,
        "start_time": "2022-09-12T16:11:48.061Z"
      },
      {
        "duration": 10,
        "start_time": "2022-09-12T16:11:49.802Z"
      },
      {
        "duration": 149,
        "start_time": "2022-09-12T16:11:49.814Z"
      },
      {
        "duration": 9,
        "start_time": "2022-09-12T16:11:49.965Z"
      },
      {
        "duration": 7,
        "start_time": "2022-09-12T16:11:49.975Z"
      },
      {
        "duration": 53,
        "start_time": "2022-09-12T16:11:49.984Z"
      },
      {
        "duration": 11,
        "start_time": "2022-09-12T16:11:50.039Z"
      },
      {
        "duration": 4,
        "start_time": "2022-09-12T16:11:50.052Z"
      },
      {
        "duration": 8,
        "start_time": "2022-09-12T16:11:50.057Z"
      },
      {
        "duration": 8,
        "start_time": "2022-09-12T16:11:50.066Z"
      },
      {
        "duration": 199,
        "start_time": "2022-09-12T16:11:50.075Z"
      },
      {
        "duration": 5,
        "start_time": "2022-09-12T16:11:50.275Z"
      },
      {
        "duration": 5,
        "start_time": "2022-09-12T16:11:50.281Z"
      },
      {
        "duration": 16,
        "start_time": "2022-09-12T16:11:50.288Z"
      },
      {
        "duration": 8,
        "start_time": "2022-09-12T16:11:50.309Z"
      },
      {
        "duration": 6,
        "start_time": "2022-09-12T16:11:50.318Z"
      },
      {
        "duration": 10,
        "start_time": "2022-09-12T16:11:50.325Z"
      },
      {
        "duration": 16,
        "start_time": "2022-09-12T16:11:50.336Z"
      },
      {
        "duration": 90,
        "start_time": "2022-09-12T16:11:50.354Z"
      },
      {
        "duration": 0,
        "start_time": "2022-09-12T16:11:50.445Z"
      },
      {
        "duration": 0,
        "start_time": "2022-09-12T16:11:50.446Z"
      },
      {
        "duration": 725,
        "start_time": "2022-09-12T16:13:06.420Z"
      },
      {
        "duration": 13,
        "start_time": "2022-09-12T16:13:07.148Z"
      },
      {
        "duration": 76,
        "start_time": "2022-09-12T16:13:07.163Z"
      },
      {
        "duration": 1827,
        "start_time": "2022-09-12T16:13:07.241Z"
      },
      {
        "duration": 8,
        "start_time": "2022-09-12T16:13:09.069Z"
      },
      {
        "duration": 231,
        "start_time": "2022-09-12T16:13:09.078Z"
      },
      {
        "duration": 9,
        "start_time": "2022-09-12T16:13:09.310Z"
      },
      {
        "duration": 11,
        "start_time": "2022-09-12T16:13:09.321Z"
      },
      {
        "duration": 58,
        "start_time": "2022-09-12T16:13:09.334Z"
      },
      {
        "duration": 25,
        "start_time": "2022-09-12T16:13:09.395Z"
      },
      {
        "duration": 3,
        "start_time": "2022-09-12T16:13:09.422Z"
      },
      {
        "duration": 9,
        "start_time": "2022-09-12T16:13:09.427Z"
      },
      {
        "duration": 5,
        "start_time": "2022-09-12T16:13:09.438Z"
      },
      {
        "duration": 201,
        "start_time": "2022-09-12T16:13:09.444Z"
      },
      {
        "duration": 5,
        "start_time": "2022-09-12T16:13:09.647Z"
      },
      {
        "duration": 17,
        "start_time": "2022-09-12T16:13:09.653Z"
      },
      {
        "duration": 15,
        "start_time": "2022-09-12T16:13:09.672Z"
      },
      {
        "duration": 12,
        "start_time": "2022-09-12T16:13:09.688Z"
      },
      {
        "duration": 7,
        "start_time": "2022-09-12T16:13:09.702Z"
      },
      {
        "duration": 7,
        "start_time": "2022-09-12T16:13:09.710Z"
      },
      {
        "duration": 14,
        "start_time": "2022-09-12T16:13:09.719Z"
      },
      {
        "duration": 92,
        "start_time": "2022-09-12T16:13:09.735Z"
      },
      {
        "duration": 0,
        "start_time": "2022-09-12T16:13:09.828Z"
      },
      {
        "duration": 0,
        "start_time": "2022-09-12T16:13:09.830Z"
      },
      {
        "duration": 694,
        "start_time": "2022-09-12T16:17:38.547Z"
      },
      {
        "duration": 15,
        "start_time": "2022-09-12T16:17:39.242Z"
      },
      {
        "duration": 73,
        "start_time": "2022-09-12T16:17:39.259Z"
      },
      {
        "duration": 1687,
        "start_time": "2022-09-12T16:17:39.333Z"
      },
      {
        "duration": 8,
        "start_time": "2022-09-12T16:17:41.022Z"
      },
      {
        "duration": 158,
        "start_time": "2022-09-12T16:17:41.032Z"
      },
      {
        "duration": 17,
        "start_time": "2022-09-12T16:17:41.192Z"
      },
      {
        "duration": 7,
        "start_time": "2022-09-12T16:17:41.210Z"
      },
      {
        "duration": 33,
        "start_time": "2022-09-12T16:17:41.218Z"
      },
      {
        "duration": 16,
        "start_time": "2022-09-12T16:17:41.253Z"
      },
      {
        "duration": 9,
        "start_time": "2022-09-12T16:17:41.270Z"
      },
      {
        "duration": 30,
        "start_time": "2022-09-12T16:17:41.280Z"
      },
      {
        "duration": 6,
        "start_time": "2022-09-12T16:17:41.312Z"
      },
      {
        "duration": 192,
        "start_time": "2022-09-12T16:17:41.320Z"
      },
      {
        "duration": 5,
        "start_time": "2022-09-12T16:17:41.514Z"
      },
      {
        "duration": 15,
        "start_time": "2022-09-12T16:17:41.520Z"
      },
      {
        "duration": 8,
        "start_time": "2022-09-12T16:17:41.537Z"
      },
      {
        "duration": 9,
        "start_time": "2022-09-12T16:17:41.546Z"
      },
      {
        "duration": 7,
        "start_time": "2022-09-12T16:17:41.556Z"
      },
      {
        "duration": 7,
        "start_time": "2022-09-12T16:17:41.564Z"
      },
      {
        "duration": 9,
        "start_time": "2022-09-12T16:17:41.573Z"
      },
      {
        "duration": 108,
        "start_time": "2022-09-12T16:17:41.583Z"
      },
      {
        "duration": 0,
        "start_time": "2022-09-12T16:17:41.693Z"
      },
      {
        "duration": 0,
        "start_time": "2022-09-12T16:17:41.694Z"
      },
      {
        "duration": 737,
        "start_time": "2022-09-12T16:24:57.538Z"
      },
      {
        "duration": 15,
        "start_time": "2022-09-12T16:24:58.277Z"
      },
      {
        "duration": 75,
        "start_time": "2022-09-12T16:24:58.294Z"
      },
      {
        "duration": 1941,
        "start_time": "2022-09-12T16:24:58.371Z"
      },
      {
        "duration": 9,
        "start_time": "2022-09-12T16:25:00.314Z"
      },
      {
        "duration": 205,
        "start_time": "2022-09-12T16:25:00.325Z"
      },
      {
        "duration": 9,
        "start_time": "2022-09-12T16:25:00.532Z"
      },
      {
        "duration": 18,
        "start_time": "2022-09-12T16:25:00.542Z"
      },
      {
        "duration": 66,
        "start_time": "2022-09-12T16:25:00.562Z"
      },
      {
        "duration": 5,
        "start_time": "2022-09-12T16:25:00.631Z"
      },
      {
        "duration": 10,
        "start_time": "2022-09-12T16:25:00.637Z"
      },
      {
        "duration": 10,
        "start_time": "2022-09-12T16:25:00.648Z"
      },
      {
        "duration": 203,
        "start_time": "2022-09-12T16:25:00.659Z"
      },
      {
        "duration": 7,
        "start_time": "2022-09-12T16:25:00.864Z"
      },
      {
        "duration": 30,
        "start_time": "2022-09-12T16:25:00.872Z"
      },
      {
        "duration": 30,
        "start_time": "2022-09-12T16:25:00.904Z"
      },
      {
        "duration": 20,
        "start_time": "2022-09-12T16:25:00.936Z"
      },
      {
        "duration": 10,
        "start_time": "2022-09-12T16:25:00.957Z"
      },
      {
        "duration": 21,
        "start_time": "2022-09-12T16:25:00.969Z"
      },
      {
        "duration": 24,
        "start_time": "2022-09-12T16:25:00.992Z"
      },
      {
        "duration": 100,
        "start_time": "2022-09-12T16:25:01.018Z"
      },
      {
        "duration": 0,
        "start_time": "2022-09-12T16:25:01.120Z"
      },
      {
        "duration": 0,
        "start_time": "2022-09-12T16:25:01.121Z"
      },
      {
        "duration": 4,
        "start_time": "2022-09-12T16:25:43.940Z"
      },
      {
        "duration": 18,
        "start_time": "2022-09-12T16:25:56.304Z"
      },
      {
        "duration": 13,
        "start_time": "2022-09-12T16:25:59.210Z"
      },
      {
        "duration": 6,
        "start_time": "2022-09-12T16:27:42.795Z"
      },
      {
        "duration": 689,
        "start_time": "2022-09-12T16:27:47.959Z"
      },
      {
        "duration": 15,
        "start_time": "2022-09-12T16:27:48.650Z"
      },
      {
        "duration": 71,
        "start_time": "2022-09-12T16:27:48.667Z"
      },
      {
        "duration": 1724,
        "start_time": "2022-09-12T16:27:48.740Z"
      },
      {
        "duration": 9,
        "start_time": "2022-09-12T16:27:50.466Z"
      },
      {
        "duration": 146,
        "start_time": "2022-09-12T16:27:50.476Z"
      },
      {
        "duration": 7,
        "start_time": "2022-09-12T16:27:50.623Z"
      },
      {
        "duration": 8,
        "start_time": "2022-09-12T16:27:50.632Z"
      },
      {
        "duration": 33,
        "start_time": "2022-09-12T16:27:50.641Z"
      },
      {
        "duration": 4,
        "start_time": "2022-09-12T16:27:50.675Z"
      },
      {
        "duration": 8,
        "start_time": "2022-09-12T16:27:50.680Z"
      },
      {
        "duration": 22,
        "start_time": "2022-09-12T16:27:50.689Z"
      },
      {
        "duration": 189,
        "start_time": "2022-09-12T16:27:50.712Z"
      },
      {
        "duration": 4,
        "start_time": "2022-09-12T16:27:50.904Z"
      },
      {
        "duration": 5,
        "start_time": "2022-09-12T16:27:50.910Z"
      },
      {
        "duration": 5,
        "start_time": "2022-09-12T16:27:50.916Z"
      },
      {
        "duration": 7,
        "start_time": "2022-09-12T16:27:50.923Z"
      },
      {
        "duration": 6,
        "start_time": "2022-09-12T16:27:50.931Z"
      },
      {
        "duration": 6,
        "start_time": "2022-09-12T16:27:50.938Z"
      },
      {
        "duration": 9,
        "start_time": "2022-09-12T16:27:50.945Z"
      },
      {
        "duration": 13,
        "start_time": "2022-09-12T16:27:50.956Z"
      },
      {
        "duration": 52,
        "start_time": "2022-09-12T16:27:50.971Z"
      },
      {
        "duration": 14,
        "start_time": "2022-09-12T16:27:51.024Z"
      },
      {
        "duration": 18,
        "start_time": "2022-09-12T16:32:52.204Z"
      },
      {
        "duration": 745,
        "start_time": "2022-09-12T16:36:16.522Z"
      },
      {
        "duration": 17,
        "start_time": "2022-09-12T16:36:17.269Z"
      },
      {
        "duration": 79,
        "start_time": "2022-09-12T16:36:17.287Z"
      },
      {
        "duration": 1764,
        "start_time": "2022-09-12T16:36:17.368Z"
      },
      {
        "duration": 10,
        "start_time": "2022-09-12T16:36:19.134Z"
      },
      {
        "duration": 5,
        "start_time": "2022-09-12T16:36:19.146Z"
      },
      {
        "duration": 33,
        "start_time": "2022-09-12T16:36:19.152Z"
      },
      {
        "duration": 4,
        "start_time": "2022-09-12T16:36:19.186Z"
      },
      {
        "duration": 17,
        "start_time": "2022-09-12T16:36:19.192Z"
      },
      {
        "duration": 4,
        "start_time": "2022-09-12T16:36:19.211Z"
      },
      {
        "duration": 193,
        "start_time": "2022-09-12T16:36:19.216Z"
      },
      {
        "duration": 6,
        "start_time": "2022-09-12T16:36:19.410Z"
      },
      {
        "duration": 4,
        "start_time": "2022-09-12T16:36:19.417Z"
      },
      {
        "duration": 6,
        "start_time": "2022-09-12T16:36:19.422Z"
      },
      {
        "duration": 7,
        "start_time": "2022-09-12T16:36:19.429Z"
      },
      {
        "duration": 10,
        "start_time": "2022-09-12T16:36:19.437Z"
      },
      {
        "duration": 6,
        "start_time": "2022-09-12T16:36:19.448Z"
      },
      {
        "duration": 10,
        "start_time": "2022-09-12T16:36:19.455Z"
      },
      {
        "duration": 45,
        "start_time": "2022-09-12T16:36:19.466Z"
      },
      {
        "duration": 17,
        "start_time": "2022-09-12T16:36:19.513Z"
      },
      {
        "duration": 68,
        "start_time": "2022-09-13T11:42:17.571Z"
      },
      {
        "duration": 1159,
        "start_time": "2022-09-13T11:42:27.405Z"
      },
      {
        "duration": 17,
        "start_time": "2022-09-13T11:42:28.567Z"
      },
      {
        "duration": 88,
        "start_time": "2022-09-13T11:42:28.586Z"
      },
      {
        "duration": 1938,
        "start_time": "2022-09-13T11:42:28.676Z"
      },
      {
        "duration": 9,
        "start_time": "2022-09-13T11:42:30.616Z"
      },
      {
        "duration": 43,
        "start_time": "2022-09-13T11:42:30.626Z"
      },
      {
        "duration": 85,
        "start_time": "2022-09-13T11:42:30.671Z"
      },
      {
        "duration": 23,
        "start_time": "2022-09-13T11:42:30.758Z"
      },
      {
        "duration": 33,
        "start_time": "2022-09-13T11:42:30.784Z"
      },
      {
        "duration": 62,
        "start_time": "2022-09-13T11:42:30.821Z"
      },
      {
        "duration": 45,
        "start_time": "2022-09-13T11:42:30.885Z"
      },
      {
        "duration": 222,
        "start_time": "2022-09-13T11:42:30.932Z"
      },
      {
        "duration": 6,
        "start_time": "2022-09-13T11:42:31.156Z"
      },
      {
        "duration": 42,
        "start_time": "2022-09-13T11:42:31.164Z"
      },
      {
        "duration": 49,
        "start_time": "2022-09-13T11:42:31.208Z"
      },
      {
        "duration": 52,
        "start_time": "2022-09-13T11:42:31.259Z"
      },
      {
        "duration": 34,
        "start_time": "2022-09-13T11:42:31.313Z"
      },
      {
        "duration": 49,
        "start_time": "2022-09-13T11:42:31.349Z"
      },
      {
        "duration": 44,
        "start_time": "2022-09-13T11:42:31.399Z"
      },
      {
        "duration": 38,
        "start_time": "2022-09-13T11:42:31.446Z"
      },
      {
        "duration": 23,
        "start_time": "2022-09-13T11:42:31.486Z"
      },
      {
        "duration": 752,
        "start_time": "2022-09-13T11:49:36.470Z"
      },
      {
        "duration": 27,
        "start_time": "2022-09-13T11:49:37.224Z"
      },
      {
        "duration": 106,
        "start_time": "2022-09-13T11:49:37.254Z"
      },
      {
        "duration": 1899,
        "start_time": "2022-09-13T11:49:37.363Z"
      },
      {
        "duration": 9,
        "start_time": "2022-09-13T11:49:39.264Z"
      },
      {
        "duration": 10,
        "start_time": "2022-09-13T11:49:39.275Z"
      },
      {
        "duration": 15,
        "start_time": "2022-09-13T11:49:39.287Z"
      },
      {
        "duration": 39,
        "start_time": "2022-09-13T11:49:39.303Z"
      },
      {
        "duration": 5,
        "start_time": "2022-09-13T11:49:39.344Z"
      },
      {
        "duration": 10,
        "start_time": "2022-09-13T11:49:39.350Z"
      },
      {
        "duration": 7,
        "start_time": "2022-09-13T11:49:39.362Z"
      },
      {
        "duration": 221,
        "start_time": "2022-09-13T11:49:39.371Z"
      },
      {
        "duration": 5,
        "start_time": "2022-09-13T11:49:39.594Z"
      },
      {
        "duration": 8,
        "start_time": "2022-09-13T11:49:39.601Z"
      },
      {
        "duration": 27,
        "start_time": "2022-09-13T11:49:39.610Z"
      },
      {
        "duration": 13,
        "start_time": "2022-09-13T11:49:39.639Z"
      },
      {
        "duration": 11,
        "start_time": "2022-09-13T11:49:39.653Z"
      },
      {
        "duration": 9,
        "start_time": "2022-09-13T11:49:39.666Z"
      },
      {
        "duration": 10,
        "start_time": "2022-09-13T11:49:39.677Z"
      },
      {
        "duration": 14,
        "start_time": "2022-09-13T11:49:39.688Z"
      },
      {
        "duration": 43,
        "start_time": "2022-09-13T11:49:39.704Z"
      },
      {
        "duration": 720,
        "start_time": "2022-09-13T11:51:57.687Z"
      },
      {
        "duration": 15,
        "start_time": "2022-09-13T11:51:58.409Z"
      },
      {
        "duration": 78,
        "start_time": "2022-09-13T11:51:58.426Z"
      },
      {
        "duration": 1957,
        "start_time": "2022-09-13T11:51:58.506Z"
      },
      {
        "duration": 11,
        "start_time": "2022-09-13T11:52:00.465Z"
      },
      {
        "duration": 40,
        "start_time": "2022-09-13T11:52:00.477Z"
      },
      {
        "duration": 65,
        "start_time": "2022-09-13T11:52:00.519Z"
      },
      {
        "duration": 26,
        "start_time": "2022-09-13T11:52:00.586Z"
      },
      {
        "duration": 15,
        "start_time": "2022-09-13T11:52:00.614Z"
      },
      {
        "duration": 29,
        "start_time": "2022-09-13T11:52:00.632Z"
      },
      {
        "duration": 197,
        "start_time": "2022-09-13T11:52:00.663Z"
      },
      {
        "duration": 7,
        "start_time": "2022-09-13T11:52:00.861Z"
      },
      {
        "duration": 18,
        "start_time": "2022-09-13T11:52:00.870Z"
      },
      {
        "duration": 17,
        "start_time": "2022-09-13T11:52:00.890Z"
      },
      {
        "duration": 12,
        "start_time": "2022-09-13T11:52:00.909Z"
      },
      {
        "duration": 15,
        "start_time": "2022-09-13T11:52:00.922Z"
      },
      {
        "duration": 14,
        "start_time": "2022-09-13T11:52:00.938Z"
      },
      {
        "duration": 16,
        "start_time": "2022-09-13T11:52:00.954Z"
      },
      {
        "duration": 16,
        "start_time": "2022-09-13T11:52:00.972Z"
      },
      {
        "duration": 21,
        "start_time": "2022-09-13T11:52:00.991Z"
      },
      {
        "duration": 91,
        "start_time": "2022-09-13T12:00:48.296Z"
      },
      {
        "duration": 89,
        "start_time": "2022-09-13T12:01:39.357Z"
      },
      {
        "duration": 183,
        "start_time": "2022-09-13T12:02:42.736Z"
      },
      {
        "duration": 97,
        "start_time": "2022-09-13T12:02:52.202Z"
      },
      {
        "duration": 110,
        "start_time": "2022-09-13T12:03:56.354Z"
      },
      {
        "duration": 93,
        "start_time": "2022-09-13T12:04:14.174Z"
      },
      {
        "duration": 95,
        "start_time": "2022-09-13T12:04:41.058Z"
      },
      {
        "duration": 90,
        "start_time": "2022-09-13T12:04:56.459Z"
      },
      {
        "duration": 3,
        "start_time": "2022-09-13T12:20:40.506Z"
      },
      {
        "duration": 292,
        "start_time": "2022-09-13T12:21:27.863Z"
      },
      {
        "duration": 374,
        "start_time": "2022-09-13T12:21:37.970Z"
      },
      {
        "duration": 314,
        "start_time": "2022-09-13T12:21:55.309Z"
      },
      {
        "duration": 1050,
        "start_time": "2022-09-13T12:24:19.518Z"
      },
      {
        "duration": 4,
        "start_time": "2022-09-13T12:24:46.072Z"
      },
      {
        "duration": 716,
        "start_time": "2022-09-13T12:24:54.994Z"
      },
      {
        "duration": 14,
        "start_time": "2022-09-13T12:24:55.712Z"
      },
      {
        "duration": 71,
        "start_time": "2022-09-13T12:24:55.727Z"
      },
      {
        "duration": 1934,
        "start_time": "2022-09-13T12:24:55.800Z"
      },
      {
        "duration": 13,
        "start_time": "2022-09-13T12:24:57.736Z"
      },
      {
        "duration": 13,
        "start_time": "2022-09-13T12:24:57.751Z"
      },
      {
        "duration": 20,
        "start_time": "2022-09-13T12:24:57.766Z"
      },
      {
        "duration": 8,
        "start_time": "2022-09-13T12:24:57.787Z"
      },
      {
        "duration": 10,
        "start_time": "2022-09-13T12:24:57.797Z"
      },
      {
        "duration": 5,
        "start_time": "2022-09-13T12:24:57.810Z"
      },
      {
        "duration": 225,
        "start_time": "2022-09-13T12:24:57.817Z"
      },
      {
        "duration": 8,
        "start_time": "2022-09-13T12:24:58.043Z"
      },
      {
        "duration": 5,
        "start_time": "2022-09-13T12:24:58.053Z"
      },
      {
        "duration": 9,
        "start_time": "2022-09-13T12:24:58.060Z"
      },
      {
        "duration": 13,
        "start_time": "2022-09-13T12:24:58.071Z"
      },
      {
        "duration": 8,
        "start_time": "2022-09-13T12:24:58.085Z"
      },
      {
        "duration": 7,
        "start_time": "2022-09-13T12:24:58.094Z"
      },
      {
        "duration": 36,
        "start_time": "2022-09-13T12:24:58.103Z"
      },
      {
        "duration": 16,
        "start_time": "2022-09-13T12:24:58.141Z"
      },
      {
        "duration": 122,
        "start_time": "2022-09-13T12:24:58.158Z"
      },
      {
        "duration": 4,
        "start_time": "2022-09-13T12:24:58.282Z"
      },
      {
        "duration": 19,
        "start_time": "2022-09-13T12:24:58.287Z"
      },
      {
        "duration": 4,
        "start_time": "2022-09-13T12:24:58.308Z"
      },
      {
        "duration": 341,
        "start_time": "2022-09-13T12:24:58.314Z"
      },
      {
        "duration": 3,
        "start_time": "2022-09-13T12:24:58.657Z"
      },
      {
        "duration": 798,
        "start_time": "2022-09-13T12:25:28.220Z"
      },
      {
        "duration": 17,
        "start_time": "2022-09-13T12:25:29.020Z"
      },
      {
        "duration": 76,
        "start_time": "2022-09-13T12:25:29.038Z"
      },
      {
        "duration": 1833,
        "start_time": "2022-09-13T12:25:29.117Z"
      },
      {
        "duration": 9,
        "start_time": "2022-09-13T12:25:30.952Z"
      },
      {
        "duration": 17,
        "start_time": "2022-09-13T12:25:30.962Z"
      },
      {
        "duration": 35,
        "start_time": "2022-09-13T12:25:30.980Z"
      },
      {
        "duration": 28,
        "start_time": "2022-09-13T12:25:31.017Z"
      },
      {
        "duration": 30,
        "start_time": "2022-09-13T12:25:31.047Z"
      },
      {
        "duration": 16,
        "start_time": "2022-09-13T12:25:31.080Z"
      },
      {
        "duration": 189,
        "start_time": "2022-09-13T12:25:31.098Z"
      },
      {
        "duration": 6,
        "start_time": "2022-09-13T12:25:31.288Z"
      },
      {
        "duration": 23,
        "start_time": "2022-09-13T12:25:31.296Z"
      },
      {
        "duration": 26,
        "start_time": "2022-09-13T12:25:31.320Z"
      },
      {
        "duration": 31,
        "start_time": "2022-09-13T12:25:31.348Z"
      },
      {
        "duration": 13,
        "start_time": "2022-09-13T12:25:31.381Z"
      },
      {
        "duration": 17,
        "start_time": "2022-09-13T12:25:31.396Z"
      },
      {
        "duration": 39,
        "start_time": "2022-09-13T12:25:31.415Z"
      },
      {
        "duration": 14,
        "start_time": "2022-09-13T12:25:31.456Z"
      },
      {
        "duration": 90,
        "start_time": "2022-09-13T12:25:31.472Z"
      },
      {
        "duration": 3,
        "start_time": "2022-09-13T12:25:31.564Z"
      },
      {
        "duration": 17,
        "start_time": "2022-09-13T12:25:31.569Z"
      },
      {
        "duration": 18,
        "start_time": "2022-09-13T12:25:31.587Z"
      },
      {
        "duration": 303,
        "start_time": "2022-09-13T12:25:31.607Z"
      },
      {
        "duration": 47,
        "start_time": "2022-09-13T12:25:31.912Z"
      },
      {
        "duration": 134,
        "start_time": "2022-09-13T12:33:28.986Z"
      },
      {
        "duration": 133,
        "start_time": "2022-09-13T12:35:48.376Z"
      },
      {
        "duration": 8,
        "start_time": "2022-09-13T12:35:56.563Z"
      },
      {
        "duration": 317,
        "start_time": "2022-09-13T12:39:21.970Z"
      },
      {
        "duration": 293,
        "start_time": "2022-09-13T12:39:42.911Z"
      },
      {
        "duration": 275,
        "start_time": "2022-09-13T12:40:11.554Z"
      },
      {
        "duration": 260,
        "start_time": "2022-09-13T12:40:28.882Z"
      },
      {
        "duration": 284,
        "start_time": "2022-09-13T12:40:37.058Z"
      },
      {
        "duration": 334,
        "start_time": "2022-09-13T12:40:41.082Z"
      },
      {
        "duration": 314,
        "start_time": "2022-09-13T12:41:13.782Z"
      },
      {
        "duration": 256,
        "start_time": "2022-09-13T12:42:14.091Z"
      },
      {
        "duration": 256,
        "start_time": "2022-09-13T12:42:20.943Z"
      },
      {
        "duration": 258,
        "start_time": "2022-09-13T12:47:39.417Z"
      },
      {
        "duration": 274,
        "start_time": "2022-09-13T12:48:02.557Z"
      },
      {
        "duration": 354,
        "start_time": "2022-09-13T12:50:52.551Z"
      },
      {
        "duration": 273,
        "start_time": "2022-09-13T12:51:08.699Z"
      },
      {
        "duration": 15,
        "start_time": "2022-09-13T12:53:44.461Z"
      },
      {
        "duration": 333,
        "start_time": "2022-09-13T12:53:54.612Z"
      },
      {
        "duration": 11,
        "start_time": "2022-09-13T12:54:26.013Z"
      },
      {
        "duration": 357,
        "start_time": "2022-09-13T12:54:30.485Z"
      },
      {
        "duration": 62,
        "start_time": "2022-09-13T12:54:49.216Z"
      },
      {
        "duration": 302,
        "start_time": "2022-09-13T12:55:03.388Z"
      },
      {
        "duration": 358,
        "start_time": "2022-09-13T12:55:24.752Z"
      },
      {
        "duration": 268,
        "start_time": "2022-09-13T13:00:53.566Z"
      },
      {
        "duration": 297,
        "start_time": "2022-09-13T13:01:04.700Z"
      },
      {
        "duration": 268,
        "start_time": "2022-09-13T13:01:18.063Z"
      },
      {
        "duration": 259,
        "start_time": "2022-09-13T13:01:32.749Z"
      },
      {
        "duration": 283,
        "start_time": "2022-09-13T13:01:40.782Z"
      },
      {
        "duration": 7,
        "start_time": "2022-09-13T13:09:57.973Z"
      },
      {
        "duration": 701,
        "start_time": "2022-09-13T13:10:20.573Z"
      },
      {
        "duration": 14,
        "start_time": "2022-09-13T13:10:21.276Z"
      },
      {
        "duration": 82,
        "start_time": "2022-09-13T13:10:21.291Z"
      },
      {
        "duration": 1875,
        "start_time": "2022-09-13T13:10:21.375Z"
      },
      {
        "duration": 9,
        "start_time": "2022-09-13T13:10:23.252Z"
      },
      {
        "duration": 38,
        "start_time": "2022-09-13T13:10:23.263Z"
      },
      {
        "duration": 27,
        "start_time": "2022-09-13T13:10:23.302Z"
      },
      {
        "duration": 48,
        "start_time": "2022-09-13T13:10:23.331Z"
      },
      {
        "duration": 37,
        "start_time": "2022-09-13T13:10:23.381Z"
      },
      {
        "duration": 31,
        "start_time": "2022-09-13T13:10:23.420Z"
      },
      {
        "duration": 219,
        "start_time": "2022-09-13T13:10:23.453Z"
      },
      {
        "duration": 8,
        "start_time": "2022-09-13T13:10:23.673Z"
      },
      {
        "duration": 5,
        "start_time": "2022-09-13T13:10:23.684Z"
      },
      {
        "duration": 7,
        "start_time": "2022-09-13T13:10:23.693Z"
      },
      {
        "duration": 36,
        "start_time": "2022-09-13T13:10:23.702Z"
      },
      {
        "duration": 6,
        "start_time": "2022-09-13T13:10:23.740Z"
      },
      {
        "duration": 21,
        "start_time": "2022-09-13T13:10:23.747Z"
      },
      {
        "duration": 15,
        "start_time": "2022-09-13T13:10:23.771Z"
      },
      {
        "duration": 29,
        "start_time": "2022-09-13T13:10:23.788Z"
      },
      {
        "duration": 103,
        "start_time": "2022-09-13T13:10:23.818Z"
      },
      {
        "duration": 14,
        "start_time": "2022-09-13T13:10:23.923Z"
      },
      {
        "duration": 18,
        "start_time": "2022-09-13T13:10:23.939Z"
      },
      {
        "duration": 6,
        "start_time": "2022-09-13T13:10:23.959Z"
      },
      {
        "duration": 305,
        "start_time": "2022-09-13T13:10:23.967Z"
      },
      {
        "duration": 48,
        "start_time": "2022-09-13T13:10:24.274Z"
      },
      {
        "duration": 294,
        "start_time": "2022-09-13T13:10:24.324Z"
      },
      {
        "duration": 378,
        "start_time": "2022-09-13T13:10:24.619Z"
      },
      {
        "duration": 341,
        "start_time": "2022-09-13T13:10:24.998Z"
      },
      {
        "duration": 304,
        "start_time": "2022-09-13T13:10:25.341Z"
      },
      {
        "duration": 254,
        "start_time": "2022-09-13T13:10:49.103Z"
      },
      {
        "duration": 276,
        "start_time": "2022-09-13T13:11:05.274Z"
      },
      {
        "duration": 372,
        "start_time": "2022-09-13T13:11:09.653Z"
      },
      {
        "duration": 271,
        "start_time": "2022-09-13T13:11:30.519Z"
      },
      {
        "duration": 254,
        "start_time": "2022-09-13T13:11:43.663Z"
      },
      {
        "duration": 270,
        "start_time": "2022-09-13T13:11:59.853Z"
      },
      {
        "duration": 278,
        "start_time": "2022-09-13T13:12:06.319Z"
      },
      {
        "duration": 271,
        "start_time": "2022-09-13T13:12:13.648Z"
      },
      {
        "duration": 362,
        "start_time": "2022-09-13T13:12:34.205Z"
      },
      {
        "duration": 263,
        "start_time": "2022-09-13T13:12:42.146Z"
      },
      {
        "duration": 301,
        "start_time": "2022-09-13T13:12:48.153Z"
      },
      {
        "duration": 286,
        "start_time": "2022-09-13T13:12:53.279Z"
      },
      {
        "duration": 311,
        "start_time": "2022-09-13T13:12:58.511Z"
      },
      {
        "duration": 352,
        "start_time": "2022-09-13T13:18:25.372Z"
      },
      {
        "duration": 73,
        "start_time": "2022-09-13T13:18:46.710Z"
      },
      {
        "duration": 277,
        "start_time": "2022-09-13T13:18:55.205Z"
      },
      {
        "duration": 1279,
        "start_time": "2022-09-13T13:21:29.213Z"
      },
      {
        "duration": 284,
        "start_time": "2022-09-13T13:21:53.998Z"
      },
      {
        "duration": 302,
        "start_time": "2022-09-13T13:22:03.955Z"
      },
      {
        "duration": 292,
        "start_time": "2022-09-13T13:22:40.571Z"
      },
      {
        "duration": 274,
        "start_time": "2022-09-13T13:23:47.968Z"
      },
      {
        "duration": 380,
        "start_time": "2022-09-13T13:23:55.812Z"
      },
      {
        "duration": 308,
        "start_time": "2022-09-13T13:24:01.600Z"
      },
      {
        "duration": 38,
        "start_time": "2022-09-13T13:25:54.863Z"
      },
      {
        "duration": 8,
        "start_time": "2022-09-13T13:26:43.261Z"
      },
      {
        "duration": 11,
        "start_time": "2022-09-13T13:29:10.555Z"
      },
      {
        "duration": 297,
        "start_time": "2022-09-13T13:30:02.667Z"
      },
      {
        "duration": 264,
        "start_time": "2022-09-13T13:30:13.489Z"
      },
      {
        "duration": 15,
        "start_time": "2022-09-13T13:33:38.162Z"
      },
      {
        "duration": 257,
        "start_time": "2022-09-13T13:34:02.141Z"
      },
      {
        "duration": 10,
        "start_time": "2022-09-13T13:59:52.455Z"
      },
      {
        "duration": 4394,
        "start_time": "2022-09-13T14:00:01.687Z"
      },
      {
        "duration": 303,
        "start_time": "2022-09-13T14:00:36.308Z"
      },
      {
        "duration": 286,
        "start_time": "2022-09-13T14:00:42.895Z"
      },
      {
        "duration": 533,
        "start_time": "2022-09-13T14:00:48.228Z"
      },
      {
        "duration": 9,
        "start_time": "2022-09-13T14:02:19.047Z"
      },
      {
        "duration": 102,
        "start_time": "2022-09-13T14:06:50.243Z"
      },
      {
        "duration": 295,
        "start_time": "2022-09-13T14:08:19.137Z"
      },
      {
        "duration": 292,
        "start_time": "2022-09-13T14:08:36.880Z"
      },
      {
        "duration": 278,
        "start_time": "2022-09-13T14:09:11.679Z"
      },
      {
        "duration": 313,
        "start_time": "2022-09-13T14:10:04.849Z"
      },
      {
        "duration": 373,
        "start_time": "2022-09-13T14:10:10.432Z"
      },
      {
        "duration": 257,
        "start_time": "2022-09-13T14:11:48.899Z"
      },
      {
        "duration": 270,
        "start_time": "2022-09-13T14:16:28.954Z"
      },
      {
        "duration": 349,
        "start_time": "2022-09-13T14:17:37.336Z"
      },
      {
        "duration": 264,
        "start_time": "2022-09-13T14:18:28.835Z"
      },
      {
        "duration": 910,
        "start_time": "2022-09-13T14:19:46.171Z"
      },
      {
        "duration": 765,
        "start_time": "2022-09-13T14:20:15.902Z"
      },
      {
        "duration": 358,
        "start_time": "2022-09-13T14:20:20.781Z"
      },
      {
        "duration": 254,
        "start_time": "2022-09-13T14:21:35.710Z"
      },
      {
        "duration": 779,
        "start_time": "2022-09-13T14:23:03.257Z"
      },
      {
        "duration": 17,
        "start_time": "2022-09-13T14:23:04.038Z"
      },
      {
        "duration": 89,
        "start_time": "2022-09-13T14:23:04.057Z"
      },
      {
        "duration": 1826,
        "start_time": "2022-09-13T14:23:04.148Z"
      },
      {
        "duration": 8,
        "start_time": "2022-09-13T14:23:05.976Z"
      },
      {
        "duration": 5,
        "start_time": "2022-09-13T14:23:05.986Z"
      },
      {
        "duration": 8,
        "start_time": "2022-09-13T14:23:05.993Z"
      },
      {
        "duration": 12,
        "start_time": "2022-09-13T14:23:06.003Z"
      },
      {
        "duration": 8,
        "start_time": "2022-09-13T14:23:06.016Z"
      },
      {
        "duration": 7,
        "start_time": "2022-09-13T14:23:06.027Z"
      },
      {
        "duration": 181,
        "start_time": "2022-09-13T14:23:06.035Z"
      },
      {
        "duration": 7,
        "start_time": "2022-09-13T14:23:06.218Z"
      },
      {
        "duration": 4,
        "start_time": "2022-09-13T14:23:06.237Z"
      },
      {
        "duration": 8,
        "start_time": "2022-09-13T14:23:06.242Z"
      },
      {
        "duration": 10,
        "start_time": "2022-09-13T14:23:06.252Z"
      },
      {
        "duration": 12,
        "start_time": "2022-09-13T14:23:06.263Z"
      },
      {
        "duration": 10,
        "start_time": "2022-09-13T14:23:06.277Z"
      },
      {
        "duration": 8,
        "start_time": "2022-09-13T14:23:06.288Z"
      },
      {
        "duration": 15,
        "start_time": "2022-09-13T14:23:06.298Z"
      },
      {
        "duration": 112,
        "start_time": "2022-09-13T14:23:06.314Z"
      },
      {
        "duration": 12,
        "start_time": "2022-09-13T14:23:06.427Z"
      },
      {
        "duration": 14,
        "start_time": "2022-09-13T14:23:06.440Z"
      },
      {
        "duration": 3,
        "start_time": "2022-09-13T14:23:06.456Z"
      },
      {
        "duration": 324,
        "start_time": "2022-09-13T14:23:06.460Z"
      },
      {
        "duration": 40,
        "start_time": "2022-09-13T14:23:06.786Z"
      },
      {
        "duration": 269,
        "start_time": "2022-09-13T14:23:06.836Z"
      },
      {
        "duration": 447,
        "start_time": "2022-09-13T14:23:07.107Z"
      },
      {
        "duration": 332,
        "start_time": "2022-09-13T14:23:07.557Z"
      },
      {
        "duration": 300,
        "start_time": "2022-09-13T14:23:07.891Z"
      },
      {
        "duration": 303,
        "start_time": "2022-09-13T14:23:08.192Z"
      },
      {
        "duration": 315,
        "start_time": "2022-09-13T14:23:08.496Z"
      },
      {
        "duration": 9,
        "start_time": "2022-09-13T14:23:08.812Z"
      },
      {
        "duration": 21,
        "start_time": "2022-09-13T14:23:08.823Z"
      },
      {
        "duration": 376,
        "start_time": "2022-09-13T14:23:08.845Z"
      },
      {
        "duration": 296,
        "start_time": "2022-09-13T14:23:09.223Z"
      },
      {
        "duration": 123,
        "start_time": "2022-09-13T14:23:09.521Z"
      },
      {
        "duration": 293,
        "start_time": "2022-09-13T14:23:09.646Z"
      },
      {
        "duration": 276,
        "start_time": "2022-09-13T14:23:09.940Z"
      },
      {
        "duration": 268,
        "start_time": "2022-09-13T14:23:10.217Z"
      },
      {
        "duration": 362,
        "start_time": "2022-09-13T14:23:10.487Z"
      },
      {
        "duration": 280,
        "start_time": "2022-09-13T14:23:10.851Z"
      },
      {
        "duration": 265,
        "start_time": "2022-09-13T14:23:11.137Z"
      },
      {
        "duration": 310,
        "start_time": "2022-09-13T14:23:11.404Z"
      },
      {
        "duration": 281,
        "start_time": "2022-09-13T14:23:11.716Z"
      },
      {
        "duration": 57,
        "start_time": "2022-09-14T15:28:02.833Z"
      },
      {
        "duration": 985,
        "start_time": "2022-09-14T15:28:08.307Z"
      },
      {
        "duration": 17,
        "start_time": "2022-09-14T15:28:09.294Z"
      },
      {
        "duration": 85,
        "start_time": "2022-09-14T15:28:09.312Z"
      },
      {
        "duration": 2002,
        "start_time": "2022-09-14T15:28:09.399Z"
      },
      {
        "duration": 9,
        "start_time": "2022-09-14T15:28:11.403Z"
      },
      {
        "duration": 18,
        "start_time": "2022-09-14T15:28:11.414Z"
      },
      {
        "duration": 23,
        "start_time": "2022-09-14T15:28:11.434Z"
      },
      {
        "duration": 20,
        "start_time": "2022-09-14T15:28:11.458Z"
      },
      {
        "duration": 25,
        "start_time": "2022-09-14T15:28:11.479Z"
      },
      {
        "duration": 20,
        "start_time": "2022-09-14T15:28:11.506Z"
      },
      {
        "duration": 212,
        "start_time": "2022-09-14T15:28:11.528Z"
      },
      {
        "duration": 7,
        "start_time": "2022-09-14T15:28:11.741Z"
      },
      {
        "duration": 8,
        "start_time": "2022-09-14T15:28:11.750Z"
      },
      {
        "duration": 21,
        "start_time": "2022-09-14T15:28:11.761Z"
      },
      {
        "duration": 30,
        "start_time": "2022-09-14T15:28:11.785Z"
      },
      {
        "duration": 24,
        "start_time": "2022-09-14T15:28:11.817Z"
      },
      {
        "duration": 21,
        "start_time": "2022-09-14T15:28:11.843Z"
      },
      {
        "duration": 23,
        "start_time": "2022-09-14T15:28:11.866Z"
      },
      {
        "duration": 39,
        "start_time": "2022-09-14T15:28:11.892Z"
      },
      {
        "duration": 126,
        "start_time": "2022-09-14T15:28:11.933Z"
      },
      {
        "duration": 4,
        "start_time": "2022-09-14T15:28:12.061Z"
      },
      {
        "duration": 23,
        "start_time": "2022-09-14T15:28:12.067Z"
      },
      {
        "duration": 8,
        "start_time": "2022-09-14T15:28:12.092Z"
      },
      {
        "duration": 323,
        "start_time": "2022-09-14T15:28:12.102Z"
      },
      {
        "duration": 42,
        "start_time": "2022-09-14T15:28:12.427Z"
      },
      {
        "duration": 298,
        "start_time": "2022-09-14T15:28:12.471Z"
      },
      {
        "duration": 387,
        "start_time": "2022-09-14T15:28:12.772Z"
      },
      {
        "duration": 311,
        "start_time": "2022-09-14T15:28:13.161Z"
      },
      {
        "duration": 301,
        "start_time": "2022-09-14T15:28:13.474Z"
      },
      {
        "duration": 311,
        "start_time": "2022-09-14T15:28:13.778Z"
      },
      {
        "duration": 309,
        "start_time": "2022-09-14T15:28:14.090Z"
      },
      {
        "duration": 10,
        "start_time": "2022-09-14T15:28:14.401Z"
      },
      {
        "duration": 13,
        "start_time": "2022-09-14T15:28:14.412Z"
      },
      {
        "duration": 395,
        "start_time": "2022-09-14T15:28:14.427Z"
      },
      {
        "duration": 312,
        "start_time": "2022-09-14T15:28:14.824Z"
      },
      {
        "duration": 136,
        "start_time": "2022-09-14T15:28:15.139Z"
      },
      {
        "duration": 323,
        "start_time": "2022-09-14T15:28:15.277Z"
      },
      {
        "duration": 293,
        "start_time": "2022-09-14T15:28:15.602Z"
      },
      {
        "duration": 290,
        "start_time": "2022-09-14T15:28:15.897Z"
      },
      {
        "duration": 396,
        "start_time": "2022-09-14T15:28:16.189Z"
      },
      {
        "duration": 298,
        "start_time": "2022-09-14T15:28:16.589Z"
      },
      {
        "duration": 280,
        "start_time": "2022-09-14T15:28:16.889Z"
      },
      {
        "duration": 281,
        "start_time": "2022-09-14T15:28:17.170Z"
      },
      {
        "duration": 296,
        "start_time": "2022-09-14T15:28:17.453Z"
      },
      {
        "duration": 291,
        "start_time": "2022-09-14T15:28:17.751Z"
      },
      {
        "duration": 2246,
        "start_time": "2022-09-14T15:37:32.163Z"
      },
      {
        "duration": 260,
        "start_time": "2022-09-14T15:38:00.667Z"
      },
      {
        "duration": 8,
        "start_time": "2022-09-14T15:40:10.766Z"
      },
      {
        "duration": 169,
        "start_time": "2022-09-14T15:42:48.282Z"
      },
      {
        "duration": 127,
        "start_time": "2022-09-14T15:44:14.204Z"
      },
      {
        "duration": 185,
        "start_time": "2022-09-14T15:45:03.665Z"
      },
      {
        "duration": 133,
        "start_time": "2022-09-14T15:47:14.046Z"
      },
      {
        "duration": 188,
        "start_time": "2022-09-14T15:48:01.919Z"
      },
      {
        "duration": 14,
        "start_time": "2022-09-14T15:51:42.615Z"
      },
      {
        "duration": 135,
        "start_time": "2022-09-14T15:52:15.413Z"
      },
      {
        "duration": 131,
        "start_time": "2022-09-14T15:54:08.063Z"
      },
      {
        "duration": 126,
        "start_time": "2022-09-14T15:54:13.847Z"
      },
      {
        "duration": 146,
        "start_time": "2022-09-14T15:54:22.208Z"
      },
      {
        "duration": 140,
        "start_time": "2022-09-14T15:54:29.636Z"
      },
      {
        "duration": 225,
        "start_time": "2022-09-14T15:54:39.154Z"
      },
      {
        "duration": 27,
        "start_time": "2022-09-14T15:59:39.903Z"
      },
      {
        "duration": 28,
        "start_time": "2022-09-14T15:59:53.067Z"
      },
      {
        "duration": 75,
        "start_time": "2022-09-14T16:01:14.554Z"
      },
      {
        "duration": 20,
        "start_time": "2022-09-14T16:02:08.747Z"
      },
      {
        "duration": 26,
        "start_time": "2022-09-14T16:02:47.866Z"
      },
      {
        "duration": 27,
        "start_time": "2022-09-14T16:02:55.911Z"
      },
      {
        "duration": 25,
        "start_time": "2022-09-14T16:03:43.760Z"
      },
      {
        "duration": 24,
        "start_time": "2022-09-14T16:03:55.738Z"
      },
      {
        "duration": 4,
        "start_time": "2022-09-14T16:05:16.883Z"
      },
      {
        "duration": 11,
        "start_time": "2022-09-14T16:05:23.991Z"
      },
      {
        "duration": 15,
        "start_time": "2022-09-14T16:15:44.288Z"
      },
      {
        "duration": 24,
        "start_time": "2022-09-14T16:16:29.596Z"
      },
      {
        "duration": 17,
        "start_time": "2022-09-14T16:16:48.511Z"
      },
      {
        "duration": 15,
        "start_time": "2022-09-14T16:17:15.248Z"
      },
      {
        "duration": 802,
        "start_time": "2022-09-14T16:18:22.268Z"
      },
      {
        "duration": 21,
        "start_time": "2022-09-14T16:18:23.072Z"
      },
      {
        "duration": 68,
        "start_time": "2022-09-14T16:18:23.095Z"
      },
      {
        "duration": 1916,
        "start_time": "2022-09-14T16:18:23.165Z"
      },
      {
        "duration": 10,
        "start_time": "2022-09-14T16:18:25.083Z"
      },
      {
        "duration": 11,
        "start_time": "2022-09-14T16:18:25.095Z"
      },
      {
        "duration": 24,
        "start_time": "2022-09-14T16:18:25.107Z"
      },
      {
        "duration": 8,
        "start_time": "2022-09-14T16:18:25.133Z"
      },
      {
        "duration": 19,
        "start_time": "2022-09-14T16:18:25.143Z"
      },
      {
        "duration": 15,
        "start_time": "2022-09-14T16:18:25.165Z"
      },
      {
        "duration": 237,
        "start_time": "2022-09-14T16:18:25.182Z"
      },
      {
        "duration": 8,
        "start_time": "2022-09-14T16:18:25.420Z"
      },
      {
        "duration": 10,
        "start_time": "2022-09-14T16:18:25.429Z"
      },
      {
        "duration": 8,
        "start_time": "2022-09-14T16:18:25.441Z"
      },
      {
        "duration": 14,
        "start_time": "2022-09-14T16:18:25.450Z"
      },
      {
        "duration": 26,
        "start_time": "2022-09-14T16:18:25.466Z"
      },
      {
        "duration": 13,
        "start_time": "2022-09-14T16:18:25.493Z"
      },
      {
        "duration": 23,
        "start_time": "2022-09-14T16:18:25.508Z"
      },
      {
        "duration": 20,
        "start_time": "2022-09-14T16:18:25.532Z"
      },
      {
        "duration": 106,
        "start_time": "2022-09-14T16:18:25.553Z"
      },
      {
        "duration": 4,
        "start_time": "2022-09-14T16:18:25.661Z"
      },
      {
        "duration": 23,
        "start_time": "2022-09-14T16:18:25.666Z"
      },
      {
        "duration": 14,
        "start_time": "2022-09-14T16:18:25.690Z"
      },
      {
        "duration": 321,
        "start_time": "2022-09-14T16:18:25.706Z"
      },
      {
        "duration": 42,
        "start_time": "2022-09-14T16:18:26.028Z"
      },
      {
        "duration": 329,
        "start_time": "2022-09-14T16:18:26.072Z"
      },
      {
        "duration": 389,
        "start_time": "2022-09-14T16:18:26.402Z"
      },
      {
        "duration": 319,
        "start_time": "2022-09-14T16:18:26.794Z"
      },
      {
        "duration": 314,
        "start_time": "2022-09-14T16:18:27.115Z"
      },
      {
        "duration": 317,
        "start_time": "2022-09-14T16:18:27.431Z"
      },
      {
        "duration": 314,
        "start_time": "2022-09-14T16:18:27.750Z"
      },
      {
        "duration": 8,
        "start_time": "2022-09-14T16:18:28.066Z"
      },
      {
        "duration": 20,
        "start_time": "2022-09-14T16:18:28.077Z"
      },
      {
        "duration": 390,
        "start_time": "2022-09-14T16:18:28.099Z"
      },
      {
        "duration": 293,
        "start_time": "2022-09-14T16:18:28.490Z"
      },
      {
        "duration": 121,
        "start_time": "2022-09-14T16:18:28.788Z"
      },
      {
        "duration": 325,
        "start_time": "2022-09-14T16:18:28.911Z"
      },
      {
        "duration": 295,
        "start_time": "2022-09-14T16:18:29.238Z"
      },
      {
        "duration": 276,
        "start_time": "2022-09-14T16:18:29.534Z"
      },
      {
        "duration": 384,
        "start_time": "2022-09-14T16:18:29.812Z"
      },
      {
        "duration": 348,
        "start_time": "2022-09-14T16:18:30.197Z"
      },
      {
        "duration": 345,
        "start_time": "2022-09-14T16:18:30.546Z"
      },
      {
        "duration": 285,
        "start_time": "2022-09-14T16:18:30.892Z"
      },
      {
        "duration": 315,
        "start_time": "2022-09-14T16:18:31.179Z"
      },
      {
        "duration": 286,
        "start_time": "2022-09-14T16:18:31.496Z"
      },
      {
        "duration": 297,
        "start_time": "2022-09-14T16:18:31.788Z"
      },
      {
        "duration": 168,
        "start_time": "2022-09-14T16:18:32.089Z"
      },
      {
        "duration": 145,
        "start_time": "2022-09-14T16:18:32.258Z"
      },
      {
        "duration": 160,
        "start_time": "2022-09-14T16:18:32.405Z"
      },
      {
        "duration": 147,
        "start_time": "2022-09-14T16:18:32.567Z"
      },
      {
        "duration": 138,
        "start_time": "2022-09-14T16:18:32.716Z"
      },
      {
        "duration": 157,
        "start_time": "2022-09-14T16:18:32.856Z"
      },
      {
        "duration": 163,
        "start_time": "2022-09-14T16:18:33.014Z"
      },
      {
        "duration": 26,
        "start_time": "2022-09-14T16:18:33.178Z"
      },
      {
        "duration": 10,
        "start_time": "2022-09-14T16:18:33.205Z"
      },
      {
        "duration": 26,
        "start_time": "2022-09-14T16:18:33.216Z"
      },
      {
        "duration": 23,
        "start_time": "2022-09-14T16:20:48.418Z"
      },
      {
        "duration": 82,
        "start_time": "2022-09-14T16:21:51.229Z"
      },
      {
        "duration": 193,
        "start_time": "2022-09-14T16:21:58.913Z"
      },
      {
        "duration": 162,
        "start_time": "2022-09-14T16:22:14.274Z"
      },
      {
        "duration": 157,
        "start_time": "2022-09-14T16:23:22.535Z"
      },
      {
        "duration": 216,
        "start_time": "2022-09-14T16:23:30.746Z"
      },
      {
        "duration": 194,
        "start_time": "2022-09-14T16:23:41.424Z"
      },
      {
        "duration": 147,
        "start_time": "2022-09-14T16:23:45.713Z"
      },
      {
        "duration": 7,
        "start_time": "2022-09-14T16:27:17.012Z"
      },
      {
        "duration": 16,
        "start_time": "2022-09-14T16:27:21.269Z"
      },
      {
        "duration": 804,
        "start_time": "2022-09-14T16:30:56.967Z"
      },
      {
        "duration": 20,
        "start_time": "2022-09-14T16:30:57.774Z"
      },
      {
        "duration": 76,
        "start_time": "2022-09-14T16:30:57.796Z"
      },
      {
        "duration": 2007,
        "start_time": "2022-09-14T16:30:57.874Z"
      },
      {
        "duration": 10,
        "start_time": "2022-09-14T16:30:59.883Z"
      },
      {
        "duration": 11,
        "start_time": "2022-09-14T16:30:59.894Z"
      },
      {
        "duration": 7,
        "start_time": "2022-09-14T16:30:59.906Z"
      },
      {
        "duration": 7,
        "start_time": "2022-09-14T16:30:59.915Z"
      },
      {
        "duration": 8,
        "start_time": "2022-09-14T16:30:59.923Z"
      },
      {
        "duration": 4,
        "start_time": "2022-09-14T16:30:59.934Z"
      },
      {
        "duration": 221,
        "start_time": "2022-09-14T16:30:59.940Z"
      },
      {
        "duration": 8,
        "start_time": "2022-09-14T16:31:00.163Z"
      },
      {
        "duration": 17,
        "start_time": "2022-09-14T16:31:00.173Z"
      },
      {
        "duration": 10,
        "start_time": "2022-09-14T16:31:00.192Z"
      },
      {
        "duration": 11,
        "start_time": "2022-09-14T16:31:00.204Z"
      },
      {
        "duration": 15,
        "start_time": "2022-09-14T16:31:00.217Z"
      },
      {
        "duration": 16,
        "start_time": "2022-09-14T16:31:00.234Z"
      },
      {
        "duration": 22,
        "start_time": "2022-09-14T16:31:00.253Z"
      },
      {
        "duration": 42,
        "start_time": "2022-09-14T16:31:00.277Z"
      },
      {
        "duration": 141,
        "start_time": "2022-09-14T16:31:00.321Z"
      },
      {
        "duration": 4,
        "start_time": "2022-09-14T16:31:00.464Z"
      },
      {
        "duration": 29,
        "start_time": "2022-09-14T16:31:00.470Z"
      },
      {
        "duration": 18,
        "start_time": "2022-09-14T16:31:00.500Z"
      },
      {
        "duration": 352,
        "start_time": "2022-09-14T16:31:00.520Z"
      },
      {
        "duration": 41,
        "start_time": "2022-09-14T16:31:00.874Z"
      },
      {
        "duration": 312,
        "start_time": "2022-09-14T16:31:00.917Z"
      },
      {
        "duration": 414,
        "start_time": "2022-09-14T16:31:01.231Z"
      },
      {
        "duration": 419,
        "start_time": "2022-09-14T16:31:01.649Z"
      },
      {
        "duration": 356,
        "start_time": "2022-09-14T16:31:02.070Z"
      },
      {
        "duration": 338,
        "start_time": "2022-09-14T16:31:02.428Z"
      },
      {
        "duration": 341,
        "start_time": "2022-09-14T16:31:02.768Z"
      },
      {
        "duration": 11,
        "start_time": "2022-09-14T16:31:03.111Z"
      },
      {
        "duration": 18,
        "start_time": "2022-09-14T16:31:03.123Z"
      },
      {
        "duration": 406,
        "start_time": "2022-09-14T16:31:03.143Z"
      },
      {
        "duration": 323,
        "start_time": "2022-09-14T16:31:03.551Z"
      },
      {
        "duration": 144,
        "start_time": "2022-09-14T16:31:03.877Z"
      },
      {
        "duration": 315,
        "start_time": "2022-09-14T16:31:04.023Z"
      },
      {
        "duration": 291,
        "start_time": "2022-09-14T16:31:04.339Z"
      },
      {
        "duration": 291,
        "start_time": "2022-09-14T16:31:04.632Z"
      },
      {
        "duration": 438,
        "start_time": "2022-09-14T16:31:04.925Z"
      },
      {
        "duration": 348,
        "start_time": "2022-09-14T16:31:05.365Z"
      },
      {
        "duration": 303,
        "start_time": "2022-09-14T16:31:05.715Z"
      },
      {
        "duration": 289,
        "start_time": "2022-09-14T16:31:06.020Z"
      },
      {
        "duration": 287,
        "start_time": "2022-09-14T16:31:06.310Z"
      },
      {
        "duration": 304,
        "start_time": "2022-09-14T16:31:06.598Z"
      },
      {
        "duration": 243,
        "start_time": "2022-09-14T16:31:06.904Z"
      },
      {
        "duration": 176,
        "start_time": "2022-09-14T16:31:07.148Z"
      },
      {
        "duration": 146,
        "start_time": "2022-09-14T16:31:07.325Z"
      },
      {
        "duration": 163,
        "start_time": "2022-09-14T16:31:07.473Z"
      },
      {
        "duration": 156,
        "start_time": "2022-09-14T16:31:07.637Z"
      },
      {
        "duration": 146,
        "start_time": "2022-09-14T16:31:07.794Z"
      },
      {
        "duration": 153,
        "start_time": "2022-09-14T16:31:07.942Z"
      },
      {
        "duration": 170,
        "start_time": "2022-09-14T16:31:08.096Z"
      },
      {
        "duration": 39,
        "start_time": "2022-09-14T16:31:08.269Z"
      },
      {
        "duration": 11,
        "start_time": "2022-09-14T16:31:08.310Z"
      },
      {
        "duration": 174,
        "start_time": "2022-09-14T16:31:08.322Z"
      },
      {
        "duration": 1119,
        "start_time": "2022-09-14T19:51:11.612Z"
      },
      {
        "duration": 15,
        "start_time": "2022-09-14T19:51:12.733Z"
      },
      {
        "duration": 69,
        "start_time": "2022-09-14T19:51:12.749Z"
      },
      {
        "duration": 1859,
        "start_time": "2022-09-14T19:51:12.819Z"
      },
      {
        "duration": 9,
        "start_time": "2022-09-14T19:51:14.680Z"
      },
      {
        "duration": 6,
        "start_time": "2022-09-14T19:51:14.691Z"
      },
      {
        "duration": 9,
        "start_time": "2022-09-14T19:51:14.698Z"
      },
      {
        "duration": 8,
        "start_time": "2022-09-14T19:51:14.709Z"
      },
      {
        "duration": 7,
        "start_time": "2022-09-14T19:51:14.718Z"
      },
      {
        "duration": 5,
        "start_time": "2022-09-14T19:51:14.726Z"
      },
      {
        "duration": 188,
        "start_time": "2022-09-14T19:51:14.733Z"
      },
      {
        "duration": 8,
        "start_time": "2022-09-14T19:51:14.922Z"
      },
      {
        "duration": 17,
        "start_time": "2022-09-14T19:51:14.931Z"
      },
      {
        "duration": 9,
        "start_time": "2022-09-14T19:51:14.951Z"
      },
      {
        "duration": 18,
        "start_time": "2022-09-14T19:51:14.962Z"
      },
      {
        "duration": 20,
        "start_time": "2022-09-14T19:51:14.981Z"
      },
      {
        "duration": 31,
        "start_time": "2022-09-14T19:51:15.002Z"
      },
      {
        "duration": 19,
        "start_time": "2022-09-14T19:51:15.035Z"
      },
      {
        "duration": 21,
        "start_time": "2022-09-14T19:51:15.056Z"
      },
      {
        "duration": 103,
        "start_time": "2022-09-14T19:51:15.078Z"
      },
      {
        "duration": 4,
        "start_time": "2022-09-14T19:51:15.182Z"
      },
      {
        "duration": 23,
        "start_time": "2022-09-14T19:51:15.188Z"
      },
      {
        "duration": 10,
        "start_time": "2022-09-14T19:51:15.213Z"
      },
      {
        "duration": 317,
        "start_time": "2022-09-14T19:51:15.224Z"
      },
      {
        "duration": 43,
        "start_time": "2022-09-14T19:51:15.542Z"
      },
      {
        "duration": 294,
        "start_time": "2022-09-14T19:51:15.587Z"
      },
      {
        "duration": 376,
        "start_time": "2022-09-14T19:51:15.882Z"
      },
      {
        "duration": 368,
        "start_time": "2022-09-14T19:51:16.260Z"
      },
      {
        "duration": 293,
        "start_time": "2022-09-14T19:51:16.630Z"
      },
      {
        "duration": 345,
        "start_time": "2022-09-14T19:51:16.924Z"
      },
      {
        "duration": 313,
        "start_time": "2022-09-14T19:51:17.270Z"
      },
      {
        "duration": 9,
        "start_time": "2022-09-14T19:51:17.585Z"
      },
      {
        "duration": 9,
        "start_time": "2022-09-14T19:51:17.596Z"
      },
      {
        "duration": 364,
        "start_time": "2022-09-14T19:51:17.607Z"
      },
      {
        "duration": 299,
        "start_time": "2022-09-14T19:51:17.972Z"
      },
      {
        "duration": 114,
        "start_time": "2022-09-14T19:51:18.272Z"
      },
      {
        "duration": 295,
        "start_time": "2022-09-14T19:51:18.388Z"
      },
      {
        "duration": 306,
        "start_time": "2022-09-14T19:51:18.685Z"
      },
      {
        "duration": 278,
        "start_time": "2022-09-14T19:51:18.993Z"
      },
      {
        "duration": 373,
        "start_time": "2022-09-14T19:51:19.273Z"
      },
      {
        "duration": 283,
        "start_time": "2022-09-14T19:51:19.651Z"
      },
      {
        "duration": 282,
        "start_time": "2022-09-14T19:51:19.936Z"
      },
      {
        "duration": 254,
        "start_time": "2022-09-14T19:51:20.220Z"
      },
      {
        "duration": 253,
        "start_time": "2022-09-14T19:51:20.476Z"
      },
      {
        "duration": 272,
        "start_time": "2022-09-14T19:51:20.731Z"
      },
      {
        "duration": 202,
        "start_time": "2022-09-14T19:51:21.005Z"
      },
      {
        "duration": 153,
        "start_time": "2022-09-14T19:51:21.209Z"
      },
      {
        "duration": 142,
        "start_time": "2022-09-14T19:51:21.364Z"
      },
      {
        "duration": 154,
        "start_time": "2022-09-14T19:51:21.508Z"
      },
      {
        "duration": 144,
        "start_time": "2022-09-14T19:51:21.664Z"
      },
      {
        "duration": 129,
        "start_time": "2022-09-14T19:51:21.809Z"
      },
      {
        "duration": 145,
        "start_time": "2022-09-14T19:51:21.939Z"
      },
      {
        "duration": 144,
        "start_time": "2022-09-14T19:51:22.085Z"
      },
      {
        "duration": 31,
        "start_time": "2022-09-14T19:51:22.230Z"
      },
      {
        "duration": 9,
        "start_time": "2022-09-14T19:51:22.263Z"
      },
      {
        "duration": 155,
        "start_time": "2022-09-14T19:51:22.274Z"
      },
      {
        "duration": 7,
        "start_time": "2022-09-14T19:54:06.952Z"
      },
      {
        "duration": 6,
        "start_time": "2022-09-14T19:54:22.955Z"
      },
      {
        "duration": 14,
        "start_time": "2022-09-14T19:54:40.700Z"
      },
      {
        "duration": 78,
        "start_time": "2022-09-14T19:54:44.079Z"
      },
      {
        "duration": 42,
        "start_time": "2022-09-15T09:45:50.874Z"
      },
      {
        "duration": 1077,
        "start_time": "2022-09-15T09:45:56.920Z"
      },
      {
        "duration": 15,
        "start_time": "2022-09-15T09:45:57.999Z"
      },
      {
        "duration": 69,
        "start_time": "2022-09-15T09:45:58.015Z"
      },
      {
        "duration": 1817,
        "start_time": "2022-09-15T09:45:58.086Z"
      },
      {
        "duration": 8,
        "start_time": "2022-09-15T09:45:59.905Z"
      },
      {
        "duration": 5,
        "start_time": "2022-09-15T09:45:59.915Z"
      },
      {
        "duration": 5,
        "start_time": "2022-09-15T09:45:59.922Z"
      },
      {
        "duration": 5,
        "start_time": "2022-09-15T09:45:59.929Z"
      },
      {
        "duration": 6,
        "start_time": "2022-09-15T09:45:59.935Z"
      },
      {
        "duration": 4,
        "start_time": "2022-09-15T09:45:59.943Z"
      },
      {
        "duration": 216,
        "start_time": "2022-09-15T09:45:59.948Z"
      },
      {
        "duration": 6,
        "start_time": "2022-09-15T09:46:00.166Z"
      },
      {
        "duration": 26,
        "start_time": "2022-09-15T09:46:00.173Z"
      },
      {
        "duration": 28,
        "start_time": "2022-09-15T09:46:00.200Z"
      },
      {
        "duration": 25,
        "start_time": "2022-09-15T09:46:00.230Z"
      },
      {
        "duration": 28,
        "start_time": "2022-09-15T09:46:00.257Z"
      },
      {
        "duration": 46,
        "start_time": "2022-09-15T09:46:00.287Z"
      },
      {
        "duration": 28,
        "start_time": "2022-09-15T09:46:00.334Z"
      },
      {
        "duration": 107,
        "start_time": "2022-09-15T09:46:00.364Z"
      },
      {
        "duration": 0,
        "start_time": "2022-09-15T09:46:00.473Z"
      },
      {
        "duration": 0,
        "start_time": "2022-09-15T09:46:00.474Z"
      },
      {
        "duration": 0,
        "start_time": "2022-09-15T09:46:00.475Z"
      },
      {
        "duration": 0,
        "start_time": "2022-09-15T09:46:00.476Z"
      },
      {
        "duration": 0,
        "start_time": "2022-09-15T09:46:00.477Z"
      },
      {
        "duration": 0,
        "start_time": "2022-09-15T09:46:00.478Z"
      },
      {
        "duration": 0,
        "start_time": "2022-09-15T09:46:00.479Z"
      },
      {
        "duration": 0,
        "start_time": "2022-09-15T09:46:00.481Z"
      },
      {
        "duration": 0,
        "start_time": "2022-09-15T09:46:00.482Z"
      },
      {
        "duration": 0,
        "start_time": "2022-09-15T09:46:00.483Z"
      },
      {
        "duration": 0,
        "start_time": "2022-09-15T09:46:00.500Z"
      },
      {
        "duration": 0,
        "start_time": "2022-09-15T09:46:00.501Z"
      },
      {
        "duration": 0,
        "start_time": "2022-09-15T09:46:00.502Z"
      },
      {
        "duration": 0,
        "start_time": "2022-09-15T09:46:00.503Z"
      },
      {
        "duration": 0,
        "start_time": "2022-09-15T09:46:00.504Z"
      },
      {
        "duration": 0,
        "start_time": "2022-09-15T09:46:00.505Z"
      },
      {
        "duration": 0,
        "start_time": "2022-09-15T09:46:00.506Z"
      },
      {
        "duration": 0,
        "start_time": "2022-09-15T09:46:00.507Z"
      },
      {
        "duration": 0,
        "start_time": "2022-09-15T09:46:00.508Z"
      },
      {
        "duration": 0,
        "start_time": "2022-09-15T09:46:00.509Z"
      },
      {
        "duration": 0,
        "start_time": "2022-09-15T09:46:00.510Z"
      },
      {
        "duration": 0,
        "start_time": "2022-09-15T09:46:00.511Z"
      },
      {
        "duration": 0,
        "start_time": "2022-09-15T09:46:00.512Z"
      },
      {
        "duration": 0,
        "start_time": "2022-09-15T09:46:00.514Z"
      },
      {
        "duration": 0,
        "start_time": "2022-09-15T09:46:00.515Z"
      },
      {
        "duration": 0,
        "start_time": "2022-09-15T09:46:00.516Z"
      },
      {
        "duration": 0,
        "start_time": "2022-09-15T09:46:00.517Z"
      },
      {
        "duration": 0,
        "start_time": "2022-09-15T09:46:00.518Z"
      },
      {
        "duration": 1,
        "start_time": "2022-09-15T09:46:00.518Z"
      },
      {
        "duration": 0,
        "start_time": "2022-09-15T09:46:00.519Z"
      },
      {
        "duration": 0,
        "start_time": "2022-09-15T09:46:00.520Z"
      },
      {
        "duration": 0,
        "start_time": "2022-09-15T09:46:00.522Z"
      },
      {
        "duration": 0,
        "start_time": "2022-09-15T09:46:00.523Z"
      },
      {
        "duration": 0,
        "start_time": "2022-09-15T09:46:00.524Z"
      },
      {
        "duration": 0,
        "start_time": "2022-09-15T09:46:00.525Z"
      },
      {
        "duration": 0,
        "start_time": "2022-09-15T09:46:00.526Z"
      },
      {
        "duration": 0,
        "start_time": "2022-09-15T09:46:00.527Z"
      },
      {
        "duration": 0,
        "start_time": "2022-09-15T09:46:00.528Z"
      },
      {
        "duration": 13,
        "start_time": "2022-09-15T09:48:25.926Z"
      },
      {
        "duration": 266,
        "start_time": "2022-09-15T09:49:56.141Z"
      },
      {
        "duration": 754,
        "start_time": "2022-09-15T09:50:01.600Z"
      },
      {
        "duration": 14,
        "start_time": "2022-09-15T09:50:02.355Z"
      },
      {
        "duration": 107,
        "start_time": "2022-09-15T09:50:02.370Z"
      },
      {
        "duration": 1748,
        "start_time": "2022-09-15T09:50:02.479Z"
      },
      {
        "duration": 10,
        "start_time": "2022-09-15T09:50:04.229Z"
      },
      {
        "duration": 7,
        "start_time": "2022-09-15T09:50:04.240Z"
      },
      {
        "duration": 5,
        "start_time": "2022-09-15T09:50:04.249Z"
      },
      {
        "duration": 4,
        "start_time": "2022-09-15T09:50:04.255Z"
      },
      {
        "duration": 5,
        "start_time": "2022-09-15T09:50:04.261Z"
      },
      {
        "duration": 4,
        "start_time": "2022-09-15T09:50:04.268Z"
      },
      {
        "duration": 195,
        "start_time": "2022-09-15T09:50:04.274Z"
      },
      {
        "duration": 8,
        "start_time": "2022-09-15T09:50:04.472Z"
      },
      {
        "duration": 21,
        "start_time": "2022-09-15T09:50:04.482Z"
      },
      {
        "duration": 7,
        "start_time": "2022-09-15T09:50:04.505Z"
      },
      {
        "duration": 13,
        "start_time": "2022-09-15T09:50:04.513Z"
      },
      {
        "duration": 10,
        "start_time": "2022-09-15T09:50:04.528Z"
      },
      {
        "duration": 12,
        "start_time": "2022-09-15T09:50:04.539Z"
      },
      {
        "duration": 11,
        "start_time": "2022-09-15T09:50:04.553Z"
      },
      {
        "duration": 22,
        "start_time": "2022-09-15T09:50:04.565Z"
      },
      {
        "duration": 96,
        "start_time": "2022-09-15T09:50:04.588Z"
      },
      {
        "duration": 271,
        "start_time": "2022-09-15T09:50:04.685Z"
      },
      {
        "duration": 3,
        "start_time": "2022-09-15T09:50:04.958Z"
      },
      {
        "duration": 14,
        "start_time": "2022-09-15T09:50:04.963Z"
      },
      {
        "duration": 9,
        "start_time": "2022-09-15T09:50:04.978Z"
      },
      {
        "duration": 294,
        "start_time": "2022-09-15T09:50:04.988Z"
      },
      {
        "duration": 45,
        "start_time": "2022-09-15T09:50:05.283Z"
      },
      {
        "duration": 334,
        "start_time": "2022-09-15T09:50:05.330Z"
      },
      {
        "duration": 267,
        "start_time": "2022-09-15T09:50:05.668Z"
      },
      {
        "duration": 295,
        "start_time": "2022-09-15T09:50:05.937Z"
      },
      {
        "duration": 275,
        "start_time": "2022-09-15T09:50:06.233Z"
      },
      {
        "duration": 290,
        "start_time": "2022-09-15T09:50:06.509Z"
      },
      {
        "duration": 368,
        "start_time": "2022-09-15T09:50:06.800Z"
      },
      {
        "duration": 9,
        "start_time": "2022-09-15T09:50:07.170Z"
      },
      {
        "duration": 20,
        "start_time": "2022-09-15T09:50:07.181Z"
      },
      {
        "duration": 271,
        "start_time": "2022-09-15T09:50:07.203Z"
      },
      {
        "duration": 264,
        "start_time": "2022-09-15T09:50:07.475Z"
      },
      {
        "duration": 107,
        "start_time": "2022-09-15T09:50:07.740Z"
      },
      {
        "duration": 283,
        "start_time": "2022-09-15T09:50:07.849Z"
      },
      {
        "duration": 260,
        "start_time": "2022-09-15T09:50:08.134Z"
      },
      {
        "duration": 325,
        "start_time": "2022-09-15T09:50:08.395Z"
      },
      {
        "duration": 259,
        "start_time": "2022-09-15T09:50:08.722Z"
      },
      {
        "duration": 261,
        "start_time": "2022-09-15T09:50:08.982Z"
      },
      {
        "duration": 248,
        "start_time": "2022-09-15T09:50:09.244Z"
      },
      {
        "duration": 244,
        "start_time": "2022-09-15T09:50:09.494Z"
      },
      {
        "duration": 249,
        "start_time": "2022-09-15T09:50:09.739Z"
      },
      {
        "duration": 338,
        "start_time": "2022-09-15T09:50:09.990Z"
      },
      {
        "duration": 128,
        "start_time": "2022-09-15T09:50:10.329Z"
      },
      {
        "duration": 147,
        "start_time": "2022-09-15T09:50:10.458Z"
      },
      {
        "duration": 127,
        "start_time": "2022-09-15T09:50:10.606Z"
      },
      {
        "duration": 166,
        "start_time": "2022-09-15T09:50:10.735Z"
      },
      {
        "duration": 150,
        "start_time": "2022-09-15T09:50:10.903Z"
      },
      {
        "duration": 127,
        "start_time": "2022-09-15T09:50:11.055Z"
      },
      {
        "duration": 132,
        "start_time": "2022-09-15T09:50:11.184Z"
      },
      {
        "duration": 145,
        "start_time": "2022-09-15T09:50:11.318Z"
      },
      {
        "duration": 41,
        "start_time": "2022-09-15T09:50:11.465Z"
      },
      {
        "duration": 12,
        "start_time": "2022-09-15T09:50:11.508Z"
      },
      {
        "duration": 171,
        "start_time": "2022-09-15T09:50:11.521Z"
      },
      {
        "duration": 314,
        "start_time": "2022-09-15T09:52:15.492Z"
      },
      {
        "duration": 114,
        "start_time": "2022-09-15T09:55:28.246Z"
      },
      {
        "duration": 281,
        "start_time": "2022-09-15T09:55:34.667Z"
      },
      {
        "duration": 2272,
        "start_time": "2022-09-15T09:57:07.719Z"
      },
      {
        "duration": 304,
        "start_time": "2022-09-15T09:57:30.209Z"
      },
      {
        "duration": 281,
        "start_time": "2022-09-15T09:57:35.424Z"
      },
      {
        "duration": 251,
        "start_time": "2022-09-15T10:02:47.023Z"
      },
      {
        "duration": 317,
        "start_time": "2022-09-15T10:03:20.068Z"
      },
      {
        "duration": 321,
        "start_time": "2022-09-15T10:03:33.928Z"
      },
      {
        "duration": 249,
        "start_time": "2022-09-15T10:04:29.636Z"
      },
      {
        "duration": 244,
        "start_time": "2022-09-15T10:05:50.460Z"
      },
      {
        "duration": 268,
        "start_time": "2022-09-15T10:06:36.772Z"
      },
      {
        "duration": 261,
        "start_time": "2022-09-15T10:06:43.042Z"
      },
      {
        "duration": 373,
        "start_time": "2022-09-15T10:10:42.759Z"
      },
      {
        "duration": 34,
        "start_time": "2022-09-15T10:11:41.089Z"
      },
      {
        "duration": 8,
        "start_time": "2022-09-15T10:11:53.963Z"
      },
      {
        "duration": 292,
        "start_time": "2022-09-15T10:11:55.489Z"
      },
      {
        "duration": 248,
        "start_time": "2022-09-15T10:12:29.571Z"
      },
      {
        "duration": 275,
        "start_time": "2022-09-15T10:12:34.512Z"
      },
      {
        "duration": 8,
        "start_time": "2022-09-15T10:16:16.854Z"
      },
      {
        "duration": 265,
        "start_time": "2022-09-15T10:16:39.066Z"
      },
      {
        "duration": 8,
        "start_time": "2022-09-15T10:18:32.831Z"
      },
      {
        "duration": 392,
        "start_time": "2022-09-15T10:19:43.959Z"
      },
      {
        "duration": 26,
        "start_time": "2022-09-15T10:20:19.095Z"
      },
      {
        "duration": 28,
        "start_time": "2022-09-15T10:21:12.576Z"
      },
      {
        "duration": 7,
        "start_time": "2022-09-15T10:22:00.237Z"
      },
      {
        "duration": 684,
        "start_time": "2022-09-15T10:27:56.448Z"
      },
      {
        "duration": 13,
        "start_time": "2022-09-15T10:27:57.134Z"
      },
      {
        "duration": 79,
        "start_time": "2022-09-15T10:27:57.149Z"
      },
      {
        "duration": 1749,
        "start_time": "2022-09-15T10:27:57.230Z"
      },
      {
        "duration": 8,
        "start_time": "2022-09-15T10:27:58.980Z"
      },
      {
        "duration": 7,
        "start_time": "2022-09-15T10:27:58.990Z"
      },
      {
        "duration": 12,
        "start_time": "2022-09-15T10:27:58.999Z"
      },
      {
        "duration": 20,
        "start_time": "2022-09-15T10:27:59.012Z"
      },
      {
        "duration": 8,
        "start_time": "2022-09-15T10:27:59.033Z"
      },
      {
        "duration": 4,
        "start_time": "2022-09-15T10:27:59.043Z"
      },
      {
        "duration": 177,
        "start_time": "2022-09-15T10:27:59.048Z"
      },
      {
        "duration": 7,
        "start_time": "2022-09-15T10:27:59.227Z"
      },
      {
        "duration": 5,
        "start_time": "2022-09-15T10:27:59.235Z"
      },
      {
        "duration": 24,
        "start_time": "2022-09-15T10:27:59.242Z"
      },
      {
        "duration": 9,
        "start_time": "2022-09-15T10:27:59.268Z"
      },
      {
        "duration": 6,
        "start_time": "2022-09-15T10:27:59.278Z"
      },
      {
        "duration": 18,
        "start_time": "2022-09-15T10:27:59.286Z"
      },
      {
        "duration": 10,
        "start_time": "2022-09-15T10:27:59.305Z"
      },
      {
        "duration": 14,
        "start_time": "2022-09-15T10:27:59.316Z"
      },
      {
        "duration": 103,
        "start_time": "2022-09-15T10:27:59.331Z"
      },
      {
        "duration": 279,
        "start_time": "2022-09-15T10:27:59.436Z"
      },
      {
        "duration": 298,
        "start_time": "2022-09-15T10:27:59.717Z"
      },
      {
        "duration": 363,
        "start_time": "2022-09-15T10:28:00.017Z"
      },
      {
        "duration": 8,
        "start_time": "2022-09-15T10:28:00.382Z"
      },
      {
        "duration": 296,
        "start_time": "2022-09-15T10:28:00.392Z"
      },
      {
        "duration": 15,
        "start_time": "2022-09-15T10:28:00.690Z"
      },
      {
        "duration": 312,
        "start_time": "2022-09-15T10:28:00.706Z"
      },
      {
        "duration": 9,
        "start_time": "2022-09-15T10:28:01.021Z"
      },
      {
        "duration": 304,
        "start_time": "2022-09-15T10:28:01.031Z"
      },
      {
        "duration": 31,
        "start_time": "2022-09-15T10:28:01.337Z"
      },
      {
        "duration": 27,
        "start_time": "2022-09-15T10:28:01.370Z"
      },
      {
        "duration": 13,
        "start_time": "2022-09-15T10:28:01.399Z"
      },
      {
        "duration": 50,
        "start_time": "2022-09-15T10:28:01.414Z"
      },
      {
        "duration": 13,
        "start_time": "2022-09-15T10:28:01.466Z"
      },
      {
        "duration": 310,
        "start_time": "2022-09-15T10:28:01.481Z"
      },
      {
        "duration": 43,
        "start_time": "2022-09-15T10:28:01.793Z"
      },
      {
        "duration": 359,
        "start_time": "2022-09-15T10:28:01.838Z"
      },
      {
        "duration": 298,
        "start_time": "2022-09-15T10:28:02.199Z"
      },
      {
        "duration": 307,
        "start_time": "2022-09-15T10:28:02.499Z"
      },
      {
        "duration": 278,
        "start_time": "2022-09-15T10:28:02.807Z"
      },
      {
        "duration": 290,
        "start_time": "2022-09-15T10:28:03.086Z"
      },
      {
        "duration": 300,
        "start_time": "2022-09-15T10:28:03.377Z"
      },
      {
        "duration": 8,
        "start_time": "2022-09-15T10:28:03.679Z"
      },
      {
        "duration": 19,
        "start_time": "2022-09-15T10:28:03.689Z"
      },
      {
        "duration": 343,
        "start_time": "2022-09-15T10:28:03.710Z"
      },
      {
        "duration": 321,
        "start_time": "2022-09-15T10:28:04.054Z"
      },
      {
        "duration": 157,
        "start_time": "2022-09-15T10:28:04.379Z"
      },
      {
        "duration": 323,
        "start_time": "2022-09-15T10:28:04.539Z"
      },
      {
        "duration": 268,
        "start_time": "2022-09-15T10:28:04.864Z"
      },
      {
        "duration": 282,
        "start_time": "2022-09-15T10:28:05.134Z"
      },
      {
        "duration": 400,
        "start_time": "2022-09-15T10:28:05.419Z"
      },
      {
        "duration": 306,
        "start_time": "2022-09-15T10:28:05.821Z"
      },
      {
        "duration": 275,
        "start_time": "2022-09-15T10:28:06.129Z"
      },
      {
        "duration": 255,
        "start_time": "2022-09-15T10:28:06.405Z"
      },
      {
        "duration": 250,
        "start_time": "2022-09-15T10:28:06.661Z"
      },
      {
        "duration": 343,
        "start_time": "2022-09-15T10:28:06.913Z"
      },
      {
        "duration": 129,
        "start_time": "2022-09-15T10:28:07.257Z"
      },
      {
        "duration": 166,
        "start_time": "2022-09-15T10:28:07.387Z"
      },
      {
        "duration": 134,
        "start_time": "2022-09-15T10:28:07.555Z"
      },
      {
        "duration": 147,
        "start_time": "2022-09-15T10:28:07.690Z"
      },
      {
        "duration": 146,
        "start_time": "2022-09-15T10:28:07.839Z"
      },
      {
        "duration": 134,
        "start_time": "2022-09-15T10:28:07.986Z"
      },
      {
        "duration": 151,
        "start_time": "2022-09-15T10:28:08.121Z"
      },
      {
        "duration": 138,
        "start_time": "2022-09-15T10:28:08.274Z"
      },
      {
        "duration": 24,
        "start_time": "2022-09-15T10:28:08.413Z"
      },
      {
        "duration": 9,
        "start_time": "2022-09-15T10:28:08.439Z"
      },
      {
        "duration": 176,
        "start_time": "2022-09-15T10:28:08.450Z"
      },
      {
        "duration": 73,
        "start_time": "2022-09-15T10:28:36.555Z"
      },
      {
        "duration": 3,
        "start_time": "2022-09-15T10:28:41.531Z"
      },
      {
        "duration": 776,
        "start_time": "2022-09-15T10:30:14.157Z"
      },
      {
        "duration": 15,
        "start_time": "2022-09-15T10:30:14.935Z"
      },
      {
        "duration": 80,
        "start_time": "2022-09-15T10:30:14.951Z"
      },
      {
        "duration": 1806,
        "start_time": "2022-09-15T10:30:15.033Z"
      },
      {
        "duration": 8,
        "start_time": "2022-09-15T10:30:16.840Z"
      },
      {
        "duration": 11,
        "start_time": "2022-09-15T10:30:16.849Z"
      },
      {
        "duration": 5,
        "start_time": "2022-09-15T10:30:16.862Z"
      },
      {
        "duration": 7,
        "start_time": "2022-09-15T10:30:16.869Z"
      },
      {
        "duration": 7,
        "start_time": "2022-09-15T10:30:16.877Z"
      },
      {
        "duration": 6,
        "start_time": "2022-09-15T10:30:16.887Z"
      },
      {
        "duration": 179,
        "start_time": "2022-09-15T10:30:16.894Z"
      },
      {
        "duration": 6,
        "start_time": "2022-09-15T10:30:17.075Z"
      },
      {
        "duration": 8,
        "start_time": "2022-09-15T10:30:17.083Z"
      },
      {
        "duration": 5,
        "start_time": "2022-09-15T10:30:17.101Z"
      },
      {
        "duration": 8,
        "start_time": "2022-09-15T10:30:17.107Z"
      },
      {
        "duration": 9,
        "start_time": "2022-09-15T10:30:17.117Z"
      },
      {
        "duration": 8,
        "start_time": "2022-09-15T10:30:17.128Z"
      },
      {
        "duration": 7,
        "start_time": "2022-09-15T10:30:17.137Z"
      },
      {
        "duration": 14,
        "start_time": "2022-09-15T10:30:17.145Z"
      },
      {
        "duration": 108,
        "start_time": "2022-09-15T10:30:17.160Z"
      },
      {
        "duration": 287,
        "start_time": "2022-09-15T10:30:17.270Z"
      },
      {
        "duration": 285,
        "start_time": "2022-09-15T10:30:17.558Z"
      },
      {
        "duration": 389,
        "start_time": "2022-09-15T10:30:17.845Z"
      },
      {
        "duration": 8,
        "start_time": "2022-09-15T10:30:18.236Z"
      },
      {
        "duration": 285,
        "start_time": "2022-09-15T10:30:18.245Z"
      },
      {
        "duration": 7,
        "start_time": "2022-09-15T10:30:18.532Z"
      },
      {
        "duration": 279,
        "start_time": "2022-09-15T10:30:18.541Z"
      },
      {
        "duration": 9,
        "start_time": "2022-09-15T10:30:18.824Z"
      },
      {
        "duration": 299,
        "start_time": "2022-09-15T10:30:18.834Z"
      },
      {
        "duration": 30,
        "start_time": "2022-09-15T10:30:19.135Z"
      },
      {
        "duration": 7,
        "start_time": "2022-09-15T10:30:19.167Z"
      },
      {
        "duration": 26,
        "start_time": "2022-09-15T10:30:19.175Z"
      },
      {
        "duration": 5,
        "start_time": "2022-09-15T10:30:19.203Z"
      },
      {
        "duration": 15,
        "start_time": "2022-09-15T10:30:19.210Z"
      },
      {
        "duration": 3,
        "start_time": "2022-09-15T10:30:19.227Z"
      },
      {
        "duration": 359,
        "start_time": "2022-09-15T10:30:19.232Z"
      },
      {
        "duration": 45,
        "start_time": "2022-09-15T10:30:19.593Z"
      },
      {
        "duration": 364,
        "start_time": "2022-09-15T10:30:19.640Z"
      },
      {
        "duration": 282,
        "start_time": "2022-09-15T10:30:20.006Z"
      },
      {
        "duration": 294,
        "start_time": "2022-09-15T10:30:20.289Z"
      },
      {
        "duration": 279,
        "start_time": "2022-09-15T10:30:20.585Z"
      },
      {
        "duration": 307,
        "start_time": "2022-09-15T10:30:20.866Z"
      },
      {
        "duration": 288,
        "start_time": "2022-09-15T10:30:21.174Z"
      },
      {
        "duration": 9,
        "start_time": "2022-09-15T10:30:21.464Z"
      },
      {
        "duration": 26,
        "start_time": "2022-09-15T10:30:21.475Z"
      },
      {
        "duration": 346,
        "start_time": "2022-09-15T10:30:21.503Z"
      },
      {
        "duration": 268,
        "start_time": "2022-09-15T10:30:21.851Z"
      },
      {
        "duration": 107,
        "start_time": "2022-09-15T10:30:22.120Z"
      },
      {
        "duration": 278,
        "start_time": "2022-09-15T10:30:22.228Z"
      },
      {
        "duration": 266,
        "start_time": "2022-09-15T10:30:22.508Z"
      },
      {
        "duration": 270,
        "start_time": "2022-09-15T10:30:22.775Z"
      },
      {
        "duration": 355,
        "start_time": "2022-09-15T10:30:23.047Z"
      },
      {
        "duration": 294,
        "start_time": "2022-09-15T10:30:23.404Z"
      },
      {
        "duration": 274,
        "start_time": "2022-09-15T10:30:23.700Z"
      },
      {
        "duration": 305,
        "start_time": "2022-09-15T10:30:23.976Z"
      },
      {
        "duration": 358,
        "start_time": "2022-09-15T10:30:24.282Z"
      },
      {
        "duration": 380,
        "start_time": "2022-09-15T10:30:24.642Z"
      },
      {
        "duration": 144,
        "start_time": "2022-09-15T10:30:25.024Z"
      },
      {
        "duration": 172,
        "start_time": "2022-09-15T10:30:25.169Z"
      },
      {
        "duration": 147,
        "start_time": "2022-09-15T10:30:25.343Z"
      },
      {
        "duration": 156,
        "start_time": "2022-09-15T10:30:25.500Z"
      },
      {
        "duration": 145,
        "start_time": "2022-09-15T10:30:25.658Z"
      },
      {
        "duration": 141,
        "start_time": "2022-09-15T10:30:25.805Z"
      },
      {
        "duration": 142,
        "start_time": "2022-09-15T10:30:25.947Z"
      },
      {
        "duration": 152,
        "start_time": "2022-09-15T10:30:26.091Z"
      },
      {
        "duration": 25,
        "start_time": "2022-09-15T10:30:26.245Z"
      },
      {
        "duration": 30,
        "start_time": "2022-09-15T10:30:26.272Z"
      },
      {
        "duration": 160,
        "start_time": "2022-09-15T10:30:26.304Z"
      },
      {
        "duration": 330,
        "start_time": "2022-09-15T10:30:45.512Z"
      },
      {
        "duration": 305,
        "start_time": "2022-09-15T10:30:53.956Z"
      },
      {
        "duration": 296,
        "start_time": "2022-09-15T10:31:24.600Z"
      },
      {
        "duration": 295,
        "start_time": "2022-09-15T10:31:35.105Z"
      },
      {
        "duration": 276,
        "start_time": "2022-09-15T10:31:44.631Z"
      },
      {
        "duration": 8,
        "start_time": "2022-09-15T10:32:01.402Z"
      },
      {
        "duration": 10,
        "start_time": "2022-09-15T10:32:20.871Z"
      },
      {
        "duration": 270,
        "start_time": "2022-09-15T10:32:31.009Z"
      },
      {
        "duration": 374,
        "start_time": "2022-09-15T10:32:39.455Z"
      },
      {
        "duration": 948,
        "start_time": "2022-09-15T10:32:46.503Z"
      },
      {
        "duration": 753,
        "start_time": "2022-09-15T10:32:55.764Z"
      },
      {
        "duration": 14,
        "start_time": "2022-09-15T10:32:56.519Z"
      },
      {
        "duration": 80,
        "start_time": "2022-09-15T10:32:56.535Z"
      },
      {
        "duration": 1783,
        "start_time": "2022-09-15T10:32:56.616Z"
      },
      {
        "duration": 8,
        "start_time": "2022-09-15T10:32:58.401Z"
      },
      {
        "duration": 5,
        "start_time": "2022-09-15T10:32:58.411Z"
      },
      {
        "duration": 7,
        "start_time": "2022-09-15T10:32:58.418Z"
      },
      {
        "duration": 7,
        "start_time": "2022-09-15T10:32:58.427Z"
      },
      {
        "duration": 7,
        "start_time": "2022-09-15T10:32:58.435Z"
      },
      {
        "duration": 6,
        "start_time": "2022-09-15T10:32:58.444Z"
      },
      {
        "duration": 206,
        "start_time": "2022-09-15T10:32:58.451Z"
      },
      {
        "duration": 7,
        "start_time": "2022-09-15T10:32:58.658Z"
      },
      {
        "duration": 5,
        "start_time": "2022-09-15T10:32:58.666Z"
      },
      {
        "duration": 6,
        "start_time": "2022-09-15T10:32:58.673Z"
      },
      {
        "duration": 24,
        "start_time": "2022-09-15T10:32:58.681Z"
      },
      {
        "duration": 7,
        "start_time": "2022-09-15T10:32:58.706Z"
      },
      {
        "duration": 6,
        "start_time": "2022-09-15T10:32:58.714Z"
      },
      {
        "duration": 10,
        "start_time": "2022-09-15T10:32:58.721Z"
      },
      {
        "duration": 14,
        "start_time": "2022-09-15T10:32:58.733Z"
      },
      {
        "duration": 122,
        "start_time": "2022-09-15T10:32:58.749Z"
      },
      {
        "duration": 283,
        "start_time": "2022-09-15T10:32:58.872Z"
      },
      {
        "duration": 299,
        "start_time": "2022-09-15T10:32:59.157Z"
      },
      {
        "duration": 364,
        "start_time": "2022-09-15T10:32:59.458Z"
      },
      {
        "duration": 9,
        "start_time": "2022-09-15T10:32:59.824Z"
      },
      {
        "duration": 291,
        "start_time": "2022-09-15T10:32:59.835Z"
      },
      {
        "duration": 8,
        "start_time": "2022-09-15T10:33:00.128Z"
      },
      {
        "duration": 299,
        "start_time": "2022-09-15T10:33:00.138Z"
      },
      {
        "duration": 9,
        "start_time": "2022-09-15T10:33:00.442Z"
      },
      {
        "duration": 321,
        "start_time": "2022-09-15T10:33:00.452Z"
      },
      {
        "duration": 38,
        "start_time": "2022-09-15T10:33:00.774Z"
      },
      {
        "duration": 48,
        "start_time": "2022-09-15T10:33:00.814Z"
      },
      {
        "duration": 21,
        "start_time": "2022-09-15T10:33:00.864Z"
      },
      {
        "duration": 14,
        "start_time": "2022-09-15T10:33:00.886Z"
      },
      {
        "duration": 20,
        "start_time": "2022-09-15T10:33:00.901Z"
      },
      {
        "duration": 13,
        "start_time": "2022-09-15T10:33:00.922Z"
      },
      {
        "duration": 310,
        "start_time": "2022-09-15T10:33:00.937Z"
      },
      {
        "duration": 38,
        "start_time": "2022-09-15T10:33:01.249Z"
      },
      {
        "duration": 349,
        "start_time": "2022-09-15T10:33:01.288Z"
      },
      {
        "duration": 274,
        "start_time": "2022-09-15T10:33:01.639Z"
      },
      {
        "duration": 277,
        "start_time": "2022-09-15T10:33:01.915Z"
      },
      {
        "duration": 278,
        "start_time": "2022-09-15T10:33:02.200Z"
      },
      {
        "duration": 288,
        "start_time": "2022-09-15T10:33:02.480Z"
      },
      {
        "duration": 9,
        "start_time": "2022-09-15T10:33:02.770Z"
      },
      {
        "duration": 21,
        "start_time": "2022-09-15T10:33:02.780Z"
      },
      {
        "duration": 267,
        "start_time": "2022-09-15T10:33:02.802Z"
      },
      {
        "duration": 377,
        "start_time": "2022-09-15T10:33:03.071Z"
      },
      {
        "duration": 1160,
        "start_time": "2022-09-15T10:33:03.449Z"
      },
      {
        "duration": 0,
        "start_time": "2022-09-15T10:33:04.611Z"
      },
      {
        "duration": 0,
        "start_time": "2022-09-15T10:33:04.612Z"
      },
      {
        "duration": 0,
        "start_time": "2022-09-15T10:33:04.613Z"
      },
      {
        "duration": 0,
        "start_time": "2022-09-15T10:33:04.615Z"
      },
      {
        "duration": 0,
        "start_time": "2022-09-15T10:33:04.616Z"
      },
      {
        "duration": 0,
        "start_time": "2022-09-15T10:33:04.617Z"
      },
      {
        "duration": 0,
        "start_time": "2022-09-15T10:33:04.619Z"
      },
      {
        "duration": 0,
        "start_time": "2022-09-15T10:33:04.620Z"
      },
      {
        "duration": 0,
        "start_time": "2022-09-15T10:33:04.621Z"
      },
      {
        "duration": 0,
        "start_time": "2022-09-15T10:33:04.623Z"
      },
      {
        "duration": 0,
        "start_time": "2022-09-15T10:33:04.624Z"
      },
      {
        "duration": 0,
        "start_time": "2022-09-15T10:33:04.626Z"
      },
      {
        "duration": 0,
        "start_time": "2022-09-15T10:33:04.627Z"
      },
      {
        "duration": 0,
        "start_time": "2022-09-15T10:33:04.628Z"
      },
      {
        "duration": 0,
        "start_time": "2022-09-15T10:33:04.629Z"
      },
      {
        "duration": 0,
        "start_time": "2022-09-15T10:33:04.631Z"
      },
      {
        "duration": 0,
        "start_time": "2022-09-15T10:33:04.632Z"
      },
      {
        "duration": 0,
        "start_time": "2022-09-15T10:33:04.633Z"
      },
      {
        "duration": 0,
        "start_time": "2022-09-15T10:33:04.635Z"
      },
      {
        "duration": 0,
        "start_time": "2022-09-15T10:33:04.636Z"
      },
      {
        "duration": 737,
        "start_time": "2022-09-15T10:34:17.419Z"
      },
      {
        "duration": 14,
        "start_time": "2022-09-15T10:34:18.158Z"
      },
      {
        "duration": 75,
        "start_time": "2022-09-15T10:34:18.173Z"
      },
      {
        "duration": 1849,
        "start_time": "2022-09-15T10:34:18.250Z"
      },
      {
        "duration": 13,
        "start_time": "2022-09-15T10:34:20.101Z"
      },
      {
        "duration": 7,
        "start_time": "2022-09-15T10:34:20.116Z"
      },
      {
        "duration": 13,
        "start_time": "2022-09-15T10:34:20.124Z"
      },
      {
        "duration": 5,
        "start_time": "2022-09-15T10:34:20.139Z"
      },
      {
        "duration": 10,
        "start_time": "2022-09-15T10:34:20.146Z"
      },
      {
        "duration": 7,
        "start_time": "2022-09-15T10:34:20.158Z"
      },
      {
        "duration": 210,
        "start_time": "2022-09-15T10:34:20.167Z"
      },
      {
        "duration": 6,
        "start_time": "2022-09-15T10:34:20.379Z"
      },
      {
        "duration": 29,
        "start_time": "2022-09-15T10:34:20.387Z"
      },
      {
        "duration": 14,
        "start_time": "2022-09-15T10:34:20.418Z"
      },
      {
        "duration": 10,
        "start_time": "2022-09-15T10:34:20.433Z"
      },
      {
        "duration": 7,
        "start_time": "2022-09-15T10:34:20.444Z"
      },
      {
        "duration": 7,
        "start_time": "2022-09-15T10:34:20.452Z"
      },
      {
        "duration": 20,
        "start_time": "2022-09-15T10:34:20.461Z"
      },
      {
        "duration": 25,
        "start_time": "2022-09-15T10:34:20.483Z"
      },
      {
        "duration": 101,
        "start_time": "2022-09-15T10:34:20.510Z"
      },
      {
        "duration": 311,
        "start_time": "2022-09-15T10:34:20.613Z"
      },
      {
        "duration": 299,
        "start_time": "2022-09-15T10:34:20.925Z"
      },
      {
        "duration": 378,
        "start_time": "2022-09-15T10:34:21.225Z"
      },
      {
        "duration": 8,
        "start_time": "2022-09-15T10:34:21.605Z"
      },
      {
        "duration": 302,
        "start_time": "2022-09-15T10:34:21.615Z"
      },
      {
        "duration": 8,
        "start_time": "2022-09-15T10:34:21.919Z"
      },
      {
        "duration": 292,
        "start_time": "2022-09-15T10:34:21.929Z"
      },
      {
        "duration": 9,
        "start_time": "2022-09-15T10:34:22.224Z"
      },
      {
        "duration": 313,
        "start_time": "2022-09-15T10:34:22.235Z"
      },
      {
        "duration": 33,
        "start_time": "2022-09-15T10:34:22.549Z"
      },
      {
        "duration": 21,
        "start_time": "2022-09-15T10:34:22.583Z"
      },
      {
        "duration": 5,
        "start_time": "2022-09-15T10:34:22.605Z"
      },
      {
        "duration": 5,
        "start_time": "2022-09-15T10:34:22.612Z"
      },
      {
        "duration": 13,
        "start_time": "2022-09-15T10:34:22.619Z"
      },
      {
        "duration": 3,
        "start_time": "2022-09-15T10:34:22.634Z"
      },
      {
        "duration": 336,
        "start_time": "2022-09-15T10:34:22.638Z"
      },
      {
        "duration": 49,
        "start_time": "2022-09-15T10:34:22.976Z"
      },
      {
        "duration": 360,
        "start_time": "2022-09-15T10:34:23.026Z"
      },
      {
        "duration": 283,
        "start_time": "2022-09-15T10:34:23.387Z"
      },
      {
        "duration": 295,
        "start_time": "2022-09-15T10:34:23.672Z"
      },
      {
        "duration": 316,
        "start_time": "2022-09-15T10:34:23.969Z"
      },
      {
        "duration": 368,
        "start_time": "2022-09-15T10:34:24.287Z"
      },
      {
        "duration": 11,
        "start_time": "2022-09-15T10:34:24.657Z"
      },
      {
        "duration": 21,
        "start_time": "2022-09-15T10:34:24.669Z"
      },
      {
        "duration": 291,
        "start_time": "2022-09-15T10:34:24.691Z"
      },
      {
        "duration": 381,
        "start_time": "2022-09-15T10:34:24.983Z"
      },
      {
        "duration": 137,
        "start_time": "2022-09-15T10:34:25.366Z"
      },
      {
        "duration": 302,
        "start_time": "2022-09-15T10:34:25.505Z"
      },
      {
        "duration": 277,
        "start_time": "2022-09-15T10:34:25.809Z"
      },
      {
        "duration": 286,
        "start_time": "2022-09-15T10:34:26.088Z"
      },
      {
        "duration": 292,
        "start_time": "2022-09-15T10:34:26.376Z"
      },
      {
        "duration": 379,
        "start_time": "2022-09-15T10:34:26.670Z"
      },
      {
        "duration": 296,
        "start_time": "2022-09-15T10:34:27.051Z"
      },
      {
        "duration": 1049,
        "start_time": "2022-09-15T10:34:27.349Z"
      },
      {
        "duration": 0,
        "start_time": "2022-09-15T10:34:28.399Z"
      },
      {
        "duration": 0,
        "start_time": "2022-09-15T10:34:28.400Z"
      },
      {
        "duration": 0,
        "start_time": "2022-09-15T10:34:28.402Z"
      },
      {
        "duration": 0,
        "start_time": "2022-09-15T10:34:28.403Z"
      },
      {
        "duration": 0,
        "start_time": "2022-09-15T10:34:28.404Z"
      },
      {
        "duration": 0,
        "start_time": "2022-09-15T10:34:28.405Z"
      },
      {
        "duration": 0,
        "start_time": "2022-09-15T10:34:28.406Z"
      },
      {
        "duration": 0,
        "start_time": "2022-09-15T10:34:28.407Z"
      },
      {
        "duration": 0,
        "start_time": "2022-09-15T10:34:28.408Z"
      },
      {
        "duration": 0,
        "start_time": "2022-09-15T10:34:28.409Z"
      },
      {
        "duration": 0,
        "start_time": "2022-09-15T10:34:28.411Z"
      },
      {
        "duration": 0,
        "start_time": "2022-09-15T10:34:28.412Z"
      },
      {
        "duration": 0,
        "start_time": "2022-09-15T10:34:28.413Z"
      },
      {
        "duration": 279,
        "start_time": "2022-09-15T10:35:06.242Z"
      },
      {
        "duration": 275,
        "start_time": "2022-09-15T10:35:20.467Z"
      },
      {
        "duration": 250,
        "start_time": "2022-09-15T10:35:28.807Z"
      },
      {
        "duration": 362,
        "start_time": "2022-09-15T10:35:49.275Z"
      },
      {
        "duration": 301,
        "start_time": "2022-09-15T10:35:58.020Z"
      },
      {
        "duration": 263,
        "start_time": "2022-09-15T10:36:06.771Z"
      },
      {
        "duration": 282,
        "start_time": "2022-09-15T10:36:15.523Z"
      },
      {
        "duration": 307,
        "start_time": "2022-09-15T10:36:35.243Z"
      },
      {
        "duration": 277,
        "start_time": "2022-09-15T10:39:53.475Z"
      },
      {
        "duration": 241,
        "start_time": "2022-09-15T10:43:15.332Z"
      },
      {
        "duration": 151,
        "start_time": "2022-09-15T10:43:48.816Z"
      },
      {
        "duration": 143,
        "start_time": "2022-09-15T10:43:56.994Z"
      },
      {
        "duration": 141,
        "start_time": "2022-09-15T10:44:10.711Z"
      },
      {
        "duration": 146,
        "start_time": "2022-09-15T10:44:34.080Z"
      },
      {
        "duration": 143,
        "start_time": "2022-09-15T10:44:51.528Z"
      },
      {
        "duration": 142,
        "start_time": "2022-09-15T10:45:05.134Z"
      },
      {
        "duration": 129,
        "start_time": "2022-09-15T10:45:10.624Z"
      },
      {
        "duration": 134,
        "start_time": "2022-09-15T10:45:15.284Z"
      },
      {
        "duration": 23,
        "start_time": "2022-09-15T10:45:36.167Z"
      },
      {
        "duration": 10,
        "start_time": "2022-09-15T10:45:40.384Z"
      },
      {
        "duration": 152,
        "start_time": "2022-09-15T10:48:03.380Z"
      },
      {
        "duration": 711,
        "start_time": "2022-09-15T11:10:26.849Z"
      },
      {
        "duration": 13,
        "start_time": "2022-09-15T11:10:27.562Z"
      },
      {
        "duration": 78,
        "start_time": "2022-09-15T11:10:27.577Z"
      },
      {
        "duration": 1842,
        "start_time": "2022-09-15T11:10:27.657Z"
      },
      {
        "duration": 8,
        "start_time": "2022-09-15T11:10:29.501Z"
      },
      {
        "duration": 9,
        "start_time": "2022-09-15T11:10:29.511Z"
      },
      {
        "duration": 11,
        "start_time": "2022-09-15T11:10:29.521Z"
      },
      {
        "duration": 14,
        "start_time": "2022-09-15T11:10:29.533Z"
      },
      {
        "duration": 9,
        "start_time": "2022-09-15T11:10:29.548Z"
      },
      {
        "duration": 11,
        "start_time": "2022-09-15T11:10:29.559Z"
      },
      {
        "duration": 200,
        "start_time": "2022-09-15T11:10:29.572Z"
      },
      {
        "duration": 7,
        "start_time": "2022-09-15T11:10:29.774Z"
      },
      {
        "duration": 8,
        "start_time": "2022-09-15T11:10:29.782Z"
      },
      {
        "duration": 6,
        "start_time": "2022-09-15T11:10:29.800Z"
      },
      {
        "duration": 8,
        "start_time": "2022-09-15T11:10:29.808Z"
      },
      {
        "duration": 10,
        "start_time": "2022-09-15T11:10:29.817Z"
      },
      {
        "duration": 11,
        "start_time": "2022-09-15T11:10:29.828Z"
      },
      {
        "duration": 8,
        "start_time": "2022-09-15T11:10:29.840Z"
      },
      {
        "duration": 16,
        "start_time": "2022-09-15T11:10:29.849Z"
      },
      {
        "duration": 105,
        "start_time": "2022-09-15T11:10:29.866Z"
      },
      {
        "duration": 287,
        "start_time": "2022-09-15T11:10:29.972Z"
      },
      {
        "duration": 315,
        "start_time": "2022-09-15T11:10:30.261Z"
      },
      {
        "duration": 371,
        "start_time": "2022-09-15T11:10:30.578Z"
      },
      {
        "duration": 8,
        "start_time": "2022-09-15T11:10:30.951Z"
      },
      {
        "duration": 288,
        "start_time": "2022-09-15T11:10:30.960Z"
      },
      {
        "duration": 9,
        "start_time": "2022-09-15T11:10:31.250Z"
      },
      {
        "duration": 324,
        "start_time": "2022-09-15T11:10:31.260Z"
      },
      {
        "duration": 15,
        "start_time": "2022-09-15T11:10:31.588Z"
      },
      {
        "duration": 312,
        "start_time": "2022-09-15T11:10:31.604Z"
      },
      {
        "duration": 8,
        "start_time": "2022-09-15T11:10:31.918Z"
      },
      {
        "duration": 12,
        "start_time": "2022-09-15T11:10:31.927Z"
      },
      {
        "duration": 17,
        "start_time": "2022-09-15T11:10:31.940Z"
      },
      {
        "duration": 22,
        "start_time": "2022-09-15T11:10:31.959Z"
      },
      {
        "duration": 4,
        "start_time": "2022-09-15T11:10:31.983Z"
      },
      {
        "duration": 309,
        "start_time": "2022-09-15T11:10:31.988Z"
      },
      {
        "duration": 40,
        "start_time": "2022-09-15T11:10:32.298Z"
      },
      {
        "duration": 345,
        "start_time": "2022-09-15T11:10:32.340Z"
      },
      {
        "duration": 301,
        "start_time": "2022-09-15T11:10:32.687Z"
      },
      {
        "duration": 310,
        "start_time": "2022-09-15T11:10:32.990Z"
      },
      {
        "duration": 317,
        "start_time": "2022-09-15T11:10:33.302Z"
      },
      {
        "duration": 303,
        "start_time": "2022-09-15T11:10:33.621Z"
      },
      {
        "duration": 11,
        "start_time": "2022-09-15T11:10:33.926Z"
      },
      {
        "duration": 8,
        "start_time": "2022-09-15T11:10:33.939Z"
      },
      {
        "duration": 297,
        "start_time": "2022-09-15T11:10:33.948Z"
      },
      {
        "duration": 411,
        "start_time": "2022-09-15T11:10:34.246Z"
      },
      {
        "duration": 115,
        "start_time": "2022-09-15T11:10:34.659Z"
      },
      {
        "duration": 294,
        "start_time": "2022-09-15T11:10:34.775Z"
      },
      {
        "duration": 279,
        "start_time": "2022-09-15T11:10:35.071Z"
      },
      {
        "duration": 293,
        "start_time": "2022-09-15T11:10:35.351Z"
      },
      {
        "duration": 309,
        "start_time": "2022-09-15T11:10:35.646Z"
      },
      {
        "duration": 373,
        "start_time": "2022-09-15T11:10:35.957Z"
      },
      {
        "duration": 285,
        "start_time": "2022-09-15T11:10:36.332Z"
      },
      {
        "duration": 290,
        "start_time": "2022-09-15T11:10:36.619Z"
      },
      {
        "duration": 270,
        "start_time": "2022-09-15T11:10:36.911Z"
      },
      {
        "duration": 291,
        "start_time": "2022-09-15T11:10:37.183Z"
      },
      {
        "duration": 159,
        "start_time": "2022-09-15T11:10:37.476Z"
      },
      {
        "duration": 225,
        "start_time": "2022-09-15T11:10:37.636Z"
      },
      {
        "duration": 165,
        "start_time": "2022-09-15T11:10:37.863Z"
      },
      {
        "duration": 171,
        "start_time": "2022-09-15T11:10:38.030Z"
      },
      {
        "duration": 166,
        "start_time": "2022-09-15T11:10:38.203Z"
      },
      {
        "duration": 191,
        "start_time": "2022-09-15T11:10:38.371Z"
      },
      {
        "duration": 167,
        "start_time": "2022-09-15T11:10:38.564Z"
      },
      {
        "duration": 156,
        "start_time": "2022-09-15T11:10:38.733Z"
      },
      {
        "duration": 32,
        "start_time": "2022-09-15T11:10:38.892Z"
      },
      {
        "duration": 176,
        "start_time": "2022-09-15T11:10:38.926Z"
      },
      {
        "duration": 768,
        "start_time": "2022-09-15T20:47:23.912Z"
      },
      {
        "duration": 19,
        "start_time": "2022-09-15T20:47:24.681Z"
      },
      {
        "duration": 73,
        "start_time": "2022-09-15T20:47:24.702Z"
      },
      {
        "duration": 1982,
        "start_time": "2022-09-15T20:47:24.777Z"
      },
      {
        "duration": 9,
        "start_time": "2022-09-15T20:47:26.761Z"
      },
      {
        "duration": 6,
        "start_time": "2022-09-15T20:47:26.772Z"
      },
      {
        "duration": 6,
        "start_time": "2022-09-15T20:47:26.795Z"
      },
      {
        "duration": 4,
        "start_time": "2022-09-15T20:47:26.803Z"
      },
      {
        "duration": 7,
        "start_time": "2022-09-15T20:47:26.808Z"
      },
      {
        "duration": 8,
        "start_time": "2022-09-15T20:47:26.818Z"
      },
      {
        "duration": 224,
        "start_time": "2022-09-15T20:47:26.828Z"
      },
      {
        "duration": 7,
        "start_time": "2022-09-15T20:47:27.054Z"
      },
      {
        "duration": 4,
        "start_time": "2022-09-15T20:47:27.063Z"
      },
      {
        "duration": 26,
        "start_time": "2022-09-15T20:47:27.069Z"
      },
      {
        "duration": 7,
        "start_time": "2022-09-15T20:47:27.097Z"
      },
      {
        "duration": 6,
        "start_time": "2022-09-15T20:47:27.106Z"
      },
      {
        "duration": 5,
        "start_time": "2022-09-15T20:47:27.114Z"
      },
      {
        "duration": 8,
        "start_time": "2022-09-15T20:47:27.121Z"
      },
      {
        "duration": 15,
        "start_time": "2022-09-15T20:47:27.131Z"
      },
      {
        "duration": 136,
        "start_time": "2022-09-15T20:47:27.148Z"
      },
      {
        "duration": 322,
        "start_time": "2022-09-15T20:47:27.286Z"
      },
      {
        "duration": 324,
        "start_time": "2022-09-15T20:47:27.610Z"
      },
      {
        "duration": 425,
        "start_time": "2022-09-15T20:47:27.936Z"
      },
      {
        "duration": 9,
        "start_time": "2022-09-15T20:47:28.363Z"
      },
      {
        "duration": 324,
        "start_time": "2022-09-15T20:47:28.373Z"
      },
      {
        "duration": 9,
        "start_time": "2022-09-15T20:47:28.698Z"
      },
      {
        "duration": 333,
        "start_time": "2022-09-15T20:47:28.708Z"
      },
      {
        "duration": 9,
        "start_time": "2022-09-15T20:47:29.046Z"
      },
      {
        "duration": 347,
        "start_time": "2022-09-15T20:47:29.057Z"
      },
      {
        "duration": 9,
        "start_time": "2022-09-15T20:47:29.405Z"
      },
      {
        "duration": 4,
        "start_time": "2022-09-15T20:47:29.415Z"
      },
      {
        "duration": 9,
        "start_time": "2022-09-15T20:47:29.421Z"
      },
      {
        "duration": 17,
        "start_time": "2022-09-15T20:47:29.431Z"
      },
      {
        "duration": 3,
        "start_time": "2022-09-15T20:47:29.450Z"
      },
      {
        "duration": 366,
        "start_time": "2022-09-15T20:47:29.454Z"
      },
      {
        "duration": 42,
        "start_time": "2022-09-15T20:47:29.822Z"
      },
      {
        "duration": 397,
        "start_time": "2022-09-15T20:47:29.865Z"
      },
      {
        "duration": 344,
        "start_time": "2022-09-15T20:47:30.264Z"
      },
      {
        "duration": 332,
        "start_time": "2022-09-15T20:47:30.611Z"
      },
      {
        "duration": 335,
        "start_time": "2022-09-15T20:47:30.945Z"
      },
      {
        "duration": 305,
        "start_time": "2022-09-15T20:47:31.282Z"
      },
      {
        "duration": 12,
        "start_time": "2022-09-15T20:47:31.594Z"
      },
      {
        "duration": 33,
        "start_time": "2022-09-15T20:47:31.608Z"
      },
      {
        "duration": 306,
        "start_time": "2022-09-15T20:47:31.642Z"
      },
      {
        "duration": 389,
        "start_time": "2022-09-15T20:47:31.950Z"
      },
      {
        "duration": 122,
        "start_time": "2022-09-15T20:47:32.341Z"
      },
      {
        "duration": 323,
        "start_time": "2022-09-15T20:47:32.465Z"
      },
      {
        "duration": 331,
        "start_time": "2022-09-15T20:47:32.794Z"
      },
      {
        "duration": 307,
        "start_time": "2022-09-15T20:47:33.127Z"
      },
      {
        "duration": 309,
        "start_time": "2022-09-15T20:47:33.435Z"
      },
      {
        "duration": 401,
        "start_time": "2022-09-15T20:47:33.746Z"
      },
      {
        "duration": 302,
        "start_time": "2022-09-15T20:47:34.149Z"
      },
      {
        "duration": 322,
        "start_time": "2022-09-15T20:47:34.453Z"
      },
      {
        "duration": 305,
        "start_time": "2022-09-15T20:47:34.777Z"
      },
      {
        "duration": 303,
        "start_time": "2022-09-15T20:47:35.084Z"
      },
      {
        "duration": 168,
        "start_time": "2022-09-15T20:47:35.395Z"
      },
      {
        "duration": 252,
        "start_time": "2022-09-15T20:47:35.564Z"
      },
      {
        "duration": 180,
        "start_time": "2022-09-15T20:47:35.818Z"
      },
      {
        "duration": 160,
        "start_time": "2022-09-15T20:47:36.000Z"
      },
      {
        "duration": 155,
        "start_time": "2022-09-15T20:47:36.162Z"
      },
      {
        "duration": 170,
        "start_time": "2022-09-15T20:47:36.320Z"
      },
      {
        "duration": 190,
        "start_time": "2022-09-15T20:47:36.494Z"
      },
      {
        "duration": 168,
        "start_time": "2022-09-15T20:47:36.694Z"
      },
      {
        "duration": 40,
        "start_time": "2022-09-15T20:47:36.863Z"
      },
      {
        "duration": 170,
        "start_time": "2022-09-15T20:47:36.905Z"
      },
      {
        "duration": 72,
        "start_time": "2022-09-15T20:47:47.011Z"
      },
      {
        "duration": 14,
        "start_time": "2022-09-15T20:48:00.437Z"
      },
      {
        "duration": 84,
        "start_time": "2022-09-15T20:48:04.965Z"
      }
    ],
    "celltoolbar": "Отсутствует",
    "kernelspec": {
      "name": "python",
      "display_name": "Python (Pyodide)",
      "language": "python"
    },
    "language_info": {
      "codemirror_mode": {
        "name": "python",
        "version": 3
      },
      "file_extension": ".py",
      "mimetype": "text/x-python",
      "name": "python",
      "nbconvert_exporter": "python",
      "pygments_lexer": "ipython3",
      "version": "3.8"
    },
    "toc": {
      "base_numbering": 1,
      "nav_menu": {},
      "number_sections": true,
      "sideBar": true,
      "skip_h1_title": true,
      "title_cell": "Table of Contents",
      "title_sidebar": "Contents",
      "toc_cell": false,
      "toc_position": {},
      "toc_section_display": true,
      "toc_window_display": false
    }
  },
  "nbformat_minor": 4,
  "nbformat": 4,
  "cells": [
    {
      "cell_type": "markdown",
      "source": "# Исследование объявлений о продаже квартир\n\nВ вашем распоряжении данные сервиса Яндекс.Недвижимость — архив объявлений о продаже квартир в Санкт-Петербурге и соседних населённых пунктов за несколько лет. Нужно научиться определять рыночную стоимость объектов недвижимости. Ваша задача — установить параметры. Это позволит построить автоматизированную систему: она отследит аномалии и мошенническую деятельность. \n\nПо каждой квартире на продажу доступны два вида данных. Первые вписаны пользователем, вторые — получены автоматически на основе картографических данных. Например, расстояние до центра, аэропорта, ближайшего парка и водоёма. ",
      "metadata": {}
    },
    {
      "cell_type": "markdown",
      "source": "### Откройте файл с данными и изучите общую информацию. ",
      "metadata": {}
    },
    {
      "cell_type": "markdown",
      "source": "#### Импортируем необходимые библиотеки, считаем данные из файла real_estate_data.csv в переменную data, а также выведем первые 20 записей из файла на экран",
      "metadata": {}
    },
    {
      "cell_type": "code",
      "source": "import pandas as pd\nimport matplotlib.pyplot as plt\n\npd.options.mode.chained_assignment = None  # default='warn'\n\ndata = pd.read_csv('/datasets/real_estate_data.csv', sep='\\t')\n\ndisplay(data.head(20))",
      "metadata": {},
      "execution_count": 1,
      "outputs": [
        {
          "output_type": "display_data",
          "data": {
            "text/html": [
              "<div>\n",
              "<style scoped>\n",
              "    .dataframe tbody tr th:only-of-type {\n",
              "        vertical-align: middle;\n",
              "    }\n",
              "\n",
              "    .dataframe tbody tr th {\n",
              "        vertical-align: top;\n",
              "    }\n",
              "\n",
              "    .dataframe thead th {\n",
              "        text-align: right;\n",
              "    }\n",
              "</style>\n",
              "<table border=\"1\" class=\"dataframe\">\n",
              "  <thead>\n",
              "    <tr style=\"text-align: right;\">\n",
              "      <th></th>\n",
              "      <th>total_images</th>\n",
              "      <th>last_price</th>\n",
              "      <th>total_area</th>\n",
              "      <th>first_day_exposition</th>\n",
              "      <th>rooms</th>\n",
              "      <th>ceiling_height</th>\n",
              "      <th>floors_total</th>\n",
              "      <th>living_area</th>\n",
              "      <th>floor</th>\n",
              "      <th>is_apartment</th>\n",
              "      <th>...</th>\n",
              "      <th>kitchen_area</th>\n",
              "      <th>balcony</th>\n",
              "      <th>locality_name</th>\n",
              "      <th>airports_nearest</th>\n",
              "      <th>cityCenters_nearest</th>\n",
              "      <th>parks_around3000</th>\n",
              "      <th>parks_nearest</th>\n",
              "      <th>ponds_around3000</th>\n",
              "      <th>ponds_nearest</th>\n",
              "      <th>days_exposition</th>\n",
              "    </tr>\n",
              "  </thead>\n",
              "  <tbody>\n",
              "    <tr>\n",
              "      <th>0</th>\n",
              "      <td>20</td>\n",
              "      <td>13000000.0</td>\n",
              "      <td>108.00</td>\n",
              "      <td>2019-03-07T00:00:00</td>\n",
              "      <td>3</td>\n",
              "      <td>2.70</td>\n",
              "      <td>16.0</td>\n",
              "      <td>51.00</td>\n",
              "      <td>8</td>\n",
              "      <td>NaN</td>\n",
              "      <td>...</td>\n",
              "      <td>25.00</td>\n",
              "      <td>NaN</td>\n",
              "      <td>Санкт-Петербург</td>\n",
              "      <td>18863.0</td>\n",
              "      <td>16028.0</td>\n",
              "      <td>1.0</td>\n",
              "      <td>482.0</td>\n",
              "      <td>2.0</td>\n",
              "      <td>755.0</td>\n",
              "      <td>NaN</td>\n",
              "    </tr>\n",
              "    <tr>\n",
              "      <th>1</th>\n",
              "      <td>7</td>\n",
              "      <td>3350000.0</td>\n",
              "      <td>40.40</td>\n",
              "      <td>2018-12-04T00:00:00</td>\n",
              "      <td>1</td>\n",
              "      <td>NaN</td>\n",
              "      <td>11.0</td>\n",
              "      <td>18.60</td>\n",
              "      <td>1</td>\n",
              "      <td>NaN</td>\n",
              "      <td>...</td>\n",
              "      <td>11.00</td>\n",
              "      <td>2.0</td>\n",
              "      <td>посёлок Шушары</td>\n",
              "      <td>12817.0</td>\n",
              "      <td>18603.0</td>\n",
              "      <td>0.0</td>\n",
              "      <td>NaN</td>\n",
              "      <td>0.0</td>\n",
              "      <td>NaN</td>\n",
              "      <td>81.0</td>\n",
              "    </tr>\n",
              "    <tr>\n",
              "      <th>2</th>\n",
              "      <td>10</td>\n",
              "      <td>5196000.0</td>\n",
              "      <td>56.00</td>\n",
              "      <td>2015-08-20T00:00:00</td>\n",
              "      <td>2</td>\n",
              "      <td>NaN</td>\n",
              "      <td>5.0</td>\n",
              "      <td>34.30</td>\n",
              "      <td>4</td>\n",
              "      <td>NaN</td>\n",
              "      <td>...</td>\n",
              "      <td>8.30</td>\n",
              "      <td>0.0</td>\n",
              "      <td>Санкт-Петербург</td>\n",
              "      <td>21741.0</td>\n",
              "      <td>13933.0</td>\n",
              "      <td>1.0</td>\n",
              "      <td>90.0</td>\n",
              "      <td>2.0</td>\n",
              "      <td>574.0</td>\n",
              "      <td>558.0</td>\n",
              "    </tr>\n",
              "    <tr>\n",
              "      <th>3</th>\n",
              "      <td>0</td>\n",
              "      <td>64900000.0</td>\n",
              "      <td>159.00</td>\n",
              "      <td>2015-07-24T00:00:00</td>\n",
              "      <td>3</td>\n",
              "      <td>NaN</td>\n",
              "      <td>14.0</td>\n",
              "      <td>NaN</td>\n",
              "      <td>9</td>\n",
              "      <td>NaN</td>\n",
              "      <td>...</td>\n",
              "      <td>NaN</td>\n",
              "      <td>0.0</td>\n",
              "      <td>Санкт-Петербург</td>\n",
              "      <td>28098.0</td>\n",
              "      <td>6800.0</td>\n",
              "      <td>2.0</td>\n",
              "      <td>84.0</td>\n",
              "      <td>3.0</td>\n",
              "      <td>234.0</td>\n",
              "      <td>424.0</td>\n",
              "    </tr>\n",
              "    <tr>\n",
              "      <th>4</th>\n",
              "      <td>2</td>\n",
              "      <td>10000000.0</td>\n",
              "      <td>100.00</td>\n",
              "      <td>2018-06-19T00:00:00</td>\n",
              "      <td>2</td>\n",
              "      <td>3.03</td>\n",
              "      <td>14.0</td>\n",
              "      <td>32.00</td>\n",
              "      <td>13</td>\n",
              "      <td>NaN</td>\n",
              "      <td>...</td>\n",
              "      <td>41.00</td>\n",
              "      <td>NaN</td>\n",
              "      <td>Санкт-Петербург</td>\n",
              "      <td>31856.0</td>\n",
              "      <td>8098.0</td>\n",
              "      <td>2.0</td>\n",
              "      <td>112.0</td>\n",
              "      <td>1.0</td>\n",
              "      <td>48.0</td>\n",
              "      <td>121.0</td>\n",
              "    </tr>\n",
              "    <tr>\n",
              "      <th>5</th>\n",
              "      <td>10</td>\n",
              "      <td>2890000.0</td>\n",
              "      <td>30.40</td>\n",
              "      <td>2018-09-10T00:00:00</td>\n",
              "      <td>1</td>\n",
              "      <td>NaN</td>\n",
              "      <td>12.0</td>\n",
              "      <td>14.40</td>\n",
              "      <td>5</td>\n",
              "      <td>NaN</td>\n",
              "      <td>...</td>\n",
              "      <td>9.10</td>\n",
              "      <td>NaN</td>\n",
              "      <td>городской посёлок Янино-1</td>\n",
              "      <td>NaN</td>\n",
              "      <td>NaN</td>\n",
              "      <td>NaN</td>\n",
              "      <td>NaN</td>\n",
              "      <td>NaN</td>\n",
              "      <td>NaN</td>\n",
              "      <td>55.0</td>\n",
              "    </tr>\n",
              "    <tr>\n",
              "      <th>6</th>\n",
              "      <td>6</td>\n",
              "      <td>3700000.0</td>\n",
              "      <td>37.30</td>\n",
              "      <td>2017-11-02T00:00:00</td>\n",
              "      <td>1</td>\n",
              "      <td>NaN</td>\n",
              "      <td>26.0</td>\n",
              "      <td>10.60</td>\n",
              "      <td>6</td>\n",
              "      <td>NaN</td>\n",
              "      <td>...</td>\n",
              "      <td>14.40</td>\n",
              "      <td>1.0</td>\n",
              "      <td>посёлок Парголово</td>\n",
              "      <td>52996.0</td>\n",
              "      <td>19143.0</td>\n",
              "      <td>0.0</td>\n",
              "      <td>NaN</td>\n",
              "      <td>0.0</td>\n",
              "      <td>NaN</td>\n",
              "      <td>155.0</td>\n",
              "    </tr>\n",
              "    <tr>\n",
              "      <th>7</th>\n",
              "      <td>5</td>\n",
              "      <td>7915000.0</td>\n",
              "      <td>71.60</td>\n",
              "      <td>2019-04-18T00:00:00</td>\n",
              "      <td>2</td>\n",
              "      <td>NaN</td>\n",
              "      <td>24.0</td>\n",
              "      <td>NaN</td>\n",
              "      <td>22</td>\n",
              "      <td>NaN</td>\n",
              "      <td>...</td>\n",
              "      <td>18.90</td>\n",
              "      <td>2.0</td>\n",
              "      <td>Санкт-Петербург</td>\n",
              "      <td>23982.0</td>\n",
              "      <td>11634.0</td>\n",
              "      <td>0.0</td>\n",
              "      <td>NaN</td>\n",
              "      <td>0.0</td>\n",
              "      <td>NaN</td>\n",
              "      <td>NaN</td>\n",
              "    </tr>\n",
              "    <tr>\n",
              "      <th>8</th>\n",
              "      <td>20</td>\n",
              "      <td>2900000.0</td>\n",
              "      <td>33.16</td>\n",
              "      <td>2018-05-23T00:00:00</td>\n",
              "      <td>1</td>\n",
              "      <td>NaN</td>\n",
              "      <td>27.0</td>\n",
              "      <td>15.43</td>\n",
              "      <td>26</td>\n",
              "      <td>NaN</td>\n",
              "      <td>...</td>\n",
              "      <td>8.81</td>\n",
              "      <td>NaN</td>\n",
              "      <td>посёлок Мурино</td>\n",
              "      <td>NaN</td>\n",
              "      <td>NaN</td>\n",
              "      <td>NaN</td>\n",
              "      <td>NaN</td>\n",
              "      <td>NaN</td>\n",
              "      <td>NaN</td>\n",
              "      <td>189.0</td>\n",
              "    </tr>\n",
              "    <tr>\n",
              "      <th>9</th>\n",
              "      <td>18</td>\n",
              "      <td>5400000.0</td>\n",
              "      <td>61.00</td>\n",
              "      <td>2017-02-26T00:00:00</td>\n",
              "      <td>3</td>\n",
              "      <td>2.50</td>\n",
              "      <td>9.0</td>\n",
              "      <td>43.60</td>\n",
              "      <td>7</td>\n",
              "      <td>NaN</td>\n",
              "      <td>...</td>\n",
              "      <td>6.50</td>\n",
              "      <td>2.0</td>\n",
              "      <td>Санкт-Петербург</td>\n",
              "      <td>50898.0</td>\n",
              "      <td>15008.0</td>\n",
              "      <td>0.0</td>\n",
              "      <td>NaN</td>\n",
              "      <td>0.0</td>\n",
              "      <td>NaN</td>\n",
              "      <td>289.0</td>\n",
              "    </tr>\n",
              "    <tr>\n",
              "      <th>10</th>\n",
              "      <td>5</td>\n",
              "      <td>5050000.0</td>\n",
              "      <td>39.60</td>\n",
              "      <td>2017-11-16T00:00:00</td>\n",
              "      <td>1</td>\n",
              "      <td>2.67</td>\n",
              "      <td>12.0</td>\n",
              "      <td>20.30</td>\n",
              "      <td>3</td>\n",
              "      <td>NaN</td>\n",
              "      <td>...</td>\n",
              "      <td>8.50</td>\n",
              "      <td>NaN</td>\n",
              "      <td>Санкт-Петербург</td>\n",
              "      <td>38357.0</td>\n",
              "      <td>13878.0</td>\n",
              "      <td>1.0</td>\n",
              "      <td>310.0</td>\n",
              "      <td>2.0</td>\n",
              "      <td>553.0</td>\n",
              "      <td>137.0</td>\n",
              "    </tr>\n",
              "    <tr>\n",
              "      <th>11</th>\n",
              "      <td>9</td>\n",
              "      <td>3300000.0</td>\n",
              "      <td>44.00</td>\n",
              "      <td>2018-08-27T00:00:00</td>\n",
              "      <td>2</td>\n",
              "      <td>NaN</td>\n",
              "      <td>5.0</td>\n",
              "      <td>31.00</td>\n",
              "      <td>4</td>\n",
              "      <td>False</td>\n",
              "      <td>...</td>\n",
              "      <td>6.00</td>\n",
              "      <td>1.0</td>\n",
              "      <td>Ломоносов</td>\n",
              "      <td>48252.0</td>\n",
              "      <td>51677.0</td>\n",
              "      <td>0.0</td>\n",
              "      <td>NaN</td>\n",
              "      <td>0.0</td>\n",
              "      <td>NaN</td>\n",
              "      <td>7.0</td>\n",
              "    </tr>\n",
              "    <tr>\n",
              "      <th>12</th>\n",
              "      <td>10</td>\n",
              "      <td>3890000.0</td>\n",
              "      <td>54.00</td>\n",
              "      <td>2016-06-30T00:00:00</td>\n",
              "      <td>2</td>\n",
              "      <td>NaN</td>\n",
              "      <td>5.0</td>\n",
              "      <td>30.00</td>\n",
              "      <td>5</td>\n",
              "      <td>NaN</td>\n",
              "      <td>...</td>\n",
              "      <td>9.00</td>\n",
              "      <td>0.0</td>\n",
              "      <td>Сертолово</td>\n",
              "      <td>NaN</td>\n",
              "      <td>NaN</td>\n",
              "      <td>NaN</td>\n",
              "      <td>NaN</td>\n",
              "      <td>NaN</td>\n",
              "      <td>NaN</td>\n",
              "      <td>90.0</td>\n",
              "    </tr>\n",
              "    <tr>\n",
              "      <th>13</th>\n",
              "      <td>20</td>\n",
              "      <td>3550000.0</td>\n",
              "      <td>42.80</td>\n",
              "      <td>2017-07-01T00:00:00</td>\n",
              "      <td>2</td>\n",
              "      <td>2.56</td>\n",
              "      <td>5.0</td>\n",
              "      <td>27.00</td>\n",
              "      <td>5</td>\n",
              "      <td>NaN</td>\n",
              "      <td>...</td>\n",
              "      <td>5.20</td>\n",
              "      <td>1.0</td>\n",
              "      <td>Петергоф</td>\n",
              "      <td>37868.0</td>\n",
              "      <td>33058.0</td>\n",
              "      <td>1.0</td>\n",
              "      <td>294.0</td>\n",
              "      <td>3.0</td>\n",
              "      <td>298.0</td>\n",
              "      <td>366.0</td>\n",
              "    </tr>\n",
              "    <tr>\n",
              "      <th>14</th>\n",
              "      <td>1</td>\n",
              "      <td>4400000.0</td>\n",
              "      <td>36.00</td>\n",
              "      <td>2016-06-23T00:00:00</td>\n",
              "      <td>1</td>\n",
              "      <td>NaN</td>\n",
              "      <td>6.0</td>\n",
              "      <td>17.00</td>\n",
              "      <td>1</td>\n",
              "      <td>NaN</td>\n",
              "      <td>...</td>\n",
              "      <td>8.00</td>\n",
              "      <td>0.0</td>\n",
              "      <td>Пушкин</td>\n",
              "      <td>20782.0</td>\n",
              "      <td>30759.0</td>\n",
              "      <td>0.0</td>\n",
              "      <td>NaN</td>\n",
              "      <td>1.0</td>\n",
              "      <td>96.0</td>\n",
              "      <td>203.0</td>\n",
              "    </tr>\n",
              "    <tr>\n",
              "      <th>15</th>\n",
              "      <td>16</td>\n",
              "      <td>4650000.0</td>\n",
              "      <td>39.00</td>\n",
              "      <td>2017-11-18T00:00:00</td>\n",
              "      <td>1</td>\n",
              "      <td>NaN</td>\n",
              "      <td>14.0</td>\n",
              "      <td>20.50</td>\n",
              "      <td>5</td>\n",
              "      <td>NaN</td>\n",
              "      <td>...</td>\n",
              "      <td>7.60</td>\n",
              "      <td>1.0</td>\n",
              "      <td>Санкт-Петербург</td>\n",
              "      <td>12900.0</td>\n",
              "      <td>14259.0</td>\n",
              "      <td>1.0</td>\n",
              "      <td>590.0</td>\n",
              "      <td>1.0</td>\n",
              "      <td>296.0</td>\n",
              "      <td>19.0</td>\n",
              "    </tr>\n",
              "    <tr>\n",
              "      <th>16</th>\n",
              "      <td>11</td>\n",
              "      <td>6700000.0</td>\n",
              "      <td>82.00</td>\n",
              "      <td>2017-11-23T00:00:00</td>\n",
              "      <td>3</td>\n",
              "      <td>3.05</td>\n",
              "      <td>5.0</td>\n",
              "      <td>55.60</td>\n",
              "      <td>1</td>\n",
              "      <td>NaN</td>\n",
              "      <td>...</td>\n",
              "      <td>9.00</td>\n",
              "      <td>NaN</td>\n",
              "      <td>Санкт-Петербург</td>\n",
              "      <td>22108.0</td>\n",
              "      <td>10698.0</td>\n",
              "      <td>3.0</td>\n",
              "      <td>420.0</td>\n",
              "      <td>0.0</td>\n",
              "      <td>NaN</td>\n",
              "      <td>397.0</td>\n",
              "    </tr>\n",
              "    <tr>\n",
              "      <th>17</th>\n",
              "      <td>6</td>\n",
              "      <td>4180000.0</td>\n",
              "      <td>36.00</td>\n",
              "      <td>2016-09-09T00:00:00</td>\n",
              "      <td>1</td>\n",
              "      <td>NaN</td>\n",
              "      <td>17.0</td>\n",
              "      <td>16.50</td>\n",
              "      <td>7</td>\n",
              "      <td>NaN</td>\n",
              "      <td>...</td>\n",
              "      <td>11.00</td>\n",
              "      <td>1.0</td>\n",
              "      <td>Санкт-Петербург</td>\n",
              "      <td>33564.0</td>\n",
              "      <td>14616.0</td>\n",
              "      <td>0.0</td>\n",
              "      <td>NaN</td>\n",
              "      <td>1.0</td>\n",
              "      <td>859.0</td>\n",
              "      <td>571.0</td>\n",
              "    </tr>\n",
              "    <tr>\n",
              "      <th>18</th>\n",
              "      <td>8</td>\n",
              "      <td>3250000.0</td>\n",
              "      <td>31.00</td>\n",
              "      <td>2017-01-27T00:00:00</td>\n",
              "      <td>1</td>\n",
              "      <td>2.50</td>\n",
              "      <td>5.0</td>\n",
              "      <td>19.40</td>\n",
              "      <td>2</td>\n",
              "      <td>NaN</td>\n",
              "      <td>...</td>\n",
              "      <td>5.60</td>\n",
              "      <td>1.0</td>\n",
              "      <td>Санкт-Петербург</td>\n",
              "      <td>44060.0</td>\n",
              "      <td>10842.0</td>\n",
              "      <td>1.0</td>\n",
              "      <td>759.0</td>\n",
              "      <td>0.0</td>\n",
              "      <td>NaN</td>\n",
              "      <td>168.0</td>\n",
              "    </tr>\n",
              "    <tr>\n",
              "      <th>19</th>\n",
              "      <td>16</td>\n",
              "      <td>14200000.0</td>\n",
              "      <td>121.00</td>\n",
              "      <td>2019-01-09T00:00:00</td>\n",
              "      <td>3</td>\n",
              "      <td>2.75</td>\n",
              "      <td>16.0</td>\n",
              "      <td>76.00</td>\n",
              "      <td>8</td>\n",
              "      <td>NaN</td>\n",
              "      <td>...</td>\n",
              "      <td>12.00</td>\n",
              "      <td>NaN</td>\n",
              "      <td>Санкт-Петербург</td>\n",
              "      <td>38900.0</td>\n",
              "      <td>12843.0</td>\n",
              "      <td>0.0</td>\n",
              "      <td>NaN</td>\n",
              "      <td>0.0</td>\n",
              "      <td>NaN</td>\n",
              "      <td>97.0</td>\n",
              "    </tr>\n",
              "  </tbody>\n",
              "</table>\n",
              "<p>20 rows × 22 columns</p>\n",
              "</div>"
            ],
            "text/plain": [
              "    total_images  last_price  total_area first_day_exposition  rooms  \\\n",
              "0             20  13000000.0      108.00  2019-03-07T00:00:00      3   \n",
              "1              7   3350000.0       40.40  2018-12-04T00:00:00      1   \n",
              "2             10   5196000.0       56.00  2015-08-20T00:00:00      2   \n",
              "3              0  64900000.0      159.00  2015-07-24T00:00:00      3   \n",
              "4              2  10000000.0      100.00  2018-06-19T00:00:00      2   \n",
              "5             10   2890000.0       30.40  2018-09-10T00:00:00      1   \n",
              "6              6   3700000.0       37.30  2017-11-02T00:00:00      1   \n",
              "7              5   7915000.0       71.60  2019-04-18T00:00:00      2   \n",
              "8             20   2900000.0       33.16  2018-05-23T00:00:00      1   \n",
              "9             18   5400000.0       61.00  2017-02-26T00:00:00      3   \n",
              "10             5   5050000.0       39.60  2017-11-16T00:00:00      1   \n",
              "11             9   3300000.0       44.00  2018-08-27T00:00:00      2   \n",
              "12            10   3890000.0       54.00  2016-06-30T00:00:00      2   \n",
              "13            20   3550000.0       42.80  2017-07-01T00:00:00      2   \n",
              "14             1   4400000.0       36.00  2016-06-23T00:00:00      1   \n",
              "15            16   4650000.0       39.00  2017-11-18T00:00:00      1   \n",
              "16            11   6700000.0       82.00  2017-11-23T00:00:00      3   \n",
              "17             6   4180000.0       36.00  2016-09-09T00:00:00      1   \n",
              "18             8   3250000.0       31.00  2017-01-27T00:00:00      1   \n",
              "19            16  14200000.0      121.00  2019-01-09T00:00:00      3   \n",
              "\n",
              "    ceiling_height  floors_total  living_area  floor is_apartment  ...  \\\n",
              "0             2.70          16.0        51.00      8          NaN  ...   \n",
              "1              NaN          11.0        18.60      1          NaN  ...   \n",
              "2              NaN           5.0        34.30      4          NaN  ...   \n",
              "3              NaN          14.0          NaN      9          NaN  ...   \n",
              "4             3.03          14.0        32.00     13          NaN  ...   \n",
              "5              NaN          12.0        14.40      5          NaN  ...   \n",
              "6              NaN          26.0        10.60      6          NaN  ...   \n",
              "7              NaN          24.0          NaN     22          NaN  ...   \n",
              "8              NaN          27.0        15.43     26          NaN  ...   \n",
              "9             2.50           9.0        43.60      7          NaN  ...   \n",
              "10            2.67          12.0        20.30      3          NaN  ...   \n",
              "11             NaN           5.0        31.00      4        False  ...   \n",
              "12             NaN           5.0        30.00      5          NaN  ...   \n",
              "13            2.56           5.0        27.00      5          NaN  ...   \n",
              "14             NaN           6.0        17.00      1          NaN  ...   \n",
              "15             NaN          14.0        20.50      5          NaN  ...   \n",
              "16            3.05           5.0        55.60      1          NaN  ...   \n",
              "17             NaN          17.0        16.50      7          NaN  ...   \n",
              "18            2.50           5.0        19.40      2          NaN  ...   \n",
              "19            2.75          16.0        76.00      8          NaN  ...   \n",
              "\n",
              "    kitchen_area  balcony              locality_name  airports_nearest  \\\n",
              "0          25.00      NaN            Санкт-Петербург           18863.0   \n",
              "1          11.00      2.0             посёлок Шушары           12817.0   \n",
              "2           8.30      0.0            Санкт-Петербург           21741.0   \n",
              "3            NaN      0.0            Санкт-Петербург           28098.0   \n",
              "4          41.00      NaN            Санкт-Петербург           31856.0   \n",
              "5           9.10      NaN  городской посёлок Янино-1               NaN   \n",
              "6          14.40      1.0          посёлок Парголово           52996.0   \n",
              "7          18.90      2.0            Санкт-Петербург           23982.0   \n",
              "8           8.81      NaN             посёлок Мурино               NaN   \n",
              "9           6.50      2.0            Санкт-Петербург           50898.0   \n",
              "10          8.50      NaN            Санкт-Петербург           38357.0   \n",
              "11          6.00      1.0                  Ломоносов           48252.0   \n",
              "12          9.00      0.0                  Сертолово               NaN   \n",
              "13          5.20      1.0                   Петергоф           37868.0   \n",
              "14          8.00      0.0                     Пушкин           20782.0   \n",
              "15          7.60      1.0            Санкт-Петербург           12900.0   \n",
              "16          9.00      NaN            Санкт-Петербург           22108.0   \n",
              "17         11.00      1.0            Санкт-Петербург           33564.0   \n",
              "18          5.60      1.0            Санкт-Петербург           44060.0   \n",
              "19         12.00      NaN            Санкт-Петербург           38900.0   \n",
              "\n",
              "   cityCenters_nearest  parks_around3000  parks_nearest  ponds_around3000  \\\n",
              "0              16028.0               1.0          482.0               2.0   \n",
              "1              18603.0               0.0            NaN               0.0   \n",
              "2              13933.0               1.0           90.0               2.0   \n",
              "3               6800.0               2.0           84.0               3.0   \n",
              "4               8098.0               2.0          112.0               1.0   \n",
              "5                  NaN               NaN            NaN               NaN   \n",
              "6              19143.0               0.0            NaN               0.0   \n",
              "7              11634.0               0.0            NaN               0.0   \n",
              "8                  NaN               NaN            NaN               NaN   \n",
              "9              15008.0               0.0            NaN               0.0   \n",
              "10             13878.0               1.0          310.0               2.0   \n",
              "11             51677.0               0.0            NaN               0.0   \n",
              "12                 NaN               NaN            NaN               NaN   \n",
              "13             33058.0               1.0          294.0               3.0   \n",
              "14             30759.0               0.0            NaN               1.0   \n",
              "15             14259.0               1.0          590.0               1.0   \n",
              "16             10698.0               3.0          420.0               0.0   \n",
              "17             14616.0               0.0            NaN               1.0   \n",
              "18             10842.0               1.0          759.0               0.0   \n",
              "19             12843.0               0.0            NaN               0.0   \n",
              "\n",
              "    ponds_nearest  days_exposition  \n",
              "0           755.0              NaN  \n",
              "1             NaN             81.0  \n",
              "2           574.0            558.0  \n",
              "3           234.0            424.0  \n",
              "4            48.0            121.0  \n",
              "5             NaN             55.0  \n",
              "6             NaN            155.0  \n",
              "7             NaN              NaN  \n",
              "8             NaN            189.0  \n",
              "9             NaN            289.0  \n",
              "10          553.0            137.0  \n",
              "11            NaN              7.0  \n",
              "12            NaN             90.0  \n",
              "13          298.0            366.0  \n",
              "14           96.0            203.0  \n",
              "15          296.0             19.0  \n",
              "16            NaN            397.0  \n",
              "17          859.0            571.0  \n",
              "18            NaN            168.0  \n",
              "19            NaN             97.0  \n",
              "\n",
              "[20 rows x 22 columns]"
            ]
          },
          "metadata": {}
        }
      ]
    },
    {
      "cell_type": "markdown",
      "source": "#### Выведем основную информацию о датафрейме на экран",
      "metadata": {}
    },
    {
      "cell_type": "code",
      "source": "print(data.info())",
      "metadata": {},
      "execution_count": 2,
      "outputs": [
        {
          "name": "stdout",
          "output_type": "stream",
          "text": "<class 'pandas.core.frame.DataFrame'>\n\nRangeIndex: 23699 entries, 0 to 23698\n\nData columns (total 22 columns):\n\n #   Column                Non-Null Count  Dtype  \n\n---  ------                --------------  -----  \n\n 0   total_images          23699 non-null  int64  \n\n 1   last_price            23699 non-null  float64\n\n 2   total_area            23699 non-null  float64\n\n 3   first_day_exposition  23699 non-null  object \n\n 4   rooms                 23699 non-null  int64  \n\n 5   ceiling_height        14504 non-null  float64\n\n 6   floors_total          23613 non-null  float64\n\n 7   living_area           21796 non-null  float64\n\n 8   floor                 23699 non-null  int64  \n\n 9   is_apartment          2775 non-null   object \n\n 10  studio                23699 non-null  bool   \n\n 11  open_plan             23699 non-null  bool   \n\n 12  kitchen_area          21421 non-null  float64\n\n 13  balcony               12180 non-null  float64\n\n 14  locality_name         23650 non-null  object \n\n 15  airports_nearest      18157 non-null  float64\n\n 16  cityCenters_nearest   18180 non-null  float64\n\n 17  parks_around3000      18181 non-null  float64\n\n 18  parks_nearest         8079 non-null   float64\n\n 19  ponds_around3000      18181 non-null  float64\n\n 20  ponds_nearest         9110 non-null   float64\n\n 21  days_exposition       20518 non-null  float64\n\ndtypes: bool(2), float64(14), int64(3), object(3)\n\nmemory usage: 3.7+ MB\n\nNone\n"
        }
      ]
    },
    {
      "cell_type": "code",
      "source": "display(data.describe())",
      "metadata": {
        "scrolled": true
      },
      "execution_count": 3,
      "outputs": [
        {
          "output_type": "display_data",
          "data": {
            "text/html": [
              "<div>\n",
              "<style scoped>\n",
              "    .dataframe tbody tr th:only-of-type {\n",
              "        vertical-align: middle;\n",
              "    }\n",
              "\n",
              "    .dataframe tbody tr th {\n",
              "        vertical-align: top;\n",
              "    }\n",
              "\n",
              "    .dataframe thead th {\n",
              "        text-align: right;\n",
              "    }\n",
              "</style>\n",
              "<table border=\"1\" class=\"dataframe\">\n",
              "  <thead>\n",
              "    <tr style=\"text-align: right;\">\n",
              "      <th></th>\n",
              "      <th>total_images</th>\n",
              "      <th>last_price</th>\n",
              "      <th>total_area</th>\n",
              "      <th>rooms</th>\n",
              "      <th>ceiling_height</th>\n",
              "      <th>floors_total</th>\n",
              "      <th>living_area</th>\n",
              "      <th>floor</th>\n",
              "      <th>kitchen_area</th>\n",
              "      <th>balcony</th>\n",
              "      <th>airports_nearest</th>\n",
              "      <th>cityCenters_nearest</th>\n",
              "      <th>parks_around3000</th>\n",
              "      <th>parks_nearest</th>\n",
              "      <th>ponds_around3000</th>\n",
              "      <th>ponds_nearest</th>\n",
              "      <th>days_exposition</th>\n",
              "    </tr>\n",
              "  </thead>\n",
              "  <tbody>\n",
              "    <tr>\n",
              "      <th>count</th>\n",
              "      <td>23699.000000</td>\n",
              "      <td>2.369900e+04</td>\n",
              "      <td>23699.000000</td>\n",
              "      <td>23699.000000</td>\n",
              "      <td>14504.000000</td>\n",
              "      <td>23613.000000</td>\n",
              "      <td>21796.000000</td>\n",
              "      <td>23699.000000</td>\n",
              "      <td>21421.000000</td>\n",
              "      <td>12180.000000</td>\n",
              "      <td>18157.000000</td>\n",
              "      <td>18180.000000</td>\n",
              "      <td>18181.000000</td>\n",
              "      <td>8079.000000</td>\n",
              "      <td>18181.000000</td>\n",
              "      <td>9110.000000</td>\n",
              "      <td>20518.000000</td>\n",
              "    </tr>\n",
              "    <tr>\n",
              "      <th>mean</th>\n",
              "      <td>9.858475</td>\n",
              "      <td>6.541549e+06</td>\n",
              "      <td>60.348651</td>\n",
              "      <td>2.070636</td>\n",
              "      <td>2.771499</td>\n",
              "      <td>10.673824</td>\n",
              "      <td>34.457852</td>\n",
              "      <td>5.892358</td>\n",
              "      <td>10.569807</td>\n",
              "      <td>1.150082</td>\n",
              "      <td>28793.672193</td>\n",
              "      <td>14191.277833</td>\n",
              "      <td>0.611408</td>\n",
              "      <td>490.804555</td>\n",
              "      <td>0.770255</td>\n",
              "      <td>517.980900</td>\n",
              "      <td>180.888634</td>\n",
              "    </tr>\n",
              "    <tr>\n",
              "      <th>std</th>\n",
              "      <td>5.682529</td>\n",
              "      <td>1.088701e+07</td>\n",
              "      <td>35.654083</td>\n",
              "      <td>1.078405</td>\n",
              "      <td>1.261056</td>\n",
              "      <td>6.597173</td>\n",
              "      <td>22.030445</td>\n",
              "      <td>4.885249</td>\n",
              "      <td>5.905438</td>\n",
              "      <td>1.071300</td>\n",
              "      <td>12630.880622</td>\n",
              "      <td>8608.386210</td>\n",
              "      <td>0.802074</td>\n",
              "      <td>342.317995</td>\n",
              "      <td>0.938346</td>\n",
              "      <td>277.720643</td>\n",
              "      <td>219.727988</td>\n",
              "    </tr>\n",
              "    <tr>\n",
              "      <th>min</th>\n",
              "      <td>0.000000</td>\n",
              "      <td>1.219000e+04</td>\n",
              "      <td>12.000000</td>\n",
              "      <td>0.000000</td>\n",
              "      <td>1.000000</td>\n",
              "      <td>1.000000</td>\n",
              "      <td>2.000000</td>\n",
              "      <td>1.000000</td>\n",
              "      <td>1.300000</td>\n",
              "      <td>0.000000</td>\n",
              "      <td>0.000000</td>\n",
              "      <td>181.000000</td>\n",
              "      <td>0.000000</td>\n",
              "      <td>1.000000</td>\n",
              "      <td>0.000000</td>\n",
              "      <td>13.000000</td>\n",
              "      <td>1.000000</td>\n",
              "    </tr>\n",
              "    <tr>\n",
              "      <th>25%</th>\n",
              "      <td>6.000000</td>\n",
              "      <td>3.400000e+06</td>\n",
              "      <td>40.000000</td>\n",
              "      <td>1.000000</td>\n",
              "      <td>2.520000</td>\n",
              "      <td>5.000000</td>\n",
              "      <td>18.600000</td>\n",
              "      <td>2.000000</td>\n",
              "      <td>7.000000</td>\n",
              "      <td>0.000000</td>\n",
              "      <td>18585.000000</td>\n",
              "      <td>9238.000000</td>\n",
              "      <td>0.000000</td>\n",
              "      <td>288.000000</td>\n",
              "      <td>0.000000</td>\n",
              "      <td>294.000000</td>\n",
              "      <td>45.000000</td>\n",
              "    </tr>\n",
              "    <tr>\n",
              "      <th>50%</th>\n",
              "      <td>9.000000</td>\n",
              "      <td>4.650000e+06</td>\n",
              "      <td>52.000000</td>\n",
              "      <td>2.000000</td>\n",
              "      <td>2.650000</td>\n",
              "      <td>9.000000</td>\n",
              "      <td>30.000000</td>\n",
              "      <td>4.000000</td>\n",
              "      <td>9.100000</td>\n",
              "      <td>1.000000</td>\n",
              "      <td>26726.000000</td>\n",
              "      <td>13098.500000</td>\n",
              "      <td>0.000000</td>\n",
              "      <td>455.000000</td>\n",
              "      <td>1.000000</td>\n",
              "      <td>502.000000</td>\n",
              "      <td>95.000000</td>\n",
              "    </tr>\n",
              "    <tr>\n",
              "      <th>75%</th>\n",
              "      <td>14.000000</td>\n",
              "      <td>6.800000e+06</td>\n",
              "      <td>69.900000</td>\n",
              "      <td>3.000000</td>\n",
              "      <td>2.800000</td>\n",
              "      <td>16.000000</td>\n",
              "      <td>42.300000</td>\n",
              "      <td>8.000000</td>\n",
              "      <td>12.000000</td>\n",
              "      <td>2.000000</td>\n",
              "      <td>37273.000000</td>\n",
              "      <td>16293.000000</td>\n",
              "      <td>1.000000</td>\n",
              "      <td>612.000000</td>\n",
              "      <td>1.000000</td>\n",
              "      <td>729.000000</td>\n",
              "      <td>232.000000</td>\n",
              "    </tr>\n",
              "    <tr>\n",
              "      <th>max</th>\n",
              "      <td>50.000000</td>\n",
              "      <td>7.630000e+08</td>\n",
              "      <td>900.000000</td>\n",
              "      <td>19.000000</td>\n",
              "      <td>100.000000</td>\n",
              "      <td>60.000000</td>\n",
              "      <td>409.700000</td>\n",
              "      <td>33.000000</td>\n",
              "      <td>112.000000</td>\n",
              "      <td>5.000000</td>\n",
              "      <td>84869.000000</td>\n",
              "      <td>65968.000000</td>\n",
              "      <td>3.000000</td>\n",
              "      <td>3190.000000</td>\n",
              "      <td>3.000000</td>\n",
              "      <td>1344.000000</td>\n",
              "      <td>1580.000000</td>\n",
              "    </tr>\n",
              "  </tbody>\n",
              "</table>\n",
              "</div>"
            ],
            "text/plain": [
              "       total_images    last_price    total_area         rooms  ceiling_height  \\\n",
              "count  23699.000000  2.369900e+04  23699.000000  23699.000000    14504.000000   \n",
              "mean       9.858475  6.541549e+06     60.348651      2.070636        2.771499   \n",
              "std        5.682529  1.088701e+07     35.654083      1.078405        1.261056   \n",
              "min        0.000000  1.219000e+04     12.000000      0.000000        1.000000   \n",
              "25%        6.000000  3.400000e+06     40.000000      1.000000        2.520000   \n",
              "50%        9.000000  4.650000e+06     52.000000      2.000000        2.650000   \n",
              "75%       14.000000  6.800000e+06     69.900000      3.000000        2.800000   \n",
              "max       50.000000  7.630000e+08    900.000000     19.000000      100.000000   \n",
              "\n",
              "       floors_total   living_area         floor  kitchen_area       balcony  \\\n",
              "count  23613.000000  21796.000000  23699.000000  21421.000000  12180.000000   \n",
              "mean      10.673824     34.457852      5.892358     10.569807      1.150082   \n",
              "std        6.597173     22.030445      4.885249      5.905438      1.071300   \n",
              "min        1.000000      2.000000      1.000000      1.300000      0.000000   \n",
              "25%        5.000000     18.600000      2.000000      7.000000      0.000000   \n",
              "50%        9.000000     30.000000      4.000000      9.100000      1.000000   \n",
              "75%       16.000000     42.300000      8.000000     12.000000      2.000000   \n",
              "max       60.000000    409.700000     33.000000    112.000000      5.000000   \n",
              "\n",
              "       airports_nearest  cityCenters_nearest  parks_around3000  parks_nearest  \\\n",
              "count      18157.000000         18180.000000      18181.000000    8079.000000   \n",
              "mean       28793.672193         14191.277833          0.611408     490.804555   \n",
              "std        12630.880622          8608.386210          0.802074     342.317995   \n",
              "min            0.000000           181.000000          0.000000       1.000000   \n",
              "25%        18585.000000          9238.000000          0.000000     288.000000   \n",
              "50%        26726.000000         13098.500000          0.000000     455.000000   \n",
              "75%        37273.000000         16293.000000          1.000000     612.000000   \n",
              "max        84869.000000         65968.000000          3.000000    3190.000000   \n",
              "\n",
              "       ponds_around3000  ponds_nearest  days_exposition  \n",
              "count      18181.000000    9110.000000     20518.000000  \n",
              "mean           0.770255     517.980900       180.888634  \n",
              "std            0.938346     277.720643       219.727988  \n",
              "min            0.000000      13.000000         1.000000  \n",
              "25%            0.000000     294.000000        45.000000  \n",
              "50%            1.000000     502.000000        95.000000  \n",
              "75%            1.000000     729.000000       232.000000  \n",
              "max            3.000000    1344.000000      1580.000000  "
            ]
          },
          "metadata": {}
        }
      ]
    },
    {
      "cell_type": "markdown",
      "source": "Построим гистограммы для всех возможных столбцов, дабы увидеть распределение значений.",
      "metadata": {}
    },
    {
      "cell_type": "code",
      "source": "data.hist(figsize=(15,20))\nplt.show()",
      "metadata": {},
      "execution_count": 4,
      "outputs": [
        {
          "output_type": "display_data",
          "data": {
            "image/png": "[encoded data removed]",
            "text/plain": [
              "<Figure size 1080x1440 with 20 Axes>"
            ]
          },
          "metadata": {
            "needs_background": "light"
          }
        }
      ]
    },
    {
      "cell_type": "markdown",
      "source": "#### Вывод:\nИсходя из полученной инфомрации может сделать вывод, что в столбцах: ceiling_height,floors_total, living_area, is_apartment, kitchen_area, balcony, locality_name, airports_nearest, cityCenters_nearest, parks_around3000, parks_nearest, ponds_around3000, ponds_nearest, days_exposition имеются пропущенные значения.\nТакже first_day_exposition (to datetime), floors_total (to int), balcony (to int), parks_around3000 (to int), ponds_around3000 (to int), days_exposition (to in) имеют неверный тип данных.\nCeiling_height имеет аномально высокое максимальное значение, что не соответствует действительности.\n",
      "metadata": {}
    },
    {
      "cell_type": "markdown",
      "source": "### Предобработка данных",
      "metadata": {}
    },
    {
      "cell_type": "markdown",
      "source": "#### Выведем количество пропущенных значений для каждого столбца",
      "metadata": {}
    },
    {
      "cell_type": "code",
      "source": "display(data.isna().sum())",
      "metadata": {},
      "execution_count": 5,
      "outputs": [
        {
          "output_type": "display_data",
          "data": {
            "text/plain": [
              "total_images                0\n",
              "last_price                  0\n",
              "total_area                  0\n",
              "first_day_exposition        0\n",
              "rooms                       0\n",
              "ceiling_height           9195\n",
              "floors_total               86\n",
              "living_area              1903\n",
              "floor                       0\n",
              "is_apartment            20924\n",
              "studio                      0\n",
              "open_plan                   0\n",
              "kitchen_area             2278\n",
              "balcony                 11519\n",
              "locality_name              49\n",
              "airports_nearest         5542\n",
              "cityCenters_nearest      5519\n",
              "parks_around3000         5518\n",
              "parks_nearest           15620\n",
              "ponds_around3000         5518\n",
              "ponds_nearest           14589\n",
              "days_exposition          3181\n",
              "dtype: int64"
            ]
          },
          "metadata": {}
        }
      ]
    },
    {
      "cell_type": "markdown",
      "source": "#### Переходим к пропущенным значениям в столбце ceiling_height",
      "metadata": {}
    },
    {
      "cell_type": "markdown",
      "source": "Выше, в функции describe мы обнаружили аномально высокие значения в данном столбце. Заменим пустые значения на медианные, а позже определим чем являются такие выбросы в нашем датасете.",
      "metadata": {}
    },
    {
      "cell_type": "code",
      "source": "data['ceiling_height'] = data['ceiling_height'].fillna(data['ceiling_height'].median())\nprint(data['ceiling_height'].isna().sum())",
      "metadata": {},
      "execution_count": 6,
      "outputs": [
        {
          "name": "stdout",
          "output_type": "stream",
          "text": "0\n"
        }
      ]
    },
    {
      "cell_type": "markdown",
      "source": "<div class=\"alert alert-success\">\n<b>✔️ Комментарий ревьюера v1:</b> \n<br>Согласен с таким решением, так как основная часть данных в этом столбце находится в небольшом диапазоне.\n</div>",
      "metadata": {}
    },
    {
      "cell_type": "markdown",
      "source": "#### Переходим к пропущенным значениям в столбце locality_name",
      "metadata": {}
    },
    {
      "cell_type": "markdown",
      "source": "Местоположение является одним из ключевых криетериев. Заменим отсутствующие значения на 'unknown'. Также приведем все строки к нижнему регистру и заменим все буквы ё на е.",
      "metadata": {}
    },
    {
      "cell_type": "code",
      "source": "data['locality_name'] = data['locality_name'].fillna('unknown')\nprint(data['locality_name'].isna().sum())",
      "metadata": {},
      "execution_count": 7,
      "outputs": [
        {
          "name": "stdout",
          "output_type": "stream",
          "text": "0\n"
        }
      ]
    },
    {
      "cell_type": "markdown",
      "source": "#### Переходим к пропущенным значениям в столбце cityCenters_nearest.",
      "metadata": {}
    },
    {
      "cell_type": "markdown",
      "source": "Заполнить данные пропуски не представляется возможным. Количество пропущенных значений черезчур велико. Не будем никак обрабатывать данные значения",
      "metadata": {}
    },
    {
      "cell_type": "code",
      "source": "print(data['cityCenters_nearest'].isna().sum())",
      "metadata": {},
      "execution_count": 8,
      "outputs": [
        {
          "name": "stdout",
          "output_type": "stream",
          "text": "5519\n"
        }
      ]
    },
    {
      "cell_type": "markdown",
      "source": "#### Переходим к пропущенным значениям в столбце floors_total",
      "metadata": {}
    },
    {
      "cell_type": "markdown",
      "source": "Количество данных пропусков весьма незначительно. Заменим их на медианное по всему столбцу, так как это менее процента от общего количества данных.",
      "metadata": {}
    },
    {
      "cell_type": "code",
      "source": "data['floors_total'] = data['floors_total'].fillna(data['floors_total'].median())\nprint(data['floors_total'].isna().sum())",
      "metadata": {},
      "execution_count": 9,
      "outputs": [
        {
          "name": "stdout",
          "output_type": "stream",
          "text": "0\n"
        }
      ]
    },
    {
      "cell_type": "markdown",
      "source": "#### Переходим к пропущенным значениям в столбце living_area",
      "metadata": {}
    },
    {
      "cell_type": "markdown",
      "source": "Пропущенные в данном столбце значения вполне могут иметь высокую линейную корреляцию с total_area. Провери это,\nдабы открыть возможность для замены пропущенных значений на медианные по отношению к total_area.",
      "metadata": {}
    },
    {
      "cell_type": "code",
      "source": "print(data['living_area'].corr(data['total_area']))",
      "metadata": {},
      "execution_count": 10,
      "outputs": [
        {
          "name": "stdout",
          "output_type": "stream",
          "text": "0.9395373338721493\n"
        }
      ]
    },
    {
      "cell_type": "markdown",
      "source": "Получаем явную положительную линейную зависимость. С ростом total_area - будет расти и living_area. Визуализируем данную зависимость для более детального понимания.",
      "metadata": {}
    },
    {
      "cell_type": "code",
      "source": "data.plot(x='living_area', y='total_area', kind='scatter', grid=True)\nplt.title('Корреляция жилой площади к общей площади квартиры.')\nplt.show()",
      "metadata": {
        "scrolled": true
      },
      "execution_count": 11,
      "outputs": [
        {
          "output_type": "display_data",
          "data": {
            "image/png": "[encoded data removed]",
            "text/plain": [
              "<Figure size 432x288 with 1 Axes>"
            ]
          },
          "metadata": {
            "needs_background": "light"
          }
        }
      ]
    },
    {
      "cell_type": "markdown",
      "source": "Заменим пропуски на медианное значение отношения living_area к total_area.",
      "metadata": {}
    },
    {
      "cell_type": "code",
      "source": "data['living_area'] = data['living_area'].fillna(round((data['living_area'] / data['total_area']).mean() * data['total_area']))\nprint(data['living_area'].isna().sum())",
      "metadata": {},
      "execution_count": 12,
      "outputs": [
        {
          "name": "stdout",
          "output_type": "stream",
          "text": "0\n"
        }
      ]
    },
    {
      "cell_type": "markdown",
      "source": "#### Переходим к пропущенным значениям в столбце kitchen_area",
      "metadata": {}
    },
    {
      "cell_type": "markdown",
      "source": "Вероятно имеет место быть быть подобная living_area корреляция с total_area. Проверим это и при наличии таковой заменим на медианные значения отношения.",
      "metadata": {}
    },
    {
      "cell_type": "code",
      "source": "print(data['kitchen_area'].corr(data['total_area']))",
      "metadata": {},
      "execution_count": 13,
      "outputs": [
        {
          "name": "stdout",
          "output_type": "stream",
          "text": "0.6091211711198318\n"
        }
      ]
    },
    {
      "cell_type": "markdown",
      "source": "Зависимость меньше, однако все же заменим на медианные значения.",
      "metadata": {}
    },
    {
      "cell_type": "code",
      "source": "data['kitchen_area'] = data['kitchen_area'].fillna(round((data['kitchen_area'] / data['total_area']).mean() * data['total_area']))\nprint(data['kitchen_area'].isna().sum())",
      "metadata": {},
      "execution_count": 14,
      "outputs": [
        {
          "name": "stdout",
          "output_type": "stream",
          "text": "0\n"
        }
      ]
    },
    {
      "cell_type": "markdown",
      "source": "#### Переходим к пропущенным значениям в столбце is_apartment",
      "metadata": {}
    },
    {
      "cell_type": "markdown",
      "source": "Вероятной причиной такого большого количества пропусков является непонимание людей что считается апартаментами. Поэтому просто заменим все значения на False.",
      "metadata": {}
    },
    {
      "cell_type": "code",
      "source": "data['is_apartment'] = data['is_apartment'].fillna(False)\nprint(data['is_apartment'].isna().sum())",
      "metadata": {},
      "execution_count": 15,
      "outputs": [
        {
          "name": "stdout",
          "output_type": "stream",
          "text": "0\n"
        }
      ]
    },
    {
      "cell_type": "markdown",
      "source": "#### Переходим к пропущенным значениям в столбце balcony",
      "metadata": {}
    },
    {
      "cell_type": "markdown",
      "source": "Пропущена около половины значений. Вероятно при отсутствии балкона люди просто не заполняли данное поле. Заполним 0.",
      "metadata": {}
    },
    {
      "cell_type": "code",
      "source": "data['balcony'] = data['balcony'].fillna(0)\nprint(data['balcony'].isna().sum())",
      "metadata": {},
      "execution_count": 16,
      "outputs": [
        {
          "name": "stdout",
          "output_type": "stream",
          "text": "0\n"
        }
      ]
    },
    {
      "cell_type": "markdown",
      "source": "#### Переходим к пропущенным значениям в столбцах parks_around3000, ponds_around3000, days_exposition, airports_nearest, parks_nearest, ponds_nearest.",
      "metadata": {}
    },
    {
      "cell_type": "markdown",
      "source": "Значения в данных столбцах невозможно предугадать, либо заменить на медианные. Поэтому заменим значения на false, либо же 0.",
      "metadata": {}
    },
    {
      "cell_type": "code",
      "source": "data['parks_around3000'] = data['parks_around3000'].fillna(0)\ndata['ponds_around3000'] = data['ponds_around3000'].fillna(0)\ndata['airports_nearest'] = data['airports_nearest'].fillna(0)\ndata['parks_nearest'] = data['parks_nearest'].fillna(0)\ndata['ponds_nearest'] = data['ponds_nearest'].fillna(0)",
      "metadata": {},
      "execution_count": 17,
      "outputs": []
    },
    {
      "cell_type": "markdown",
      "source": "#### Проверим общее количество пропусков в датасете после всех обработок.",
      "metadata": {}
    },
    {
      "cell_type": "code",
      "source": "print(data.isna().sum())",
      "metadata": {},
      "execution_count": 18,
      "outputs": [
        {
          "name": "stdout",
          "output_type": "stream",
          "text": "total_images               0\n\nlast_price                 0\n\ntotal_area                 0\n\nfirst_day_exposition       0\n\nrooms                      0\n\nceiling_height             0\n\nfloors_total               0\n\nliving_area                0\n\nfloor                      0\n\nis_apartment               0\n\nstudio                     0\n\nopen_plan                  0\n\nkitchen_area               0\n\nbalcony                    0\n\nlocality_name              0\n\nairports_nearest           0\n\ncityCenters_nearest     5519\n\nparks_around3000           0\n\nparks_nearest              0\n\nponds_around3000           0\n\nponds_nearest              0\n\ndays_exposition         3181\n\ndtype: int64\n"
        }
      ]
    },
    {
      "cell_type": "markdown",
      "source": "#### Приведем типы данных",
      "metadata": {}
    },
    {
      "cell_type": "code",
      "source": "data['total_images'] = data['total_images'].astype('int') # количество картинок целочислено\ndata['floors_total'] = data['floors_total'].astype('int') # количество этажей очевидно целочислено\ndata['balcony'] = data['balcony'].astype('int') # количество балконов целочислено\ndata['days_exposition'] = pd.to_numeric(data['days_exposition']) # количество дней целочислено\ndata['first_day_exposition'] = pd.to_datetime(data['first_day_exposition'].astype(str), format='%Y-%m-%dT%H:%M:%S') # приведем к типу datetime\ndata['parks_around3000'] = data['parks_around3000'].astype('int') # количество парков целочислено\ndata['ponds_around3000'] = data['ponds_around3000'].astype('int') # количество прудов целочислено",
      "metadata": {},
      "execution_count": 19,
      "outputs": []
    },
    {
      "cell_type": "markdown",
      "source": "#### Приведем все названия населенных пунктов к нижнему регистру, а также приведем названия к одному виду",
      "metadata": {}
    },
    {
      "cell_type": "code",
      "source": "data['locality_name'] = data['locality_name'].str.lower()\ndata['locality_name'] = data['locality_name'].str.replace('ё', 'е')\ndata['locality_name'] = data['locality_name'].str.replace('поселок', '')\ndata['locality_name'] = data['locality_name'].str.replace('деревня','')\ndata['locality_name'] = data['locality_name'].str.replace('типа','')\ndata['locality_name'] = data['locality_name'].str.replace('городского','')\ndata['locality_name'] = data['locality_name'].str.replace('городской', '')\ndata['locality_name'] = data['locality_name'].str.replace(\" \", \"\")\nprint(data['locality_name'].unique())",
      "metadata": {},
      "execution_count": 20,
      "outputs": [
        {
          "name": "stdout",
          "output_type": "stream",
          "text": "['санкт-петербург' 'шушары' 'янино-1' 'парголово' 'мурино' 'ломоносов'\n\n 'сертолово' 'петергоф' 'пушкин' 'кудрово' 'коммунар' 'колпино'\n\n 'красныйбор' 'гатчина' 'федоровское' 'выборг' 'кронштадт' 'кировск'\n\n 'новоедевяткино' 'металлострой' 'лебяжье' 'сиверский' 'молодцово'\n\n 'кузьмоловский' 'садовоетовариществоноваяропша' 'павловск' 'пикколово'\n\n 'всеволожск' 'волхов' 'кингисепп' 'приозерск' 'сестрорецк' 'куттузи'\n\n 'аннино' 'ефимовский' 'плодовое' 'заклинье' 'торковичи' 'первомайское'\n\n 'красноесело' 'понтонный' 'сясьстрой' 'старая' 'лесколово' 'новыйсвет'\n\n 'сланцы' 'селопутилово' 'ивангород' 'шлиссельбург' 'никольское'\n\n 'зеленогорск' 'сосновыйбор' 'оржицы' 'кальтино' 'романовка' 'бугры'\n\n 'рощино' 'кириши' 'луга' 'волосово' 'отрадное' 'селопавлово' 'оредеж'\n\n 'селокопорье' 'молодежное' 'тихвин' 'победа' 'нурма' 'синявино' 'тосно'\n\n 'стрельна' 'бокситогорск' 'александровская' 'лопухинка' 'пикалево'\n\n 'терволово' 'советский' 'подпорожье' 'петровское' 'токсово' 'сельцо'\n\n 'вырица' 'кипень' 'келози' 'вартемяги' 'тельмана' 'севастьяново'\n\n 'большаяижора' 'unknown' 'павлово' 'агалатово' 'новогорелово'\n\n 'лесогорский' 'лаголово' 'цвелодубово' 'рахья' 'белогорка' 'заводской'\n\n 'новоселье' 'большиеколпаны' 'горбунки' 'батово' 'заневка' 'иссад'\n\n 'приморск' 'мистолово' 'новаяладога' 'зимитицы' 'барышево' 'разметелево'\n\n 'именисвердлова' 'пеники' 'рябово' 'пудомяги' 'станциикорнево' 'низино'\n\n 'бегуницы' 'поляны' 'мга' 'елизаветино' 'кузнечное' 'колтуши'\n\n 'запорожское' 'гостилицы' 'малоекарлино' 'мичуринское' 'имениморозова'\n\n 'песочный' 'сосново' 'аро' 'ильичево' 'тайцы' 'малоеверево' 'извара'\n\n 'станциивещево' 'селопаша' 'калитино' 'ульяновка' 'чудскойбор' 'дубровка'\n\n 'мины' 'войсковицы' 'коркино' 'ропша' 'приладожский' 'щеглово'\n\n 'гаврилово' 'лодейноеполе' 'рабитицы' 'никольский' 'кузьмолово'\n\n 'малыеколпаны' 'петро-славянка' 'назия' 'репино' 'углово' 'стараямалукса'\n\n 'садовоетовариществорахья' 'меньково' 'старыебегуницы' 'саперный'\n\n 'семрино' 'глажево' 'кобринское' 'гарболово' 'юкки'\n\n 'станцииприветнинское' 'мануйлово' 'пчева' 'цвылево' 'мельниково'\n\n 'пудость' 'усть-луга' 'светогорск' 'любань' 'селезнево' 'каменногорск'\n\n 'кривко' 'глебычево' 'парицы' 'жил' 'войскорово' 'селоникольское'\n\n 'стеклянный' 'важины' 'мыза-ивановка' 'селорусско-высоцкое' 'форносово'\n\n 'селостараяладога' 'житково' 'виллози' 'лампово' 'шпаньково' 'лаврики'\n\n 'сумино' 'возрождение' 'старосиверская' 'кикерино' 'староехинколово'\n\n 'пригородный' 'торфяное' 'будогощь' 'суходолье' 'краснаядолина' 'хапо-ое'\n\n 'дружнаягорка' 'лисийнос' 'яльгелево' 'селорождествено' 'старополье'\n\n 'левашово' 'сяськелево' 'камышовка'\n\n 'садоводческоенекоммерческоетовариществолеснаяполяна' 'хязельки'\n\n 'жилгородок' 'ялгино' 'новыйучхоз' 'гончарово' 'почап' 'саперное'\n\n 'платформа69-йкилометр' 'каложицы' 'фалилеево' 'пельгора' 'торошковичи'\n\n 'белоостров' 'алексеевка' 'серебрянский' 'лукаши' 'тарасово'\n\n 'кингисеппский' 'прижелезнодорожнойстанциивещево' 'ушаки' 'котлы' 'сижно'\n\n 'торосово' 'форткраснаягорка' 'новолисино' 'станциигромово' 'глинка'\n\n 'стараяпустошь' 'коммунары' 'починок' 'вознесенье' 'разбегаево' 'гладкое'\n\n 'прижелезнодорожнойстанцииприветнинское' 'тесово-4' 'бор' 'коробицыно'\n\n 'большаявруда' 'курковицы' 'кобралово' 'суоранда' 'кондратьево'\n\n 'коттеджныйсчастье' 'реброво' 'тойворово' 'семиозерье' 'лесное'\n\n 'совхозный' 'ленинское' 'суйда' 'нижниеосельки' 'станциисвирь' 'перово'\n\n 'высоцк' 'селошум' 'котельский' 'станциилужайка' 'большаяпустомержа'\n\n 'красносельское' 'вахновакара' 'пижма' 'коттеджныйкивеннапасевер'\n\n 'ромашки' 'каськово' 'куровицы' 'плоское' 'кирпичное' 'ям-тесово'\n\n 'раздолье' 'терпилицы' 'шугозеро' 'ваганово' 'пушное'\n\n 'садовоетовариществосадко' 'усть-ижора' 'выскатка' 'свирьстрой' 'громово'\n\n 'кисельня' 'трубниковбор' 'высокоключевой'\n\n 'садовоетовариществоприладожский' 'пансионатзеленыйбор' 'ненимяки'\n\n 'снегиревка' 'рапполово' 'пустынка' 'большойсабск' 'русско' 'лупполово'\n\n 'большоерейзино' 'малаяромановка' 'дружноселье' 'пчевжа' 'володарское'\n\n 'нижняя' 'коттеджныйлесное' 'тихковицы' 'борисовагрива' 'дзержинского']\n"
        }
      ]
    },
    {
      "cell_type": "markdown",
      "source": "#### Обработаем аномальные значения в ceiling_height",
      "metadata": {}
    },
    {
      "cell_type": "markdown",
      "source": "Для начала посмотрим на график, а также применим метод describe к данному столбцу.",
      "metadata": {}
    },
    {
      "cell_type": "code",
      "source": "data.plot(y='ceiling_height', kind='hist', bins=100, grid=True, range=(1, 4))\ndata['ceiling_height'].describe()",
      "metadata": {},
      "execution_count": 21,
      "outputs": [
        {
          "execution_count": 21,
          "output_type": "execute_result",
          "data": {
            "text/plain": [
              "count    23699.000000\n",
              "mean         2.724358\n",
              "std          0.988298\n",
              "min          1.000000\n",
              "25%          2.600000\n",
              "50%          2.650000\n",
              "75%          2.700000\n",
              "max        100.000000\n",
              "Name: ceiling_height, dtype: float64"
            ]
          },
          "metadata": {}
        },
        {
          "output_type": "display_data",
          "data": {
            "image/png": "[encoded data removed]",
            "text/plain": [
              "<Figure size 432x288 with 1 Axes>"
            ]
          },
          "metadata": {
            "needs_background": "light"
          }
        }
      ]
    },
    {
      "cell_type": "markdown",
      "source": "Обычно потолки находятся в пределах от 2,1 до 4 метров. Все остальные значения необходимо будет отбросить",
      "metadata": {}
    },
    {
      "cell_type": "code",
      "source": "new_data = data.query('ceiling_height > 2.1 and ceiling_height < 4')\nnew_data.plot(y='ceiling_height', kind='hist', bins=100, grid=True, range=(2, 4))\nnew_data['ceiling_height'].describe()",
      "metadata": {},
      "execution_count": 22,
      "outputs": [
        {
          "execution_count": 22,
          "output_type": "execute_result",
          "data": {
            "text/plain": [
              "count    23571.000000\n",
              "mean         2.691524\n",
              "std          0.197299\n",
              "min          2.200000\n",
              "25%          2.600000\n",
              "50%          2.650000\n",
              "75%          2.700000\n",
              "max          3.980000\n",
              "Name: ceiling_height, dtype: float64"
            ]
          },
          "metadata": {}
        },
        {
          "output_type": "display_data",
          "data": {
            "image/png": "[encoded data removed]",
            "text/plain": [
              "<Figure size 432x288 with 1 Axes>"
            ]
          },
          "metadata": {
            "needs_background": "light"
          }
        }
      ]
    },
    {
      "cell_type": "markdown",
      "source": "Теперь данные больше похожи на адекватные",
      "metadata": {}
    },
    {
      "cell_type": "markdown",
      "source": "#### Обработаем аномальные значения в столбце last_price",
      "metadata": {}
    },
    {
      "cell_type": "markdown",
      "source": "Также начнем с рассмотрения распределения значений, а также функции describe",
      "metadata": {}
    },
    {
      "cell_type": "code",
      "source": "new_data.plot(y='last_price', kind='hist', bins=100, grid=True, range=(100000000,1000000000))\nnew_data['last_price'].describe()",
      "metadata": {},
      "execution_count": 23,
      "outputs": [
        {
          "execution_count": 23,
          "output_type": "execute_result",
          "data": {
            "text/plain": [
              "count    2.357100e+04\n",
              "mean     6.472515e+06\n",
              "std      1.067998e+07\n",
              "min      1.219000e+04\n",
              "25%      3.400000e+06\n",
              "50%      4.626540e+06\n",
              "75%      6.750000e+06\n",
              "max      7.630000e+08\n",
              "Name: last_price, dtype: float64"
            ]
          },
          "metadata": {}
        },
        {
          "output_type": "display_data",
          "data": {
            "image/png": "[encoded data removed]",
            "text/plain": [
              "<Figure size 432x288 with 1 Axes>"
            ]
          },
          "metadata": {
            "needs_background": "light"
          }
        }
      ]
    },
    {
      "cell_type": "markdown",
      "source": "Маловероятно, что квартира может стоит менее 100.000 рублей, уберем такое объявление. Также обозначим верхнюю планку в виде 200000000.",
      "metadata": {}
    },
    {
      "cell_type": "code",
      "source": "new_data = new_data.query('last_price > 400000 and last_price < 200000000')",
      "metadata": {},
      "execution_count": 24,
      "outputs": []
    },
    {
      "cell_type": "code",
      "source": "new_data.plot(y='last_price', kind='hist', bins=100, grid=True, range=(400000,10000000))\nnew_data['last_price'].describe()",
      "metadata": {},
      "execution_count": 25,
      "outputs": [
        {
          "execution_count": 25,
          "output_type": "execute_result",
          "data": {
            "text/plain": [
              "count    2.356100e+04\n",
              "mean     6.338657e+06\n",
              "std      7.588102e+06\n",
              "min      4.300000e+05\n",
              "25%      3.400000e+06\n",
              "50%      4.620000e+06\n",
              "75%      6.750000e+06\n",
              "max      1.908700e+08\n",
              "Name: last_price, dtype: float64"
            ]
          },
          "metadata": {}
        },
        {
          "output_type": "display_data",
          "data": {
            "image/png": "[encoded data removed]",
            "text/plain": [
              "<Figure size 432x288 with 1 Axes>"
            ]
          },
          "metadata": {
            "needs_background": "light"
          }
        }
      ]
    },
    {
      "cell_type": "markdown",
      "source": "Теперь выглядит более правдоподобно.",
      "metadata": {}
    },
    {
      "cell_type": "markdown",
      "source": "#### Обрботаем аномальные значения в столбцах living_area, kitchen_area и total_area.",
      "metadata": {}
    },
    {
      "cell_type": "markdown",
      "source": "Для начала необходимо убрать все значения, где сумма living_area и kitchen_area будут больше чем total_area",
      "metadata": {}
    },
    {
      "cell_type": "code",
      "source": "new_data = new_data.query('(living_area + kitchen_area) < total_area')",
      "metadata": {},
      "execution_count": 26,
      "outputs": []
    },
    {
      "cell_type": "code",
      "source": "new_data.plot(y='total_area', kind='hist', bins=100, grid=True)\nnew_data['total_area'].describe()",
      "metadata": {},
      "execution_count": 27,
      "outputs": [
        {
          "execution_count": 27,
          "output_type": "execute_result",
          "data": {
            "text/plain": [
              "count    23364.000000\n",
              "mean        60.028220\n",
              "std         33.892268\n",
              "min         13.000000\n",
              "25%         40.000000\n",
              "50%         52.000000\n",
              "75%         69.600000\n",
              "max        631.200000\n",
              "Name: total_area, dtype: float64"
            ]
          },
          "metadata": {}
        },
        {
          "output_type": "display_data",
          "data": {
            "image/png": "[encoded data removed]",
            "text/plain": [
              "<Figure size 432x288 with 1 Axes>"
            ]
          },
          "metadata": {
            "needs_background": "light"
          }
        }
      ]
    },
    {
      "cell_type": "markdown",
      "source": "Общая площадь квартиры 600 квадратных метров звучит привлекательно, но маловероятно, что это соответствует адекватным данным. Поставим верхнюю границу квартиры в 300 квадратных метров",
      "metadata": {}
    },
    {
      "cell_type": "code",
      "source": "new_data = new_data.query('total_area < 300')",
      "metadata": {},
      "execution_count": 28,
      "outputs": []
    },
    {
      "cell_type": "markdown",
      "source": "#### Обработаем столбец rooms",
      "metadata": {}
    },
    {
      "cell_type": "code",
      "source": "new_data.plot(y='rooms', kind='hist', bins=100, grid=True)\nnew_data['rooms'].describe()",
      "metadata": {},
      "execution_count": 29,
      "outputs": [
        {
          "execution_count": 29,
          "output_type": "execute_result",
          "data": {
            "text/plain": [
              "count    23313.000000\n",
              "mean         2.058851\n",
              "std          1.039567\n",
              "min          0.000000\n",
              "25%          1.000000\n",
              "50%          2.000000\n",
              "75%          3.000000\n",
              "max         16.000000\n",
              "Name: rooms, dtype: float64"
            ]
          },
          "metadata": {}
        },
        {
          "output_type": "display_data",
          "data": {
            "image/png": "[encoded data removed]",
            "text/plain": [
              "<Figure size 432x288 with 1 Axes>"
            ]
          },
          "metadata": {
            "needs_background": "light"
          }
        }
      ]
    },
    {
      "cell_type": "code",
      "source": "new_data = new_data.query('rooms <= 8')",
      "metadata": {},
      "execution_count": 30,
      "outputs": []
    },
    {
      "cell_type": "markdown",
      "source": "Проверим, сколько же данных мы потеряли после всех обработок",
      "metadata": {}
    },
    {
      "cell_type": "code",
      "source": "new_data.shape[0] / data.shape[0]",
      "metadata": {},
      "execution_count": 31,
      "outputs": [
        {
          "execution_count": 31,
          "output_type": "execute_result",
          "data": {
            "text/plain": [
              "0.9832482383222921"
            ]
          },
          "metadata": {}
        }
      ]
    },
    {
      "cell_type": "markdown",
      "source": "Видим, что было убрано не более 5% данных, что нас вполне устраивает.",
      "metadata": {}
    },
    {
      "cell_type": "markdown",
      "source": "#### Вывод:\nВ ходе выполнения предобработки данных были удалены пропуски во всех столбцах, кроме cityCenters_nearest, а также days_exposition. В связи с тем, что обработка первого столбца невозможна из-за отсутсвия возможных адекватных замен, а во втором стобце отсутствие значения означает, что объявление еще не снято.\nТакже привели типы данных в столбцах:\n- total_images\n- floors_total\n- balcony\n- days_exposition\n- first_day_exposition\n- parks_around3000\n- ponds_around3000\n\nТакже названия в locality_name были приведены к единому виду.\nТакже были обработаны аномальные значения в столбцах:\n- total_area\n- rooms\n- ceiling_height\n- last_price",
      "metadata": {}
    },
    {
      "cell_type": "markdown",
      "source": "### Посчитайте и добавьте в таблицу новые столбцы",
      "metadata": {}
    },
    {
      "cell_type": "markdown",
      "source": "Цена одного квадратного метра",
      "metadata": {}
    },
    {
      "cell_type": "code",
      "source": "new_data['price_per_sqm'] = new_data['last_price'] / new_data['total_area']",
      "metadata": {},
      "execution_count": 32,
      "outputs": []
    },
    {
      "cell_type": "markdown",
      "source": "День публикации объявления",
      "metadata": {}
    },
    {
      "cell_type": "code",
      "source": "new_data['weekday'] = new_data['first_day_exposition'].dt.weekday\nnew_data['month'] = new_data['first_day_exposition'].dt.month\nnew_data['year'] = new_data['first_day_exposition'].dt.year",
      "metadata": {},
      "execution_count": 33,
      "outputs": []
    },
    {
      "cell_type": "markdown",
      "source": "Этаж квартиры",
      "metadata": {}
    },
    {
      "cell_type": "code",
      "source": "def categorize_floor (row):\n    if row['floor'] == 1:\n        return 'первый'\n    elif row['floor'] == row['floors_total']:\n        return 'последний'\n    else:\n        return 'другой'",
      "metadata": {},
      "execution_count": 34,
      "outputs": []
    },
    {
      "cell_type": "code",
      "source": "new_data['categorized_floor'] = new_data.apply(categorize_floor, axis=1)\n",
      "metadata": {},
      "execution_count": 35,
      "outputs": []
    },
    {
      "cell_type": "markdown",
      "source": "Расстояние в км до центра города",
      "metadata": {}
    },
    {
      "cell_type": "code",
      "source": "new_data['cityCenters_nearest_km'] = new_data['cityCenters_nearest'] / 1000\nnew_data['cityCenters_nearest_km'] = new_data['cityCenters_nearest'].round()\ndisplay(new_data)",
      "metadata": {},
      "execution_count": 36,
      "outputs": [
        {
          "output_type": "display_data",
          "data": {
            "text/html": [
              "<div>\n",
              "<style scoped>\n",
              "    .dataframe tbody tr th:only-of-type {\n",
              "        vertical-align: middle;\n",
              "    }\n",
              "\n",
              "    .dataframe tbody tr th {\n",
              "        vertical-align: top;\n",
              "    }\n",
              "\n",
              "    .dataframe thead th {\n",
              "        text-align: right;\n",
              "    }\n",
              "</style>\n",
              "<table border=\"1\" class=\"dataframe\">\n",
              "  <thead>\n",
              "    <tr style=\"text-align: right;\">\n",
              "      <th></th>\n",
              "      <th>total_images</th>\n",
              "      <th>last_price</th>\n",
              "      <th>total_area</th>\n",
              "      <th>first_day_exposition</th>\n",
              "      <th>rooms</th>\n",
              "      <th>ceiling_height</th>\n",
              "      <th>floors_total</th>\n",
              "      <th>living_area</th>\n",
              "      <th>floor</th>\n",
              "      <th>is_apartment</th>\n",
              "      <th>...</th>\n",
              "      <th>parks_nearest</th>\n",
              "      <th>ponds_around3000</th>\n",
              "      <th>ponds_nearest</th>\n",
              "      <th>days_exposition</th>\n",
              "      <th>price_per_sqm</th>\n",
              "      <th>weekday</th>\n",
              "      <th>month</th>\n",
              "      <th>year</th>\n",
              "      <th>categorized_floor</th>\n",
              "      <th>cityCenters_nearest_km</th>\n",
              "    </tr>\n",
              "  </thead>\n",
              "  <tbody>\n",
              "    <tr>\n",
              "      <th>0</th>\n",
              "      <td>20</td>\n",
              "      <td>13000000.0</td>\n",
              "      <td>108.00</td>\n",
              "      <td>2019-03-07</td>\n",
              "      <td>3</td>\n",
              "      <td>2.70</td>\n",
              "      <td>16</td>\n",
              "      <td>51.0</td>\n",
              "      <td>8</td>\n",
              "      <td>False</td>\n",
              "      <td>...</td>\n",
              "      <td>482.0</td>\n",
              "      <td>2</td>\n",
              "      <td>755.0</td>\n",
              "      <td>NaN</td>\n",
              "      <td>120370.370370</td>\n",
              "      <td>3</td>\n",
              "      <td>3</td>\n",
              "      <td>2019</td>\n",
              "      <td>другой</td>\n",
              "      <td>16028.0</td>\n",
              "    </tr>\n",
              "    <tr>\n",
              "      <th>1</th>\n",
              "      <td>7</td>\n",
              "      <td>3350000.0</td>\n",
              "      <td>40.40</td>\n",
              "      <td>2018-12-04</td>\n",
              "      <td>1</td>\n",
              "      <td>2.65</td>\n",
              "      <td>11</td>\n",
              "      <td>18.6</td>\n",
              "      <td>1</td>\n",
              "      <td>False</td>\n",
              "      <td>...</td>\n",
              "      <td>0.0</td>\n",
              "      <td>0</td>\n",
              "      <td>0.0</td>\n",
              "      <td>81.0</td>\n",
              "      <td>82920.792079</td>\n",
              "      <td>1</td>\n",
              "      <td>12</td>\n",
              "      <td>2018</td>\n",
              "      <td>первый</td>\n",
              "      <td>18603.0</td>\n",
              "    </tr>\n",
              "    <tr>\n",
              "      <th>2</th>\n",
              "      <td>10</td>\n",
              "      <td>5196000.0</td>\n",
              "      <td>56.00</td>\n",
              "      <td>2015-08-20</td>\n",
              "      <td>2</td>\n",
              "      <td>2.65</td>\n",
              "      <td>5</td>\n",
              "      <td>34.3</td>\n",
              "      <td>4</td>\n",
              "      <td>False</td>\n",
              "      <td>...</td>\n",
              "      <td>90.0</td>\n",
              "      <td>2</td>\n",
              "      <td>574.0</td>\n",
              "      <td>558.0</td>\n",
              "      <td>92785.714286</td>\n",
              "      <td>3</td>\n",
              "      <td>8</td>\n",
              "      <td>2015</td>\n",
              "      <td>другой</td>\n",
              "      <td>13933.0</td>\n",
              "    </tr>\n",
              "    <tr>\n",
              "      <th>3</th>\n",
              "      <td>0</td>\n",
              "      <td>64900000.0</td>\n",
              "      <td>159.00</td>\n",
              "      <td>2015-07-24</td>\n",
              "      <td>3</td>\n",
              "      <td>2.65</td>\n",
              "      <td>14</td>\n",
              "      <td>90.0</td>\n",
              "      <td>9</td>\n",
              "      <td>False</td>\n",
              "      <td>...</td>\n",
              "      <td>84.0</td>\n",
              "      <td>3</td>\n",
              "      <td>234.0</td>\n",
              "      <td>424.0</td>\n",
              "      <td>408176.100629</td>\n",
              "      <td>4</td>\n",
              "      <td>7</td>\n",
              "      <td>2015</td>\n",
              "      <td>другой</td>\n",
              "      <td>6800.0</td>\n",
              "    </tr>\n",
              "    <tr>\n",
              "      <th>4</th>\n",
              "      <td>2</td>\n",
              "      <td>10000000.0</td>\n",
              "      <td>100.00</td>\n",
              "      <td>2018-06-19</td>\n",
              "      <td>2</td>\n",
              "      <td>3.03</td>\n",
              "      <td>14</td>\n",
              "      <td>32.0</td>\n",
              "      <td>13</td>\n",
              "      <td>False</td>\n",
              "      <td>...</td>\n",
              "      <td>112.0</td>\n",
              "      <td>1</td>\n",
              "      <td>48.0</td>\n",
              "      <td>121.0</td>\n",
              "      <td>100000.000000</td>\n",
              "      <td>1</td>\n",
              "      <td>6</td>\n",
              "      <td>2018</td>\n",
              "      <td>другой</td>\n",
              "      <td>8098.0</td>\n",
              "    </tr>\n",
              "    <tr>\n",
              "      <th>...</th>\n",
              "      <td>...</td>\n",
              "      <td>...</td>\n",
              "      <td>...</td>\n",
              "      <td>...</td>\n",
              "      <td>...</td>\n",
              "      <td>...</td>\n",
              "      <td>...</td>\n",
              "      <td>...</td>\n",
              "      <td>...</td>\n",
              "      <td>...</td>\n",
              "      <td>...</td>\n",
              "      <td>...</td>\n",
              "      <td>...</td>\n",
              "      <td>...</td>\n",
              "      <td>...</td>\n",
              "      <td>...</td>\n",
              "      <td>...</td>\n",
              "      <td>...</td>\n",
              "      <td>...</td>\n",
              "      <td>...</td>\n",
              "      <td>...</td>\n",
              "    </tr>\n",
              "    <tr>\n",
              "      <th>23694</th>\n",
              "      <td>9</td>\n",
              "      <td>9700000.0</td>\n",
              "      <td>133.81</td>\n",
              "      <td>2017-03-21</td>\n",
              "      <td>3</td>\n",
              "      <td>3.70</td>\n",
              "      <td>5</td>\n",
              "      <td>73.3</td>\n",
              "      <td>3</td>\n",
              "      <td>False</td>\n",
              "      <td>...</td>\n",
              "      <td>796.0</td>\n",
              "      <td>3</td>\n",
              "      <td>381.0</td>\n",
              "      <td>NaN</td>\n",
              "      <td>72490.845228</td>\n",
              "      <td>1</td>\n",
              "      <td>3</td>\n",
              "      <td>2017</td>\n",
              "      <td>другой</td>\n",
              "      <td>4232.0</td>\n",
              "    </tr>\n",
              "    <tr>\n",
              "      <th>23695</th>\n",
              "      <td>14</td>\n",
              "      <td>3100000.0</td>\n",
              "      <td>59.00</td>\n",
              "      <td>2018-01-15</td>\n",
              "      <td>3</td>\n",
              "      <td>2.65</td>\n",
              "      <td>5</td>\n",
              "      <td>38.0</td>\n",
              "      <td>4</td>\n",
              "      <td>False</td>\n",
              "      <td>...</td>\n",
              "      <td>0.0</td>\n",
              "      <td>0</td>\n",
              "      <td>0.0</td>\n",
              "      <td>45.0</td>\n",
              "      <td>52542.372881</td>\n",
              "      <td>0</td>\n",
              "      <td>1</td>\n",
              "      <td>2018</td>\n",
              "      <td>другой</td>\n",
              "      <td>NaN</td>\n",
              "    </tr>\n",
              "    <tr>\n",
              "      <th>23696</th>\n",
              "      <td>18</td>\n",
              "      <td>2500000.0</td>\n",
              "      <td>56.70</td>\n",
              "      <td>2018-02-11</td>\n",
              "      <td>2</td>\n",
              "      <td>2.65</td>\n",
              "      <td>3</td>\n",
              "      <td>29.7</td>\n",
              "      <td>1</td>\n",
              "      <td>False</td>\n",
              "      <td>...</td>\n",
              "      <td>0.0</td>\n",
              "      <td>0</td>\n",
              "      <td>0.0</td>\n",
              "      <td>NaN</td>\n",
              "      <td>44091.710758</td>\n",
              "      <td>6</td>\n",
              "      <td>2</td>\n",
              "      <td>2018</td>\n",
              "      <td>первый</td>\n",
              "      <td>NaN</td>\n",
              "    </tr>\n",
              "    <tr>\n",
              "      <th>23697</th>\n",
              "      <td>13</td>\n",
              "      <td>11475000.0</td>\n",
              "      <td>76.75</td>\n",
              "      <td>2017-03-28</td>\n",
              "      <td>2</td>\n",
              "      <td>3.00</td>\n",
              "      <td>17</td>\n",
              "      <td>43.0</td>\n",
              "      <td>12</td>\n",
              "      <td>False</td>\n",
              "      <td>...</td>\n",
              "      <td>173.0</td>\n",
              "      <td>3</td>\n",
              "      <td>196.0</td>\n",
              "      <td>602.0</td>\n",
              "      <td>149511.400651</td>\n",
              "      <td>1</td>\n",
              "      <td>3</td>\n",
              "      <td>2017</td>\n",
              "      <td>другой</td>\n",
              "      <td>10364.0</td>\n",
              "    </tr>\n",
              "    <tr>\n",
              "      <th>23698</th>\n",
              "      <td>4</td>\n",
              "      <td>1350000.0</td>\n",
              "      <td>32.30</td>\n",
              "      <td>2017-07-21</td>\n",
              "      <td>1</td>\n",
              "      <td>2.50</td>\n",
              "      <td>5</td>\n",
              "      <td>12.3</td>\n",
              "      <td>1</td>\n",
              "      <td>False</td>\n",
              "      <td>...</td>\n",
              "      <td>0.0</td>\n",
              "      <td>0</td>\n",
              "      <td>0.0</td>\n",
              "      <td>NaN</td>\n",
              "      <td>41795.665635</td>\n",
              "      <td>4</td>\n",
              "      <td>7</td>\n",
              "      <td>2017</td>\n",
              "      <td>первый</td>\n",
              "      <td>NaN</td>\n",
              "    </tr>\n",
              "  </tbody>\n",
              "</table>\n",
              "<p>23302 rows × 28 columns</p>\n",
              "</div>"
            ],
            "text/plain": [
              "       total_images  last_price  total_area first_day_exposition  rooms  \\\n",
              "0                20  13000000.0      108.00           2019-03-07      3   \n",
              "1                 7   3350000.0       40.40           2018-12-04      1   \n",
              "2                10   5196000.0       56.00           2015-08-20      2   \n",
              "3                 0  64900000.0      159.00           2015-07-24      3   \n",
              "4                 2  10000000.0      100.00           2018-06-19      2   \n",
              "...             ...         ...         ...                  ...    ...   \n",
              "23694             9   9700000.0      133.81           2017-03-21      3   \n",
              "23695            14   3100000.0       59.00           2018-01-15      3   \n",
              "23696            18   2500000.0       56.70           2018-02-11      2   \n",
              "23697            13  11475000.0       76.75           2017-03-28      2   \n",
              "23698             4   1350000.0       32.30           2017-07-21      1   \n",
              "\n",
              "       ceiling_height  floors_total  living_area  floor  is_apartment  ...  \\\n",
              "0                2.70            16         51.0      8         False  ...   \n",
              "1                2.65            11         18.6      1         False  ...   \n",
              "2                2.65             5         34.3      4         False  ...   \n",
              "3                2.65            14         90.0      9         False  ...   \n",
              "4                3.03            14         32.0     13         False  ...   \n",
              "...               ...           ...          ...    ...           ...  ...   \n",
              "23694            3.70             5         73.3      3         False  ...   \n",
              "23695            2.65             5         38.0      4         False  ...   \n",
              "23696            2.65             3         29.7      1         False  ...   \n",
              "23697            3.00            17         43.0     12         False  ...   \n",
              "23698            2.50             5         12.3      1         False  ...   \n",
              "\n",
              "       parks_nearest  ponds_around3000  ponds_nearest  days_exposition  \\\n",
              "0              482.0                 2          755.0              NaN   \n",
              "1                0.0                 0            0.0             81.0   \n",
              "2               90.0                 2          574.0            558.0   \n",
              "3               84.0                 3          234.0            424.0   \n",
              "4              112.0                 1           48.0            121.0   \n",
              "...              ...               ...            ...              ...   \n",
              "23694          796.0                 3          381.0              NaN   \n",
              "23695            0.0                 0            0.0             45.0   \n",
              "23696            0.0                 0            0.0              NaN   \n",
              "23697          173.0                 3          196.0            602.0   \n",
              "23698            0.0                 0            0.0              NaN   \n",
              "\n",
              "       price_per_sqm  weekday  month  year  categorized_floor  \\\n",
              "0      120370.370370        3      3  2019             другой   \n",
              "1       82920.792079        1     12  2018             первый   \n",
              "2       92785.714286        3      8  2015             другой   \n",
              "3      408176.100629        4      7  2015             другой   \n",
              "4      100000.000000        1      6  2018             другой   \n",
              "...              ...      ...    ...   ...                ...   \n",
              "23694   72490.845228        1      3  2017             другой   \n",
              "23695   52542.372881        0      1  2018             другой   \n",
              "23696   44091.710758        6      2  2018             первый   \n",
              "23697  149511.400651        1      3  2017             другой   \n",
              "23698   41795.665635        4      7  2017             первый   \n",
              "\n",
              "       cityCenters_nearest_km  \n",
              "0                     16028.0  \n",
              "1                     18603.0  \n",
              "2                     13933.0  \n",
              "3                      6800.0  \n",
              "4                      8098.0  \n",
              "...                       ...  \n",
              "23694                  4232.0  \n",
              "23695                     NaN  \n",
              "23696                     NaN  \n",
              "23697                 10364.0  \n",
              "23698                     NaN  \n",
              "\n",
              "[23302 rows x 28 columns]"
            ]
          },
          "metadata": {}
        }
      ]
    },
    {
      "cell_type": "markdown",
      "source": "### Проведите исследовательский анализ данных",
      "metadata": {}
    },
    {
      "cell_type": "markdown",
      "source": "Изучим и опишем следующие параметры: \n  - общая площадь;\n  - жилая площадь;\n  - площадь кухни;\n  - цена объекта;\n  - количество комнат;\n  - высота потолков;\n  - этаж квартиры;\n  - тип этажа квартиры («первый», «последний», «другой»);\n  - общее количество этажей в доме;\n  - расстояние до центра города в метрах;\n  - расстояние до ближайшего аэропорта;\n  - расстояние до ближайшего парка;\n  - день и месяц публикации объявления",
      "metadata": {}
    },
    {
      "cell_type": "markdown",
      "source": "Рассмотрим общую площадь.",
      "metadata": {}
    },
    {
      "cell_type": "code",
      "source": "new_data.plot(y='total_area', kind='hist', bins=100, grid=True, figsize=(5,5), range = (0,500))\nnew_data['total_area'].describe()",
      "metadata": {},
      "execution_count": 37,
      "outputs": [
        {
          "execution_count": 37,
          "output_type": "execute_result",
          "data": {
            "text/plain": [
              "count    23302.000000\n",
              "mean        59.224739\n",
              "std         29.754737\n",
              "min         13.000000\n",
              "25%         40.000000\n",
              "50%         52.000000\n",
              "75%         69.197500\n",
              "max        297.500000\n",
              "Name: total_area, dtype: float64"
            ]
          },
          "metadata": {}
        },
        {
          "output_type": "display_data",
          "data": {
            "image/png": "[encoded data removed]",
            "text/plain": [
              "<Figure size 360x360 with 1 Axes>"
            ]
          },
          "metadata": {
            "needs_background": "light"
          }
        }
      ]
    },
    {
      "cell_type": "markdown",
      "source": "Распределение нормальное, однако есть некоторые выбросы.",
      "metadata": {}
    },
    {
      "cell_type": "markdown",
      "source": "Далее рассмотрим жилую площадь.",
      "metadata": {}
    },
    {
      "cell_type": "code",
      "source": "new_data.plot(y='living_area', kind='hist', bins=100, grid=True, range=(0,400))\nnew_data['living_area'].describe()",
      "metadata": {},
      "execution_count": 38,
      "outputs": [
        {
          "execution_count": 38,
          "output_type": "execute_result",
          "data": {
            "text/plain": [
              "count    23302.000000\n",
              "mean        33.805229\n",
              "std         19.158655\n",
              "min          2.000000\n",
              "25%         19.000000\n",
              "50%         30.000000\n",
              "75%         42.000000\n",
              "max        250.000000\n",
              "Name: living_area, dtype: float64"
            ]
          },
          "metadata": {}
        },
        {
          "output_type": "display_data",
          "data": {
            "image/png": "[encoded data removed]",
            "text/plain": [
              "<Figure size 432x288 with 1 Axes>"
            ]
          },
          "metadata": {
            "needs_background": "light"
          }
        }
      ]
    },
    {
      "cell_type": "markdown",
      "source": "Рассмотрим площадь кухни",
      "metadata": {}
    },
    {
      "cell_type": "code",
      "source": "new_data.plot(y='kitchen_area', kind='hist', bins=100, grid=True, range=(0,80))\nnew_data['kitchen_area'].describe()",
      "metadata": {},
      "execution_count": 39,
      "outputs": [
        {
          "execution_count": 39,
          "output_type": "execute_result",
          "data": {
            "text/plain": [
              "count    23302.000000\n",
              "mean        10.427802\n",
              "std          5.605984\n",
              "min          1.300000\n",
              "25%          7.000000\n",
              "50%          9.000000\n",
              "75%         12.000000\n",
              "max        107.000000\n",
              "Name: kitchen_area, dtype: float64"
            ]
          },
          "metadata": {}
        },
        {
          "output_type": "display_data",
          "data": {
            "image/png": "[encoded data removed]",
            "text/plain": [
              "<Figure size 432x288 with 1 Axes>"
            ]
          },
          "metadata": {
            "needs_background": "light"
          }
        }
      ]
    },
    {
      "cell_type": "markdown",
      "source": "Распределение выглядит лучше, чем у жилой площади, однако опять же присутствует пик низких значений.",
      "metadata": {}
    },
    {
      "cell_type": "markdown",
      "source": "Рассмотрим цену объекта",
      "metadata": {}
    },
    {
      "cell_type": "code",
      "source": "new_data.plot(y='last_price', kind='hist', bins=100, grid=True, range=(0, 80000000))\nnew_data['last_price'].describe()",
      "metadata": {},
      "execution_count": 40,
      "outputs": [
        {
          "execution_count": 40,
          "output_type": "execute_result",
          "data": {
            "text/plain": [
              "count    2.330200e+04\n",
              "mean     6.205393e+06\n",
              "std      6.788152e+06\n",
              "min      4.300000e+05\n",
              "25%      3.405250e+06\n",
              "50%      4.600000e+06\n",
              "75%      6.700000e+06\n",
              "max      1.908700e+08\n",
              "Name: last_price, dtype: float64"
            ]
          },
          "metadata": {}
        },
        {
          "output_type": "display_data",
          "data": {
            "image/png": "[encoded data removed]",
            "text/plain": [
              "<Figure size 432x288 with 1 Axes>"
            ]
          },
          "metadata": {
            "needs_background": "light"
          }
        }
      ]
    },
    {
      "cell_type": "markdown",
      "source": "Вполне нормальное распределение.",
      "metadata": {}
    },
    {
      "cell_type": "markdown",
      "source": "Рассмотрим количество комнат",
      "metadata": {}
    },
    {
      "cell_type": "code",
      "source": "new_data.plot(y='rooms', kind='hist', bins=100, grid=True, range=(0, 20))\nnew_data['rooms'].describe()",
      "metadata": {},
      "execution_count": 41,
      "outputs": [
        {
          "execution_count": 41,
          "output_type": "execute_result",
          "data": {
            "text/plain": [
              "count    23302.000000\n",
              "mean         2.054759\n",
              "std          1.021509\n",
              "min          0.000000\n",
              "25%          1.000000\n",
              "50%          2.000000\n",
              "75%          3.000000\n",
              "max          8.000000\n",
              "Name: rooms, dtype: float64"
            ]
          },
          "metadata": {}
        },
        {
          "output_type": "display_data",
          "data": {
            "image/png": "[encoded data removed]",
            "text/plain": [
              "<Figure size 432x288 with 1 Axes>"
            ]
          },
          "metadata": {
            "needs_background": "light"
          }
        }
      ]
    },
    {
      "cell_type": "markdown",
      "source": "Квартиры с нулевым количеством комнат в теории должны явлсять студиями. Проверим это.",
      "metadata": {}
    },
    {
      "cell_type": "code",
      "source": "display(new_data.query('rooms == 0')['studio'])",
      "metadata": {},
      "execution_count": 42,
      "outputs": [
        {
          "output_type": "display_data",
          "data": {
            "text/plain": [
              "144       True\n",
              "349      False\n",
              "508      False\n",
              "608       True\n",
              "697       True\n",
              "         ...  \n",
              "23210     True\n",
              "23442    False\n",
              "23554     True\n",
              "23592    False\n",
              "23637     True\n",
              "Name: studio, Length: 173, dtype: bool"
            ]
          },
          "metadata": {}
        }
      ]
    },
    {
      "cell_type": "markdown",
      "source": "Видим, что это не всегда так, исправим это.",
      "metadata": {}
    },
    {
      "cell_type": "code",
      "source": "new_data.loc[new_data['rooms'] == 0, 'studio'] = True\ndisplay(new_data.query('rooms == 0')['studio'])",
      "metadata": {},
      "execution_count": 43,
      "outputs": [
        {
          "output_type": "display_data",
          "data": {
            "text/plain": [
              "144      True\n",
              "349      True\n",
              "508      True\n",
              "608      True\n",
              "697      True\n",
              "         ... \n",
              "23210    True\n",
              "23442    True\n",
              "23554    True\n",
              "23592    True\n",
              "23637    True\n",
              "Name: studio, Length: 173, dtype: bool"
            ]
          },
          "metadata": {}
        }
      ]
    },
    {
      "cell_type": "markdown",
      "source": "Рассмотрим высоту потолков",
      "metadata": {}
    },
    {
      "cell_type": "code",
      "source": "new_data.plot(y='ceiling_height', kind='hist', bins=100, grid=True, range=(0, 5))\nnew_data['ceiling_height'].describe()",
      "metadata": {},
      "execution_count": 44,
      "outputs": [
        {
          "execution_count": 44,
          "output_type": "execute_result",
          "data": {
            "text/plain": [
              "count    23302.000000\n",
              "mean         2.690199\n",
              "std          0.194905\n",
              "min          2.250000\n",
              "25%          2.600000\n",
              "50%          2.650000\n",
              "75%          2.700000\n",
              "max          3.980000\n",
              "Name: ceiling_height, dtype: float64"
            ]
          },
          "metadata": {}
        },
        {
          "output_type": "display_data",
          "data": {
            "image/png": "[encoded data removed]",
            "text/plain": [
              "<Figure size 432x288 with 1 Axes>"
            ]
          },
          "metadata": {
            "needs_background": "light"
          }
        }
      ]
    },
    {
      "cell_type": "markdown",
      "source": "В данном столбце было пропущено большое количество значений, поэтому подобное распределение вполне ожидаемо.",
      "metadata": {}
    },
    {
      "cell_type": "markdown",
      "source": "Рассмотрим этаж квартиры",
      "metadata": {}
    },
    {
      "cell_type": "code",
      "source": "new_data.plot(y='floor', kind='hist', bins=100, grid=True, range=(0, 100))\nnew_data['floor'].describe()",
      "metadata": {},
      "execution_count": 45,
      "outputs": [
        {
          "execution_count": 45,
          "output_type": "execute_result",
          "data": {
            "text/plain": [
              "count    23302.000000\n",
              "mean         5.897520\n",
              "std          4.883727\n",
              "min          1.000000\n",
              "25%          2.000000\n",
              "50%          4.000000\n",
              "75%          8.000000\n",
              "max         33.000000\n",
              "Name: floor, dtype: float64"
            ]
          },
          "metadata": {}
        },
        {
          "output_type": "display_data",
          "data": {
            "image/png": "[encoded data removed]",
            "text/plain": [
              "<Figure size 432x288 with 1 Axes>"
            ]
          },
          "metadata": {
            "needs_background": "light"
          }
        }
      ]
    },
    {
      "cell_type": "markdown",
      "source": "Тоже вполне ожидемый вид распределения значений.",
      "metadata": {}
    },
    {
      "cell_type": "markdown",
      "source": "Рассмотрим тип этажа квартиры",
      "metadata": {}
    },
    {
      "cell_type": "code",
      "source": "new_data['categorized_floor'].value_counts().plot.bar(rot=0)",
      "metadata": {},
      "execution_count": 46,
      "outputs": [
        {
          "execution_count": 46,
          "output_type": "execute_result",
          "data": {
            "text/plain": [
              "<AxesSubplot:>"
            ]
          },
          "metadata": {}
        },
        {
          "output_type": "display_data",
          "data": {
            "image/png": "[encoded data removed]",
            "text/plain": [
              "<Figure size 432x288 with 1 Axes>"
            ]
          },
          "metadata": {
            "needs_background": "light"
          }
        }
      ]
    },
    {
      "cell_type": "markdown",
      "source": "Получаем примерно одинаковое количество квартир с первым и последним этажом, а также большое количество квартир с иными этажами.",
      "metadata": {}
    },
    {
      "cell_type": "markdown",
      "source": "Рассмотрим общее количество этаже в доме",
      "metadata": {}
    },
    {
      "cell_type": "code",
      "source": "new_data.plot(y='floors_total', kind='hist', bins=100, grid=True, range=(0, 40))\nnew_data['floors_total'].describe()",
      "metadata": {
        "scrolled": true
      },
      "execution_count": 47,
      "outputs": [
        {
          "execution_count": 47,
          "output_type": "execute_result",
          "data": {
            "text/plain": [
              "count    23302.000000\n",
              "mean        10.689984\n",
              "std          6.575162\n",
              "min          1.000000\n",
              "25%          5.000000\n",
              "50%          9.000000\n",
              "75%         16.000000\n",
              "max         60.000000\n",
              "Name: floors_total, dtype: float64"
            ]
          },
          "metadata": {}
        },
        {
          "output_type": "display_data",
          "data": {
            "image/png": "[encoded data removed]",
            "text/plain": [
              "<Figure size 432x288 with 1 Axes>"
            ]
          },
          "metadata": {
            "needs_background": "light"
          }
        }
      ]
    },
    {
      "cell_type": "markdown",
      "source": "Видим большие выбросы, однако же в ситуации с общим количеством этажей в домах это вполне нормально.",
      "metadata": {}
    },
    {
      "cell_type": "markdown",
      "source": "Рассмотрим расстояние до центра города в метрах",
      "metadata": {}
    },
    {
      "cell_type": "code",
      "source": "new_data.plot(y='cityCenters_nearest', kind='hist', bins=100, grid=True)\nnew_data['cityCenters_nearest'].describe()",
      "metadata": {},
      "execution_count": 48,
      "outputs": [
        {
          "execution_count": 48,
          "output_type": "execute_result",
          "data": {
            "text/plain": [
              "count    17880.000000\n",
              "mean     14263.767506\n",
              "std       8599.537244\n",
              "min        181.000000\n",
              "25%       9380.000000\n",
              "50%      13145.000000\n",
              "75%      16333.000000\n",
              "max      65968.000000\n",
              "Name: cityCenters_nearest, dtype: float64"
            ]
          },
          "metadata": {}
        },
        {
          "output_type": "display_data",
          "data": {
            "image/png": "[encoded data removed]",
            "text/plain": [
              "<Figure size 432x288 with 1 Axes>"
            ]
          },
          "metadata": {
            "needs_background": "light"
          }
        }
      ]
    },
    {
      "cell_type": "markdown",
      "source": "Помним, что большое количество исходных данных в данном столбце имеет пропущенные значения, поэтому объективность полученного распределения распознать сложно.",
      "metadata": {}
    },
    {
      "cell_type": "markdown",
      "source": "Рассмотрим расстояние до ближайшего до аэропорта",
      "metadata": {}
    },
    {
      "cell_type": "code",
      "source": "new_data.plot(y='airports_nearest', kind='hist', bins=100, grid=True)\nnew_data['airports_nearest'].describe()",
      "metadata": {},
      "execution_count": 49,
      "outputs": [
        {
          "execution_count": 49,
          "output_type": "execute_result",
          "data": {
            "text/plain": [
              "count    23302.000000\n",
              "mean     22096.738048\n",
              "std      16482.708247\n",
              "min          0.000000\n",
              "25%      10248.000000\n",
              "50%      21858.500000\n",
              "75%      34477.000000\n",
              "max      84869.000000\n",
              "Name: airports_nearest, dtype: float64"
            ]
          },
          "metadata": {}
        },
        {
          "output_type": "display_data",
          "data": {
            "image/png": "[encoded data removed]",
            "text/plain": [
              "<Figure size 432x288 with 1 Axes>"
            ]
          },
          "metadata": {
            "needs_background": "light"
          }
        }
      ]
    },
    {
      "cell_type": "markdown",
      "source": "Пик в 0 результат предобработки данных, который мы не смогли решить иным способом. Явные проблемы в исходных данных.",
      "metadata": {}
    },
    {
      "cell_type": "markdown",
      "source": "Посмотрим на данные без этой предобработки",
      "metadata": {}
    },
    {
      "cell_type": "code",
      "source": "good_airport = new_data.query('airports_nearest > 0')\ngood_airport.plot(y='airports_nearest', kind='hist', bins=100, grid=True)\ngood_airport['airports_nearest'].describe()",
      "metadata": {},
      "execution_count": 50,
      "outputs": [
        {
          "execution_count": 50,
          "output_type": "execute_result",
          "data": {
            "text/plain": [
              "count    17859.000000\n",
              "mean     28831.300185\n",
              "std      12661.310292\n",
              "min       6450.000000\n",
              "25%      18551.000000\n",
              "50%      26791.000000\n",
              "75%      37348.000000\n",
              "max      84869.000000\n",
              "Name: airports_nearest, dtype: float64"
            ]
          },
          "metadata": {}
        },
        {
          "output_type": "display_data",
          "data": {
            "image/png": "[encoded data removed]",
            "text/plain": [
              "<Figure size 432x288 with 1 Axes>"
            ]
          },
          "metadata": {
            "needs_background": "light"
          }
        }
      ]
    },
    {
      "cell_type": "markdown",
      "source": "Рассмотрим расстояние до ближайшего парка",
      "metadata": {}
    },
    {
      "cell_type": "code",
      "source": "new_data.plot(y='parks_nearest', kind='hist', bins=100, grid=True)\nnew_data['parks_nearest'].describe()",
      "metadata": {},
      "execution_count": 51,
      "outputs": [
        {
          "execution_count": 51,
          "output_type": "execute_result",
          "data": {
            "text/plain": [
              "count    23302.000000\n",
              "mean       166.809973\n",
              "std        306.804665\n",
              "min          0.000000\n",
              "25%          0.000000\n",
              "50%          0.000000\n",
              "75%        299.750000\n",
              "max       3190.000000\n",
              "Name: parks_nearest, dtype: float64"
            ]
          },
          "metadata": {}
        },
        {
          "output_type": "display_data",
          "data": {
            "image/png": "[encoded data removed]",
            "text/plain": [
              "<Figure size 432x288 with 1 Axes>"
            ]
          },
          "metadata": {
            "needs_background": "light"
          }
        }
      ]
    },
    {
      "cell_type": "code",
      "source": "good_parks = new_data.query('parks_nearest > 0')\ngood_parks.plot(y='parks_nearest', kind='hist', bins=100, grid=True)\ngood_parks['parks_nearest'].describe()",
      "metadata": {},
      "execution_count": 52,
      "outputs": [
        {
          "execution_count": 52,
          "output_type": "execute_result",
          "data": {
            "text/plain": [
              "count    7906.000000\n",
              "mean      491.652669\n",
              "std       343.114564\n",
              "min         1.000000\n",
              "25%       288.000000\n",
              "50%       455.000000\n",
              "75%       613.000000\n",
              "max      3190.000000\n",
              "Name: parks_nearest, dtype: float64"
            ]
          },
          "metadata": {}
        },
        {
          "output_type": "display_data",
          "data": {
            "image/png": "[encoded data removed]",
            "text/plain": [
              "<Figure size 432x288 with 1 Axes>"
            ]
          },
          "metadata": {
            "needs_background": "light"
          }
        }
      ]
    },
    {
      "cell_type": "markdown",
      "source": "Рассмотрим день публикации объявления",
      "metadata": {}
    },
    {
      "cell_type": "code",
      "source": "new_data.plot(y='weekday', kind='hist', bins=100, grid=True)\nnew_data['weekday'].describe()",
      "metadata": {},
      "execution_count": 53,
      "outputs": [
        {
          "execution_count": 53,
          "output_type": "execute_result",
          "data": {
            "text/plain": [
              "count    23302.000000\n",
              "mean         2.568277\n",
              "std          1.788730\n",
              "min          0.000000\n",
              "25%          1.000000\n",
              "50%          3.000000\n",
              "75%          4.000000\n",
              "max          6.000000\n",
              "Name: weekday, dtype: float64"
            ]
          },
          "metadata": {}
        },
        {
          "output_type": "display_data",
          "data": {
            "image/png": "[encoded data removed]",
            "text/plain": [
              "<Figure size 432x288 with 1 Axes>"
            ]
          },
          "metadata": {
            "needs_background": "light"
          }
        }
      ]
    },
    {
      "cell_type": "markdown",
      "source": "Видим, что самое большое количество объявлений публикуется в середине недели",
      "metadata": {}
    },
    {
      "cell_type": "markdown",
      "source": "Рассмотрим распределение по месяцам",
      "metadata": {}
    },
    {
      "cell_type": "code",
      "source": "new_data.plot(y='month', kind='hist', bins=100, grid=True)\nnew_data['month'].describe()",
      "metadata": {},
      "execution_count": 54,
      "outputs": [
        {
          "execution_count": 54,
          "output_type": "execute_result",
          "data": {
            "text/plain": [
              "count    23302.000000\n",
              "mean         6.396962\n",
              "std          3.491571\n",
              "min          1.000000\n",
              "25%          3.000000\n",
              "50%          6.000000\n",
              "75%         10.000000\n",
              "max         12.000000\n",
              "Name: month, dtype: float64"
            ]
          },
          "metadata": {}
        },
        {
          "output_type": "display_data",
          "data": {
            "image/png": "[encoded data removed]",
            "text/plain": [
              "<Figure size 432x288 with 1 Axes>"
            ]
          },
          "metadata": {
            "needs_background": "light"
          }
        }
      ]
    },
    {
      "cell_type": "markdown",
      "source": "Можем заметить, что самое низкое количество объявлений было в мае, а после росло с неболшим падением в июле вплоть до ноября. Где ожидаемо упало в декабре в связи с наступлением всевозможных новогодних праздников.",
      "metadata": {}
    },
    {
      "cell_type": "markdown",
      "source": "Изучим, как быстро продавались квартиры (столбец days_exposition)",
      "metadata": {}
    },
    {
      "cell_type": "code",
      "source": "new_data.plot(y='days_exposition', kind='hist', bins=100, grid=True)\nnew_data['days_exposition'].describe()",
      "metadata": {},
      "execution_count": 55,
      "outputs": [
        {
          "execution_count": 55,
          "output_type": "execute_result",
          "data": {
            "text/plain": [
              "count    20193.000000\n",
              "mean       180.607735\n",
              "std        219.339572\n",
              "min          1.000000\n",
              "25%         45.000000\n",
              "50%         95.000000\n",
              "75%        231.000000\n",
              "max       1580.000000\n",
              "Name: days_exposition, dtype: float64"
            ]
          },
          "metadata": {}
        },
        {
          "output_type": "display_data",
          "data": {
            "image/png": "[encoded data removed]",
            "text/plain": [
              "<Figure size 432x288 with 1 Axes>"
            ]
          },
          "metadata": {
            "needs_background": "light"
          }
        }
      ]
    },
    {
      "cell_type": "markdown",
      "source": "Среднее арифмитическое равно 180.61\nМедианное значение равно 95\nВ связи с пиками в данных будем ориентироваться на медианное значение, которое отражает действительное вермя продажи квартиры.\nПолучаем, что в основном квартиры продавались за 95 дней. Соответственно будем считать, что те, которые продаются дольше чем 95 дней - долгой продажой, а те, которые продаются быстрее, чем за 95 дней - быстрой продажой.",
      "metadata": {}
    },
    {
      "cell_type": "markdown",
      "source": "#### Изучим влияние факторов на цену продажи",
      "metadata": {}
    },
    {
      "cell_type": "markdown",
      "source": "Начнем изучение с общей площади, а еще лучше рассмотрим корреляцию общей площади к цене за один квадратный метр",
      "metadata": {}
    },
    {
      "cell_type": "code",
      "source": "price_area_pivot = new_data.pivot_table(index='total_area', values='price_per_sqm', aggfunc='median')\nprice_area_pivot.columns = ['median']\nprice_area_pivot.plot(y='median', style='o')\nprint(new_data['total_area'].corr(new_data['price_per_sqm']))",
      "metadata": {},
      "execution_count": 56,
      "outputs": [
        {
          "name": "stdout",
          "output_type": "stream",
          "text": "0.27676191536427813\n"
        },
        {
          "output_type": "display_data",
          "data": {
            "image/png": "[encoded data removed]",
            "text/plain": [
              "<Figure size 432x288 with 1 Axes>"
            ]
          },
          "metadata": {
            "needs_background": "light"
          }
        }
      ]
    },
    {
      "cell_type": "markdown",
      "source": "Очень слабое влияние, перейдем к рассмотрению жилой площади",
      "metadata": {}
    },
    {
      "cell_type": "code",
      "source": "price_living_pivot = new_data.pivot_table(index='living_area', values='price_per_sqm', aggfunc='median')\nprice_living_pivot.columns = ['median']\nprice_living_pivot.plot(y='median', style='o')\nprint(new_data['living_area'].corr(new_data['price_per_sqm']))",
      "metadata": {
        "scrolled": true
      },
      "execution_count": 57,
      "outputs": [
        {
          "name": "stdout",
          "output_type": "stream",
          "text": "0.18593175386599498\n"
        },
        {
          "output_type": "display_data",
          "data": {
            "image/png": "[encoded data removed]",
            "text/plain": [
              "<Figure size 432x288 with 1 Axes>"
            ]
          },
          "metadata": {
            "needs_background": "light"
          }
        }
      ]
    },
    {
      "cell_type": "markdown",
      "source": "Ещё слабее, чем для общей площади. Перейдем к площади кухни",
      "metadata": {}
    },
    {
      "cell_type": "code",
      "source": "price_kitchen_pivot = new_data.pivot_table(index='kitchen_area', values='price_per_sqm', aggfunc='median')\nprice_kitchen_pivot.columns = ['median']\nprice_kitchen_pivot.plot(y='median', style='o')\nprint(new_data['kitchen_area'].corr(new_data['price_per_sqm']))",
      "metadata": {},
      "execution_count": 58,
      "outputs": [
        {
          "name": "stdout",
          "output_type": "stream",
          "text": "0.37558845374398353\n"
        },
        {
          "output_type": "display_data",
          "data": {
            "image/png": "[encoded data removed]",
            "text/plain": [
              "<Figure size 432x288 with 1 Axes>"
            ]
          },
          "metadata": {
            "needs_background": "light"
          }
        }
      ]
    },
    {
      "cell_type": "markdown",
      "source": "На данный момент максимальный результат, однако все же не слишком явная зависимость. Перейдем к количеству комнат",
      "metadata": {}
    },
    {
      "cell_type": "code",
      "source": "price_rooms_pivot = new_data.pivot_table(index='rooms', values='price_per_sqm', aggfunc='median')\nprice_rooms_pivot.columns = ['median']\nprice_rooms_pivot.plot(y='median')\nprint(new_data['rooms'].corr(new_data['price_per_sqm']))",
      "metadata": {},
      "execution_count": 59,
      "outputs": [
        {
          "name": "stdout",
          "output_type": "stream",
          "text": "0.02062887100873176\n"
        },
        {
          "output_type": "display_data",
          "data": {
            "image/png": "[encoded data removed]",
            "text/plain": [
              "<Figure size 432x288 with 1 Axes>"
            ]
          },
          "metadata": {
            "needs_background": "light"
          }
        }
      ]
    },
    {
      "cell_type": "markdown",
      "source": "Чрезвычайно неправдоподобный пик, после которого идет снижение. Корреляция мала, вероятно из-за проблем с данными. Перейдем к типу этажа",
      "metadata": {}
    },
    {
      "cell_type": "code",
      "source": "price_floor_pivot = new_data.pivot_table(index = 'categorized_floor', values='price_per_sqm', aggfunc='median')\nprice_floor_pivot.columns = ['median']\nprice_floor_pivot.plot(y='median')",
      "metadata": {},
      "execution_count": 60,
      "outputs": [
        {
          "execution_count": 60,
          "output_type": "execute_result",
          "data": {
            "text/plain": [
              "<AxesSubplot:xlabel='categorized_floor'>"
            ]
          },
          "metadata": {}
        },
        {
          "output_type": "display_data",
          "data": {
            "image/png": "[encoded data removed]",
            "text/plain": [
              "<Figure size 432x288 with 1 Axes>"
            ]
          },
          "metadata": {
            "needs_background": "light"
          }
        }
      ]
    },
    {
      "cell_type": "markdown",
      "source": "Можем сделать вывод, что стоимость квартир на первом этаже, обычно меньше стоимости на последнем, что в принципе похоже на адекватный результат. Перейдем к рассмотрению дня недели, месяца и года",
      "metadata": {}
    },
    {
      "cell_type": "code",
      "source": "price_floor_pivot = new_data.pivot_table(index = 'weekday', values='price_per_sqm', aggfunc='median')\nprice_floor_pivot.columns = ['median']\nprice_floor_pivot.plot(y='median')",
      "metadata": {},
      "execution_count": 61,
      "outputs": [
        {
          "execution_count": 61,
          "output_type": "execute_result",
          "data": {
            "text/plain": [
              "<AxesSubplot:xlabel='weekday'>"
            ]
          },
          "metadata": {}
        },
        {
          "output_type": "display_data",
          "data": {
            "image/png": "[encoded data removed]",
            "text/plain": [
              "<Figure size 432x288 with 1 Axes>"
            ]
          },
          "metadata": {
            "needs_background": "light"
          }
        }
      ]
    },
    {
      "cell_type": "code",
      "source": "price_floor_pivot = new_data.pivot_table(index = 'month', values='price_per_sqm', aggfunc='median')\nprice_floor_pivot.columns = ['median']\nprice_floor_pivot.plot(y='median')",
      "metadata": {},
      "execution_count": 62,
      "outputs": [
        {
          "execution_count": 62,
          "output_type": "execute_result",
          "data": {
            "text/plain": [
              "<AxesSubplot:xlabel='month'>"
            ]
          },
          "metadata": {}
        },
        {
          "output_type": "display_data",
          "data": {
            "image/png": "[encoded data removed]",
            "text/plain": [
              "<Figure size 432x288 with 1 Axes>"
            ]
          },
          "metadata": {
            "needs_background": "light"
          }
        }
      ]
    },
    {
      "cell_type": "code",
      "source": "price_floor_pivot = new_data.pivot_table(index = 'year', values='price_per_sqm', aggfunc='median')\nprice_floor_pivot.columns = ['median']\nprice_floor_pivot.plot(y='median')",
      "metadata": {},
      "execution_count": 63,
      "outputs": [
        {
          "execution_count": 63,
          "output_type": "execute_result",
          "data": {
            "text/plain": [
              "<AxesSubplot:xlabel='year'>"
            ]
          },
          "metadata": {}
        },
        {
          "output_type": "display_data",
          "data": {
            "image/png": "[encoded data removed]",
            "text/plain": [
              "<Figure size 432x288 with 1 Axes>"
            ]
          },
          "metadata": {
            "needs_background": "light"
          }
        }
      ]
    },
    {
      "cell_type": "markdown",
      "source": "- Стоимость в рабочие дни выше, чем в выходные.\n- В середине года стоимость на жилье меньше, чем в остальное время.\n- С 2016 года наблюдается положительная тенденция в цене.",
      "metadata": {}
    },
    {
      "cell_type": "markdown",
      "source": "#### Изучим среднюю цену в топ-10 по количеству объявлений населенных пунктах.",
      "metadata": {}
    },
    {
      "cell_type": "code",
      "source": "locality_price = new_data.pivot_table(index='locality_name', values='price_per_sqm', aggfunc=['median','count'])\nlocality_price.columns = ['median', 'count']\nlocality_price = locality_price.sort_values(by=['count'], ascending=False)\ndisplay(locality_price.head(10))",
      "metadata": {},
      "execution_count": 64,
      "outputs": [
        {
          "output_type": "display_data",
          "data": {
            "text/html": [
              "<div>\n",
              "<style scoped>\n",
              "    .dataframe tbody tr th:only-of-type {\n",
              "        vertical-align: middle;\n",
              "    }\n",
              "\n",
              "    .dataframe tbody tr th {\n",
              "        vertical-align: top;\n",
              "    }\n",
              "\n",
              "    .dataframe thead th {\n",
              "        text-align: right;\n",
              "    }\n",
              "</style>\n",
              "<table border=\"1\" class=\"dataframe\">\n",
              "  <thead>\n",
              "    <tr style=\"text-align: right;\">\n",
              "      <th></th>\n",
              "      <th>median</th>\n",
              "      <th>count</th>\n",
              "    </tr>\n",
              "    <tr>\n",
              "      <th>locality_name</th>\n",
              "      <th></th>\n",
              "      <th></th>\n",
              "    </tr>\n",
              "  </thead>\n",
              "  <tbody>\n",
              "    <tr>\n",
              "      <th>санкт-петербург</th>\n",
              "      <td>104602.510460</td>\n",
              "      <td>15439</td>\n",
              "    </tr>\n",
              "    <tr>\n",
              "      <th>мурино</th>\n",
              "      <td>86059.293995</td>\n",
              "      <td>576</td>\n",
              "    </tr>\n",
              "    <tr>\n",
              "      <th>кудрово</th>\n",
              "      <td>95675.473579</td>\n",
              "      <td>464</td>\n",
              "    </tr>\n",
              "    <tr>\n",
              "      <th>шушары</th>\n",
              "      <td>76747.967480</td>\n",
              "      <td>438</td>\n",
              "    </tr>\n",
              "    <tr>\n",
              "      <th>всеволожск</th>\n",
              "      <td>65789.473684</td>\n",
              "      <td>385</td>\n",
              "    </tr>\n",
              "    <tr>\n",
              "      <th>пушкин</th>\n",
              "      <td>99993.589744</td>\n",
              "      <td>364</td>\n",
              "    </tr>\n",
              "    <tr>\n",
              "      <th>колпино</th>\n",
              "      <td>74723.748474</td>\n",
              "      <td>336</td>\n",
              "    </tr>\n",
              "    <tr>\n",
              "      <th>парголово</th>\n",
              "      <td>91579.708641</td>\n",
              "      <td>326</td>\n",
              "    </tr>\n",
              "    <tr>\n",
              "      <th>гатчина</th>\n",
              "      <td>67695.961995</td>\n",
              "      <td>301</td>\n",
              "    </tr>\n",
              "    <tr>\n",
              "      <th>выборг</th>\n",
              "      <td>58417.022969</td>\n",
              "      <td>230</td>\n",
              "    </tr>\n",
              "  </tbody>\n",
              "</table>\n",
              "</div>"
            ],
            "text/plain": [
              "                        median  count\n",
              "locality_name                        \n",
              "санкт-петербург  104602.510460  15439\n",
              "мурино            86059.293995    576\n",
              "кудрово           95675.473579    464\n",
              "шушары            76747.967480    438\n",
              "всеволожск        65789.473684    385\n",
              "пушкин            99993.589744    364\n",
              "колпино           74723.748474    336\n",
              "парголово         91579.708641    326\n",
              "гатчина           67695.961995    301\n",
              "выборг            58417.022969    230"
            ]
          },
          "metadata": {}
        }
      ]
    },
    {
      "cell_type": "markdown",
      "source": "Ожидаемо видим, что самая высокая стоимость квадратного метра в Санкт-Петербурге, а самая низкая в Выборге.",
      "metadata": {}
    },
    {
      "cell_type": "markdown",
      "source": "#### Изучим как же влияет расстояние от центра СПБ на цену квадратного метра",
      "metadata": {}
    },
    {
      "cell_type": "code",
      "source": "spb_locality = new_data.query('locality_name == \"санкт-петербург\"')\nprice_from_center = spb_locality.groupby(['cityCenters_nearest_km'])['price_per_sqm'].median()\nprice_from_center = price_from_center.to_frame()\nprice_from_center['cityCenters_nearest_km'] = price_from_center.index\nprice_from_center.plot.scatter(x='cityCenters_nearest_km', y='price_per_sqm', grid=True, figsize=(5,5))\nplt.ylim([0, 500000])",
      "metadata": {},
      "execution_count": 65,
      "outputs": [
        {
          "execution_count": 65,
          "output_type": "execute_result",
          "data": {
            "text/plain": [
              "(0.0, 500000.0)"
            ]
          },
          "metadata": {}
        },
        {
          "output_type": "display_data",
          "data": {
            "image/png": "[encoded data removed]",
            "text/plain": [
              "<Figure size 360x360 with 1 Axes>"
            ]
          },
          "metadata": {
            "needs_background": "light"
          }
        }
      ]
    },
    {
      "cell_type": "markdown",
      "source": "Видим, что чем дальше находится от центра города, тем зачастую меньше стоит квадратный метр.",
      "metadata": {}
    },
    {
      "cell_type": "markdown",
      "source": "### Общий вывод",
      "metadata": {}
    },
    {
      "cell_type": "markdown",
      "source": "В данной работе была проведена работа с данными сервиса Яндекс Недвижиость - архив объявлений за несколько лет о продаже квартир в Санкт-Петербурге и соседних населенных пунктах.\nБыла выполнена предобработка данных, в ходе которой:\n- были удалены пропуски в о всех столбцах, кроме cityCenters_nearest, days_exposition;\n- были приведены типы данных в столбцах (total_images, floors_total, balcony, days_exposition, first_day_exposition, parks_around3000, ponds_around3000\n- были изменены названия в столбце locality_name, дабы привести их к единому виду\n- были обработаны аномальные значения в столбцах (total_area, rooms, ceiling_height, last_price)\n\nБыли добавлены дополнительные столбцы:\n- price_per_sqm - цена за один квадратный метр\n- weekday день - недели публикации объявления\n- month - месяц публикации объявления\n- year - год публикации объявления\n- categorized_floor - категории этажности (первый, последний, другой)\n- cityCenters_nearest_km - расстояние в км до центра города\n\nБыл проведен исследовательский анализ, в ходе которого были рассмотрены следующие пункты:\n- Время продажи квартиры, которое в среднем оказалось равно 95 дням.\n- Влияние факторов на ценообразование квартиры\n- Стоимость квадратного метра в топ-10 по количеству объявлений населенных пунктах, где оказалось, что максмальную цену имеет Санкт-Петербург, а минимальную Выборг\n- Изучили влияние расстояние от центр Санкт-Петербурга на цену квадратного метра, что показало нам, что чем дальше от центра, тем в большинстве случаев будет дешевле стоить квартира.",
      "metadata": {}
    },
    {
      "cell_type": "code",
      "source": "",
      "metadata": {},
      "execution_count": null,
      "outputs": []
    }
  ]
}