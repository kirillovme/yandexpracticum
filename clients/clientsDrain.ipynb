{
  "metadata": {
    "ExecuteTimeLog": [
      {
        "duration": 358,
        "start_time": "2022-11-12T13:49:36.057Z"
      },
      {
        "duration": 77,
        "start_time": "2022-11-12T13:49:36.418Z"
      },
      {
        "duration": 12,
        "start_time": "2022-11-12T13:49:36.497Z"
      },
      {
        "duration": 26,
        "start_time": "2022-11-12T13:49:36.511Z"
      },
      {
        "duration": 5,
        "start_time": "2022-11-12T13:49:36.538Z"
      },
      {
        "duration": 14,
        "start_time": "2022-11-12T13:49:36.544Z"
      },
      {
        "duration": 14,
        "start_time": "2022-11-12T13:49:36.560Z"
      },
      {
        "duration": 7,
        "start_time": "2022-11-12T13:49:36.576Z"
      },
      {
        "duration": 19,
        "start_time": "2022-11-12T13:55:53.389Z"
      },
      {
        "duration": 25,
        "start_time": "2022-11-12T13:56:33.640Z"
      },
      {
        "duration": 6,
        "start_time": "2022-11-12T14:00:38.914Z"
      },
      {
        "duration": 11,
        "start_time": "2022-11-12T14:00:41.588Z"
      },
      {
        "duration": 18,
        "start_time": "2022-11-12T14:01:04.484Z"
      },
      {
        "duration": 84,
        "start_time": "2022-11-12T14:03:43.632Z"
      },
      {
        "duration": 6,
        "start_time": "2022-11-12T14:03:53.321Z"
      },
      {
        "duration": 381,
        "start_time": "2022-11-12T14:39:34.032Z"
      },
      {
        "duration": 48,
        "start_time": "2022-11-12T14:39:34.415Z"
      },
      {
        "duration": 12,
        "start_time": "2022-11-12T14:39:34.467Z"
      },
      {
        "duration": 20,
        "start_time": "2022-11-12T14:39:34.480Z"
      },
      {
        "duration": 5,
        "start_time": "2022-11-12T14:39:34.503Z"
      },
      {
        "duration": 37,
        "start_time": "2022-11-12T14:39:34.510Z"
      },
      {
        "duration": 17,
        "start_time": "2022-11-12T14:39:34.549Z"
      },
      {
        "duration": 7,
        "start_time": "2022-11-12T14:39:34.568Z"
      },
      {
        "duration": 23,
        "start_time": "2022-11-12T14:39:34.577Z"
      },
      {
        "duration": 21,
        "start_time": "2022-11-12T14:39:34.603Z"
      },
      {
        "duration": 17,
        "start_time": "2022-11-12T14:39:34.625Z"
      },
      {
        "duration": 21,
        "start_time": "2022-11-12T14:39:34.644Z"
      },
      {
        "duration": 6,
        "start_time": "2022-11-12T14:39:34.668Z"
      },
      {
        "duration": 20,
        "start_time": "2022-11-12T14:39:34.677Z"
      },
      {
        "duration": 38,
        "start_time": "2022-11-12T14:39:34.699Z"
      },
      {
        "duration": 70,
        "start_time": "2022-11-12T14:39:34.739Z"
      },
      {
        "duration": 677,
        "start_time": "2022-11-12T14:39:56.729Z"
      },
      {
        "duration": 1076,
        "start_time": "2022-11-12T14:40:00.838Z"
      },
      {
        "duration": 36,
        "start_time": "2022-11-12T14:40:01.916Z"
      },
      {
        "duration": 60,
        "start_time": "2022-11-12T14:40:01.954Z"
      },
      {
        "duration": 37,
        "start_time": "2022-11-12T14:40:02.016Z"
      },
      {
        "duration": 6,
        "start_time": "2022-11-12T14:40:02.056Z"
      },
      {
        "duration": 20,
        "start_time": "2022-11-12T14:40:02.113Z"
      },
      {
        "duration": 22,
        "start_time": "2022-11-12T14:40:02.136Z"
      },
      {
        "duration": 59,
        "start_time": "2022-11-12T14:40:02.160Z"
      },
      {
        "duration": 37,
        "start_time": "2022-11-12T14:40:02.221Z"
      },
      {
        "duration": 60,
        "start_time": "2022-11-12T14:40:02.259Z"
      },
      {
        "duration": 13,
        "start_time": "2022-11-12T14:40:02.320Z"
      },
      {
        "duration": 26,
        "start_time": "2022-11-12T14:40:02.335Z"
      },
      {
        "duration": 7,
        "start_time": "2022-11-12T14:40:02.414Z"
      },
      {
        "duration": 27,
        "start_time": "2022-11-12T14:40:02.424Z"
      },
      {
        "duration": 5,
        "start_time": "2022-11-12T14:40:02.454Z"
      },
      {
        "duration": 64,
        "start_time": "2022-11-12T14:40:02.461Z"
      },
      {
        "duration": 3,
        "start_time": "2022-11-12T14:41:17.014Z"
      },
      {
        "duration": 91,
        "start_time": "2022-11-12T14:42:16.712Z"
      },
      {
        "duration": 3,
        "start_time": "2022-11-12T14:42:34.605Z"
      },
      {
        "duration": 25,
        "start_time": "2022-11-12T14:42:38.702Z"
      },
      {
        "duration": 1012,
        "start_time": "2022-11-12T14:42:43.547Z"
      },
      {
        "duration": 34,
        "start_time": "2022-11-12T14:42:44.561Z"
      },
      {
        "duration": 15,
        "start_time": "2022-11-12T14:42:44.597Z"
      },
      {
        "duration": 23,
        "start_time": "2022-11-12T14:42:44.614Z"
      },
      {
        "duration": 13,
        "start_time": "2022-11-12T14:42:44.639Z"
      },
      {
        "duration": 19,
        "start_time": "2022-11-12T14:42:44.653Z"
      },
      {
        "duration": 20,
        "start_time": "2022-11-12T14:42:44.674Z"
      },
      {
        "duration": 18,
        "start_time": "2022-11-12T14:42:44.697Z"
      },
      {
        "duration": 22,
        "start_time": "2022-11-12T14:42:44.725Z"
      },
      {
        "duration": 18,
        "start_time": "2022-11-12T14:42:44.748Z"
      },
      {
        "duration": 9,
        "start_time": "2022-11-12T14:42:44.767Z"
      },
      {
        "duration": 46,
        "start_time": "2022-11-12T14:42:44.777Z"
      },
      {
        "duration": 5,
        "start_time": "2022-11-12T14:42:44.825Z"
      },
      {
        "duration": 12,
        "start_time": "2022-11-12T14:42:44.832Z"
      },
      {
        "duration": 9,
        "start_time": "2022-11-12T14:42:44.846Z"
      },
      {
        "duration": 10,
        "start_time": "2022-11-12T14:42:44.856Z"
      },
      {
        "duration": 20,
        "start_time": "2022-11-12T14:42:44.868Z"
      },
      {
        "duration": 110,
        "start_time": "2022-11-12T14:44:02.873Z"
      },
      {
        "duration": 29,
        "start_time": "2022-11-12T14:44:10.902Z"
      },
      {
        "duration": 8,
        "start_time": "2022-11-12T14:52:54.546Z"
      },
      {
        "duration": 441,
        "start_time": "2022-11-12T14:53:09.456Z"
      },
      {
        "duration": 1327,
        "start_time": "2022-11-12T14:53:13.693Z"
      },
      {
        "duration": 36,
        "start_time": "2022-11-12T14:53:15.022Z"
      },
      {
        "duration": 13,
        "start_time": "2022-11-12T14:53:15.059Z"
      },
      {
        "duration": 4,
        "start_time": "2022-11-12T14:53:15.074Z"
      },
      {
        "duration": 42,
        "start_time": "2022-11-12T14:53:15.080Z"
      },
      {
        "duration": 12,
        "start_time": "2022-11-12T14:53:15.124Z"
      },
      {
        "duration": 7,
        "start_time": "2022-11-12T14:53:15.138Z"
      },
      {
        "duration": 13,
        "start_time": "2022-11-12T14:53:15.146Z"
      },
      {
        "duration": 13,
        "start_time": "2022-11-12T14:53:15.161Z"
      },
      {
        "duration": 6,
        "start_time": "2022-11-12T14:53:15.176Z"
      },
      {
        "duration": 40,
        "start_time": "2022-11-12T14:53:15.183Z"
      },
      {
        "duration": 947,
        "start_time": "2022-11-12T14:53:15.224Z"
      },
      {
        "duration": 10,
        "start_time": "2022-11-12T14:53:16.173Z"
      },
      {
        "duration": 31,
        "start_time": "2022-11-12T14:53:16.186Z"
      },
      {
        "duration": 4,
        "start_time": "2022-11-12T14:53:16.219Z"
      },
      {
        "duration": 10,
        "start_time": "2022-11-12T14:53:16.226Z"
      },
      {
        "duration": 7,
        "start_time": "2022-11-12T14:53:16.237Z"
      },
      {
        "duration": 8,
        "start_time": "2022-11-12T14:53:16.246Z"
      },
      {
        "duration": 24,
        "start_time": "2022-11-12T14:53:16.255Z"
      },
      {
        "duration": 1037,
        "start_time": "2022-11-12T14:53:28.144Z"
      },
      {
        "duration": 1205,
        "start_time": "2022-11-12T14:53:36.098Z"
      },
      {
        "duration": 1057,
        "start_time": "2022-11-12T14:53:42.233Z"
      },
      {
        "duration": 1336,
        "start_time": "2022-11-12T14:53:49.684Z"
      },
      {
        "duration": 34,
        "start_time": "2022-11-12T14:53:51.021Z"
      },
      {
        "duration": 12,
        "start_time": "2022-11-12T14:53:51.056Z"
      },
      {
        "duration": 5,
        "start_time": "2022-11-12T14:53:51.070Z"
      },
      {
        "duration": 44,
        "start_time": "2022-11-12T14:53:51.077Z"
      },
      {
        "duration": 13,
        "start_time": "2022-11-12T14:53:51.122Z"
      },
      {
        "duration": 7,
        "start_time": "2022-11-12T14:53:51.136Z"
      },
      {
        "duration": 17,
        "start_time": "2022-11-12T14:53:51.145Z"
      },
      {
        "duration": 17,
        "start_time": "2022-11-12T14:53:51.164Z"
      },
      {
        "duration": 8,
        "start_time": "2022-11-12T14:53:51.184Z"
      },
      {
        "duration": 27,
        "start_time": "2022-11-12T14:53:51.213Z"
      },
      {
        "duration": 1310,
        "start_time": "2022-11-12T14:53:51.243Z"
      },
      {
        "duration": 10,
        "start_time": "2022-11-12T14:53:52.555Z"
      },
      {
        "duration": 61,
        "start_time": "2022-11-12T14:53:52.566Z"
      },
      {
        "duration": 4,
        "start_time": "2022-11-12T14:53:52.629Z"
      },
      {
        "duration": 17,
        "start_time": "2022-11-12T14:53:52.635Z"
      },
      {
        "duration": 4,
        "start_time": "2022-11-12T14:53:52.654Z"
      },
      {
        "duration": 59,
        "start_time": "2022-11-12T14:53:52.659Z"
      },
      {
        "duration": 19,
        "start_time": "2022-11-12T14:53:52.720Z"
      },
      {
        "duration": 1308,
        "start_time": "2022-11-12T14:54:11.110Z"
      },
      {
        "duration": 34,
        "start_time": "2022-11-12T14:54:12.420Z"
      },
      {
        "duration": 12,
        "start_time": "2022-11-12T14:54:12.456Z"
      },
      {
        "duration": 5,
        "start_time": "2022-11-12T14:54:12.469Z"
      },
      {
        "duration": 42,
        "start_time": "2022-11-12T14:54:12.475Z"
      },
      {
        "duration": 13,
        "start_time": "2022-11-12T14:54:12.518Z"
      },
      {
        "duration": 6,
        "start_time": "2022-11-12T14:54:12.533Z"
      },
      {
        "duration": 12,
        "start_time": "2022-11-12T14:54:12.540Z"
      },
      {
        "duration": 13,
        "start_time": "2022-11-12T14:54:12.553Z"
      },
      {
        "duration": 6,
        "start_time": "2022-11-12T14:54:12.568Z"
      },
      {
        "duration": 47,
        "start_time": "2022-11-12T14:54:12.576Z"
      },
      {
        "duration": 980,
        "start_time": "2022-11-12T14:54:12.625Z"
      },
      {
        "duration": 10,
        "start_time": "2022-11-12T14:54:13.607Z"
      },
      {
        "duration": 934,
        "start_time": "2022-11-12T14:54:13.619Z"
      },
      {
        "duration": 5,
        "start_time": "2022-11-12T14:54:14.555Z"
      },
      {
        "duration": 12,
        "start_time": "2022-11-12T14:54:14.561Z"
      },
      {
        "duration": 4,
        "start_time": "2022-11-12T14:54:14.575Z"
      },
      {
        "duration": 6,
        "start_time": "2022-11-12T14:54:14.580Z"
      },
      {
        "duration": 42,
        "start_time": "2022-11-12T14:54:14.588Z"
      },
      {
        "duration": 504,
        "start_time": "2022-11-12T14:55:23.736Z"
      },
      {
        "duration": 422,
        "start_time": "2022-11-12T14:55:36.125Z"
      },
      {
        "duration": 304,
        "start_time": "2022-11-12T14:55:40.062Z"
      },
      {
        "duration": 1372,
        "start_time": "2022-11-12T14:57:04.385Z"
      },
      {
        "duration": 34,
        "start_time": "2022-11-12T14:57:05.759Z"
      },
      {
        "duration": 13,
        "start_time": "2022-11-12T14:57:05.795Z"
      },
      {
        "duration": 7,
        "start_time": "2022-11-12T14:57:05.809Z"
      },
      {
        "duration": 44,
        "start_time": "2022-11-12T14:57:05.818Z"
      },
      {
        "duration": 13,
        "start_time": "2022-11-12T14:57:05.863Z"
      },
      {
        "duration": 6,
        "start_time": "2022-11-12T14:57:05.877Z"
      },
      {
        "duration": 29,
        "start_time": "2022-11-12T14:57:05.885Z"
      },
      {
        "duration": 14,
        "start_time": "2022-11-12T14:57:05.915Z"
      },
      {
        "duration": 13,
        "start_time": "2022-11-12T14:57:05.931Z"
      },
      {
        "duration": 19,
        "start_time": "2022-11-12T14:57:05.946Z"
      },
      {
        "duration": 1138,
        "start_time": "2022-11-12T14:57:05.967Z"
      },
      {
        "duration": 13,
        "start_time": "2022-11-12T14:57:07.107Z"
      },
      {
        "duration": 1029,
        "start_time": "2022-11-12T14:57:07.123Z"
      },
      {
        "duration": 4,
        "start_time": "2022-11-12T14:57:08.154Z"
      },
      {
        "duration": 12,
        "start_time": "2022-11-12T14:57:08.160Z"
      },
      {
        "duration": 8,
        "start_time": "2022-11-12T14:57:08.173Z"
      },
      {
        "duration": 322,
        "start_time": "2022-11-12T14:57:08.183Z"
      },
      {
        "duration": 11,
        "start_time": "2022-11-12T14:57:08.513Z"
      },
      {
        "duration": 30,
        "start_time": "2022-11-12T14:57:08.526Z"
      },
      {
        "duration": 1426,
        "start_time": "2022-11-12T15:06:34.909Z"
      },
      {
        "duration": 43,
        "start_time": "2022-11-12T15:06:36.337Z"
      },
      {
        "duration": 13,
        "start_time": "2022-11-12T15:06:36.384Z"
      },
      {
        "duration": 5,
        "start_time": "2022-11-12T15:06:36.400Z"
      },
      {
        "duration": 53,
        "start_time": "2022-11-12T15:06:36.406Z"
      },
      {
        "duration": 13,
        "start_time": "2022-11-12T15:06:36.461Z"
      },
      {
        "duration": 9,
        "start_time": "2022-11-12T15:06:36.476Z"
      },
      {
        "duration": 30,
        "start_time": "2022-11-12T15:06:36.486Z"
      },
      {
        "duration": 20,
        "start_time": "2022-11-12T15:06:36.517Z"
      },
      {
        "duration": 18,
        "start_time": "2022-11-12T15:06:36.538Z"
      },
      {
        "duration": 20,
        "start_time": "2022-11-12T15:06:36.558Z"
      },
      {
        "duration": 1113,
        "start_time": "2022-11-12T15:06:36.580Z"
      },
      {
        "duration": 11,
        "start_time": "2022-11-12T15:06:37.696Z"
      },
      {
        "duration": 1105,
        "start_time": "2022-11-12T15:06:37.709Z"
      },
      {
        "duration": 6,
        "start_time": "2022-11-12T15:06:38.815Z"
      },
      {
        "duration": 45,
        "start_time": "2022-11-12T15:06:38.822Z"
      },
      {
        "duration": 5,
        "start_time": "2022-11-12T15:06:38.870Z"
      },
      {
        "duration": 328,
        "start_time": "2022-11-12T15:06:38.876Z"
      },
      {
        "duration": 33,
        "start_time": "2022-11-12T15:06:39.218Z"
      },
      {
        "duration": 24,
        "start_time": "2022-11-12T15:06:39.255Z"
      },
      {
        "duration": 1329,
        "start_time": "2022-11-12T15:26:45.533Z"
      },
      {
        "duration": 36,
        "start_time": "2022-11-12T15:26:46.863Z"
      },
      {
        "duration": 13,
        "start_time": "2022-11-12T15:26:46.901Z"
      },
      {
        "duration": 6,
        "start_time": "2022-11-12T15:26:46.915Z"
      },
      {
        "duration": 47,
        "start_time": "2022-11-12T15:26:46.923Z"
      },
      {
        "duration": 13,
        "start_time": "2022-11-12T15:26:46.971Z"
      },
      {
        "duration": 6,
        "start_time": "2022-11-12T15:26:46.985Z"
      },
      {
        "duration": 28,
        "start_time": "2022-11-12T15:26:46.992Z"
      },
      {
        "duration": 13,
        "start_time": "2022-11-12T15:26:47.022Z"
      },
      {
        "duration": 7,
        "start_time": "2022-11-12T15:26:47.036Z"
      },
      {
        "duration": 19,
        "start_time": "2022-11-12T15:26:47.044Z"
      },
      {
        "duration": 1020,
        "start_time": "2022-11-12T15:26:47.065Z"
      },
      {
        "duration": 11,
        "start_time": "2022-11-12T15:26:48.087Z"
      },
      {
        "duration": 972,
        "start_time": "2022-11-12T15:26:48.100Z"
      },
      {
        "duration": 5,
        "start_time": "2022-11-12T15:26:49.073Z"
      },
      {
        "duration": 14,
        "start_time": "2022-11-12T15:26:49.080Z"
      },
      {
        "duration": 18,
        "start_time": "2022-11-12T15:26:49.096Z"
      },
      {
        "duration": 373,
        "start_time": "2022-11-12T15:26:49.116Z"
      },
      {
        "duration": 11,
        "start_time": "2022-11-12T15:26:49.490Z"
      },
      {
        "duration": 19,
        "start_time": "2022-11-12T15:26:49.512Z"
      },
      {
        "duration": 2,
        "start_time": "2022-11-12T15:26:49.533Z"
      },
      {
        "duration": 1352,
        "start_time": "2022-11-12T15:51:41.920Z"
      },
      {
        "duration": 34,
        "start_time": "2022-11-12T15:51:43.274Z"
      },
      {
        "duration": 11,
        "start_time": "2022-11-12T15:51:43.310Z"
      },
      {
        "duration": 5,
        "start_time": "2022-11-12T15:51:43.323Z"
      },
      {
        "duration": 43,
        "start_time": "2022-11-12T15:51:43.329Z"
      },
      {
        "duration": 12,
        "start_time": "2022-11-12T15:51:43.374Z"
      },
      {
        "duration": 26,
        "start_time": "2022-11-12T15:51:43.387Z"
      },
      {
        "duration": 12,
        "start_time": "2022-11-12T15:51:43.414Z"
      },
      {
        "duration": 13,
        "start_time": "2022-11-12T15:51:43.428Z"
      },
      {
        "duration": 7,
        "start_time": "2022-11-12T15:51:43.442Z"
      },
      {
        "duration": 18,
        "start_time": "2022-11-12T15:51:43.450Z"
      },
      {
        "duration": 1024,
        "start_time": "2022-11-12T15:51:43.469Z"
      },
      {
        "duration": 12,
        "start_time": "2022-11-12T15:51:44.494Z"
      },
      {
        "duration": 975,
        "start_time": "2022-11-12T15:51:44.508Z"
      },
      {
        "duration": 5,
        "start_time": "2022-11-12T15:51:45.484Z"
      },
      {
        "duration": 1437,
        "start_time": "2022-11-12T15:51:45.490Z"
      },
      {
        "duration": 13,
        "start_time": "2022-11-12T15:51:46.929Z"
      },
      {
        "duration": 9,
        "start_time": "2022-11-12T15:51:46.943Z"
      },
      {
        "duration": 274,
        "start_time": "2022-11-12T15:51:46.953Z"
      },
      {
        "duration": 11,
        "start_time": "2022-11-12T15:51:47.228Z"
      },
      {
        "duration": 17,
        "start_time": "2022-11-12T15:51:47.241Z"
      },
      {
        "duration": 2,
        "start_time": "2022-11-12T15:51:47.260Z"
      },
      {
        "duration": 1313,
        "start_time": "2022-11-12T15:53:51.637Z"
      },
      {
        "duration": 33,
        "start_time": "2022-11-12T15:53:52.952Z"
      },
      {
        "duration": 11,
        "start_time": "2022-11-12T15:53:52.987Z"
      },
      {
        "duration": 4,
        "start_time": "2022-11-12T15:53:53.000Z"
      },
      {
        "duration": 43,
        "start_time": "2022-11-12T15:53:53.006Z"
      },
      {
        "duration": 12,
        "start_time": "2022-11-12T15:53:53.050Z"
      },
      {
        "duration": 6,
        "start_time": "2022-11-12T15:53:53.063Z"
      },
      {
        "duration": 14,
        "start_time": "2022-11-12T15:53:53.070Z"
      },
      {
        "duration": 28,
        "start_time": "2022-11-12T15:53:53.085Z"
      },
      {
        "duration": 7,
        "start_time": "2022-11-12T15:53:53.114Z"
      },
      {
        "duration": 21,
        "start_time": "2022-11-12T15:53:53.122Z"
      },
      {
        "duration": 937,
        "start_time": "2022-11-12T15:53:53.144Z"
      },
      {
        "duration": 11,
        "start_time": "2022-11-12T15:53:54.082Z"
      },
      {
        "duration": 984,
        "start_time": "2022-11-12T15:53:54.095Z"
      },
      {
        "duration": 5,
        "start_time": "2022-11-12T15:53:55.081Z"
      },
      {
        "duration": 1450,
        "start_time": "2022-11-12T15:53:55.088Z"
      },
      {
        "duration": 9,
        "start_time": "2022-11-12T15:53:56.539Z"
      },
      {
        "duration": 5,
        "start_time": "2022-11-12T15:53:56.549Z"
      },
      {
        "duration": 293,
        "start_time": "2022-11-12T15:53:56.555Z"
      },
      {
        "duration": 11,
        "start_time": "2022-11-12T15:53:56.849Z"
      },
      {
        "duration": 17,
        "start_time": "2022-11-12T15:53:56.862Z"
      },
      {
        "duration": 2,
        "start_time": "2022-11-12T15:53:56.881Z"
      },
      {
        "duration": 3,
        "start_time": "2022-11-12T15:54:49.697Z"
      },
      {
        "duration": 16,
        "start_time": "2022-11-12T15:55:13.008Z"
      },
      {
        "duration": 1359,
        "start_time": "2022-11-12T15:57:47.886Z"
      },
      {
        "duration": 35,
        "start_time": "2022-11-12T15:57:49.247Z"
      },
      {
        "duration": 23,
        "start_time": "2022-11-12T15:57:49.284Z"
      },
      {
        "duration": 14,
        "start_time": "2022-11-12T15:57:49.309Z"
      },
      {
        "duration": 4,
        "start_time": "2022-11-12T15:57:49.325Z"
      },
      {
        "duration": 9,
        "start_time": "2022-11-12T15:57:49.331Z"
      },
      {
        "duration": 43,
        "start_time": "2022-11-12T15:57:49.342Z"
      },
      {
        "duration": 114,
        "start_time": "2022-11-12T15:57:49.387Z"
      },
      {
        "duration": 0,
        "start_time": "2022-11-12T15:57:49.503Z"
      },
      {
        "duration": 0,
        "start_time": "2022-11-12T15:57:49.504Z"
      },
      {
        "duration": 0,
        "start_time": "2022-11-12T15:57:49.505Z"
      },
      {
        "duration": 0,
        "start_time": "2022-11-12T15:57:49.513Z"
      },
      {
        "duration": 0,
        "start_time": "2022-11-12T15:57:49.513Z"
      },
      {
        "duration": 0,
        "start_time": "2022-11-12T15:57:49.514Z"
      },
      {
        "duration": 0,
        "start_time": "2022-11-12T15:57:49.515Z"
      },
      {
        "duration": 0,
        "start_time": "2022-11-12T15:57:49.516Z"
      },
      {
        "duration": 0,
        "start_time": "2022-11-12T15:57:49.517Z"
      },
      {
        "duration": 0,
        "start_time": "2022-11-12T15:57:49.518Z"
      },
      {
        "duration": 0,
        "start_time": "2022-11-12T15:57:49.519Z"
      },
      {
        "duration": 0,
        "start_time": "2022-11-12T15:57:49.520Z"
      },
      {
        "duration": 0,
        "start_time": "2022-11-12T15:57:49.521Z"
      },
      {
        "duration": 0,
        "start_time": "2022-11-12T15:57:49.522Z"
      },
      {
        "duration": 0,
        "start_time": "2022-11-12T15:57:49.523Z"
      },
      {
        "duration": 1430,
        "start_time": "2022-11-12T15:58:34.345Z"
      },
      {
        "duration": 34,
        "start_time": "2022-11-12T15:58:35.777Z"
      },
      {
        "duration": 23,
        "start_time": "2022-11-12T15:58:35.813Z"
      },
      {
        "duration": 4,
        "start_time": "2022-11-12T15:58:35.838Z"
      },
      {
        "duration": 37,
        "start_time": "2022-11-12T15:58:35.844Z"
      },
      {
        "duration": 3,
        "start_time": "2022-11-12T15:58:35.883Z"
      },
      {
        "duration": 42,
        "start_time": "2022-11-12T15:58:35.887Z"
      },
      {
        "duration": 104,
        "start_time": "2022-11-12T15:58:35.931Z"
      },
      {
        "duration": 0,
        "start_time": "2022-11-12T15:58:36.037Z"
      },
      {
        "duration": 0,
        "start_time": "2022-11-12T15:58:36.038Z"
      },
      {
        "duration": 0,
        "start_time": "2022-11-12T15:58:36.039Z"
      },
      {
        "duration": 0,
        "start_time": "2022-11-12T15:58:36.041Z"
      },
      {
        "duration": 0,
        "start_time": "2022-11-12T15:58:36.042Z"
      },
      {
        "duration": 0,
        "start_time": "2022-11-12T15:58:36.043Z"
      },
      {
        "duration": 0,
        "start_time": "2022-11-12T15:58:36.044Z"
      },
      {
        "duration": 0,
        "start_time": "2022-11-12T15:58:36.045Z"
      },
      {
        "duration": 0,
        "start_time": "2022-11-12T15:58:36.046Z"
      },
      {
        "duration": 0,
        "start_time": "2022-11-12T15:58:36.047Z"
      },
      {
        "duration": 0,
        "start_time": "2022-11-12T15:58:36.048Z"
      },
      {
        "duration": 0,
        "start_time": "2022-11-12T15:58:36.049Z"
      },
      {
        "duration": 0,
        "start_time": "2022-11-12T15:58:36.050Z"
      },
      {
        "duration": 0,
        "start_time": "2022-11-12T15:58:36.051Z"
      },
      {
        "duration": 0,
        "start_time": "2022-11-12T15:58:36.052Z"
      },
      {
        "duration": 5,
        "start_time": "2022-11-12T15:58:58.278Z"
      },
      {
        "duration": 4,
        "start_time": "2022-11-12T15:59:07.140Z"
      },
      {
        "duration": 4,
        "start_time": "2022-11-12T15:59:36.958Z"
      },
      {
        "duration": 6,
        "start_time": "2022-11-12T15:59:39.776Z"
      },
      {
        "duration": 4,
        "start_time": "2022-11-12T15:59:46.011Z"
      },
      {
        "duration": 4,
        "start_time": "2022-11-12T15:59:49.743Z"
      },
      {
        "duration": 1338,
        "start_time": "2022-11-12T16:00:20.702Z"
      },
      {
        "duration": 34,
        "start_time": "2022-11-12T16:00:22.042Z"
      },
      {
        "duration": 23,
        "start_time": "2022-11-12T16:00:22.077Z"
      },
      {
        "duration": 4,
        "start_time": "2022-11-12T16:00:22.101Z"
      },
      {
        "duration": 16,
        "start_time": "2022-11-12T16:00:22.107Z"
      },
      {
        "duration": 3,
        "start_time": "2022-11-12T16:00:22.124Z"
      },
      {
        "duration": 39,
        "start_time": "2022-11-12T16:00:22.129Z"
      },
      {
        "duration": 5,
        "start_time": "2022-11-12T16:00:22.170Z"
      },
      {
        "duration": 6,
        "start_time": "2022-11-12T16:00:22.177Z"
      },
      {
        "duration": 1435,
        "start_time": "2022-11-12T16:00:22.184Z"
      },
      {
        "duration": 12,
        "start_time": "2022-11-12T16:00:23.621Z"
      },
      {
        "duration": 13,
        "start_time": "2022-11-12T16:00:23.634Z"
      },
      {
        "duration": 6,
        "start_time": "2022-11-12T16:00:23.648Z"
      },
      {
        "duration": 18,
        "start_time": "2022-11-12T16:00:23.656Z"
      },
      {
        "duration": 1089,
        "start_time": "2022-11-12T16:00:23.676Z"
      },
      {
        "duration": 10,
        "start_time": "2022-11-12T16:00:24.767Z"
      },
      {
        "duration": 986,
        "start_time": "2022-11-12T16:00:24.778Z"
      },
      {
        "duration": 6,
        "start_time": "2022-11-12T16:00:25.766Z"
      },
      {
        "duration": 21,
        "start_time": "2022-11-12T16:00:25.773Z"
      },
      {
        "duration": 5,
        "start_time": "2022-11-12T16:00:25.795Z"
      },
      {
        "duration": 281,
        "start_time": "2022-11-12T16:00:25.801Z"
      },
      {
        "duration": 10,
        "start_time": "2022-11-12T16:00:26.084Z"
      },
      {
        "duration": 30,
        "start_time": "2022-11-12T16:00:26.096Z"
      },
      {
        "duration": 3,
        "start_time": "2022-11-12T16:00:26.127Z"
      },
      {
        "duration": 1066,
        "start_time": "2022-11-12T16:01:26.818Z"
      },
      {
        "duration": 252,
        "start_time": "2022-11-12T16:02:23.536Z"
      },
      {
        "duration": 1305,
        "start_time": "2022-11-12T16:02:42.067Z"
      },
      {
        "duration": 34,
        "start_time": "2022-11-12T16:02:43.373Z"
      },
      {
        "duration": 23,
        "start_time": "2022-11-12T16:02:43.409Z"
      },
      {
        "duration": 5,
        "start_time": "2022-11-12T16:02:43.434Z"
      },
      {
        "duration": 17,
        "start_time": "2022-11-12T16:02:43.440Z"
      },
      {
        "duration": 2,
        "start_time": "2022-11-12T16:02:43.459Z"
      },
      {
        "duration": 53,
        "start_time": "2022-11-12T16:02:43.462Z"
      },
      {
        "duration": 4,
        "start_time": "2022-11-12T16:02:43.516Z"
      },
      {
        "duration": 6,
        "start_time": "2022-11-12T16:02:43.522Z"
      },
      {
        "duration": 1442,
        "start_time": "2022-11-12T16:02:43.529Z"
      },
      {
        "duration": 1044,
        "start_time": "2022-11-12T16:02:44.973Z"
      },
      {
        "duration": 269,
        "start_time": "2022-11-12T16:02:46.018Z"
      },
      {
        "duration": 12,
        "start_time": "2022-11-12T16:02:46.288Z"
      },
      {
        "duration": 13,
        "start_time": "2022-11-12T16:02:46.314Z"
      },
      {
        "duration": 7,
        "start_time": "2022-11-12T16:02:46.328Z"
      },
      {
        "duration": 19,
        "start_time": "2022-11-12T16:02:46.336Z"
      },
      {
        "duration": 917,
        "start_time": "2022-11-12T16:02:46.356Z"
      },
      {
        "duration": 10,
        "start_time": "2022-11-12T16:02:47.274Z"
      },
      {
        "duration": 943,
        "start_time": "2022-11-12T16:02:47.285Z"
      },
      {
        "duration": 5,
        "start_time": "2022-11-12T16:02:48.230Z"
      },
      {
        "duration": 10,
        "start_time": "2022-11-12T16:02:48.236Z"
      },
      {
        "duration": 4,
        "start_time": "2022-11-12T16:02:48.248Z"
      },
      {
        "duration": 278,
        "start_time": "2022-11-12T16:02:48.253Z"
      },
      {
        "duration": 11,
        "start_time": "2022-11-12T16:02:48.534Z"
      },
      {
        "duration": 19,
        "start_time": "2022-11-12T16:02:48.547Z"
      },
      {
        "duration": 2,
        "start_time": "2022-11-12T16:02:48.568Z"
      },
      {
        "duration": 1371,
        "start_time": "2022-11-12T16:04:44.195Z"
      },
      {
        "duration": 36,
        "start_time": "2022-11-12T16:04:45.568Z"
      },
      {
        "duration": 24,
        "start_time": "2022-11-12T16:04:45.605Z"
      },
      {
        "duration": 5,
        "start_time": "2022-11-12T16:04:45.630Z"
      },
      {
        "duration": 16,
        "start_time": "2022-11-12T16:04:45.637Z"
      },
      {
        "duration": 3,
        "start_time": "2022-11-12T16:04:45.654Z"
      },
      {
        "duration": 59,
        "start_time": "2022-11-12T16:04:45.658Z"
      },
      {
        "duration": 4,
        "start_time": "2022-11-12T16:04:45.719Z"
      },
      {
        "duration": 6,
        "start_time": "2022-11-12T16:04:45.724Z"
      },
      {
        "duration": 1404,
        "start_time": "2022-11-12T16:04:45.731Z"
      },
      {
        "duration": 1053,
        "start_time": "2022-11-12T16:04:47.136Z"
      },
      {
        "duration": 283,
        "start_time": "2022-11-12T16:04:48.190Z"
      },
      {
        "duration": 11,
        "start_time": "2022-11-12T16:04:48.474Z"
      },
      {
        "duration": 6,
        "start_time": "2022-11-12T16:04:48.487Z"
      },
      {
        "duration": 36,
        "start_time": "2022-11-12T16:04:48.494Z"
      },
      {
        "duration": 942,
        "start_time": "2022-11-12T16:04:48.532Z"
      },
      {
        "duration": 9,
        "start_time": "2022-11-12T16:04:49.476Z"
      },
      {
        "duration": 1008,
        "start_time": "2022-11-12T16:04:49.486Z"
      },
      {
        "duration": 5,
        "start_time": "2022-11-12T16:04:50.496Z"
      },
      {
        "duration": 16,
        "start_time": "2022-11-12T16:04:50.502Z"
      },
      {
        "duration": 4,
        "start_time": "2022-11-12T16:04:50.520Z"
      },
      {
        "duration": 11,
        "start_time": "2022-11-12T16:04:50.525Z"
      },
      {
        "duration": 17,
        "start_time": "2022-11-12T16:04:50.538Z"
      },
      {
        "duration": 2,
        "start_time": "2022-11-12T16:04:50.557Z"
      },
      {
        "duration": 16,
        "start_time": "2022-11-12T16:04:55.143Z"
      },
      {
        "duration": 17,
        "start_time": "2022-11-12T16:05:15.219Z"
      },
      {
        "duration": 1394,
        "start_time": "2022-11-12T16:05:19.881Z"
      },
      {
        "duration": 35,
        "start_time": "2022-11-12T16:05:21.277Z"
      },
      {
        "duration": 23,
        "start_time": "2022-11-12T16:05:21.313Z"
      },
      {
        "duration": 4,
        "start_time": "2022-11-12T16:05:21.338Z"
      },
      {
        "duration": 14,
        "start_time": "2022-11-12T16:05:21.345Z"
      },
      {
        "duration": 3,
        "start_time": "2022-11-12T16:05:21.360Z"
      },
      {
        "duration": 63,
        "start_time": "2022-11-12T16:05:21.365Z"
      },
      {
        "duration": 4,
        "start_time": "2022-11-12T16:05:21.430Z"
      },
      {
        "duration": 7,
        "start_time": "2022-11-12T16:05:21.435Z"
      },
      {
        "duration": 1418,
        "start_time": "2022-11-12T16:05:21.443Z"
      },
      {
        "duration": 1054,
        "start_time": "2022-11-12T16:05:22.863Z"
      },
      {
        "duration": 275,
        "start_time": "2022-11-12T16:05:23.919Z"
      },
      {
        "duration": 19,
        "start_time": "2022-11-12T16:05:24.195Z"
      },
      {
        "duration": 6,
        "start_time": "2022-11-12T16:05:24.216Z"
      },
      {
        "duration": 21,
        "start_time": "2022-11-12T16:05:24.223Z"
      },
      {
        "duration": 954,
        "start_time": "2022-11-12T16:05:24.245Z"
      },
      {
        "duration": 15,
        "start_time": "2022-11-12T16:05:25.200Z"
      },
      {
        "duration": 966,
        "start_time": "2022-11-12T16:05:25.216Z"
      },
      {
        "duration": 5,
        "start_time": "2022-11-12T16:05:26.184Z"
      },
      {
        "duration": 13,
        "start_time": "2022-11-12T16:05:26.190Z"
      },
      {
        "duration": 4,
        "start_time": "2022-11-12T16:05:26.213Z"
      },
      {
        "duration": 13,
        "start_time": "2022-11-12T16:05:26.219Z"
      },
      {
        "duration": 18,
        "start_time": "2022-11-12T16:05:26.233Z"
      },
      {
        "duration": 3,
        "start_time": "2022-11-12T16:05:26.254Z"
      },
      {
        "duration": 1367,
        "start_time": "2022-11-12T16:05:42.188Z"
      },
      {
        "duration": 36,
        "start_time": "2022-11-12T16:05:43.557Z"
      },
      {
        "duration": 23,
        "start_time": "2022-11-12T16:05:43.594Z"
      },
      {
        "duration": 4,
        "start_time": "2022-11-12T16:05:43.618Z"
      },
      {
        "duration": 15,
        "start_time": "2022-11-12T16:05:43.624Z"
      },
      {
        "duration": 2,
        "start_time": "2022-11-12T16:05:43.641Z"
      },
      {
        "duration": 42,
        "start_time": "2022-11-12T16:05:43.645Z"
      },
      {
        "duration": 4,
        "start_time": "2022-11-12T16:05:43.688Z"
      },
      {
        "duration": 20,
        "start_time": "2022-11-12T16:05:43.693Z"
      },
      {
        "duration": 1437,
        "start_time": "2022-11-12T16:05:43.715Z"
      },
      {
        "duration": 1064,
        "start_time": "2022-11-12T16:05:45.153Z"
      },
      {
        "duration": 272,
        "start_time": "2022-11-12T16:05:46.219Z"
      },
      {
        "duration": 20,
        "start_time": "2022-11-12T16:05:46.493Z"
      },
      {
        "duration": 6,
        "start_time": "2022-11-12T16:05:46.515Z"
      },
      {
        "duration": 19,
        "start_time": "2022-11-12T16:05:46.523Z"
      },
      {
        "duration": 924,
        "start_time": "2022-11-12T16:05:46.544Z"
      },
      {
        "duration": 10,
        "start_time": "2022-11-12T16:05:47.470Z"
      },
      {
        "duration": 953,
        "start_time": "2022-11-12T16:05:47.481Z"
      },
      {
        "duration": 5,
        "start_time": "2022-11-12T16:05:48.435Z"
      },
      {
        "duration": 13,
        "start_time": "2022-11-12T16:05:48.442Z"
      },
      {
        "duration": 4,
        "start_time": "2022-11-12T16:05:48.457Z"
      },
      {
        "duration": 12,
        "start_time": "2022-11-12T16:05:48.462Z"
      },
      {
        "duration": 37,
        "start_time": "2022-11-12T16:05:48.476Z"
      },
      {
        "duration": 2,
        "start_time": "2022-11-12T16:05:48.515Z"
      },
      {
        "duration": 1327,
        "start_time": "2022-11-12T16:16:57.155Z"
      },
      {
        "duration": 36,
        "start_time": "2022-11-12T16:16:58.484Z"
      },
      {
        "duration": 23,
        "start_time": "2022-11-12T16:16:58.521Z"
      },
      {
        "duration": 5,
        "start_time": "2022-11-12T16:16:58.545Z"
      },
      {
        "duration": 16,
        "start_time": "2022-11-12T16:16:58.551Z"
      },
      {
        "duration": 3,
        "start_time": "2022-11-12T16:16:58.568Z"
      },
      {
        "duration": 62,
        "start_time": "2022-11-12T16:16:58.573Z"
      },
      {
        "duration": 4,
        "start_time": "2022-11-12T16:16:58.637Z"
      },
      {
        "duration": 6,
        "start_time": "2022-11-12T16:16:58.642Z"
      },
      {
        "duration": 1367,
        "start_time": "2022-11-12T16:16:58.651Z"
      },
      {
        "duration": 1118,
        "start_time": "2022-11-12T16:17:00.019Z"
      },
      {
        "duration": 276,
        "start_time": "2022-11-12T16:17:01.139Z"
      },
      {
        "duration": 13,
        "start_time": "2022-11-12T16:17:01.417Z"
      },
      {
        "duration": 8,
        "start_time": "2022-11-12T16:17:01.431Z"
      },
      {
        "duration": 24,
        "start_time": "2022-11-12T16:17:01.441Z"
      },
      {
        "duration": 1007,
        "start_time": "2022-11-12T16:17:01.466Z"
      },
      {
        "duration": 10,
        "start_time": "2022-11-12T16:17:02.474Z"
      },
      {
        "duration": 975,
        "start_time": "2022-11-12T16:17:02.485Z"
      },
      {
        "duration": 4,
        "start_time": "2022-11-12T16:17:03.462Z"
      },
      {
        "duration": 11,
        "start_time": "2022-11-12T16:17:03.468Z"
      },
      {
        "duration": 4,
        "start_time": "2022-11-12T16:17:03.481Z"
      },
      {
        "duration": 7,
        "start_time": "2022-11-12T16:17:03.486Z"
      },
      {
        "duration": 31,
        "start_time": "2022-11-12T16:17:03.495Z"
      },
      {
        "duration": 79,
        "start_time": "2022-11-12T16:17:03.527Z"
      },
      {
        "duration": 101,
        "start_time": "2022-11-12T16:17:23.159Z"
      },
      {
        "duration": 11,
        "start_time": "2022-11-12T16:17:58.660Z"
      },
      {
        "duration": 623,
        "start_time": "2022-11-12T16:18:32.194Z"
      },
      {
        "duration": 712,
        "start_time": "2022-11-12T16:18:43.105Z"
      },
      {
        "duration": 1305,
        "start_time": "2022-11-12T16:26:39.226Z"
      },
      {
        "duration": 1592,
        "start_time": "2022-11-20T11:20:15.744Z"
      },
      {
        "duration": 89,
        "start_time": "2022-11-20T11:20:17.338Z"
      },
      {
        "duration": 32,
        "start_time": "2022-11-20T11:20:17.429Z"
      },
      {
        "duration": 5,
        "start_time": "2022-11-20T11:20:17.462Z"
      },
      {
        "duration": 16,
        "start_time": "2022-11-20T11:20:17.469Z"
      },
      {
        "duration": 16,
        "start_time": "2022-11-20T11:20:17.487Z"
      },
      {
        "duration": 44,
        "start_time": "2022-11-20T11:20:17.504Z"
      },
      {
        "duration": 5,
        "start_time": "2022-11-20T11:20:17.550Z"
      },
      {
        "duration": 23,
        "start_time": "2022-11-20T11:20:17.557Z"
      },
      {
        "duration": 1569,
        "start_time": "2022-11-20T11:20:17.582Z"
      },
      {
        "duration": 1095,
        "start_time": "2022-11-20T11:20:19.153Z"
      },
      {
        "duration": 268,
        "start_time": "2022-11-20T11:20:20.249Z"
      },
      {
        "duration": 12,
        "start_time": "2022-11-20T11:20:20.519Z"
      },
      {
        "duration": 7,
        "start_time": "2022-11-20T11:20:20.534Z"
      },
      {
        "duration": 19,
        "start_time": "2022-11-20T11:20:20.543Z"
      },
      {
        "duration": 1036,
        "start_time": "2022-11-20T11:20:20.564Z"
      },
      {
        "duration": 19,
        "start_time": "2022-11-20T11:20:21.602Z"
      },
      {
        "duration": 1055,
        "start_time": "2022-11-20T11:20:21.622Z"
      },
      {
        "duration": 5,
        "start_time": "2022-11-20T11:20:22.678Z"
      },
      {
        "duration": 13,
        "start_time": "2022-11-20T11:20:22.685Z"
      },
      {
        "duration": 15,
        "start_time": "2022-11-20T11:20:22.700Z"
      },
      {
        "duration": 13,
        "start_time": "2022-11-20T11:20:22.717Z"
      },
      {
        "duration": 24,
        "start_time": "2022-11-20T11:20:22.731Z"
      },
      {
        "duration": 870,
        "start_time": "2022-11-20T11:20:22.757Z"
      },
      {
        "duration": 13,
        "start_time": "2022-11-20T11:20:23.717Z"
      },
      {
        "duration": 1685,
        "start_time": "2022-11-20T11:20:23.731Z"
      },
      {
        "duration": 1478,
        "start_time": "2022-11-20T11:21:06.304Z"
      },
      {
        "duration": 42,
        "start_time": "2022-11-20T11:21:07.783Z"
      },
      {
        "duration": 22,
        "start_time": "2022-11-20T11:21:07.827Z"
      },
      {
        "duration": 4,
        "start_time": "2022-11-20T11:21:07.851Z"
      },
      {
        "duration": 16,
        "start_time": "2022-11-20T11:21:07.857Z"
      },
      {
        "duration": 2,
        "start_time": "2022-11-20T11:21:07.875Z"
      },
      {
        "duration": 57,
        "start_time": "2022-11-20T11:21:07.879Z"
      },
      {
        "duration": 5,
        "start_time": "2022-11-20T11:21:07.937Z"
      },
      {
        "duration": 7,
        "start_time": "2022-11-20T11:21:07.943Z"
      },
      {
        "duration": 1427,
        "start_time": "2022-11-20T11:21:07.952Z"
      },
      {
        "duration": 1079,
        "start_time": "2022-11-20T11:21:09.381Z"
      },
      {
        "duration": 290,
        "start_time": "2022-11-20T11:21:10.462Z"
      },
      {
        "duration": 10,
        "start_time": "2022-11-20T11:21:10.754Z"
      },
      {
        "duration": 11,
        "start_time": "2022-11-20T11:21:10.766Z"
      },
      {
        "duration": 20,
        "start_time": "2022-11-20T11:21:10.779Z"
      },
      {
        "duration": 1002,
        "start_time": "2022-11-20T11:21:10.816Z"
      },
      {
        "duration": 10,
        "start_time": "2022-11-20T11:21:11.820Z"
      },
      {
        "duration": 1011,
        "start_time": "2022-11-20T11:21:11.832Z"
      },
      {
        "duration": 5,
        "start_time": "2022-11-20T11:21:12.844Z"
      },
      {
        "duration": 17,
        "start_time": "2022-11-20T11:21:12.850Z"
      },
      {
        "duration": 4,
        "start_time": "2022-11-20T11:21:12.869Z"
      },
      {
        "duration": 12,
        "start_time": "2022-11-20T11:21:12.875Z"
      },
      {
        "duration": 33,
        "start_time": "2022-11-20T11:21:12.889Z"
      },
      {
        "duration": 896,
        "start_time": "2022-11-20T11:21:12.924Z"
      },
      {
        "duration": 991,
        "start_time": "2022-11-20T11:21:13.825Z"
      },
      {
        "duration": 1340,
        "start_time": "2022-11-20T11:22:04.527Z"
      },
      {
        "duration": 42,
        "start_time": "2022-11-20T11:22:05.869Z"
      },
      {
        "duration": 23,
        "start_time": "2022-11-20T11:22:05.915Z"
      },
      {
        "duration": 27,
        "start_time": "2022-11-20T11:22:05.940Z"
      },
      {
        "duration": 36,
        "start_time": "2022-11-20T11:22:05.969Z"
      },
      {
        "duration": 29,
        "start_time": "2022-11-20T11:22:06.007Z"
      },
      {
        "duration": 76,
        "start_time": "2022-11-20T11:22:06.037Z"
      },
      {
        "duration": 4,
        "start_time": "2022-11-20T11:22:06.115Z"
      },
      {
        "duration": 35,
        "start_time": "2022-11-20T11:22:06.121Z"
      },
      {
        "duration": 1523,
        "start_time": "2022-11-20T11:22:06.158Z"
      },
      {
        "duration": 1065,
        "start_time": "2022-11-20T11:22:07.683Z"
      },
      {
        "duration": 252,
        "start_time": "2022-11-20T11:22:08.749Z"
      },
      {
        "duration": 10,
        "start_time": "2022-11-20T11:22:09.016Z"
      },
      {
        "duration": 14,
        "start_time": "2022-11-20T11:22:09.028Z"
      },
      {
        "duration": 26,
        "start_time": "2022-11-20T11:22:09.043Z"
      },
      {
        "duration": 995,
        "start_time": "2022-11-20T11:22:09.071Z"
      },
      {
        "duration": 12,
        "start_time": "2022-11-20T11:22:10.068Z"
      },
      {
        "duration": 1027,
        "start_time": "2022-11-20T11:22:10.081Z"
      },
      {
        "duration": 20,
        "start_time": "2022-11-20T11:22:11.109Z"
      },
      {
        "duration": 16,
        "start_time": "2022-11-20T11:22:11.130Z"
      },
      {
        "duration": 5,
        "start_time": "2022-11-20T11:22:11.147Z"
      },
      {
        "duration": 24,
        "start_time": "2022-11-20T11:22:11.154Z"
      },
      {
        "duration": 20,
        "start_time": "2022-11-20T11:22:11.179Z"
      },
      {
        "duration": 1119,
        "start_time": "2022-11-20T11:22:11.201Z"
      },
      {
        "duration": 896,
        "start_time": "2022-11-20T11:22:12.322Z"
      },
      {
        "duration": 1408,
        "start_time": "2022-11-20T11:33:25.434Z"
      },
      {
        "duration": 42,
        "start_time": "2022-11-20T11:33:26.844Z"
      },
      {
        "duration": 23,
        "start_time": "2022-11-20T11:33:26.888Z"
      },
      {
        "duration": 13,
        "start_time": "2022-11-20T11:33:26.912Z"
      },
      {
        "duration": 23,
        "start_time": "2022-11-20T11:33:26.927Z"
      },
      {
        "duration": 34,
        "start_time": "2022-11-20T11:33:26.951Z"
      },
      {
        "duration": 80,
        "start_time": "2022-11-20T11:33:26.986Z"
      },
      {
        "duration": 4,
        "start_time": "2022-11-20T11:33:27.068Z"
      },
      {
        "duration": 26,
        "start_time": "2022-11-20T11:33:27.073Z"
      },
      {
        "duration": 1570,
        "start_time": "2022-11-20T11:33:27.101Z"
      },
      {
        "duration": 1067,
        "start_time": "2022-11-20T11:33:28.673Z"
      },
      {
        "duration": 258,
        "start_time": "2022-11-20T11:33:29.741Z"
      },
      {
        "duration": 23,
        "start_time": "2022-11-20T11:33:30.001Z"
      },
      {
        "duration": 31,
        "start_time": "2022-11-20T11:33:30.027Z"
      },
      {
        "duration": 56,
        "start_time": "2022-11-20T11:33:30.060Z"
      },
      {
        "duration": 1009,
        "start_time": "2022-11-20T11:33:30.118Z"
      },
      {
        "duration": 12,
        "start_time": "2022-11-20T11:33:31.129Z"
      },
      {
        "duration": 995,
        "start_time": "2022-11-20T11:33:31.143Z"
      },
      {
        "duration": 6,
        "start_time": "2022-11-20T11:33:32.139Z"
      },
      {
        "duration": 56,
        "start_time": "2022-11-20T11:33:32.147Z"
      },
      {
        "duration": 44,
        "start_time": "2022-11-20T11:33:32.205Z"
      },
      {
        "duration": 36,
        "start_time": "2022-11-20T11:33:32.251Z"
      },
      {
        "duration": 38,
        "start_time": "2022-11-20T11:33:32.289Z"
      },
      {
        "duration": 12,
        "start_time": "2022-11-20T11:33:32.329Z"
      },
      {
        "duration": 1360,
        "start_time": "2022-11-20T11:33:32.342Z"
      },
      {
        "duration": 1011,
        "start_time": "2022-11-20T11:33:33.704Z"
      },
      {
        "duration": 1341,
        "start_time": "2022-11-20T11:37:27.535Z"
      },
      {
        "duration": 41,
        "start_time": "2022-11-20T11:37:28.878Z"
      },
      {
        "duration": 24,
        "start_time": "2022-11-20T11:37:28.921Z"
      },
      {
        "duration": 4,
        "start_time": "2022-11-20T11:37:28.947Z"
      },
      {
        "duration": 17,
        "start_time": "2022-11-20T11:37:28.953Z"
      },
      {
        "duration": 3,
        "start_time": "2022-11-20T11:37:28.972Z"
      },
      {
        "duration": 58,
        "start_time": "2022-11-20T11:37:28.976Z"
      },
      {
        "duration": 4,
        "start_time": "2022-11-20T11:37:29.036Z"
      },
      {
        "duration": 6,
        "start_time": "2022-11-20T11:37:29.042Z"
      },
      {
        "duration": 1452,
        "start_time": "2022-11-20T11:37:29.050Z"
      },
      {
        "duration": 1144,
        "start_time": "2022-11-20T11:37:30.504Z"
      },
      {
        "duration": 271,
        "start_time": "2022-11-20T11:37:31.649Z"
      },
      {
        "duration": 11,
        "start_time": "2022-11-20T11:37:31.922Z"
      },
      {
        "duration": 23,
        "start_time": "2022-11-20T11:37:31.934Z"
      },
      {
        "duration": 48,
        "start_time": "2022-11-20T11:37:31.958Z"
      },
      {
        "duration": 1068,
        "start_time": "2022-11-20T11:37:32.008Z"
      },
      {
        "duration": 11,
        "start_time": "2022-11-20T11:37:33.078Z"
      },
      {
        "duration": 1036,
        "start_time": "2022-11-20T11:37:33.090Z"
      },
      {
        "duration": 5,
        "start_time": "2022-11-20T11:37:34.127Z"
      },
      {
        "duration": 12,
        "start_time": "2022-11-20T11:37:34.133Z"
      },
      {
        "duration": 5,
        "start_time": "2022-11-20T11:37:34.147Z"
      },
      {
        "duration": 12,
        "start_time": "2022-11-20T11:37:34.153Z"
      },
      {
        "duration": 19,
        "start_time": "2022-11-20T11:37:34.166Z"
      },
      {
        "duration": 29,
        "start_time": "2022-11-20T11:37:34.187Z"
      },
      {
        "duration": 1323,
        "start_time": "2022-11-20T11:37:34.218Z"
      },
      {
        "duration": 1274,
        "start_time": "2022-11-20T11:37:35.543Z"
      },
      {
        "duration": 1344,
        "start_time": "2022-11-20T11:42:05.573Z"
      },
      {
        "duration": 42,
        "start_time": "2022-11-20T11:42:06.919Z"
      },
      {
        "duration": 23,
        "start_time": "2022-11-20T11:42:06.963Z"
      },
      {
        "duration": 5,
        "start_time": "2022-11-20T11:42:06.987Z"
      },
      {
        "duration": 39,
        "start_time": "2022-11-20T11:42:06.993Z"
      },
      {
        "duration": 21,
        "start_time": "2022-11-20T11:42:07.034Z"
      },
      {
        "duration": 59,
        "start_time": "2022-11-20T11:42:07.057Z"
      },
      {
        "duration": 4,
        "start_time": "2022-11-20T11:42:07.119Z"
      },
      {
        "duration": 40,
        "start_time": "2022-11-20T11:42:07.125Z"
      },
      {
        "duration": 1500,
        "start_time": "2022-11-20T11:42:07.168Z"
      },
      {
        "duration": 1105,
        "start_time": "2022-11-20T11:42:08.670Z"
      },
      {
        "duration": 316,
        "start_time": "2022-11-20T11:42:09.777Z"
      },
      {
        "duration": 10,
        "start_time": "2022-11-20T11:42:10.095Z"
      },
      {
        "duration": 6,
        "start_time": "2022-11-20T11:42:10.116Z"
      },
      {
        "duration": 39,
        "start_time": "2022-11-20T11:42:10.123Z"
      },
      {
        "duration": 957,
        "start_time": "2022-11-20T11:42:10.163Z"
      },
      {
        "duration": 11,
        "start_time": "2022-11-20T11:42:11.121Z"
      },
      {
        "duration": 973,
        "start_time": "2022-11-20T11:42:11.133Z"
      },
      {
        "duration": 8,
        "start_time": "2022-11-20T11:42:12.108Z"
      },
      {
        "duration": 17,
        "start_time": "2022-11-20T11:42:12.118Z"
      },
      {
        "duration": 10,
        "start_time": "2022-11-20T11:42:12.136Z"
      },
      {
        "duration": 16,
        "start_time": "2022-11-20T11:42:12.148Z"
      },
      {
        "duration": 25,
        "start_time": "2022-11-20T11:42:12.165Z"
      },
      {
        "duration": 5,
        "start_time": "2022-11-20T11:42:12.191Z"
      },
      {
        "duration": 1449,
        "start_time": "2022-11-20T11:42:12.197Z"
      },
      {
        "duration": 116,
        "start_time": "2022-11-20T11:42:13.647Z"
      },
      {
        "duration": 0,
        "start_time": "2022-11-20T11:42:13.765Z"
      },
      {
        "duration": 0,
        "start_time": "2022-11-20T11:42:13.766Z"
      },
      {
        "duration": 0,
        "start_time": "2022-11-20T11:42:13.767Z"
      },
      {
        "duration": 1310,
        "start_time": "2022-11-20T11:42:37.266Z"
      },
      {
        "duration": 42,
        "start_time": "2022-11-20T11:42:38.577Z"
      },
      {
        "duration": 22,
        "start_time": "2022-11-20T11:42:38.620Z"
      },
      {
        "duration": 4,
        "start_time": "2022-11-20T11:42:38.643Z"
      },
      {
        "duration": 38,
        "start_time": "2022-11-20T11:42:38.649Z"
      },
      {
        "duration": 13,
        "start_time": "2022-11-20T11:42:38.688Z"
      },
      {
        "duration": 60,
        "start_time": "2022-11-20T11:42:38.703Z"
      },
      {
        "duration": 5,
        "start_time": "2022-11-20T11:42:38.765Z"
      },
      {
        "duration": 23,
        "start_time": "2022-11-20T11:42:38.772Z"
      },
      {
        "duration": 1474,
        "start_time": "2022-11-20T11:42:38.796Z"
      },
      {
        "duration": 1076,
        "start_time": "2022-11-20T11:42:40.271Z"
      },
      {
        "duration": 276,
        "start_time": "2022-11-20T11:42:41.349Z"
      },
      {
        "duration": 12,
        "start_time": "2022-11-20T11:42:41.626Z"
      },
      {
        "duration": 7,
        "start_time": "2022-11-20T11:42:41.640Z"
      },
      {
        "duration": 19,
        "start_time": "2022-11-20T11:42:41.649Z"
      },
      {
        "duration": 1077,
        "start_time": "2022-11-20T11:42:41.670Z"
      },
      {
        "duration": 11,
        "start_time": "2022-11-20T11:42:42.749Z"
      },
      {
        "duration": 1012,
        "start_time": "2022-11-20T11:42:42.762Z"
      },
      {
        "duration": 5,
        "start_time": "2022-11-20T11:42:43.775Z"
      },
      {
        "duration": 16,
        "start_time": "2022-11-20T11:42:43.782Z"
      },
      {
        "duration": 6,
        "start_time": "2022-11-20T11:42:43.799Z"
      },
      {
        "duration": 11,
        "start_time": "2022-11-20T11:42:43.815Z"
      },
      {
        "duration": 19,
        "start_time": "2022-11-20T11:42:43.827Z"
      },
      {
        "duration": 5,
        "start_time": "2022-11-20T11:42:43.847Z"
      },
      {
        "duration": 1292,
        "start_time": "2022-11-20T11:42:43.853Z"
      },
      {
        "duration": 112,
        "start_time": "2022-11-20T11:42:45.147Z"
      },
      {
        "duration": 0,
        "start_time": "2022-11-20T11:42:45.260Z"
      },
      {
        "duration": 0,
        "start_time": "2022-11-20T11:42:45.261Z"
      },
      {
        "duration": 0,
        "start_time": "2022-11-20T11:42:45.262Z"
      },
      {
        "duration": 1313,
        "start_time": "2022-11-20T11:43:03.860Z"
      },
      {
        "duration": 42,
        "start_time": "2022-11-20T11:43:05.175Z"
      },
      {
        "duration": 24,
        "start_time": "2022-11-20T11:43:05.219Z"
      },
      {
        "duration": 13,
        "start_time": "2022-11-20T11:43:05.244Z"
      },
      {
        "duration": 41,
        "start_time": "2022-11-20T11:43:05.259Z"
      },
      {
        "duration": 31,
        "start_time": "2022-11-20T11:43:05.302Z"
      },
      {
        "duration": 61,
        "start_time": "2022-11-20T11:43:05.334Z"
      },
      {
        "duration": 5,
        "start_time": "2022-11-20T11:43:05.397Z"
      },
      {
        "duration": 32,
        "start_time": "2022-11-20T11:43:05.403Z"
      },
      {
        "duration": 1535,
        "start_time": "2022-11-20T11:43:05.436Z"
      },
      {
        "duration": 1079,
        "start_time": "2022-11-20T11:43:06.973Z"
      },
      {
        "duration": 327,
        "start_time": "2022-11-20T11:43:08.054Z"
      },
      {
        "duration": 12,
        "start_time": "2022-11-20T11:43:08.383Z"
      },
      {
        "duration": 8,
        "start_time": "2022-11-20T11:43:08.416Z"
      },
      {
        "duration": 20,
        "start_time": "2022-11-20T11:43:08.425Z"
      },
      {
        "duration": 990,
        "start_time": "2022-11-20T11:43:08.447Z"
      },
      {
        "duration": 12,
        "start_time": "2022-11-20T11:43:09.439Z"
      },
      {
        "duration": 1017,
        "start_time": "2022-11-20T11:43:09.452Z"
      },
      {
        "duration": 5,
        "start_time": "2022-11-20T11:43:10.470Z"
      },
      {
        "duration": 36,
        "start_time": "2022-11-20T11:43:10.476Z"
      },
      {
        "duration": 44,
        "start_time": "2022-11-20T11:43:10.514Z"
      },
      {
        "duration": 18,
        "start_time": "2022-11-20T11:43:10.560Z"
      },
      {
        "duration": 45,
        "start_time": "2022-11-20T11:43:10.579Z"
      },
      {
        "duration": 13,
        "start_time": "2022-11-20T11:43:10.626Z"
      },
      {
        "duration": 1302,
        "start_time": "2022-11-20T11:43:10.641Z"
      },
      {
        "duration": 4,
        "start_time": "2022-11-20T11:43:11.944Z"
      },
      {
        "duration": 183995,
        "start_time": "2022-11-20T11:43:11.949Z"
      },
      {
        "duration": 4,
        "start_time": "2022-11-20T11:46:15.946Z"
      },
      {
        "duration": 1068,
        "start_time": "2022-11-20T11:46:15.952Z"
      },
      {
        "duration": 106,
        "start_time": "2022-11-20T11:51:49.616Z"
      },
      {
        "duration": 3,
        "start_time": "2022-11-20T11:52:31.181Z"
      },
      {
        "duration": 231,
        "start_time": "2022-11-20T11:52:32.995Z"
      },
      {
        "duration": 1380,
        "start_time": "2022-11-20T12:01:06.508Z"
      },
      {
        "duration": 41,
        "start_time": "2022-11-20T12:01:07.890Z"
      },
      {
        "duration": 23,
        "start_time": "2022-11-20T12:01:07.933Z"
      },
      {
        "duration": 14,
        "start_time": "2022-11-20T12:01:07.958Z"
      },
      {
        "duration": 47,
        "start_time": "2022-11-20T12:01:07.974Z"
      },
      {
        "duration": 12,
        "start_time": "2022-11-20T12:01:08.023Z"
      },
      {
        "duration": 68,
        "start_time": "2022-11-20T12:01:08.036Z"
      },
      {
        "duration": 4,
        "start_time": "2022-11-20T12:01:08.106Z"
      },
      {
        "duration": 23,
        "start_time": "2022-11-20T12:01:08.111Z"
      },
      {
        "duration": 1474,
        "start_time": "2022-11-20T12:01:08.137Z"
      },
      {
        "duration": 1148,
        "start_time": "2022-11-20T12:01:09.612Z"
      },
      {
        "duration": 287,
        "start_time": "2022-11-20T12:01:10.762Z"
      },
      {
        "duration": 12,
        "start_time": "2022-11-20T12:01:11.050Z"
      },
      {
        "duration": 7,
        "start_time": "2022-11-20T12:01:11.063Z"
      },
      {
        "duration": 33,
        "start_time": "2022-11-20T12:01:11.072Z"
      },
      {
        "duration": 1038,
        "start_time": "2022-11-20T12:01:11.115Z"
      },
      {
        "duration": 13,
        "start_time": "2022-11-20T12:01:12.155Z"
      },
      {
        "duration": 1044,
        "start_time": "2022-11-20T12:01:12.170Z"
      },
      {
        "duration": 7,
        "start_time": "2022-11-20T12:01:13.215Z"
      },
      {
        "duration": 33,
        "start_time": "2022-11-20T12:01:13.223Z"
      },
      {
        "duration": 9,
        "start_time": "2022-11-20T12:01:13.258Z"
      },
      {
        "duration": 59,
        "start_time": "2022-11-20T12:01:13.269Z"
      },
      {
        "duration": 44,
        "start_time": "2022-11-20T12:01:13.329Z"
      },
      {
        "duration": 9,
        "start_time": "2022-11-20T12:01:13.374Z"
      },
      {
        "duration": 1558,
        "start_time": "2022-11-20T12:01:13.384Z"
      },
      {
        "duration": 4,
        "start_time": "2022-11-20T12:01:14.944Z"
      },
      {
        "duration": 174990,
        "start_time": "2022-11-20T12:01:14.949Z"
      },
      {
        "duration": 3,
        "start_time": "2022-11-20T12:04:09.942Z"
      },
      {
        "duration": 7,
        "start_time": "2022-11-20T12:04:09.947Z"
      },
      {
        "duration": 163,
        "start_time": "2022-11-20T12:04:09.956Z"
      },
      {
        "duration": 4,
        "start_time": "2022-11-20T12:04:10.120Z"
      },
      {
        "duration": 211,
        "start_time": "2022-11-20T12:04:10.126Z"
      },
      {
        "duration": 0,
        "start_time": "2022-11-20T12:04:10.339Z"
      },
      {
        "duration": 0,
        "start_time": "2022-11-20T12:04:10.340Z"
      },
      {
        "duration": 167375,
        "start_time": "2022-11-20T12:04:41.527Z"
      },
      {
        "duration": 4,
        "start_time": "2022-11-20T12:07:36.669Z"
      },
      {
        "duration": 10,
        "start_time": "2022-11-20T12:10:15.738Z"
      },
      {
        "duration": 2,
        "start_time": "2022-11-20T12:10:24.772Z"
      },
      {
        "duration": 1021,
        "start_time": "2022-11-20T12:10:26.203Z"
      },
      {
        "duration": 1304,
        "start_time": "2022-11-20T12:16:37.074Z"
      },
      {
        "duration": 42,
        "start_time": "2022-11-20T12:16:38.379Z"
      },
      {
        "duration": 24,
        "start_time": "2022-11-20T12:16:38.425Z"
      },
      {
        "duration": 5,
        "start_time": "2022-11-20T12:16:38.450Z"
      },
      {
        "duration": 18,
        "start_time": "2022-11-20T12:16:38.456Z"
      },
      {
        "duration": 4,
        "start_time": "2022-11-20T12:16:38.476Z"
      },
      {
        "duration": 58,
        "start_time": "2022-11-20T12:16:38.481Z"
      },
      {
        "duration": 5,
        "start_time": "2022-11-20T12:16:38.541Z"
      },
      {
        "duration": 5,
        "start_time": "2022-11-20T12:16:38.548Z"
      },
      {
        "duration": 2304,
        "start_time": "2022-11-20T12:16:38.555Z"
      },
      {
        "duration": 1131,
        "start_time": "2022-11-20T12:16:40.861Z"
      },
      {
        "duration": 311,
        "start_time": "2022-11-20T12:16:41.993Z"
      },
      {
        "duration": 18,
        "start_time": "2022-11-20T12:16:42.305Z"
      },
      {
        "duration": 6,
        "start_time": "2022-11-20T12:16:42.325Z"
      },
      {
        "duration": 25,
        "start_time": "2022-11-20T12:16:42.333Z"
      },
      {
        "duration": 1055,
        "start_time": "2022-11-20T12:16:42.360Z"
      },
      {
        "duration": 11,
        "start_time": "2022-11-20T12:16:43.417Z"
      },
      {
        "duration": 1007,
        "start_time": "2022-11-20T12:16:43.429Z"
      },
      {
        "duration": 5,
        "start_time": "2022-11-20T12:16:44.438Z"
      },
      {
        "duration": 14,
        "start_time": "2022-11-20T12:16:44.444Z"
      },
      {
        "duration": 4,
        "start_time": "2022-11-20T12:16:44.460Z"
      },
      {
        "duration": 16,
        "start_time": "2022-11-20T12:16:44.465Z"
      },
      {
        "duration": 40,
        "start_time": "2022-11-20T12:16:44.482Z"
      },
      {
        "duration": 5,
        "start_time": "2022-11-20T12:16:44.523Z"
      },
      {
        "duration": 1318,
        "start_time": "2022-11-20T12:16:44.529Z"
      },
      {
        "duration": 4,
        "start_time": "2022-11-20T12:16:45.849Z"
      },
      {
        "duration": 1446,
        "start_time": "2022-11-20T12:17:55.327Z"
      },
      {
        "duration": 43,
        "start_time": "2022-11-20T12:17:56.775Z"
      },
      {
        "duration": 25,
        "start_time": "2022-11-20T12:17:56.819Z"
      },
      {
        "duration": 5,
        "start_time": "2022-11-20T12:17:56.846Z"
      },
      {
        "duration": 14,
        "start_time": "2022-11-20T12:17:56.853Z"
      },
      {
        "duration": 4,
        "start_time": "2022-11-20T12:17:56.868Z"
      },
      {
        "duration": 58,
        "start_time": "2022-11-20T12:17:56.873Z"
      },
      {
        "duration": 5,
        "start_time": "2022-11-20T12:17:56.933Z"
      },
      {
        "duration": 6,
        "start_time": "2022-11-20T12:17:56.940Z"
      },
      {
        "duration": 1484,
        "start_time": "2022-11-20T12:17:56.947Z"
      },
      {
        "duration": 1126,
        "start_time": "2022-11-20T12:17:58.433Z"
      },
      {
        "duration": 295,
        "start_time": "2022-11-20T12:17:59.561Z"
      },
      {
        "duration": 12,
        "start_time": "2022-11-20T12:17:59.857Z"
      },
      {
        "duration": 8,
        "start_time": "2022-11-20T12:17:59.871Z"
      },
      {
        "duration": 39,
        "start_time": "2022-11-20T12:17:59.881Z"
      },
      {
        "duration": 1068,
        "start_time": "2022-11-20T12:17:59.922Z"
      },
      {
        "duration": 13,
        "start_time": "2022-11-20T12:18:00.992Z"
      },
      {
        "duration": 1058,
        "start_time": "2022-11-20T12:18:01.016Z"
      },
      {
        "duration": 7,
        "start_time": "2022-11-20T12:18:02.076Z"
      },
      {
        "duration": 14,
        "start_time": "2022-11-20T12:18:02.085Z"
      },
      {
        "duration": 16,
        "start_time": "2022-11-20T12:18:02.101Z"
      },
      {
        "duration": 12,
        "start_time": "2022-11-20T12:18:02.119Z"
      },
      {
        "duration": 23,
        "start_time": "2022-11-20T12:18:02.134Z"
      },
      {
        "duration": 5,
        "start_time": "2022-11-20T12:18:02.159Z"
      },
      {
        "duration": 1574,
        "start_time": "2022-11-20T12:18:02.166Z"
      },
      {
        "duration": 4,
        "start_time": "2022-11-20T12:18:03.742Z"
      },
      {
        "duration": 189108,
        "start_time": "2022-11-20T12:18:03.748Z"
      },
      {
        "duration": 3,
        "start_time": "2022-11-20T12:21:12.857Z"
      },
      {
        "duration": 5,
        "start_time": "2022-11-20T12:21:12.862Z"
      },
      {
        "duration": 153,
        "start_time": "2022-11-20T12:21:12.869Z"
      },
      {
        "duration": 92,
        "start_time": "2022-11-20T12:21:13.024Z"
      },
      {
        "duration": 215699,
        "start_time": "2022-11-20T12:21:13.118Z"
      },
      {
        "duration": 3,
        "start_time": "2022-11-20T12:24:48.819Z"
      },
      {
        "duration": 5,
        "start_time": "2022-11-20T12:24:48.824Z"
      },
      {
        "duration": 1206,
        "start_time": "2022-11-20T12:24:48.831Z"
      },
      {
        "duration": 1089,
        "start_time": "2022-11-20T12:24:50.039Z"
      },
      {
        "duration": 3,
        "start_time": "2022-11-20T12:25:20.394Z"
      },
      {
        "duration": 2942,
        "start_time": "2022-11-20T12:25:21.770Z"
      },
      {
        "duration": 1339,
        "start_time": "2022-11-20T12:32:03.255Z"
      },
      {
        "duration": 41,
        "start_time": "2022-11-20T12:32:04.596Z"
      },
      {
        "duration": 24,
        "start_time": "2022-11-20T12:32:04.638Z"
      },
      {
        "duration": 5,
        "start_time": "2022-11-20T12:32:04.663Z"
      },
      {
        "duration": 15,
        "start_time": "2022-11-20T12:32:04.670Z"
      },
      {
        "duration": 3,
        "start_time": "2022-11-20T12:32:04.686Z"
      },
      {
        "duration": 54,
        "start_time": "2022-11-20T12:32:04.691Z"
      },
      {
        "duration": 4,
        "start_time": "2022-11-20T12:32:04.747Z"
      },
      {
        "duration": 6,
        "start_time": "2022-11-20T12:32:04.753Z"
      },
      {
        "duration": 1476,
        "start_time": "2022-11-20T12:32:04.761Z"
      },
      {
        "duration": 1128,
        "start_time": "2022-11-20T12:32:06.239Z"
      },
      {
        "duration": 312,
        "start_time": "2022-11-20T12:32:07.369Z"
      },
      {
        "duration": 10,
        "start_time": "2022-11-20T12:32:07.683Z"
      },
      {
        "duration": 7,
        "start_time": "2022-11-20T12:32:07.695Z"
      },
      {
        "duration": 31,
        "start_time": "2022-11-20T12:32:07.703Z"
      },
      {
        "duration": 1016,
        "start_time": "2022-11-20T12:32:07.736Z"
      },
      {
        "duration": 11,
        "start_time": "2022-11-20T12:32:08.754Z"
      },
      {
        "duration": 1040,
        "start_time": "2022-11-20T12:32:08.766Z"
      },
      {
        "duration": 10,
        "start_time": "2022-11-20T12:32:09.808Z"
      },
      {
        "duration": 11,
        "start_time": "2022-11-20T12:32:09.820Z"
      },
      {
        "duration": 5,
        "start_time": "2022-11-20T12:32:09.832Z"
      },
      {
        "duration": 12,
        "start_time": "2022-11-20T12:32:09.839Z"
      },
      {
        "duration": 20,
        "start_time": "2022-11-20T12:32:09.852Z"
      },
      {
        "duration": 4,
        "start_time": "2022-11-20T12:32:09.874Z"
      },
      {
        "duration": 1547,
        "start_time": "2022-11-20T12:32:09.880Z"
      },
      {
        "duration": 8,
        "start_time": "2022-11-20T12:32:11.429Z"
      },
      {
        "duration": 203715,
        "start_time": "2022-11-20T12:32:11.439Z"
      },
      {
        "duration": 4,
        "start_time": "2022-11-20T12:35:35.155Z"
      },
      {
        "duration": 10,
        "start_time": "2022-11-20T12:35:35.160Z"
      },
      {
        "duration": 155,
        "start_time": "2022-11-20T12:35:35.171Z"
      },
      {
        "duration": 4,
        "start_time": "2022-11-20T12:35:35.416Z"
      },
      {
        "duration": 477059,
        "start_time": "2022-11-20T12:35:35.421Z"
      },
      {
        "duration": 4,
        "start_time": "2022-11-20T12:43:32.483Z"
      },
      {
        "duration": 8,
        "start_time": "2022-11-20T12:43:32.489Z"
      },
      {
        "duration": 2934,
        "start_time": "2022-11-20T12:43:32.500Z"
      },
      {
        "duration": 1084,
        "start_time": "2022-11-20T12:43:35.435Z"
      },
      {
        "duration": 4,
        "start_time": "2022-11-20T12:44:25.701Z"
      },
      {
        "duration": 7749,
        "start_time": "2022-11-20T12:44:26.935Z"
      },
      {
        "duration": 3,
        "start_time": "2022-11-20T12:44:41.444Z"
      },
      {
        "duration": 1492,
        "start_time": "2022-11-20T12:47:53.315Z"
      },
      {
        "duration": 47,
        "start_time": "2022-11-20T12:47:54.809Z"
      },
      {
        "duration": 24,
        "start_time": "2022-11-20T12:47:54.858Z"
      },
      {
        "duration": 39,
        "start_time": "2022-11-20T12:47:54.884Z"
      },
      {
        "duration": 79,
        "start_time": "2022-11-20T12:47:54.926Z"
      },
      {
        "duration": 16,
        "start_time": "2022-11-20T12:47:55.007Z"
      },
      {
        "duration": 85,
        "start_time": "2022-11-20T12:47:55.025Z"
      },
      {
        "duration": 5,
        "start_time": "2022-11-20T12:47:55.111Z"
      },
      {
        "duration": 30,
        "start_time": "2022-11-20T12:47:55.118Z"
      },
      {
        "duration": 1667,
        "start_time": "2022-11-20T12:47:55.150Z"
      },
      {
        "duration": 1161,
        "start_time": "2022-11-20T12:47:56.819Z"
      },
      {
        "duration": 320,
        "start_time": "2022-11-20T12:47:57.981Z"
      },
      {
        "duration": 20,
        "start_time": "2022-11-20T12:47:58.304Z"
      },
      {
        "duration": 11,
        "start_time": "2022-11-20T12:47:58.328Z"
      },
      {
        "duration": 32,
        "start_time": "2022-11-20T12:47:58.341Z"
      },
      {
        "duration": 1125,
        "start_time": "2022-11-20T12:47:58.375Z"
      },
      {
        "duration": 21,
        "start_time": "2022-11-20T12:47:59.503Z"
      },
      {
        "duration": 1083,
        "start_time": "2022-11-20T12:47:59.526Z"
      },
      {
        "duration": 5,
        "start_time": "2022-11-20T12:48:00.616Z"
      },
      {
        "duration": 23,
        "start_time": "2022-11-20T12:48:00.622Z"
      },
      {
        "duration": 29,
        "start_time": "2022-11-20T12:48:00.647Z"
      },
      {
        "duration": 28,
        "start_time": "2022-11-20T12:48:00.678Z"
      },
      {
        "duration": 33,
        "start_time": "2022-11-20T12:48:00.708Z"
      },
      {
        "duration": 5,
        "start_time": "2022-11-20T12:48:00.742Z"
      },
      {
        "duration": 1595,
        "start_time": "2022-11-20T12:48:00.749Z"
      },
      {
        "duration": 5,
        "start_time": "2022-11-20T12:48:02.345Z"
      },
      {
        "duration": 334905,
        "start_time": "2022-11-20T12:48:02.351Z"
      },
      {
        "duration": 3,
        "start_time": "2022-11-20T12:53:37.258Z"
      },
      {
        "duration": 6,
        "start_time": "2022-11-20T12:53:37.263Z"
      },
      {
        "duration": 151,
        "start_time": "2022-11-20T12:53:37.271Z"
      },
      {
        "duration": 92,
        "start_time": "2022-11-20T12:53:37.424Z"
      },
      {
        "duration": 1507647,
        "start_time": "2022-11-20T12:53:37.518Z"
      },
      {
        "duration": 0,
        "start_time": "2022-11-20T13:18:45.167Z"
      },
      {
        "duration": 0,
        "start_time": "2022-11-20T13:18:45.168Z"
      },
      {
        "duration": 0,
        "start_time": "2022-11-20T13:18:45.169Z"
      },
      {
        "duration": 0,
        "start_time": "2022-11-20T13:18:45.171Z"
      },
      {
        "duration": 0,
        "start_time": "2022-11-20T13:18:45.172Z"
      },
      {
        "duration": 0,
        "start_time": "2022-11-20T13:18:45.173Z"
      },
      {
        "duration": 0,
        "start_time": "2022-11-20T13:18:45.174Z"
      },
      {
        "duration": 0,
        "start_time": "2022-11-20T13:18:45.175Z"
      },
      {
        "duration": 0,
        "start_time": "2022-11-20T13:18:45.176Z"
      },
      {
        "duration": 1416,
        "start_time": "2022-11-20T13:19:52.654Z"
      },
      {
        "duration": 44,
        "start_time": "2022-11-20T13:19:54.072Z"
      },
      {
        "duration": 24,
        "start_time": "2022-11-20T13:19:54.118Z"
      },
      {
        "duration": 5,
        "start_time": "2022-11-20T13:19:54.143Z"
      },
      {
        "duration": 18,
        "start_time": "2022-11-20T13:19:54.150Z"
      },
      {
        "duration": 3,
        "start_time": "2022-11-20T13:19:54.170Z"
      },
      {
        "duration": 63,
        "start_time": "2022-11-20T13:19:54.174Z"
      },
      {
        "duration": 5,
        "start_time": "2022-11-20T13:19:54.239Z"
      },
      {
        "duration": 7,
        "start_time": "2022-11-20T13:19:54.246Z"
      },
      {
        "duration": 1512,
        "start_time": "2022-11-20T13:19:54.255Z"
      },
      {
        "duration": 1215,
        "start_time": "2022-11-20T13:19:55.769Z"
      },
      {
        "duration": 318,
        "start_time": "2022-11-20T13:19:56.986Z"
      },
      {
        "duration": 16,
        "start_time": "2022-11-20T13:19:57.305Z"
      },
      {
        "duration": 8,
        "start_time": "2022-11-20T13:19:57.324Z"
      },
      {
        "duration": 20,
        "start_time": "2022-11-20T13:19:57.333Z"
      },
      {
        "duration": 1096,
        "start_time": "2022-11-20T13:19:57.355Z"
      },
      {
        "duration": 12,
        "start_time": "2022-11-20T13:19:58.453Z"
      },
      {
        "duration": 1052,
        "start_time": "2022-11-20T13:19:58.467Z"
      },
      {
        "duration": 6,
        "start_time": "2022-11-20T13:19:59.520Z"
      },
      {
        "duration": 13,
        "start_time": "2022-11-20T13:19:59.528Z"
      },
      {
        "duration": 5,
        "start_time": "2022-11-20T13:19:59.542Z"
      },
      {
        "duration": 16,
        "start_time": "2022-11-20T13:19:59.549Z"
      },
      {
        "duration": 20,
        "start_time": "2022-11-20T13:19:59.566Z"
      },
      {
        "duration": 28,
        "start_time": "2022-11-20T13:19:59.588Z"
      },
      {
        "duration": 1632,
        "start_time": "2022-11-20T13:19:59.618Z"
      },
      {
        "duration": 1180,
        "start_time": "2022-11-20T13:20:01.252Z"
      },
      {
        "duration": 4,
        "start_time": "2022-11-20T13:20:02.517Z"
      },
      {
        "duration": 330838,
        "start_time": "2022-11-20T13:20:02.523Z"
      },
      {
        "duration": 3,
        "start_time": "2022-11-20T13:25:33.363Z"
      },
      {
        "duration": 27,
        "start_time": "2022-11-20T13:25:33.368Z"
      },
      {
        "duration": 130,
        "start_time": "2022-11-20T13:25:33.397Z"
      },
      {
        "duration": 87,
        "start_time": "2022-11-20T13:25:33.529Z"
      },
      {
        "duration": 1434,
        "start_time": "2022-11-20T13:28:22.213Z"
      },
      {
        "duration": 42,
        "start_time": "2022-11-20T13:28:23.649Z"
      },
      {
        "duration": 25,
        "start_time": "2022-11-20T13:28:23.694Z"
      },
      {
        "duration": 5,
        "start_time": "2022-11-20T13:28:23.721Z"
      },
      {
        "duration": 20,
        "start_time": "2022-11-20T13:28:23.727Z"
      },
      {
        "duration": 3,
        "start_time": "2022-11-20T13:28:23.749Z"
      },
      {
        "duration": 43,
        "start_time": "2022-11-20T13:28:23.753Z"
      },
      {
        "duration": 22,
        "start_time": "2022-11-20T13:28:23.797Z"
      },
      {
        "duration": 8,
        "start_time": "2022-11-20T13:28:23.821Z"
      },
      {
        "duration": 1560,
        "start_time": "2022-11-20T13:28:23.830Z"
      },
      {
        "duration": 1236,
        "start_time": "2022-11-20T13:28:25.392Z"
      },
      {
        "duration": 288,
        "start_time": "2022-11-20T13:28:26.630Z"
      },
      {
        "duration": 12,
        "start_time": "2022-11-20T13:28:26.921Z"
      },
      {
        "duration": 6,
        "start_time": "2022-11-20T13:28:26.935Z"
      },
      {
        "duration": 20,
        "start_time": "2022-11-20T13:28:26.943Z"
      },
      {
        "duration": 1148,
        "start_time": "2022-11-20T13:28:26.965Z"
      },
      {
        "duration": 12,
        "start_time": "2022-11-20T13:28:28.115Z"
      },
      {
        "duration": 1027,
        "start_time": "2022-11-20T13:28:28.129Z"
      },
      {
        "duration": 5,
        "start_time": "2022-11-20T13:28:29.157Z"
      },
      {
        "duration": 12,
        "start_time": "2022-11-20T13:28:29.163Z"
      },
      {
        "duration": 5,
        "start_time": "2022-11-20T13:28:29.176Z"
      },
      {
        "duration": 35,
        "start_time": "2022-11-20T13:28:29.182Z"
      },
      {
        "duration": 22,
        "start_time": "2022-11-20T13:28:29.218Z"
      },
      {
        "duration": 5,
        "start_time": "2022-11-20T13:28:29.242Z"
      },
      {
        "duration": 1612,
        "start_time": "2022-11-20T13:28:29.248Z"
      },
      {
        "duration": 1156,
        "start_time": "2022-11-20T13:28:30.861Z"
      },
      {
        "duration": 6,
        "start_time": "2022-11-20T13:28:32.019Z"
      },
      {
        "duration": 218,
        "start_time": "2022-11-20T13:28:32.027Z"
      },
      {
        "duration": 0,
        "start_time": "2022-11-20T13:28:32.247Z"
      },
      {
        "duration": 0,
        "start_time": "2022-11-20T13:28:32.249Z"
      },
      {
        "duration": 0,
        "start_time": "2022-11-20T13:28:32.250Z"
      },
      {
        "duration": 0,
        "start_time": "2022-11-20T13:28:32.252Z"
      },
      {
        "duration": 0,
        "start_time": "2022-11-20T13:28:32.254Z"
      },
      {
        "duration": 0,
        "start_time": "2022-11-20T13:28:32.255Z"
      },
      {
        "duration": 0,
        "start_time": "2022-11-20T13:28:32.256Z"
      },
      {
        "duration": 0,
        "start_time": "2022-11-20T13:28:32.257Z"
      },
      {
        "duration": 0,
        "start_time": "2022-11-20T13:28:32.258Z"
      },
      {
        "duration": 0,
        "start_time": "2022-11-20T13:28:32.259Z"
      },
      {
        "duration": 0,
        "start_time": "2022-11-20T13:28:32.260Z"
      },
      {
        "duration": 0,
        "start_time": "2022-11-20T13:28:32.261Z"
      },
      {
        "duration": 0,
        "start_time": "2022-11-20T13:28:32.262Z"
      },
      {
        "duration": 0,
        "start_time": "2022-11-20T13:28:32.263Z"
      },
      {
        "duration": 1471,
        "start_time": "2022-11-20T13:29:11.610Z"
      },
      {
        "duration": 42,
        "start_time": "2022-11-20T13:29:13.083Z"
      },
      {
        "duration": 22,
        "start_time": "2022-11-20T13:29:13.127Z"
      },
      {
        "duration": 5,
        "start_time": "2022-11-20T13:29:13.150Z"
      },
      {
        "duration": 21,
        "start_time": "2022-11-20T13:29:13.157Z"
      },
      {
        "duration": 3,
        "start_time": "2022-11-20T13:29:13.179Z"
      },
      {
        "duration": 60,
        "start_time": "2022-11-20T13:29:13.184Z"
      },
      {
        "duration": 5,
        "start_time": "2022-11-20T13:29:13.245Z"
      },
      {
        "duration": 9,
        "start_time": "2022-11-20T13:29:13.251Z"
      },
      {
        "duration": 1546,
        "start_time": "2022-11-20T13:29:13.261Z"
      },
      {
        "duration": 1143,
        "start_time": "2022-11-20T13:29:14.809Z"
      },
      {
        "duration": 293,
        "start_time": "2022-11-20T13:29:15.953Z"
      },
      {
        "duration": 12,
        "start_time": "2022-11-20T13:29:16.247Z"
      },
      {
        "duration": 8,
        "start_time": "2022-11-20T13:29:16.261Z"
      },
      {
        "duration": 23,
        "start_time": "2022-11-20T13:29:16.270Z"
      },
      {
        "duration": 1166,
        "start_time": "2022-11-20T13:29:16.295Z"
      },
      {
        "duration": 12,
        "start_time": "2022-11-20T13:29:17.462Z"
      },
      {
        "duration": 1088,
        "start_time": "2022-11-20T13:29:17.475Z"
      },
      {
        "duration": 5,
        "start_time": "2022-11-20T13:29:18.565Z"
      },
      {
        "duration": 13,
        "start_time": "2022-11-20T13:29:18.571Z"
      },
      {
        "duration": 15,
        "start_time": "2022-11-20T13:29:18.587Z"
      },
      {
        "duration": 21,
        "start_time": "2022-11-20T13:29:18.604Z"
      },
      {
        "duration": 22,
        "start_time": "2022-11-20T13:29:18.627Z"
      },
      {
        "duration": 4,
        "start_time": "2022-11-20T13:29:18.651Z"
      },
      {
        "duration": 1792,
        "start_time": "2022-11-20T13:29:18.657Z"
      },
      {
        "duration": 1470,
        "start_time": "2022-11-20T13:29:20.450Z"
      },
      {
        "duration": 4,
        "start_time": "2022-11-20T13:29:21.921Z"
      },
      {
        "duration": 13,
        "start_time": "2022-11-20T13:29:21.927Z"
      },
      {
        "duration": 1883,
        "start_time": "2022-11-20T13:29:21.942Z"
      },
      {
        "duration": 6,
        "start_time": "2022-11-20T13:29:23.827Z"
      },
      {
        "duration": 1380,
        "start_time": "2022-11-20T13:32:27.342Z"
      },
      {
        "duration": 43,
        "start_time": "2022-11-20T13:32:28.724Z"
      },
      {
        "duration": 25,
        "start_time": "2022-11-20T13:32:28.768Z"
      },
      {
        "duration": 6,
        "start_time": "2022-11-20T13:32:28.795Z"
      },
      {
        "duration": 43,
        "start_time": "2022-11-20T13:32:28.803Z"
      },
      {
        "duration": 9,
        "start_time": "2022-11-20T13:32:28.848Z"
      },
      {
        "duration": 48,
        "start_time": "2022-11-20T13:32:28.859Z"
      },
      {
        "duration": 5,
        "start_time": "2022-11-20T13:32:28.908Z"
      },
      {
        "duration": 9,
        "start_time": "2022-11-20T13:32:28.915Z"
      },
      {
        "duration": 1520,
        "start_time": "2022-11-20T13:32:28.925Z"
      },
      {
        "duration": 1141,
        "start_time": "2022-11-20T13:32:30.447Z"
      },
      {
        "duration": 298,
        "start_time": "2022-11-20T13:32:31.590Z"
      },
      {
        "duration": 12,
        "start_time": "2022-11-20T13:32:31.889Z"
      },
      {
        "duration": 16,
        "start_time": "2022-11-20T13:32:31.904Z"
      },
      {
        "duration": 23,
        "start_time": "2022-11-20T13:32:31.921Z"
      },
      {
        "duration": 1011,
        "start_time": "2022-11-20T13:32:31.946Z"
      },
      {
        "duration": 10,
        "start_time": "2022-11-20T13:32:32.959Z"
      },
      {
        "duration": 1065,
        "start_time": "2022-11-20T13:32:32.971Z"
      },
      {
        "duration": 6,
        "start_time": "2022-11-20T13:32:34.037Z"
      },
      {
        "duration": 19,
        "start_time": "2022-11-20T13:32:34.044Z"
      },
      {
        "duration": 7,
        "start_time": "2022-11-20T13:32:34.065Z"
      },
      {
        "duration": 14,
        "start_time": "2022-11-20T13:32:34.074Z"
      },
      {
        "duration": 43,
        "start_time": "2022-11-20T13:32:34.089Z"
      },
      {
        "duration": 4,
        "start_time": "2022-11-20T13:32:34.134Z"
      },
      {
        "duration": 1811,
        "start_time": "2022-11-20T13:32:34.139Z"
      },
      {
        "duration": 1185,
        "start_time": "2022-11-20T13:32:35.952Z"
      },
      {
        "duration": 7,
        "start_time": "2022-11-20T13:32:37.215Z"
      },
      {
        "duration": 24,
        "start_time": "2022-11-20T13:32:37.225Z"
      },
      {
        "duration": 1466,
        "start_time": "2022-11-20T13:32:37.251Z"
      },
      {
        "duration": 5,
        "start_time": "2022-11-20T13:32:38.719Z"
      },
      {
        "duration": 23,
        "start_time": "2022-11-20T13:32:38.726Z"
      },
      {
        "duration": 769,
        "start_time": "2022-11-20T13:32:38.750Z"
      },
      {
        "duration": 6,
        "start_time": "2022-11-20T13:32:39.520Z"
      },
      {
        "duration": 1459,
        "start_time": "2022-11-20T13:36:17.010Z"
      },
      {
        "duration": 43,
        "start_time": "2022-11-20T13:36:18.471Z"
      },
      {
        "duration": 23,
        "start_time": "2022-11-20T13:36:18.516Z"
      },
      {
        "duration": 5,
        "start_time": "2022-11-20T13:36:18.542Z"
      },
      {
        "duration": 17,
        "start_time": "2022-11-20T13:36:18.549Z"
      },
      {
        "duration": 3,
        "start_time": "2022-11-20T13:36:18.568Z"
      },
      {
        "duration": 63,
        "start_time": "2022-11-20T13:36:18.573Z"
      },
      {
        "duration": 4,
        "start_time": "2022-11-20T13:36:18.638Z"
      },
      {
        "duration": 7,
        "start_time": "2022-11-20T13:36:18.644Z"
      },
      {
        "duration": 1494,
        "start_time": "2022-11-20T13:36:18.653Z"
      },
      {
        "duration": 1115,
        "start_time": "2022-11-20T13:36:20.149Z"
      },
      {
        "duration": 316,
        "start_time": "2022-11-20T13:36:21.265Z"
      },
      {
        "duration": 12,
        "start_time": "2022-11-20T13:36:21.583Z"
      },
      {
        "duration": 20,
        "start_time": "2022-11-20T13:36:21.596Z"
      },
      {
        "duration": 22,
        "start_time": "2022-11-20T13:36:21.618Z"
      },
      {
        "duration": 1047,
        "start_time": "2022-11-20T13:36:21.642Z"
      },
      {
        "duration": 11,
        "start_time": "2022-11-20T13:36:22.691Z"
      },
      {
        "duration": 1029,
        "start_time": "2022-11-20T13:36:22.704Z"
      },
      {
        "duration": 6,
        "start_time": "2022-11-20T13:36:23.734Z"
      },
      {
        "duration": 20,
        "start_time": "2022-11-20T13:36:23.742Z"
      },
      {
        "duration": 11,
        "start_time": "2022-11-20T13:36:23.764Z"
      },
      {
        "duration": 26,
        "start_time": "2022-11-20T13:36:23.777Z"
      },
      {
        "duration": 32,
        "start_time": "2022-11-20T13:36:23.805Z"
      },
      {
        "duration": 5,
        "start_time": "2022-11-20T13:36:23.838Z"
      },
      {
        "duration": 1549,
        "start_time": "2022-11-20T13:36:23.845Z"
      },
      {
        "duration": 1135,
        "start_time": "2022-11-20T13:36:25.396Z"
      },
      {
        "duration": 4,
        "start_time": "2022-11-20T13:36:26.615Z"
      },
      {
        "duration": 13,
        "start_time": "2022-11-20T13:36:26.624Z"
      },
      {
        "duration": 1583,
        "start_time": "2022-11-20T13:36:26.639Z"
      },
      {
        "duration": 93,
        "start_time": "2022-11-20T13:36:28.225Z"
      },
      {
        "duration": 16,
        "start_time": "2022-11-20T13:36:28.320Z"
      },
      {
        "duration": 791,
        "start_time": "2022-11-20T13:36:28.338Z"
      },
      {
        "duration": 3,
        "start_time": "2022-11-20T13:36:29.132Z"
      },
      {
        "duration": 1393,
        "start_time": "2022-11-20T13:40:12.189Z"
      },
      {
        "duration": 43,
        "start_time": "2022-11-20T13:40:13.584Z"
      },
      {
        "duration": 23,
        "start_time": "2022-11-20T13:40:13.629Z"
      },
      {
        "duration": 5,
        "start_time": "2022-11-20T13:40:13.653Z"
      },
      {
        "duration": 53,
        "start_time": "2022-11-20T13:40:13.660Z"
      },
      {
        "duration": 11,
        "start_time": "2022-11-20T13:40:13.715Z"
      },
      {
        "duration": 103,
        "start_time": "2022-11-20T13:40:13.727Z"
      },
      {
        "duration": 16,
        "start_time": "2022-11-20T13:40:13.832Z"
      },
      {
        "duration": 53,
        "start_time": "2022-11-20T13:40:13.849Z"
      },
      {
        "duration": 1525,
        "start_time": "2022-11-20T13:40:13.904Z"
      },
      {
        "duration": 1125,
        "start_time": "2022-11-20T13:40:15.431Z"
      },
      {
        "duration": 361,
        "start_time": "2022-11-20T13:40:16.558Z"
      },
      {
        "duration": 12,
        "start_time": "2022-11-20T13:40:16.921Z"
      },
      {
        "duration": 12,
        "start_time": "2022-11-20T13:40:16.936Z"
      },
      {
        "duration": 30,
        "start_time": "2022-11-20T13:40:16.950Z"
      },
      {
        "duration": 1001,
        "start_time": "2022-11-20T13:40:16.982Z"
      },
      {
        "duration": 12,
        "start_time": "2022-11-20T13:40:17.985Z"
      },
      {
        "duration": 1011,
        "start_time": "2022-11-20T13:40:17.999Z"
      },
      {
        "duration": 5,
        "start_time": "2022-11-20T13:40:19.012Z"
      },
      {
        "duration": 24,
        "start_time": "2022-11-20T13:40:19.019Z"
      },
      {
        "duration": 19,
        "start_time": "2022-11-20T13:40:19.045Z"
      },
      {
        "duration": 25,
        "start_time": "2022-11-20T13:40:19.066Z"
      },
      {
        "duration": 31,
        "start_time": "2022-11-20T13:40:19.093Z"
      },
      {
        "duration": 12,
        "start_time": "2022-11-20T13:40:19.126Z"
      },
      {
        "duration": 1610,
        "start_time": "2022-11-20T13:40:19.139Z"
      },
      {
        "duration": 1166,
        "start_time": "2022-11-20T13:40:20.751Z"
      },
      {
        "duration": 6,
        "start_time": "2022-11-20T13:40:21.919Z"
      },
      {
        "duration": 11,
        "start_time": "2022-11-20T13:40:22.017Z"
      },
      {
        "duration": 1391,
        "start_time": "2022-11-20T13:40:22.030Z"
      },
      {
        "duration": 94,
        "start_time": "2022-11-20T13:40:23.423Z"
      },
      {
        "duration": 11,
        "start_time": "2022-11-20T13:40:23.519Z"
      },
      {
        "duration": 686,
        "start_time": "2022-11-20T13:40:23.532Z"
      },
      {
        "duration": 93,
        "start_time": "2022-11-20T13:40:24.223Z"
      },
      {
        "duration": 1366,
        "start_time": "2022-11-20T13:43:21.990Z"
      },
      {
        "duration": 42,
        "start_time": "2022-11-20T13:43:23.357Z"
      },
      {
        "duration": 23,
        "start_time": "2022-11-20T13:43:23.400Z"
      },
      {
        "duration": 5,
        "start_time": "2022-11-20T13:43:23.424Z"
      },
      {
        "duration": 17,
        "start_time": "2022-11-20T13:43:23.430Z"
      },
      {
        "duration": 5,
        "start_time": "2022-11-20T13:43:23.449Z"
      },
      {
        "duration": 47,
        "start_time": "2022-11-20T13:43:23.455Z"
      },
      {
        "duration": 14,
        "start_time": "2022-11-20T13:43:23.503Z"
      },
      {
        "duration": 12,
        "start_time": "2022-11-20T13:43:23.518Z"
      },
      {
        "duration": 1475,
        "start_time": "2022-11-20T13:43:23.532Z"
      },
      {
        "duration": 1184,
        "start_time": "2022-11-20T13:43:25.008Z"
      },
      {
        "duration": 338,
        "start_time": "2022-11-20T13:43:26.193Z"
      },
      {
        "duration": 11,
        "start_time": "2022-11-20T13:43:26.533Z"
      },
      {
        "duration": 7,
        "start_time": "2022-11-20T13:43:26.547Z"
      },
      {
        "duration": 19,
        "start_time": "2022-11-20T13:43:26.556Z"
      },
      {
        "duration": 1059,
        "start_time": "2022-11-20T13:43:26.576Z"
      },
      {
        "duration": 12,
        "start_time": "2022-11-20T13:43:27.637Z"
      },
      {
        "duration": 1019,
        "start_time": "2022-11-20T13:43:27.651Z"
      },
      {
        "duration": 6,
        "start_time": "2022-11-20T13:43:28.672Z"
      },
      {
        "duration": 26,
        "start_time": "2022-11-20T13:43:28.680Z"
      },
      {
        "duration": 10,
        "start_time": "2022-11-20T13:43:28.708Z"
      },
      {
        "duration": 12,
        "start_time": "2022-11-20T13:43:28.720Z"
      },
      {
        "duration": 20,
        "start_time": "2022-11-20T13:43:28.733Z"
      },
      {
        "duration": 5,
        "start_time": "2022-11-20T13:43:28.754Z"
      },
      {
        "duration": 1494,
        "start_time": "2022-11-20T13:43:28.760Z"
      },
      {
        "duration": 1170,
        "start_time": "2022-11-20T13:43:30.256Z"
      },
      {
        "duration": 4,
        "start_time": "2022-11-20T13:43:31.516Z"
      },
      {
        "duration": 38,
        "start_time": "2022-11-20T13:43:31.521Z"
      },
      {
        "duration": 1661,
        "start_time": "2022-11-20T13:43:31.561Z"
      },
      {
        "duration": 94,
        "start_time": "2022-11-20T13:43:33.224Z"
      },
      {
        "duration": 13,
        "start_time": "2022-11-20T13:43:33.319Z"
      },
      {
        "duration": 687,
        "start_time": "2022-11-20T13:43:33.333Z"
      },
      {
        "duration": 4,
        "start_time": "2022-11-20T13:43:34.022Z"
      },
      {
        "duration": 1410,
        "start_time": "2022-11-20T13:44:46.797Z"
      },
      {
        "duration": 41,
        "start_time": "2022-11-20T13:44:48.209Z"
      },
      {
        "duration": 24,
        "start_time": "2022-11-20T13:44:48.252Z"
      },
      {
        "duration": 5,
        "start_time": "2022-11-20T13:44:48.277Z"
      },
      {
        "duration": 15,
        "start_time": "2022-11-20T13:44:48.285Z"
      },
      {
        "duration": 3,
        "start_time": "2022-11-20T13:44:48.302Z"
      },
      {
        "duration": 45,
        "start_time": "2022-11-20T13:44:48.307Z"
      },
      {
        "duration": 5,
        "start_time": "2022-11-20T13:44:48.353Z"
      },
      {
        "duration": 6,
        "start_time": "2022-11-20T13:44:48.359Z"
      },
      {
        "duration": 1525,
        "start_time": "2022-11-20T13:44:48.366Z"
      },
      {
        "duration": 1232,
        "start_time": "2022-11-20T13:44:49.892Z"
      },
      {
        "duration": 289,
        "start_time": "2022-11-20T13:44:51.126Z"
      },
      {
        "duration": 11,
        "start_time": "2022-11-20T13:44:51.417Z"
      },
      {
        "duration": 27,
        "start_time": "2022-11-20T13:44:51.432Z"
      },
      {
        "duration": 54,
        "start_time": "2022-11-20T13:44:51.461Z"
      },
      {
        "duration": 1067,
        "start_time": "2022-11-20T13:44:51.516Z"
      },
      {
        "duration": 12,
        "start_time": "2022-11-20T13:44:52.585Z"
      },
      {
        "duration": 1046,
        "start_time": "2022-11-20T13:44:52.598Z"
      },
      {
        "duration": 5,
        "start_time": "2022-11-20T13:44:53.645Z"
      },
      {
        "duration": 17,
        "start_time": "2022-11-20T13:44:53.651Z"
      },
      {
        "duration": 7,
        "start_time": "2022-11-20T13:44:53.669Z"
      },
      {
        "duration": 13,
        "start_time": "2022-11-20T13:44:53.678Z"
      },
      {
        "duration": 44,
        "start_time": "2022-11-20T13:44:53.692Z"
      },
      {
        "duration": 5,
        "start_time": "2022-11-20T13:44:53.737Z"
      },
      {
        "duration": 1610,
        "start_time": "2022-11-20T13:44:53.743Z"
      },
      {
        "duration": 1075,
        "start_time": "2022-11-20T13:44:55.354Z"
      },
      {
        "duration": 5,
        "start_time": "2022-11-20T13:44:56.517Z"
      },
      {
        "duration": 19,
        "start_time": "2022-11-20T13:44:56.524Z"
      },
      {
        "duration": 1371,
        "start_time": "2022-11-20T13:44:56.548Z"
      },
      {
        "duration": 95,
        "start_time": "2022-11-20T13:44:57.921Z"
      },
      {
        "duration": 12,
        "start_time": "2022-11-20T13:44:58.018Z"
      },
      {
        "duration": 692,
        "start_time": "2022-11-20T13:44:58.032Z"
      },
      {
        "duration": 3,
        "start_time": "2022-11-20T13:44:58.816Z"
      },
      {
        "duration": 120,
        "start_time": "2022-11-20T13:44:58.820Z"
      },
      {
        "duration": 0,
        "start_time": "2022-11-20T13:44:58.941Z"
      },
      {
        "duration": 0,
        "start_time": "2022-11-20T13:44:58.942Z"
      },
      {
        "duration": 0,
        "start_time": "2022-11-20T13:44:58.944Z"
      },
      {
        "duration": 0,
        "start_time": "2022-11-20T13:44:58.945Z"
      },
      {
        "duration": 0,
        "start_time": "2022-11-20T13:44:58.946Z"
      },
      {
        "duration": 0,
        "start_time": "2022-11-20T13:44:58.946Z"
      },
      {
        "duration": 0,
        "start_time": "2022-11-20T13:44:58.947Z"
      },
      {
        "duration": 0,
        "start_time": "2022-11-20T13:44:58.948Z"
      },
      {
        "duration": 0,
        "start_time": "2022-11-20T13:44:58.949Z"
      },
      {
        "duration": 0,
        "start_time": "2022-11-20T13:44:58.950Z"
      },
      {
        "duration": 0,
        "start_time": "2022-11-20T13:44:58.951Z"
      },
      {
        "duration": 1573,
        "start_time": "2022-11-20T13:46:27.805Z"
      },
      {
        "duration": 42,
        "start_time": "2022-11-20T13:46:29.380Z"
      },
      {
        "duration": 23,
        "start_time": "2022-11-20T13:46:29.423Z"
      },
      {
        "duration": 5,
        "start_time": "2022-11-20T13:46:29.448Z"
      },
      {
        "duration": 18,
        "start_time": "2022-11-20T13:46:29.454Z"
      },
      {
        "duration": 3,
        "start_time": "2022-11-20T13:46:29.473Z"
      },
      {
        "duration": 52,
        "start_time": "2022-11-20T13:46:29.477Z"
      },
      {
        "duration": 4,
        "start_time": "2022-11-20T13:46:29.531Z"
      },
      {
        "duration": 10,
        "start_time": "2022-11-20T13:46:29.536Z"
      },
      {
        "duration": 1480,
        "start_time": "2022-11-20T13:46:29.549Z"
      },
      {
        "duration": 1137,
        "start_time": "2022-11-20T13:46:31.031Z"
      },
      {
        "duration": 304,
        "start_time": "2022-11-20T13:46:32.169Z"
      },
      {
        "duration": 12,
        "start_time": "2022-11-20T13:46:32.474Z"
      },
      {
        "duration": 9,
        "start_time": "2022-11-20T13:46:32.488Z"
      },
      {
        "duration": 34,
        "start_time": "2022-11-20T13:46:32.498Z"
      },
      {
        "duration": 973,
        "start_time": "2022-11-20T13:46:32.534Z"
      },
      {
        "duration": 17,
        "start_time": "2022-11-20T13:46:33.509Z"
      },
      {
        "duration": 1015,
        "start_time": "2022-11-20T13:46:33.527Z"
      },
      {
        "duration": 5,
        "start_time": "2022-11-20T13:46:34.544Z"
      },
      {
        "duration": 18,
        "start_time": "2022-11-20T13:46:34.550Z"
      },
      {
        "duration": 5,
        "start_time": "2022-11-20T13:46:34.569Z"
      },
      {
        "duration": 17,
        "start_time": "2022-11-20T13:46:34.575Z"
      },
      {
        "duration": 32,
        "start_time": "2022-11-20T13:46:34.594Z"
      },
      {
        "duration": 5,
        "start_time": "2022-11-20T13:46:34.628Z"
      },
      {
        "duration": 1624,
        "start_time": "2022-11-20T13:46:34.635Z"
      },
      {
        "duration": 1255,
        "start_time": "2022-11-20T13:46:36.261Z"
      },
      {
        "duration": 4,
        "start_time": "2022-11-20T13:46:37.517Z"
      },
      {
        "duration": 11,
        "start_time": "2022-11-20T13:46:37.524Z"
      },
      {
        "duration": 1386,
        "start_time": "2022-11-20T13:46:37.537Z"
      },
      {
        "duration": 91,
        "start_time": "2022-11-20T13:46:38.925Z"
      },
      {
        "duration": 14,
        "start_time": "2022-11-20T13:46:39.018Z"
      },
      {
        "duration": 783,
        "start_time": "2022-11-20T13:46:39.033Z"
      },
      {
        "duration": 3,
        "start_time": "2022-11-20T13:46:39.817Z"
      },
      {
        "duration": 1394,
        "start_time": "2022-11-20T13:47:51.509Z"
      },
      {
        "duration": 41,
        "start_time": "2022-11-20T13:47:52.905Z"
      },
      {
        "duration": 21,
        "start_time": "2022-11-20T13:47:52.948Z"
      },
      {
        "duration": 4,
        "start_time": "2022-11-20T13:47:52.971Z"
      },
      {
        "duration": 17,
        "start_time": "2022-11-20T13:47:52.976Z"
      },
      {
        "duration": 3,
        "start_time": "2022-11-20T13:47:52.994Z"
      },
      {
        "duration": 46,
        "start_time": "2022-11-20T13:47:52.999Z"
      },
      {
        "duration": 4,
        "start_time": "2022-11-20T13:47:53.047Z"
      },
      {
        "duration": 6,
        "start_time": "2022-11-20T13:47:53.052Z"
      },
      {
        "duration": 1485,
        "start_time": "2022-11-20T13:47:53.061Z"
      },
      {
        "duration": 1092,
        "start_time": "2022-11-20T13:47:54.548Z"
      },
      {
        "duration": 256,
        "start_time": "2022-11-20T13:47:55.641Z"
      },
      {
        "duration": 20,
        "start_time": "2022-11-20T13:47:55.899Z"
      },
      {
        "duration": 7,
        "start_time": "2022-11-20T13:47:55.920Z"
      },
      {
        "duration": 20,
        "start_time": "2022-11-20T13:47:55.928Z"
      },
      {
        "duration": 1028,
        "start_time": "2022-11-20T13:47:55.950Z"
      },
      {
        "duration": 12,
        "start_time": "2022-11-20T13:47:56.979Z"
      },
      {
        "duration": 1009,
        "start_time": "2022-11-20T13:47:56.993Z"
      },
      {
        "duration": 12,
        "start_time": "2022-11-20T13:47:58.003Z"
      },
      {
        "duration": 9,
        "start_time": "2022-11-20T13:47:58.017Z"
      },
      {
        "duration": 10,
        "start_time": "2022-11-20T13:47:58.028Z"
      },
      {
        "duration": 17,
        "start_time": "2022-11-20T13:47:58.040Z"
      },
      {
        "duration": 23,
        "start_time": "2022-11-20T13:47:58.059Z"
      },
      {
        "duration": 7,
        "start_time": "2022-11-20T13:47:58.084Z"
      },
      {
        "duration": 1547,
        "start_time": "2022-11-20T13:47:58.092Z"
      },
      {
        "duration": 1176,
        "start_time": "2022-11-20T13:47:59.640Z"
      },
      {
        "duration": 4,
        "start_time": "2022-11-20T13:48:00.818Z"
      },
      {
        "duration": 26,
        "start_time": "2022-11-20T13:48:00.825Z"
      },
      {
        "duration": 1271,
        "start_time": "2022-11-20T13:48:00.852Z"
      },
      {
        "duration": 4,
        "start_time": "2022-11-20T13:48:02.215Z"
      },
      {
        "duration": 11,
        "start_time": "2022-11-20T13:48:02.221Z"
      },
      {
        "duration": 588,
        "start_time": "2022-11-20T13:48:02.234Z"
      },
      {
        "duration": 93,
        "start_time": "2022-11-20T13:48:02.824Z"
      },
      {
        "duration": 1318,
        "start_time": "2022-11-20T13:48:19.555Z"
      },
      {
        "duration": 42,
        "start_time": "2022-11-20T13:48:20.874Z"
      },
      {
        "duration": 24,
        "start_time": "2022-11-20T13:48:20.917Z"
      },
      {
        "duration": 5,
        "start_time": "2022-11-20T13:48:20.943Z"
      },
      {
        "duration": 19,
        "start_time": "2022-11-20T13:48:20.950Z"
      },
      {
        "duration": 3,
        "start_time": "2022-11-20T13:48:20.971Z"
      },
      {
        "duration": 60,
        "start_time": "2022-11-20T13:48:20.976Z"
      },
      {
        "duration": 5,
        "start_time": "2022-11-20T13:48:21.038Z"
      },
      {
        "duration": 5,
        "start_time": "2022-11-20T13:48:21.045Z"
      },
      {
        "duration": 1525,
        "start_time": "2022-11-20T13:48:21.053Z"
      },
      {
        "duration": 1099,
        "start_time": "2022-11-20T13:48:22.581Z"
      },
      {
        "duration": 336,
        "start_time": "2022-11-20T13:48:23.681Z"
      },
      {
        "duration": 10,
        "start_time": "2022-11-20T13:48:24.020Z"
      },
      {
        "duration": 8,
        "start_time": "2022-11-20T13:48:24.031Z"
      },
      {
        "duration": 20,
        "start_time": "2022-11-20T13:48:24.040Z"
      },
      {
        "duration": 1055,
        "start_time": "2022-11-20T13:48:24.062Z"
      },
      {
        "duration": 12,
        "start_time": "2022-11-20T13:48:25.120Z"
      },
      {
        "duration": 1012,
        "start_time": "2022-11-20T13:48:25.134Z"
      },
      {
        "duration": 5,
        "start_time": "2022-11-20T13:48:26.148Z"
      },
      {
        "duration": 20,
        "start_time": "2022-11-20T13:48:26.155Z"
      },
      {
        "duration": 10,
        "start_time": "2022-11-20T13:48:26.177Z"
      },
      {
        "duration": 14,
        "start_time": "2022-11-20T13:48:26.189Z"
      },
      {
        "duration": 29,
        "start_time": "2022-11-20T13:48:26.204Z"
      },
      {
        "duration": 5,
        "start_time": "2022-11-20T13:48:26.234Z"
      },
      {
        "duration": 2022,
        "start_time": "2022-11-20T13:48:26.241Z"
      },
      {
        "duration": 1156,
        "start_time": "2022-11-20T13:48:28.265Z"
      },
      {
        "duration": 93,
        "start_time": "2022-11-20T13:48:29.423Z"
      },
      {
        "duration": 11,
        "start_time": "2022-11-20T13:48:29.519Z"
      },
      {
        "duration": 1395,
        "start_time": "2022-11-20T13:48:29.531Z"
      },
      {
        "duration": 87,
        "start_time": "2022-11-20T13:48:30.929Z"
      },
      {
        "duration": 10,
        "start_time": "2022-11-20T13:48:31.018Z"
      },
      {
        "duration": 887,
        "start_time": "2022-11-20T13:48:31.029Z"
      },
      {
        "duration": 3,
        "start_time": "2022-11-20T13:48:31.918Z"
      },
      {
        "duration": 1816264,
        "start_time": "2022-11-20T13:48:31.922Z"
      },
      {
        "duration": 4,
        "start_time": "2022-11-20T14:18:48.187Z"
      },
      {
        "duration": 12,
        "start_time": "2022-11-20T14:18:48.192Z"
      },
      {
        "duration": 2881,
        "start_time": "2022-11-20T14:18:48.205Z"
      },
      {
        "duration": 4,
        "start_time": "2022-11-20T14:18:51.088Z"
      },
      {
        "duration": 29840,
        "start_time": "2022-11-20T14:18:51.093Z"
      },
      {
        "duration": 0,
        "start_time": "2022-11-20T14:19:20.935Z"
      },
      {
        "duration": 0,
        "start_time": "2022-11-20T14:19:20.936Z"
      },
      {
        "duration": 0,
        "start_time": "2022-11-20T14:19:20.937Z"
      },
      {
        "duration": 0,
        "start_time": "2022-11-20T14:19:20.939Z"
      },
      {
        "duration": 0,
        "start_time": "2022-11-20T14:19:20.939Z"
      },
      {
        "duration": 0,
        "start_time": "2022-11-20T14:19:20.941Z"
      },
      {
        "duration": 0,
        "start_time": "2022-11-20T14:19:20.942Z"
      },
      {
        "duration": 0,
        "start_time": "2022-11-20T14:19:20.944Z"
      },
      {
        "duration": 3,
        "start_time": "2022-11-20T14:19:23.364Z"
      },
      {
        "duration": 3724,
        "start_time": "2022-11-20T14:19:24.643Z"
      },
      {
        "duration": 397,
        "start_time": "2022-11-20T14:20:14.330Z"
      },
      {
        "duration": 321,
        "start_time": "2022-11-20T14:23:16.392Z"
      },
      {
        "duration": 3619,
        "start_time": "2022-11-20T14:23:26.408Z"
      },
      {
        "duration": 269,
        "start_time": "2022-11-20T14:23:33.381Z"
      },
      {
        "duration": 1413,
        "start_time": "2022-11-20T14:28:13.783Z"
      },
      {
        "duration": 42,
        "start_time": "2022-11-20T14:28:15.199Z"
      },
      {
        "duration": 24,
        "start_time": "2022-11-20T14:28:15.245Z"
      },
      {
        "duration": 4,
        "start_time": "2022-11-20T14:28:15.271Z"
      },
      {
        "duration": 20,
        "start_time": "2022-11-20T14:28:15.276Z"
      },
      {
        "duration": 3,
        "start_time": "2022-11-20T14:28:15.297Z"
      },
      {
        "duration": 49,
        "start_time": "2022-11-20T14:28:15.301Z"
      },
      {
        "duration": 5,
        "start_time": "2022-11-20T14:28:15.351Z"
      },
      {
        "duration": 13,
        "start_time": "2022-11-20T14:28:15.358Z"
      },
      {
        "duration": 1519,
        "start_time": "2022-11-20T14:28:15.373Z"
      },
      {
        "duration": 1141,
        "start_time": "2022-11-20T14:28:16.895Z"
      },
      {
        "duration": 262,
        "start_time": "2022-11-20T14:28:18.037Z"
      },
      {
        "duration": 21,
        "start_time": "2022-11-20T14:28:18.300Z"
      },
      {
        "duration": 7,
        "start_time": "2022-11-20T14:28:18.323Z"
      },
      {
        "duration": 25,
        "start_time": "2022-11-20T14:28:18.331Z"
      },
      {
        "duration": 1005,
        "start_time": "2022-11-20T14:28:18.357Z"
      },
      {
        "duration": 10,
        "start_time": "2022-11-20T14:28:19.364Z"
      },
      {
        "duration": 1037,
        "start_time": "2022-11-20T14:28:19.376Z"
      },
      {
        "duration": 5,
        "start_time": "2022-11-20T14:28:20.415Z"
      },
      {
        "duration": 19,
        "start_time": "2022-11-20T14:28:20.421Z"
      },
      {
        "duration": 10,
        "start_time": "2022-11-20T14:28:20.442Z"
      },
      {
        "duration": 12,
        "start_time": "2022-11-20T14:28:20.454Z"
      },
      {
        "duration": 19,
        "start_time": "2022-11-20T14:28:20.468Z"
      },
      {
        "duration": 5,
        "start_time": "2022-11-20T14:28:20.488Z"
      },
      {
        "duration": 1540,
        "start_time": "2022-11-20T14:28:20.494Z"
      },
      {
        "duration": 1182,
        "start_time": "2022-11-20T14:28:22.035Z"
      },
      {
        "duration": 6,
        "start_time": "2022-11-20T14:28:23.222Z"
      },
      {
        "duration": 98,
        "start_time": "2022-11-20T14:28:23.230Z"
      },
      {
        "duration": 1390,
        "start_time": "2022-11-20T14:28:23.330Z"
      },
      {
        "duration": 6,
        "start_time": "2022-11-20T14:28:24.722Z"
      },
      {
        "duration": 28,
        "start_time": "2022-11-20T14:28:24.730Z"
      },
      {
        "duration": 760,
        "start_time": "2022-11-20T14:28:24.760Z"
      },
      {
        "duration": 3,
        "start_time": "2022-11-20T14:28:25.522Z"
      },
      {
        "duration": 133,
        "start_time": "2022-11-20T14:28:25.526Z"
      },
      {
        "duration": 0,
        "start_time": "2022-11-20T14:28:25.660Z"
      },
      {
        "duration": 0,
        "start_time": "2022-11-20T14:28:25.662Z"
      },
      {
        "duration": 0,
        "start_time": "2022-11-20T14:28:25.663Z"
      },
      {
        "duration": 0,
        "start_time": "2022-11-20T14:28:25.664Z"
      },
      {
        "duration": 578973,
        "start_time": "2022-11-20T14:28:55.022Z"
      },
      {
        "duration": 730,
        "start_time": "2022-11-20T14:50:33.958Z"
      },
      {
        "duration": 3,
        "start_time": "2022-11-20T14:52:03.753Z"
      },
      {
        "duration": 737,
        "start_time": "2022-11-20T14:52:43.930Z"
      },
      {
        "duration": 3,
        "start_time": "2022-11-20T14:52:59.351Z"
      },
      {
        "duration": 23737,
        "start_time": "2022-11-20T14:53:01.835Z"
      },
      {
        "duration": 9058,
        "start_time": "2022-11-20T14:54:41.081Z"
      },
      {
        "duration": 406,
        "start_time": "2022-11-20T14:55:12.875Z"
      },
      {
        "duration": 401115,
        "start_time": "2022-11-20T14:57:16.822Z"
      },
      {
        "duration": 28527,
        "start_time": "2022-11-20T15:08:37.214Z"
      },
      {
        "duration": 414456,
        "start_time": "2022-11-20T15:10:40.894Z"
      },
      {
        "duration": 687,
        "start_time": "2022-11-20T15:17:35.352Z"
      },
      {
        "duration": 2836,
        "start_time": "2022-11-20T15:18:13.147Z"
      },
      {
        "duration": 2974,
        "start_time": "2022-11-20T15:18:22.112Z"
      },
      {
        "duration": 4,
        "start_time": "2022-11-20T15:18:45.020Z"
      },
      {
        "duration": 14,
        "start_time": "2022-11-20T15:21:04.913Z"
      },
      {
        "duration": 1041,
        "start_time": "2022-11-20T15:21:42.254Z"
      },
      {
        "duration": 1572,
        "start_time": "2022-11-20T15:27:06.547Z"
      },
      {
        "duration": 0,
        "start_time": "2022-11-20T15:27:08.122Z"
      },
      {
        "duration": 0,
        "start_time": "2022-11-20T15:27:08.123Z"
      },
      {
        "duration": 0,
        "start_time": "2022-11-20T15:27:08.124Z"
      },
      {
        "duration": 0,
        "start_time": "2022-11-20T15:27:08.125Z"
      },
      {
        "duration": 0,
        "start_time": "2022-11-20T15:27:08.127Z"
      },
      {
        "duration": 0,
        "start_time": "2022-11-20T15:27:08.128Z"
      },
      {
        "duration": 0,
        "start_time": "2022-11-20T15:27:08.129Z"
      },
      {
        "duration": 0,
        "start_time": "2022-11-20T15:27:08.130Z"
      },
      {
        "duration": 0,
        "start_time": "2022-11-20T15:27:08.131Z"
      },
      {
        "duration": 0,
        "start_time": "2022-11-20T15:27:08.133Z"
      },
      {
        "duration": 0,
        "start_time": "2022-11-20T15:27:08.134Z"
      },
      {
        "duration": 0,
        "start_time": "2022-11-20T15:27:08.135Z"
      },
      {
        "duration": 0,
        "start_time": "2022-11-20T15:27:08.136Z"
      },
      {
        "duration": 0,
        "start_time": "2022-11-20T15:27:08.137Z"
      },
      {
        "duration": 0,
        "start_time": "2022-11-20T15:27:08.138Z"
      },
      {
        "duration": 0,
        "start_time": "2022-11-20T15:27:08.141Z"
      },
      {
        "duration": 0,
        "start_time": "2022-11-20T15:27:08.143Z"
      },
      {
        "duration": 0,
        "start_time": "2022-11-20T15:27:08.144Z"
      },
      {
        "duration": 0,
        "start_time": "2022-11-20T15:27:08.146Z"
      },
      {
        "duration": 0,
        "start_time": "2022-11-20T15:27:08.148Z"
      },
      {
        "duration": 0,
        "start_time": "2022-11-20T15:27:08.149Z"
      },
      {
        "duration": 0,
        "start_time": "2022-11-20T15:27:08.151Z"
      },
      {
        "duration": 0,
        "start_time": "2022-11-20T15:27:08.152Z"
      },
      {
        "duration": 0,
        "start_time": "2022-11-20T15:27:08.154Z"
      },
      {
        "duration": 0,
        "start_time": "2022-11-20T15:27:08.155Z"
      },
      {
        "duration": 0,
        "start_time": "2022-11-20T15:27:08.156Z"
      },
      {
        "duration": 0,
        "start_time": "2022-11-20T15:27:08.158Z"
      },
      {
        "duration": 0,
        "start_time": "2022-11-20T15:27:08.216Z"
      },
      {
        "duration": 0,
        "start_time": "2022-11-20T15:27:08.218Z"
      },
      {
        "duration": 0,
        "start_time": "2022-11-20T15:27:08.219Z"
      },
      {
        "duration": 0,
        "start_time": "2022-11-20T15:27:08.220Z"
      },
      {
        "duration": 1409,
        "start_time": "2022-11-20T15:27:43.377Z"
      },
      {
        "duration": 42,
        "start_time": "2022-11-20T15:27:44.788Z"
      },
      {
        "duration": 24,
        "start_time": "2022-11-20T15:27:44.831Z"
      },
      {
        "duration": 5,
        "start_time": "2022-11-20T15:27:44.857Z"
      },
      {
        "duration": 16,
        "start_time": "2022-11-20T15:27:44.864Z"
      },
      {
        "duration": 3,
        "start_time": "2022-11-20T15:27:44.883Z"
      },
      {
        "duration": 60,
        "start_time": "2022-11-20T15:27:44.888Z"
      },
      {
        "duration": 4,
        "start_time": "2022-11-20T15:27:44.950Z"
      },
      {
        "duration": 6,
        "start_time": "2022-11-20T15:27:44.956Z"
      },
      {
        "duration": 1517,
        "start_time": "2022-11-20T15:27:44.964Z"
      },
      {
        "duration": 1216,
        "start_time": "2022-11-20T15:27:46.483Z"
      },
      {
        "duration": 286,
        "start_time": "2022-11-20T15:27:47.701Z"
      },
      {
        "duration": 12,
        "start_time": "2022-11-20T15:27:47.988Z"
      },
      {
        "duration": 8,
        "start_time": "2022-11-20T15:27:48.015Z"
      },
      {
        "duration": 22,
        "start_time": "2022-11-20T15:27:48.024Z"
      },
      {
        "duration": 1045,
        "start_time": "2022-11-20T15:27:48.047Z"
      },
      {
        "duration": 12,
        "start_time": "2022-11-20T15:27:49.094Z"
      },
      {
        "duration": 1005,
        "start_time": "2022-11-20T15:27:49.116Z"
      },
      {
        "duration": 5,
        "start_time": "2022-11-20T15:27:50.123Z"
      },
      {
        "duration": 14,
        "start_time": "2022-11-20T15:27:50.130Z"
      },
      {
        "duration": 5,
        "start_time": "2022-11-20T15:27:50.146Z"
      },
      {
        "duration": 11,
        "start_time": "2022-11-20T15:27:50.152Z"
      },
      {
        "duration": 4,
        "start_time": "2022-11-20T15:27:50.165Z"
      },
      {
        "duration": 2085,
        "start_time": "2022-11-20T15:27:50.170Z"
      },
      {
        "duration": 1663,
        "start_time": "2022-11-20T15:27:52.257Z"
      },
      {
        "duration": 5,
        "start_time": "2022-11-20T15:27:53.922Z"
      },
      {
        "duration": 19,
        "start_time": "2022-11-20T15:27:53.929Z"
      },
      {
        "duration": 1970,
        "start_time": "2022-11-20T15:27:53.950Z"
      },
      {
        "duration": 94,
        "start_time": "2022-11-20T15:27:55.922Z"
      },
      {
        "duration": 28,
        "start_time": "2022-11-20T15:27:56.017Z"
      },
      {
        "duration": 1071,
        "start_time": "2022-11-20T15:27:56.046Z"
      },
      {
        "duration": 1045,
        "start_time": "2022-11-20T15:27:57.120Z"
      },
      {
        "duration": 3,
        "start_time": "2022-11-20T15:40:57.031Z"
      },
      {
        "duration": 422,
        "start_time": "2022-11-20T15:40:58.403Z"
      },
      {
        "duration": 7929,
        "start_time": "2022-11-20T15:41:09.408Z"
      },
      {
        "duration": 16836,
        "start_time": "2022-11-20T15:41:28.920Z"
      },
      {
        "duration": 11239,
        "start_time": "2022-11-20T15:41:55.641Z"
      },
      {
        "duration": 315880,
        "start_time": "2022-11-20T15:42:17.393Z"
      },
      {
        "duration": 2915,
        "start_time": "2022-11-20T15:47:49.825Z"
      },
      {
        "duration": 3045,
        "start_time": "2022-11-20T15:50:32.448Z"
      },
      {
        "duration": 3270,
        "start_time": "2022-11-20T15:51:27.773Z"
      },
      {
        "duration": 3320,
        "start_time": "2022-11-20T15:51:50.852Z"
      },
      {
        "duration": 162,
        "start_time": "2022-11-20T15:52:27.410Z"
      },
      {
        "duration": 456,
        "start_time": "2022-11-20T15:53:27.615Z"
      },
      {
        "duration": 1379,
        "start_time": "2022-11-20T15:54:13.433Z"
      },
      {
        "duration": 44,
        "start_time": "2022-11-20T15:54:14.814Z"
      },
      {
        "duration": 28,
        "start_time": "2022-11-20T15:54:14.860Z"
      },
      {
        "duration": 4,
        "start_time": "2022-11-20T15:54:14.890Z"
      },
      {
        "duration": 17,
        "start_time": "2022-11-20T15:54:14.895Z"
      },
      {
        "duration": 3,
        "start_time": "2022-11-20T15:54:14.914Z"
      },
      {
        "duration": 42,
        "start_time": "2022-11-20T15:54:14.919Z"
      },
      {
        "duration": 5,
        "start_time": "2022-11-20T15:54:14.962Z"
      },
      {
        "duration": 9,
        "start_time": "2022-11-20T15:54:14.969Z"
      },
      {
        "duration": 1562,
        "start_time": "2022-11-20T15:54:14.981Z"
      },
      {
        "duration": 1226,
        "start_time": "2022-11-20T15:54:16.545Z"
      },
      {
        "duration": 351,
        "start_time": "2022-11-20T15:54:17.774Z"
      },
      {
        "duration": 17,
        "start_time": "2022-11-20T15:54:18.128Z"
      },
      {
        "duration": 10,
        "start_time": "2022-11-20T15:54:18.147Z"
      },
      {
        "duration": 29,
        "start_time": "2022-11-20T15:54:18.160Z"
      },
      {
        "duration": 1109,
        "start_time": "2022-11-20T15:54:18.191Z"
      },
      {
        "duration": 16,
        "start_time": "2022-11-20T15:54:19.302Z"
      },
      {
        "duration": 1066,
        "start_time": "2022-11-20T15:54:19.319Z"
      },
      {
        "duration": 5,
        "start_time": "2022-11-20T15:54:20.387Z"
      },
      {
        "duration": 22,
        "start_time": "2022-11-20T15:54:20.393Z"
      },
      {
        "duration": 6,
        "start_time": "2022-11-20T15:54:20.417Z"
      },
      {
        "duration": 14,
        "start_time": "2022-11-20T15:54:20.424Z"
      },
      {
        "duration": 5,
        "start_time": "2022-11-20T15:54:20.439Z"
      },
      {
        "duration": 1907,
        "start_time": "2022-11-20T15:54:20.445Z"
      },
      {
        "duration": 1572,
        "start_time": "2022-11-20T15:54:22.354Z"
      },
      {
        "duration": 6,
        "start_time": "2022-11-20T15:54:24.016Z"
      },
      {
        "duration": 19,
        "start_time": "2022-11-20T15:54:24.024Z"
      },
      {
        "duration": 1872,
        "start_time": "2022-11-20T15:54:24.047Z"
      },
      {
        "duration": 94,
        "start_time": "2022-11-20T15:54:25.922Z"
      },
      {
        "duration": 12,
        "start_time": "2022-11-20T15:54:26.018Z"
      },
      {
        "duration": 1194,
        "start_time": "2022-11-20T15:54:26.031Z"
      },
      {
        "duration": 4,
        "start_time": "2022-11-20T15:54:27.316Z"
      },
      {
        "duration": 150764,
        "start_time": "2022-11-20T15:54:27.322Z"
      },
      {
        "duration": 0,
        "start_time": "2022-11-20T15:56:58.087Z"
      },
      {
        "duration": 0,
        "start_time": "2022-11-20T15:56:58.089Z"
      },
      {
        "duration": 1424,
        "start_time": "2022-11-20T15:57:01.015Z"
      },
      {
        "duration": 49,
        "start_time": "2022-11-20T15:57:02.441Z"
      },
      {
        "duration": 29,
        "start_time": "2022-11-20T15:57:02.492Z"
      },
      {
        "duration": 17,
        "start_time": "2022-11-20T15:57:02.523Z"
      },
      {
        "duration": 31,
        "start_time": "2022-11-20T15:57:02.543Z"
      },
      {
        "duration": 23,
        "start_time": "2022-11-20T15:57:02.576Z"
      },
      {
        "duration": 79,
        "start_time": "2022-11-20T15:57:02.601Z"
      },
      {
        "duration": 5,
        "start_time": "2022-11-20T15:57:02.681Z"
      },
      {
        "duration": 23,
        "start_time": "2022-11-20T15:57:02.688Z"
      },
      {
        "duration": 1550,
        "start_time": "2022-11-20T15:57:02.713Z"
      },
      {
        "duration": 1116,
        "start_time": "2022-11-20T15:57:04.264Z"
      },
      {
        "duration": 322,
        "start_time": "2022-11-20T15:57:05.382Z"
      },
      {
        "duration": 20,
        "start_time": "2022-11-20T15:57:05.706Z"
      },
      {
        "duration": 8,
        "start_time": "2022-11-20T15:57:05.730Z"
      },
      {
        "duration": 26,
        "start_time": "2022-11-20T15:57:05.741Z"
      },
      {
        "duration": 1129,
        "start_time": "2022-11-20T15:57:05.769Z"
      },
      {
        "duration": 22,
        "start_time": "2022-11-20T15:57:06.900Z"
      },
      {
        "duration": 1046,
        "start_time": "2022-11-20T15:57:06.924Z"
      },
      {
        "duration": 5,
        "start_time": "2022-11-20T15:57:07.972Z"
      },
      {
        "duration": 14,
        "start_time": "2022-11-20T15:57:07.978Z"
      },
      {
        "duration": 6,
        "start_time": "2022-11-20T15:57:07.994Z"
      },
      {
        "duration": 12,
        "start_time": "2022-11-20T15:57:08.015Z"
      },
      {
        "duration": 4,
        "start_time": "2022-11-20T15:57:08.029Z"
      },
      {
        "duration": 1912,
        "start_time": "2022-11-20T15:57:08.035Z"
      },
      {
        "duration": 1474,
        "start_time": "2022-11-20T15:57:09.950Z"
      },
      {
        "duration": 90,
        "start_time": "2022-11-20T15:57:11.425Z"
      },
      {
        "duration": 16,
        "start_time": "2022-11-20T15:57:11.517Z"
      },
      {
        "duration": 1790,
        "start_time": "2022-11-20T15:57:11.535Z"
      },
      {
        "duration": 89,
        "start_time": "2022-11-20T15:57:13.327Z"
      },
      {
        "duration": 12,
        "start_time": "2022-11-20T15:57:13.418Z"
      },
      {
        "duration": 985,
        "start_time": "2022-11-20T15:57:13.432Z"
      },
      {
        "duration": 3,
        "start_time": "2022-11-20T15:57:14.419Z"
      },
      {
        "duration": 311843,
        "start_time": "2022-11-20T15:57:14.424Z"
      },
      {
        "duration": 3552,
        "start_time": "2022-11-20T16:02:26.269Z"
      },
      {
        "duration": 413,
        "start_time": "2022-11-20T16:02:29.825Z"
      },
      {
        "duration": 1602,
        "start_time": "2022-11-21T11:14:01.672Z"
      },
      {
        "duration": 166,
        "start_time": "2022-11-21T11:14:03.276Z"
      },
      {
        "duration": 27,
        "start_time": "2022-11-21T11:14:03.444Z"
      },
      {
        "duration": 38,
        "start_time": "2022-11-21T11:14:03.473Z"
      },
      {
        "duration": 75,
        "start_time": "2022-11-21T11:14:03.513Z"
      },
      {
        "duration": 52,
        "start_time": "2022-11-21T11:14:03.589Z"
      },
      {
        "duration": 84,
        "start_time": "2022-11-21T11:14:03.642Z"
      },
      {
        "duration": 4,
        "start_time": "2022-11-21T11:14:03.728Z"
      },
      {
        "duration": 52,
        "start_time": "2022-11-21T11:14:03.734Z"
      },
      {
        "duration": 1692,
        "start_time": "2022-11-21T11:14:03.789Z"
      },
      {
        "duration": 1153,
        "start_time": "2022-11-21T11:14:05.483Z"
      },
      {
        "duration": 352,
        "start_time": "2022-11-21T11:14:06.637Z"
      },
      {
        "duration": 11,
        "start_time": "2022-11-21T11:14:06.991Z"
      },
      {
        "duration": 12,
        "start_time": "2022-11-21T11:14:07.004Z"
      },
      {
        "duration": 39,
        "start_time": "2022-11-21T11:14:07.018Z"
      },
      {
        "duration": 1045,
        "start_time": "2022-11-21T11:14:07.059Z"
      },
      {
        "duration": 11,
        "start_time": "2022-11-21T11:14:08.106Z"
      },
      {
        "duration": 1113,
        "start_time": "2022-11-21T11:14:08.118Z"
      },
      {
        "duration": 6,
        "start_time": "2022-11-21T11:14:09.233Z"
      },
      {
        "duration": 28,
        "start_time": "2022-11-21T11:14:09.241Z"
      },
      {
        "duration": 45,
        "start_time": "2022-11-21T11:14:09.271Z"
      },
      {
        "duration": 87,
        "start_time": "2022-11-21T11:14:09.318Z"
      },
      {
        "duration": 6,
        "start_time": "2022-11-21T11:14:09.407Z"
      },
      {
        "duration": 1605,
        "start_time": "2022-11-21T11:14:09.415Z"
      },
      {
        "duration": 1161,
        "start_time": "2022-11-21T11:14:11.022Z"
      },
      {
        "duration": 92,
        "start_time": "2022-11-21T11:14:12.186Z"
      },
      {
        "duration": 19,
        "start_time": "2022-11-21T11:14:12.281Z"
      },
      {
        "duration": 1483,
        "start_time": "2022-11-21T11:14:12.303Z"
      },
      {
        "duration": 90,
        "start_time": "2022-11-21T11:14:13.788Z"
      },
      {
        "duration": 42,
        "start_time": "2022-11-21T11:14:13.880Z"
      },
      {
        "duration": 754,
        "start_time": "2022-11-21T11:14:13.924Z"
      },
      {
        "duration": 4,
        "start_time": "2022-11-21T11:14:14.679Z"
      },
      {
        "duration": 5655,
        "start_time": "2022-11-21T11:14:14.684Z"
      },
      {
        "duration": 0,
        "start_time": "2022-11-21T11:14:20.340Z"
      },
      {
        "duration": 0,
        "start_time": "2022-11-21T11:14:20.341Z"
      },
      {
        "duration": 1386,
        "start_time": "2022-11-21T11:14:26.980Z"
      },
      {
        "duration": 42,
        "start_time": "2022-11-21T11:14:28.368Z"
      },
      {
        "duration": 25,
        "start_time": "2022-11-21T11:14:28.411Z"
      },
      {
        "duration": 5,
        "start_time": "2022-11-21T11:14:28.438Z"
      },
      {
        "duration": 16,
        "start_time": "2022-11-21T11:14:28.444Z"
      },
      {
        "duration": 6,
        "start_time": "2022-11-21T11:14:28.462Z"
      },
      {
        "duration": 40,
        "start_time": "2022-11-21T11:14:28.478Z"
      },
      {
        "duration": 5,
        "start_time": "2022-11-21T11:14:28.519Z"
      },
      {
        "duration": 10,
        "start_time": "2022-11-21T11:14:28.525Z"
      },
      {
        "duration": 1588,
        "start_time": "2022-11-21T11:14:28.538Z"
      },
      {
        "duration": 1160,
        "start_time": "2022-11-21T11:14:30.128Z"
      },
      {
        "duration": 295,
        "start_time": "2022-11-21T11:14:31.290Z"
      },
      {
        "duration": 11,
        "start_time": "2022-11-21T11:14:31.587Z"
      },
      {
        "duration": 8,
        "start_time": "2022-11-21T11:14:31.600Z"
      },
      {
        "duration": 23,
        "start_time": "2022-11-21T11:14:31.609Z"
      },
      {
        "duration": 1077,
        "start_time": "2022-11-21T11:14:31.634Z"
      },
      {
        "duration": 11,
        "start_time": "2022-11-21T11:14:32.713Z"
      },
      {
        "duration": 1204,
        "start_time": "2022-11-21T11:14:32.726Z"
      },
      {
        "duration": 7,
        "start_time": "2022-11-21T11:14:33.932Z"
      },
      {
        "duration": 36,
        "start_time": "2022-11-21T11:14:33.941Z"
      },
      {
        "duration": 8,
        "start_time": "2022-11-21T11:14:33.980Z"
      },
      {
        "duration": 63,
        "start_time": "2022-11-21T11:14:33.991Z"
      },
      {
        "duration": 5,
        "start_time": "2022-11-21T11:14:34.057Z"
      },
      {
        "duration": 1976,
        "start_time": "2022-11-21T11:14:34.064Z"
      },
      {
        "duration": 1150,
        "start_time": "2022-11-21T11:14:36.043Z"
      },
      {
        "duration": 5,
        "start_time": "2022-11-21T11:14:37.279Z"
      },
      {
        "duration": 36,
        "start_time": "2022-11-21T11:14:37.287Z"
      },
      {
        "duration": 1453,
        "start_time": "2022-11-21T11:14:37.327Z"
      },
      {
        "duration": 5,
        "start_time": "2022-11-21T11:14:38.781Z"
      },
      {
        "duration": 97,
        "start_time": "2022-11-21T11:14:38.788Z"
      },
      {
        "duration": 892,
        "start_time": "2022-11-21T11:14:38.887Z"
      },
      {
        "duration": 3,
        "start_time": "2022-11-21T11:14:39.781Z"
      },
      {
        "duration": 321851,
        "start_time": "2022-11-21T11:14:39.785Z"
      },
      {
        "duration": 3459,
        "start_time": "2022-11-21T11:20:01.638Z"
      },
      {
        "duration": 429,
        "start_time": "2022-11-21T11:20:05.098Z"
      },
      {
        "duration": 4104,
        "start_time": "2022-11-21T11:21:17.708Z"
      },
      {
        "duration": 544,
        "start_time": "2022-11-21T11:21:27.473Z"
      },
      {
        "duration": 5215,
        "start_time": "2022-11-21T11:21:49.964Z"
      },
      {
        "duration": 547,
        "start_time": "2022-11-21T11:21:58.919Z"
      },
      {
        "duration": 3239,
        "start_time": "2022-11-21T11:22:17.629Z"
      },
      {
        "duration": 417,
        "start_time": "2022-11-21T11:22:25.312Z"
      },
      {
        "duration": 1574,
        "start_time": "2022-11-21T11:23:50.568Z"
      },
      {
        "duration": 43,
        "start_time": "2022-11-21T11:23:52.144Z"
      },
      {
        "duration": 26,
        "start_time": "2022-11-21T11:23:52.189Z"
      },
      {
        "duration": 6,
        "start_time": "2022-11-21T11:23:52.218Z"
      },
      {
        "duration": 37,
        "start_time": "2022-11-21T11:23:52.226Z"
      },
      {
        "duration": 17,
        "start_time": "2022-11-21T11:23:52.265Z"
      },
      {
        "duration": 62,
        "start_time": "2022-11-21T11:23:52.284Z"
      },
      {
        "duration": 6,
        "start_time": "2022-11-21T11:23:52.348Z"
      },
      {
        "duration": 30,
        "start_time": "2022-11-21T11:23:52.357Z"
      },
      {
        "duration": 1735,
        "start_time": "2022-11-21T11:23:52.390Z"
      },
      {
        "duration": 1237,
        "start_time": "2022-11-21T11:23:54.127Z"
      },
      {
        "duration": 315,
        "start_time": "2022-11-21T11:23:55.366Z"
      },
      {
        "duration": 12,
        "start_time": "2022-11-21T11:23:55.684Z"
      },
      {
        "duration": 8,
        "start_time": "2022-11-21T11:23:55.698Z"
      },
      {
        "duration": 27,
        "start_time": "2022-11-21T11:23:55.707Z"
      },
      {
        "duration": 1087,
        "start_time": "2022-11-21T11:23:55.736Z"
      },
      {
        "duration": 11,
        "start_time": "2022-11-21T11:23:56.825Z"
      },
      {
        "duration": 1099,
        "start_time": "2022-11-21T11:23:56.838Z"
      },
      {
        "duration": 6,
        "start_time": "2022-11-21T11:23:57.938Z"
      },
      {
        "duration": 14,
        "start_time": "2022-11-21T11:23:57.946Z"
      },
      {
        "duration": 19,
        "start_time": "2022-11-21T11:23:57.962Z"
      },
      {
        "duration": 37,
        "start_time": "2022-11-21T11:23:57.982Z"
      },
      {
        "duration": 4,
        "start_time": "2022-11-21T11:23:58.021Z"
      },
      {
        "duration": 1539,
        "start_time": "2022-11-21T11:23:58.027Z"
      },
      {
        "duration": 1115,
        "start_time": "2022-11-21T11:23:59.567Z"
      },
      {
        "duration": 6,
        "start_time": "2022-11-21T11:24:00.683Z"
      },
      {
        "duration": 46,
        "start_time": "2022-11-21T11:24:00.778Z"
      },
      {
        "duration": 1851,
        "start_time": "2022-11-21T11:24:00.828Z"
      },
      {
        "duration": 5,
        "start_time": "2022-11-21T11:24:02.680Z"
      },
      {
        "duration": 13,
        "start_time": "2022-11-21T11:24:02.687Z"
      },
      {
        "duration": 587,
        "start_time": "2022-11-21T11:24:02.702Z"
      },
      {
        "duration": 88,
        "start_time": "2022-11-21T11:24:03.291Z"
      },
      {
        "duration": 1424,
        "start_time": "2022-11-21T11:29:29.692Z"
      },
      {
        "duration": 44,
        "start_time": "2022-11-21T11:29:31.119Z"
      },
      {
        "duration": 29,
        "start_time": "2022-11-21T11:29:31.165Z"
      },
      {
        "duration": 6,
        "start_time": "2022-11-21T11:29:31.197Z"
      },
      {
        "duration": 26,
        "start_time": "2022-11-21T11:29:31.204Z"
      },
      {
        "duration": 8,
        "start_time": "2022-11-21T11:29:31.231Z"
      },
      {
        "duration": 54,
        "start_time": "2022-11-21T11:29:31.241Z"
      },
      {
        "duration": 5,
        "start_time": "2022-11-21T11:29:31.297Z"
      },
      {
        "duration": 8,
        "start_time": "2022-11-21T11:29:31.304Z"
      },
      {
        "duration": 1695,
        "start_time": "2022-11-21T11:29:31.316Z"
      },
      {
        "duration": 1280,
        "start_time": "2022-11-21T11:29:33.012Z"
      },
      {
        "duration": 317,
        "start_time": "2022-11-21T11:29:34.293Z"
      },
      {
        "duration": 15,
        "start_time": "2022-11-21T11:29:34.611Z"
      },
      {
        "duration": 32,
        "start_time": "2022-11-21T11:29:34.628Z"
      },
      {
        "duration": 48,
        "start_time": "2022-11-21T11:29:34.662Z"
      },
      {
        "duration": 1151,
        "start_time": "2022-11-21T11:29:34.712Z"
      },
      {
        "duration": 18,
        "start_time": "2022-11-21T11:29:35.865Z"
      },
      {
        "duration": 1262,
        "start_time": "2022-11-21T11:29:35.885Z"
      },
      {
        "duration": 7,
        "start_time": "2022-11-21T11:29:37.149Z"
      },
      {
        "duration": 23,
        "start_time": "2022-11-21T11:29:37.158Z"
      },
      {
        "duration": 11,
        "start_time": "2022-11-21T11:29:37.183Z"
      },
      {
        "duration": 49,
        "start_time": "2022-11-21T11:29:37.196Z"
      },
      {
        "duration": 6,
        "start_time": "2022-11-21T11:29:37.249Z"
      },
      {
        "duration": 1595,
        "start_time": "2022-11-21T11:29:37.257Z"
      },
      {
        "duration": 1446,
        "start_time": "2022-11-21T11:29:38.855Z"
      },
      {
        "duration": 78,
        "start_time": "2022-11-21T11:29:40.303Z"
      },
      {
        "duration": 18,
        "start_time": "2022-11-21T11:29:40.383Z"
      },
      {
        "duration": 1391,
        "start_time": "2022-11-21T11:29:40.405Z"
      },
      {
        "duration": 5,
        "start_time": "2022-11-21T11:29:41.879Z"
      },
      {
        "duration": 92,
        "start_time": "2022-11-21T11:29:41.886Z"
      },
      {
        "duration": 707,
        "start_time": "2022-11-21T11:29:41.980Z"
      },
      {
        "duration": 6,
        "start_time": "2022-11-21T11:29:42.690Z"
      },
      {
        "duration": 332261,
        "start_time": "2022-11-21T11:29:42.698Z"
      },
      {
        "duration": 3435,
        "start_time": "2022-11-21T11:35:14.961Z"
      },
      {
        "duration": 460,
        "start_time": "2022-11-21T11:35:18.398Z"
      },
      {
        "duration": 4831,
        "start_time": "2022-11-21T11:36:31.891Z"
      },
      {
        "duration": 582,
        "start_time": "2022-11-21T11:36:40.715Z"
      },
      {
        "duration": 1586,
        "start_time": "2022-11-21T11:37:48.082Z"
      },
      {
        "duration": 45,
        "start_time": "2022-11-21T11:37:49.670Z"
      },
      {
        "duration": 29,
        "start_time": "2022-11-21T11:37:49.717Z"
      },
      {
        "duration": 6,
        "start_time": "2022-11-21T11:37:49.748Z"
      },
      {
        "duration": 18,
        "start_time": "2022-11-21T11:37:49.756Z"
      },
      {
        "duration": 4,
        "start_time": "2022-11-21T11:37:49.778Z"
      },
      {
        "duration": 50,
        "start_time": "2022-11-21T11:37:49.784Z"
      },
      {
        "duration": 5,
        "start_time": "2022-11-21T11:37:49.836Z"
      },
      {
        "duration": 7,
        "start_time": "2022-11-21T11:37:49.843Z"
      },
      {
        "duration": 1760,
        "start_time": "2022-11-21T11:37:49.879Z"
      },
      {
        "duration": 1263,
        "start_time": "2022-11-21T11:37:51.641Z"
      },
      {
        "duration": 346,
        "start_time": "2022-11-21T11:37:52.906Z"
      },
      {
        "duration": 12,
        "start_time": "2022-11-21T11:37:53.254Z"
      },
      {
        "duration": 9,
        "start_time": "2022-11-21T11:37:53.279Z"
      },
      {
        "duration": 25,
        "start_time": "2022-11-21T11:37:53.290Z"
      },
      {
        "duration": 1312,
        "start_time": "2022-11-21T11:37:53.317Z"
      },
      {
        "duration": 11,
        "start_time": "2022-11-21T11:37:54.631Z"
      },
      {
        "duration": 1107,
        "start_time": "2022-11-21T11:37:54.644Z"
      },
      {
        "duration": 7,
        "start_time": "2022-11-21T11:37:55.753Z"
      },
      {
        "duration": 37,
        "start_time": "2022-11-21T11:37:55.762Z"
      },
      {
        "duration": 6,
        "start_time": "2022-11-21T11:37:55.802Z"
      },
      {
        "duration": 36,
        "start_time": "2022-11-21T11:37:55.810Z"
      },
      {
        "duration": 4,
        "start_time": "2022-11-21T11:37:55.848Z"
      },
      {
        "duration": 2065,
        "start_time": "2022-11-21T11:37:55.854Z"
      },
      {
        "duration": 1172,
        "start_time": "2022-11-21T11:37:57.920Z"
      },
      {
        "duration": 4,
        "start_time": "2022-11-21T11:37:59.179Z"
      },
      {
        "duration": 16,
        "start_time": "2022-11-21T11:37:59.184Z"
      },
      {
        "duration": 1577,
        "start_time": "2022-11-21T11:37:59.204Z"
      },
      {
        "duration": 6,
        "start_time": "2022-11-21T11:38:00.783Z"
      },
      {
        "duration": 111,
        "start_time": "2022-11-21T11:38:00.791Z"
      },
      {
        "duration": 680,
        "start_time": "2022-11-21T11:38:00.903Z"
      },
      {
        "duration": 4,
        "start_time": "2022-11-21T11:38:01.584Z"
      },
      {
        "duration": 318673,
        "start_time": "2022-11-21T11:38:01.677Z"
      },
      {
        "duration": 4126,
        "start_time": "2022-11-21T11:43:20.352Z"
      },
      {
        "duration": 579,
        "start_time": "2022-11-21T11:43:24.480Z"
      },
      {
        "duration": 3590,
        "start_time": "2022-11-21T11:47:07.546Z"
      },
      {
        "duration": 508,
        "start_time": "2022-11-21T11:47:13.923Z"
      }
    ],
    "kernelspec": {
      "name": "python",
      "display_name": "Python (Pyodide)",
      "language": "python"
    },
    "language_info": {
      "codemirror_mode": {
        "name": "python",
        "version": 3
      },
      "file_extension": ".py",
      "mimetype": "text/x-python",
      "name": "python",
      "nbconvert_exporter": "python",
      "pygments_lexer": "ipython3",
      "version": "3.8"
    },
    "toc": {
      "base_numbering": 1,
      "nav_menu": {},
      "number_sections": true,
      "sideBar": true,
      "skip_h1_title": true,
      "title_cell": "Содержание",
      "title_sidebar": "Contents",
      "toc_cell": true,
      "toc_position": {
        "height": "calc(100% - 180px)",
        "left": "10px",
        "top": "150px",
        "width": "165px"
      },
      "toc_section_display": true,
      "toc_window_display": true
    }
  },
  "nbformat_minor": 4,
  "nbformat": 4,
  "cells": [
    {
      "cell_type": "markdown",
      "source": "<h1>Содержание<span class=\"tocSkip\"></span></h1>\n<div class=\"toc\"><ul class=\"toc-item\"><li><span><a href=\"#Подготовка-данных\" data-toc-modified-id=\"Подготовка-данных-1\"><span class=\"toc-item-num\">1&nbsp;&nbsp;</span>Подготовка данных</a></span><ul class=\"toc-item\"><li><span><a href=\"#Импортируем-необходимые-библиотеки,-а-также-изучим-данные\" data-toc-modified-id=\"Импортируем-необходимые-библиотеки,-а-также-изучим-данные-1.1\"><span class=\"toc-item-num\">1.1&nbsp;&nbsp;</span>Импортируем необходимые библиотеки, а также изучим данные</a></span></li><li><span><a href=\"#Выполним-предобработку-данных\" data-toc-modified-id=\"Выполним-предобработку-данных-1.2\"><span class=\"toc-item-num\">1.2&nbsp;&nbsp;</span>Выполним предобработку данных</a></span></li><li><span><a href=\"#Моделирование\" data-toc-modified-id=\"Моделирование-1.3\"><span class=\"toc-item-num\">1.3&nbsp;&nbsp;</span>Моделирование</a></span></li><li><span><a href=\"#Вывод\" data-toc-modified-id=\"Вывод-1.4\"><span class=\"toc-item-num\">1.4&nbsp;&nbsp;</span>Вывод</a></span></li></ul></li><li><span><a href=\"#Исследование-задачи\" data-toc-modified-id=\"Исследование-задачи-2\"><span class=\"toc-item-num\">2&nbsp;&nbsp;</span>Исследование задачи</a></span><ul class=\"toc-item\"><li><span><a href=\"#Начнем-с-Baseline\" data-toc-modified-id=\"Начнем-с-Baseline-2.1\"><span class=\"toc-item-num\">2.1&nbsp;&nbsp;</span>Начнем с Baseline</a></span></li><li><span><a href=\"#Вывод\" data-toc-modified-id=\"Вывод-2.2\"><span class=\"toc-item-num\">2.2&nbsp;&nbsp;</span>Вывод</a></span></li></ul></li><li><span><a href=\"#Борьба-с-дисбалансом\" data-toc-modified-id=\"Борьба-с-дисбалансом-3\"><span class=\"toc-item-num\">3&nbsp;&nbsp;</span>Борьба с дисбалансом</a></span><ul class=\"toc-item\"><li><span><a href=\"#Применим-параметр-class_weight\" data-toc-modified-id=\"Применим-параметр-class_weight-3.1\"><span class=\"toc-item-num\">3.1&nbsp;&nbsp;</span>Применим параметр class_weight</a></span></li><li><span><a href=\"#Увеличение-выборки\" data-toc-modified-id=\"Увеличение-выборки-3.2\"><span class=\"toc-item-num\">3.2&nbsp;&nbsp;</span>Увеличение выборки</a></span></li><li><span><a href=\"#Уменьшение-выборки\" data-toc-modified-id=\"Уменьшение-выборки-3.3\"><span class=\"toc-item-num\">3.3&nbsp;&nbsp;</span>Уменьшение выборки</a></span></li><li><span><a href=\"#Вывод\" data-toc-modified-id=\"Вывод-3.4\"><span class=\"toc-item-num\">3.4&nbsp;&nbsp;</span>Вывод</a></span></li><li><span><a href=\"#Тюнинг\" data-toc-modified-id=\"Тюнинг-3.5\"><span class=\"toc-item-num\">3.5&nbsp;&nbsp;</span>Тюнинг</a></span></li><li><span><a href=\"#Вывод\" data-toc-modified-id=\"Вывод-3.6\"><span class=\"toc-item-num\">3.6&nbsp;&nbsp;</span>Вывод</a></span></li></ul></li><li><span><a href=\"#Тестирование-модели\" data-toc-modified-id=\"Тестирование-модели-4\"><span class=\"toc-item-num\">4&nbsp;&nbsp;</span>Тестирование модели</a></span><ul class=\"toc-item\"><li><span><a href=\"#Вывод\" data-toc-modified-id=\"Вывод-4.1\"><span class=\"toc-item-num\">4.1&nbsp;&nbsp;</span>Вывод</a></span></li></ul></li><li><span><a href=\"#Вывод\" data-toc-modified-id=\"Вывод-5\"><span class=\"toc-item-num\">5&nbsp;&nbsp;</span>Вывод</a></span></li></ul></div>",
      "metadata": {
        "toc": true
      }
    },
    {
      "cell_type": "markdown",
      "source": "# Отток клиентов",
      "metadata": {}
    },
    {
      "cell_type": "markdown",
      "source": "Из «Бета-Банка» стали уходить клиенты. Каждый месяц. Немного, но заметно. Банковские маркетологи посчитали: сохранять текущих клиентов дешевле, чем привлекать новых.\n\nНужно спрогнозировать, уйдёт клиент из банка в ближайшее время или нет. Вам предоставлены исторические данные о поведении клиентов и расторжении договоров с банком. \n\nПостройте модель с предельно большим значением *F1*-меры. Чтобы сдать проект успешно, нужно довести метрику до 0.59. Проверьте *F1*-меру на тестовой выборке самостоятельно.\n\nДополнительно измеряйте *AUC-ROC*, сравнивайте её значение с *F1*-мерой.\n\nИсточник данных: [https://www.kaggle.com/barelydedicated/bank-customer-churn-modeling](https://www.kaggle.com/barelydedicated/bank-customer-churn-modeling)",
      "metadata": {}
    },
    {
      "cell_type": "markdown",
      "source": "## Подготовка данных",
      "metadata": {}
    },
    {
      "cell_type": "markdown",
      "source": "### Импортируем необходимые библиотеки, а также изучим данные",
      "metadata": {}
    },
    {
      "cell_type": "code",
      "source": "import pandas as pd\nimport seaborn as sns\nimport matplotlib.pyplot as plt\nfrom sklearn.model_selection import train_test_split, GridSearchCV, StratifiedKFold\nfrom sklearn.preprocessing import StandardScaler\nfrom sklearn.tree import DecisionTreeClassifier\nfrom sklearn.ensemble import RandomForestClassifier\nfrom sklearn.linear_model import LogisticRegression\nfrom sklearn.metrics import precision_score, recall_score, auc, accuracy_score, roc_auc_score,f1_score,log_loss,\\\nclassification_report, roc_curve\nimport numpy as np\nfrom sklearn.utils import shuffle\n\nimport warnings\nwarnings.filterwarnings('ignore')",
      "metadata": {},
      "execution_count": 1,
      "outputs": []
    },
    {
      "cell_type": "code",
      "source": "df = pd.read_csv('/datasets/Churn.csv')",
      "metadata": {},
      "execution_count": 2,
      "outputs": []
    },
    {
      "cell_type": "code",
      "source": "display(df)",
      "metadata": {},
      "execution_count": 3,
      "outputs": [
        {
          "output_type": "display_data",
          "data": {
            "text/html": [
              "<div>\n",
              "<style scoped>\n",
              "    .dataframe tbody tr th:only-of-type {\n",
              "        vertical-align: middle;\n",
              "    }\n",
              "\n",
              "    .dataframe tbody tr th {\n",
              "        vertical-align: top;\n",
              "    }\n",
              "\n",
              "    .dataframe thead th {\n",
              "        text-align: right;\n",
              "    }\n",
              "</style>\n",
              "<table border=\"1\" class=\"dataframe\">\n",
              "  <thead>\n",
              "    <tr style=\"text-align: right;\">\n",
              "      <th></th>\n",
              "      <th>RowNumber</th>\n",
              "      <th>CustomerId</th>\n",
              "      <th>Surname</th>\n",
              "      <th>CreditScore</th>\n",
              "      <th>Geography</th>\n",
              "      <th>Gender</th>\n",
              "      <th>Age</th>\n",
              "      <th>Tenure</th>\n",
              "      <th>Balance</th>\n",
              "      <th>NumOfProducts</th>\n",
              "      <th>HasCrCard</th>\n",
              "      <th>IsActiveMember</th>\n",
              "      <th>EstimatedSalary</th>\n",
              "      <th>Exited</th>\n",
              "    </tr>\n",
              "  </thead>\n",
              "  <tbody>\n",
              "    <tr>\n",
              "      <th>0</th>\n",
              "      <td>1</td>\n",
              "      <td>15634602</td>\n",
              "      <td>Hargrave</td>\n",
              "      <td>619</td>\n",
              "      <td>France</td>\n",
              "      <td>Female</td>\n",
              "      <td>42</td>\n",
              "      <td>2.0</td>\n",
              "      <td>0.00</td>\n",
              "      <td>1</td>\n",
              "      <td>1</td>\n",
              "      <td>1</td>\n",
              "      <td>101348.88</td>\n",
              "      <td>1</td>\n",
              "    </tr>\n",
              "    <tr>\n",
              "      <th>1</th>\n",
              "      <td>2</td>\n",
              "      <td>15647311</td>\n",
              "      <td>Hill</td>\n",
              "      <td>608</td>\n",
              "      <td>Spain</td>\n",
              "      <td>Female</td>\n",
              "      <td>41</td>\n",
              "      <td>1.0</td>\n",
              "      <td>83807.86</td>\n",
              "      <td>1</td>\n",
              "      <td>0</td>\n",
              "      <td>1</td>\n",
              "      <td>112542.58</td>\n",
              "      <td>0</td>\n",
              "    </tr>\n",
              "    <tr>\n",
              "      <th>2</th>\n",
              "      <td>3</td>\n",
              "      <td>15619304</td>\n",
              "      <td>Onio</td>\n",
              "      <td>502</td>\n",
              "      <td>France</td>\n",
              "      <td>Female</td>\n",
              "      <td>42</td>\n",
              "      <td>8.0</td>\n",
              "      <td>159660.80</td>\n",
              "      <td>3</td>\n",
              "      <td>1</td>\n",
              "      <td>0</td>\n",
              "      <td>113931.57</td>\n",
              "      <td>1</td>\n",
              "    </tr>\n",
              "    <tr>\n",
              "      <th>3</th>\n",
              "      <td>4</td>\n",
              "      <td>15701354</td>\n",
              "      <td>Boni</td>\n",
              "      <td>699</td>\n",
              "      <td>France</td>\n",
              "      <td>Female</td>\n",
              "      <td>39</td>\n",
              "      <td>1.0</td>\n",
              "      <td>0.00</td>\n",
              "      <td>2</td>\n",
              "      <td>0</td>\n",
              "      <td>0</td>\n",
              "      <td>93826.63</td>\n",
              "      <td>0</td>\n",
              "    </tr>\n",
              "    <tr>\n",
              "      <th>4</th>\n",
              "      <td>5</td>\n",
              "      <td>15737888</td>\n",
              "      <td>Mitchell</td>\n",
              "      <td>850</td>\n",
              "      <td>Spain</td>\n",
              "      <td>Female</td>\n",
              "      <td>43</td>\n",
              "      <td>2.0</td>\n",
              "      <td>125510.82</td>\n",
              "      <td>1</td>\n",
              "      <td>1</td>\n",
              "      <td>1</td>\n",
              "      <td>79084.10</td>\n",
              "      <td>0</td>\n",
              "    </tr>\n",
              "    <tr>\n",
              "      <th>...</th>\n",
              "      <td>...</td>\n",
              "      <td>...</td>\n",
              "      <td>...</td>\n",
              "      <td>...</td>\n",
              "      <td>...</td>\n",
              "      <td>...</td>\n",
              "      <td>...</td>\n",
              "      <td>...</td>\n",
              "      <td>...</td>\n",
              "      <td>...</td>\n",
              "      <td>...</td>\n",
              "      <td>...</td>\n",
              "      <td>...</td>\n",
              "      <td>...</td>\n",
              "    </tr>\n",
              "    <tr>\n",
              "      <th>9995</th>\n",
              "      <td>9996</td>\n",
              "      <td>15606229</td>\n",
              "      <td>Obijiaku</td>\n",
              "      <td>771</td>\n",
              "      <td>France</td>\n",
              "      <td>Male</td>\n",
              "      <td>39</td>\n",
              "      <td>5.0</td>\n",
              "      <td>0.00</td>\n",
              "      <td>2</td>\n",
              "      <td>1</td>\n",
              "      <td>0</td>\n",
              "      <td>96270.64</td>\n",
              "      <td>0</td>\n",
              "    </tr>\n",
              "    <tr>\n",
              "      <th>9996</th>\n",
              "      <td>9997</td>\n",
              "      <td>15569892</td>\n",
              "      <td>Johnstone</td>\n",
              "      <td>516</td>\n",
              "      <td>France</td>\n",
              "      <td>Male</td>\n",
              "      <td>35</td>\n",
              "      <td>10.0</td>\n",
              "      <td>57369.61</td>\n",
              "      <td>1</td>\n",
              "      <td>1</td>\n",
              "      <td>1</td>\n",
              "      <td>101699.77</td>\n",
              "      <td>0</td>\n",
              "    </tr>\n",
              "    <tr>\n",
              "      <th>9997</th>\n",
              "      <td>9998</td>\n",
              "      <td>15584532</td>\n",
              "      <td>Liu</td>\n",
              "      <td>709</td>\n",
              "      <td>France</td>\n",
              "      <td>Female</td>\n",
              "      <td>36</td>\n",
              "      <td>7.0</td>\n",
              "      <td>0.00</td>\n",
              "      <td>1</td>\n",
              "      <td>0</td>\n",
              "      <td>1</td>\n",
              "      <td>42085.58</td>\n",
              "      <td>1</td>\n",
              "    </tr>\n",
              "    <tr>\n",
              "      <th>9998</th>\n",
              "      <td>9999</td>\n",
              "      <td>15682355</td>\n",
              "      <td>Sabbatini</td>\n",
              "      <td>772</td>\n",
              "      <td>Germany</td>\n",
              "      <td>Male</td>\n",
              "      <td>42</td>\n",
              "      <td>3.0</td>\n",
              "      <td>75075.31</td>\n",
              "      <td>2</td>\n",
              "      <td>1</td>\n",
              "      <td>0</td>\n",
              "      <td>92888.52</td>\n",
              "      <td>1</td>\n",
              "    </tr>\n",
              "    <tr>\n",
              "      <th>9999</th>\n",
              "      <td>10000</td>\n",
              "      <td>15628319</td>\n",
              "      <td>Walker</td>\n",
              "      <td>792</td>\n",
              "      <td>France</td>\n",
              "      <td>Female</td>\n",
              "      <td>28</td>\n",
              "      <td>NaN</td>\n",
              "      <td>130142.79</td>\n",
              "      <td>1</td>\n",
              "      <td>1</td>\n",
              "      <td>0</td>\n",
              "      <td>38190.78</td>\n",
              "      <td>0</td>\n",
              "    </tr>\n",
              "  </tbody>\n",
              "</table>\n",
              "<p>10000 rows × 14 columns</p>\n",
              "</div>"
            ],
            "text/plain": [
              "      RowNumber  CustomerId    Surname  CreditScore Geography  Gender  Age  \\\n",
              "0             1    15634602   Hargrave          619    France  Female   42   \n",
              "1             2    15647311       Hill          608     Spain  Female   41   \n",
              "2             3    15619304       Onio          502    France  Female   42   \n",
              "3             4    15701354       Boni          699    France  Female   39   \n",
              "4             5    15737888   Mitchell          850     Spain  Female   43   \n",
              "...         ...         ...        ...          ...       ...     ...  ...   \n",
              "9995       9996    15606229   Obijiaku          771    France    Male   39   \n",
              "9996       9997    15569892  Johnstone          516    France    Male   35   \n",
              "9997       9998    15584532        Liu          709    France  Female   36   \n",
              "9998       9999    15682355  Sabbatini          772   Germany    Male   42   \n",
              "9999      10000    15628319     Walker          792    France  Female   28   \n",
              "\n",
              "      Tenure    Balance  NumOfProducts  HasCrCard  IsActiveMember  \\\n",
              "0        2.0       0.00              1          1               1   \n",
              "1        1.0   83807.86              1          0               1   \n",
              "2        8.0  159660.80              3          1               0   \n",
              "3        1.0       0.00              2          0               0   \n",
              "4        2.0  125510.82              1          1               1   \n",
              "...      ...        ...            ...        ...             ...   \n",
              "9995     5.0       0.00              2          1               0   \n",
              "9996    10.0   57369.61              1          1               1   \n",
              "9997     7.0       0.00              1          0               1   \n",
              "9998     3.0   75075.31              2          1               0   \n",
              "9999     NaN  130142.79              1          1               0   \n",
              "\n",
              "      EstimatedSalary  Exited  \n",
              "0           101348.88       1  \n",
              "1           112542.58       0  \n",
              "2           113931.57       1  \n",
              "3            93826.63       0  \n",
              "4            79084.10       0  \n",
              "...               ...     ...  \n",
              "9995         96270.64       0  \n",
              "9996        101699.77       0  \n",
              "9997         42085.58       1  \n",
              "9998         92888.52       1  \n",
              "9999         38190.78       0  \n",
              "\n",
              "[10000 rows x 14 columns]"
            ]
          },
          "metadata": {}
        }
      ]
    },
    {
      "cell_type": "markdown",
      "source": "Для удобства сразу же приведем названия столбцов к привычному виду",
      "metadata": {}
    },
    {
      "cell_type": "code",
      "source": "df.columns = df.columns.str.lower()\ndf = df.rename(columns={'rownumber':'row_number', \n                        'customerid':'customer_id',  \n                        'creditscore':'credit_score', \n                        'numofproducts':'num_of_products', \n                        'hascrcard':'has_crcard',\n                        'isactivemember':'is_active_member', \n                        'estimatedsalary':'estimated_salary', \n                       })",
      "metadata": {},
      "execution_count": 4,
      "outputs": []
    },
    {
      "cell_type": "code",
      "source": "df.info()",
      "metadata": {},
      "execution_count": 5,
      "outputs": [
        {
          "name": "stdout",
          "output_type": "stream",
          "text": "<class 'pandas.core.frame.DataFrame'>\n\nRangeIndex: 10000 entries, 0 to 9999\n\nData columns (total 14 columns):\n\n #   Column            Non-Null Count  Dtype  \n\n---  ------            --------------  -----  \n\n 0   row_number        10000 non-null  int64  \n\n 1   customer_id       10000 non-null  int64  \n\n 2   surname           10000 non-null  object \n\n 3   credit_score      10000 non-null  int64  \n\n 4   geography         10000 non-null  object \n\n 5   gender            10000 non-null  object \n\n 6   age               10000 non-null  int64  \n\n 7   tenure            9091 non-null   float64\n\n 8   balance           10000 non-null  float64\n\n 9   num_of_products   10000 non-null  int64  \n\n 10  has_crcard        10000 non-null  int64  \n\n 11  is_active_member  10000 non-null  int64  \n\n 12  estimated_salary  10000 non-null  float64\n\n 13  exited            10000 non-null  int64  \n\ndtypes: float64(3), int64(8), object(3)\n\nmemory usage: 1.1+ MB\n"
        }
      ]
    },
    {
      "cell_type": "code",
      "source": "print(f'Размер датасета = {df.shape}')",
      "metadata": {},
      "execution_count": 6,
      "outputs": [
        {
          "name": "stdout",
          "output_type": "stream",
          "text": "Размер датасета = (10000, 14)\n"
        }
      ]
    },
    {
      "cell_type": "code",
      "source": "df.describe()",
      "metadata": {},
      "execution_count": 7,
      "outputs": [
        {
          "execution_count": 7,
          "output_type": "execute_result",
          "data": {
            "text/html": [
              "<div>\n",
              "<style scoped>\n",
              "    .dataframe tbody tr th:only-of-type {\n",
              "        vertical-align: middle;\n",
              "    }\n",
              "\n",
              "    .dataframe tbody tr th {\n",
              "        vertical-align: top;\n",
              "    }\n",
              "\n",
              "    .dataframe thead th {\n",
              "        text-align: right;\n",
              "    }\n",
              "</style>\n",
              "<table border=\"1\" class=\"dataframe\">\n",
              "  <thead>\n",
              "    <tr style=\"text-align: right;\">\n",
              "      <th></th>\n",
              "      <th>row_number</th>\n",
              "      <th>customer_id</th>\n",
              "      <th>credit_score</th>\n",
              "      <th>age</th>\n",
              "      <th>tenure</th>\n",
              "      <th>balance</th>\n",
              "      <th>num_of_products</th>\n",
              "      <th>has_crcard</th>\n",
              "      <th>is_active_member</th>\n",
              "      <th>estimated_salary</th>\n",
              "      <th>exited</th>\n",
              "    </tr>\n",
              "  </thead>\n",
              "  <tbody>\n",
              "    <tr>\n",
              "      <th>count</th>\n",
              "      <td>10000.00000</td>\n",
              "      <td>1.000000e+04</td>\n",
              "      <td>10000.000000</td>\n",
              "      <td>10000.000000</td>\n",
              "      <td>9091.000000</td>\n",
              "      <td>10000.000000</td>\n",
              "      <td>10000.000000</td>\n",
              "      <td>10000.00000</td>\n",
              "      <td>10000.000000</td>\n",
              "      <td>10000.000000</td>\n",
              "      <td>10000.000000</td>\n",
              "    </tr>\n",
              "    <tr>\n",
              "      <th>mean</th>\n",
              "      <td>5000.50000</td>\n",
              "      <td>1.569094e+07</td>\n",
              "      <td>650.528800</td>\n",
              "      <td>38.921800</td>\n",
              "      <td>4.997690</td>\n",
              "      <td>76485.889288</td>\n",
              "      <td>1.530200</td>\n",
              "      <td>0.70550</td>\n",
              "      <td>0.515100</td>\n",
              "      <td>100090.239881</td>\n",
              "      <td>0.203700</td>\n",
              "    </tr>\n",
              "    <tr>\n",
              "      <th>std</th>\n",
              "      <td>2886.89568</td>\n",
              "      <td>7.193619e+04</td>\n",
              "      <td>96.653299</td>\n",
              "      <td>10.487806</td>\n",
              "      <td>2.894723</td>\n",
              "      <td>62397.405202</td>\n",
              "      <td>0.581654</td>\n",
              "      <td>0.45584</td>\n",
              "      <td>0.499797</td>\n",
              "      <td>57510.492818</td>\n",
              "      <td>0.402769</td>\n",
              "    </tr>\n",
              "    <tr>\n",
              "      <th>min</th>\n",
              "      <td>1.00000</td>\n",
              "      <td>1.556570e+07</td>\n",
              "      <td>350.000000</td>\n",
              "      <td>18.000000</td>\n",
              "      <td>0.000000</td>\n",
              "      <td>0.000000</td>\n",
              "      <td>1.000000</td>\n",
              "      <td>0.00000</td>\n",
              "      <td>0.000000</td>\n",
              "      <td>11.580000</td>\n",
              "      <td>0.000000</td>\n",
              "    </tr>\n",
              "    <tr>\n",
              "      <th>25%</th>\n",
              "      <td>2500.75000</td>\n",
              "      <td>1.562853e+07</td>\n",
              "      <td>584.000000</td>\n",
              "      <td>32.000000</td>\n",
              "      <td>2.000000</td>\n",
              "      <td>0.000000</td>\n",
              "      <td>1.000000</td>\n",
              "      <td>0.00000</td>\n",
              "      <td>0.000000</td>\n",
              "      <td>51002.110000</td>\n",
              "      <td>0.000000</td>\n",
              "    </tr>\n",
              "    <tr>\n",
              "      <th>50%</th>\n",
              "      <td>5000.50000</td>\n",
              "      <td>1.569074e+07</td>\n",
              "      <td>652.000000</td>\n",
              "      <td>37.000000</td>\n",
              "      <td>5.000000</td>\n",
              "      <td>97198.540000</td>\n",
              "      <td>1.000000</td>\n",
              "      <td>1.00000</td>\n",
              "      <td>1.000000</td>\n",
              "      <td>100193.915000</td>\n",
              "      <td>0.000000</td>\n",
              "    </tr>\n",
              "    <tr>\n",
              "      <th>75%</th>\n",
              "      <td>7500.25000</td>\n",
              "      <td>1.575323e+07</td>\n",
              "      <td>718.000000</td>\n",
              "      <td>44.000000</td>\n",
              "      <td>7.000000</td>\n",
              "      <td>127644.240000</td>\n",
              "      <td>2.000000</td>\n",
              "      <td>1.00000</td>\n",
              "      <td>1.000000</td>\n",
              "      <td>149388.247500</td>\n",
              "      <td>0.000000</td>\n",
              "    </tr>\n",
              "    <tr>\n",
              "      <th>max</th>\n",
              "      <td>10000.00000</td>\n",
              "      <td>1.581569e+07</td>\n",
              "      <td>850.000000</td>\n",
              "      <td>92.000000</td>\n",
              "      <td>10.000000</td>\n",
              "      <td>250898.090000</td>\n",
              "      <td>4.000000</td>\n",
              "      <td>1.00000</td>\n",
              "      <td>1.000000</td>\n",
              "      <td>199992.480000</td>\n",
              "      <td>1.000000</td>\n",
              "    </tr>\n",
              "  </tbody>\n",
              "</table>\n",
              "</div>"
            ],
            "text/plain": [
              "        row_number   customer_id  credit_score           age       tenure  \\\n",
              "count  10000.00000  1.000000e+04  10000.000000  10000.000000  9091.000000   \n",
              "mean    5000.50000  1.569094e+07    650.528800     38.921800     4.997690   \n",
              "std     2886.89568  7.193619e+04     96.653299     10.487806     2.894723   \n",
              "min        1.00000  1.556570e+07    350.000000     18.000000     0.000000   \n",
              "25%     2500.75000  1.562853e+07    584.000000     32.000000     2.000000   \n",
              "50%     5000.50000  1.569074e+07    652.000000     37.000000     5.000000   \n",
              "75%     7500.25000  1.575323e+07    718.000000     44.000000     7.000000   \n",
              "max    10000.00000  1.581569e+07    850.000000     92.000000    10.000000   \n",
              "\n",
              "             balance  num_of_products   has_crcard  is_active_member  \\\n",
              "count   10000.000000     10000.000000  10000.00000      10000.000000   \n",
              "mean    76485.889288         1.530200      0.70550          0.515100   \n",
              "std     62397.405202         0.581654      0.45584          0.499797   \n",
              "min         0.000000         1.000000      0.00000          0.000000   \n",
              "25%         0.000000         1.000000      0.00000          0.000000   \n",
              "50%     97198.540000         1.000000      1.00000          1.000000   \n",
              "75%    127644.240000         2.000000      1.00000          1.000000   \n",
              "max    250898.090000         4.000000      1.00000          1.000000   \n",
              "\n",
              "       estimated_salary        exited  \n",
              "count      10000.000000  10000.000000  \n",
              "mean      100090.239881      0.203700  \n",
              "std        57510.492818      0.402769  \n",
              "min           11.580000      0.000000  \n",
              "25%        51002.110000      0.000000  \n",
              "50%       100193.915000      0.000000  \n",
              "75%       149388.247500      0.000000  \n",
              "max       199992.480000      1.000000  "
            ]
          },
          "metadata": {}
        }
      ]
    },
    {
      "cell_type": "markdown",
      "source": "Рассмотрим уникальные значения в сроковых признаках, дабы избежать неявного дублирования значений",
      "metadata": {}
    },
    {
      "cell_type": "code",
      "source": "df.gender.unique()",
      "metadata": {},
      "execution_count": 8,
      "outputs": [
        {
          "execution_count": 8,
          "output_type": "execute_result",
          "data": {
            "text/plain": [
              "array(['Female', 'Male'], dtype=object)"
            ]
          },
          "metadata": {}
        }
      ]
    },
    {
      "cell_type": "code",
      "source": "df.geography.unique()",
      "metadata": {},
      "execution_count": 9,
      "outputs": [
        {
          "execution_count": 9,
          "output_type": "execute_result",
          "data": {
            "text/plain": [
              "array(['France', 'Spain', 'Germany'], dtype=object)"
            ]
          },
          "metadata": {}
        }
      ]
    },
    {
      "cell_type": "markdown",
      "source": "Далее рассмотрим как выглядит распределение наших числовых признаков",
      "metadata": {}
    },
    {
      "cell_type": "code",
      "source": "numeric = ['credit_score', 'age', 'tenure', 'balance', 'num_of_products', 'estimated_salary']\nnumeric_features = df[numeric]\n\nnumeric_features = numeric_features.stack().reset_index().rename(\n    columns={\"level_1\": \"Features\", 0: \"Value\"})\n\nax = sns.FacetGrid(data=numeric_features, col=\"Features\",\n                  col_wrap=3, sharex=False, sharey=False)\nax = ax.map(sns.distplot, \"Value\")\n\nplt.subplots_adjust(top=0.9)\nplt.suptitle(\"Histograms of various features\");",
      "metadata": {},
      "execution_count": 10,
      "outputs": [
        {
          "output_type": "display_data",
          "data": {
            "image/png": "[encoded data removed]",
            "text/plain": [
              "<Figure size 648x432 with 6 Axes>"
            ]
          },
          "metadata": {
            "needs_background": "light"
          }
        }
      ]
    },
    {
      "cell_type": "markdown",
      "source": "Рассмотрим также корреляцию",
      "metadata": {}
    },
    {
      "cell_type": "code",
      "source": "plt.figure(figsize=(10,10))\nsns.heatmap(df.corr(), annot=True, fmt=\".3f\")",
      "metadata": {},
      "execution_count": 11,
      "outputs": [
        {
          "execution_count": 11,
          "output_type": "execute_result",
          "data": {
            "text/plain": [
              "<AxesSubplot:>"
            ]
          },
          "metadata": {}
        },
        {
          "output_type": "display_data",
          "data": {
            "image/png": "[encoded data removed]",
            "text/plain": [
              "<Figure size 720x720 with 2 Axes>"
            ]
          },
          "metadata": {
            "needs_background": "light"
          }
        }
      ]
    },
    {
      "cell_type": "markdown",
      "source": "А также распределение целевой переменной",
      "metadata": {}
    },
    {
      "cell_type": "code",
      "source": "sns.displot(df['exited'], bins=2)\nplt.title('Распределение целевой переменной')",
      "metadata": {},
      "execution_count": 12,
      "outputs": [
        {
          "execution_count": 12,
          "output_type": "execute_result",
          "data": {
            "text/plain": [
              "Text(0.5, 1.0, 'Распределение целевой переменной')"
            ]
          },
          "metadata": {}
        },
        {
          "output_type": "display_data",
          "data": {
            "image/png": "[encoded data removed]",
            "text/plain": [
              "<Figure size 360x360 with 1 Axes>"
            ]
          },
          "metadata": {
            "needs_background": "light"
          }
        }
      ]
    },
    {
      "cell_type": "markdown",
      "source": "Видим ожидаемый дисбаланс",
      "metadata": {}
    },
    {
      "cell_type": "markdown",
      "source": "### Выполним предобработку данных",
      "metadata": {}
    },
    {
      "cell_type": "markdown",
      "source": "Проверим данные на наличие дубликатов",
      "metadata": {}
    },
    {
      "cell_type": "code",
      "source": "df.duplicated().sum()",
      "metadata": {},
      "execution_count": 13,
      "outputs": [
        {
          "execution_count": 13,
          "output_type": "execute_result",
          "data": {
            "text/plain": [
              "0"
            ]
          },
          "metadata": {}
        }
      ]
    },
    {
      "cell_type": "markdown",
      "source": "Изучим пропущенные значения",
      "metadata": {}
    },
    {
      "cell_type": "code",
      "source": "df.isna().sum()",
      "metadata": {},
      "execution_count": 14,
      "outputs": [
        {
          "execution_count": 14,
          "output_type": "execute_result",
          "data": {
            "text/plain": [
              "row_number            0\n",
              "customer_id           0\n",
              "surname               0\n",
              "credit_score          0\n",
              "geography             0\n",
              "gender                0\n",
              "age                   0\n",
              "tenure              909\n",
              "balance               0\n",
              "num_of_products       0\n",
              "has_crcard            0\n",
              "is_active_member      0\n",
              "estimated_salary      0\n",
              "exited                0\n",
              "dtype: int64"
            ]
          },
          "metadata": {}
        }
      ]
    },
    {
      "cell_type": "markdown",
      "source": "Для начала взглянем на таблице с пропущенными значениями в столбце tenure",
      "metadata": {}
    },
    {
      "cell_type": "code",
      "source": "df[df['tenure'].isna()]",
      "metadata": {},
      "execution_count": 15,
      "outputs": [
        {
          "execution_count": 15,
          "output_type": "execute_result",
          "data": {
            "text/html": [
              "<div>\n",
              "<style scoped>\n",
              "    .dataframe tbody tr th:only-of-type {\n",
              "        vertical-align: middle;\n",
              "    }\n",
              "\n",
              "    .dataframe tbody tr th {\n",
              "        vertical-align: top;\n",
              "    }\n",
              "\n",
              "    .dataframe thead th {\n",
              "        text-align: right;\n",
              "    }\n",
              "</style>\n",
              "<table border=\"1\" class=\"dataframe\">\n",
              "  <thead>\n",
              "    <tr style=\"text-align: right;\">\n",
              "      <th></th>\n",
              "      <th>row_number</th>\n",
              "      <th>customer_id</th>\n",
              "      <th>surname</th>\n",
              "      <th>credit_score</th>\n",
              "      <th>geography</th>\n",
              "      <th>gender</th>\n",
              "      <th>age</th>\n",
              "      <th>tenure</th>\n",
              "      <th>balance</th>\n",
              "      <th>num_of_products</th>\n",
              "      <th>has_crcard</th>\n",
              "      <th>is_active_member</th>\n",
              "      <th>estimated_salary</th>\n",
              "      <th>exited</th>\n",
              "    </tr>\n",
              "  </thead>\n",
              "  <tbody>\n",
              "    <tr>\n",
              "      <th>30</th>\n",
              "      <td>31</td>\n",
              "      <td>15589475</td>\n",
              "      <td>Azikiwe</td>\n",
              "      <td>591</td>\n",
              "      <td>Spain</td>\n",
              "      <td>Female</td>\n",
              "      <td>39</td>\n",
              "      <td>NaN</td>\n",
              "      <td>0.00</td>\n",
              "      <td>3</td>\n",
              "      <td>1</td>\n",
              "      <td>0</td>\n",
              "      <td>140469.38</td>\n",
              "      <td>1</td>\n",
              "    </tr>\n",
              "    <tr>\n",
              "      <th>48</th>\n",
              "      <td>49</td>\n",
              "      <td>15766205</td>\n",
              "      <td>Yin</td>\n",
              "      <td>550</td>\n",
              "      <td>Germany</td>\n",
              "      <td>Male</td>\n",
              "      <td>38</td>\n",
              "      <td>NaN</td>\n",
              "      <td>103391.38</td>\n",
              "      <td>1</td>\n",
              "      <td>0</td>\n",
              "      <td>1</td>\n",
              "      <td>90878.13</td>\n",
              "      <td>0</td>\n",
              "    </tr>\n",
              "    <tr>\n",
              "      <th>51</th>\n",
              "      <td>52</td>\n",
              "      <td>15768193</td>\n",
              "      <td>Trevisani</td>\n",
              "      <td>585</td>\n",
              "      <td>Germany</td>\n",
              "      <td>Male</td>\n",
              "      <td>36</td>\n",
              "      <td>NaN</td>\n",
              "      <td>146050.97</td>\n",
              "      <td>2</td>\n",
              "      <td>0</td>\n",
              "      <td>0</td>\n",
              "      <td>86424.57</td>\n",
              "      <td>0</td>\n",
              "    </tr>\n",
              "    <tr>\n",
              "      <th>53</th>\n",
              "      <td>54</td>\n",
              "      <td>15702298</td>\n",
              "      <td>Parkhill</td>\n",
              "      <td>655</td>\n",
              "      <td>Germany</td>\n",
              "      <td>Male</td>\n",
              "      <td>41</td>\n",
              "      <td>NaN</td>\n",
              "      <td>125561.97</td>\n",
              "      <td>1</td>\n",
              "      <td>0</td>\n",
              "      <td>0</td>\n",
              "      <td>164040.94</td>\n",
              "      <td>1</td>\n",
              "    </tr>\n",
              "    <tr>\n",
              "      <th>60</th>\n",
              "      <td>61</td>\n",
              "      <td>15651280</td>\n",
              "      <td>Hunter</td>\n",
              "      <td>742</td>\n",
              "      <td>Germany</td>\n",
              "      <td>Male</td>\n",
              "      <td>35</td>\n",
              "      <td>NaN</td>\n",
              "      <td>136857.00</td>\n",
              "      <td>1</td>\n",
              "      <td>0</td>\n",
              "      <td>0</td>\n",
              "      <td>84509.57</td>\n",
              "      <td>0</td>\n",
              "    </tr>\n",
              "    <tr>\n",
              "      <th>...</th>\n",
              "      <td>...</td>\n",
              "      <td>...</td>\n",
              "      <td>...</td>\n",
              "      <td>...</td>\n",
              "      <td>...</td>\n",
              "      <td>...</td>\n",
              "      <td>...</td>\n",
              "      <td>...</td>\n",
              "      <td>...</td>\n",
              "      <td>...</td>\n",
              "      <td>...</td>\n",
              "      <td>...</td>\n",
              "      <td>...</td>\n",
              "      <td>...</td>\n",
              "    </tr>\n",
              "    <tr>\n",
              "      <th>9944</th>\n",
              "      <td>9945</td>\n",
              "      <td>15703923</td>\n",
              "      <td>Cameron</td>\n",
              "      <td>744</td>\n",
              "      <td>Germany</td>\n",
              "      <td>Male</td>\n",
              "      <td>41</td>\n",
              "      <td>NaN</td>\n",
              "      <td>190409.34</td>\n",
              "      <td>2</td>\n",
              "      <td>1</td>\n",
              "      <td>1</td>\n",
              "      <td>138361.48</td>\n",
              "      <td>0</td>\n",
              "    </tr>\n",
              "    <tr>\n",
              "      <th>9956</th>\n",
              "      <td>9957</td>\n",
              "      <td>15707861</td>\n",
              "      <td>Nucci</td>\n",
              "      <td>520</td>\n",
              "      <td>France</td>\n",
              "      <td>Female</td>\n",
              "      <td>46</td>\n",
              "      <td>NaN</td>\n",
              "      <td>85216.61</td>\n",
              "      <td>1</td>\n",
              "      <td>1</td>\n",
              "      <td>0</td>\n",
              "      <td>117369.52</td>\n",
              "      <td>1</td>\n",
              "    </tr>\n",
              "    <tr>\n",
              "      <th>9964</th>\n",
              "      <td>9965</td>\n",
              "      <td>15642785</td>\n",
              "      <td>Douglas</td>\n",
              "      <td>479</td>\n",
              "      <td>France</td>\n",
              "      <td>Male</td>\n",
              "      <td>34</td>\n",
              "      <td>NaN</td>\n",
              "      <td>117593.48</td>\n",
              "      <td>2</td>\n",
              "      <td>0</td>\n",
              "      <td>0</td>\n",
              "      <td>113308.29</td>\n",
              "      <td>0</td>\n",
              "    </tr>\n",
              "    <tr>\n",
              "      <th>9985</th>\n",
              "      <td>9986</td>\n",
              "      <td>15586914</td>\n",
              "      <td>Nepean</td>\n",
              "      <td>659</td>\n",
              "      <td>France</td>\n",
              "      <td>Male</td>\n",
              "      <td>36</td>\n",
              "      <td>NaN</td>\n",
              "      <td>123841.49</td>\n",
              "      <td>2</td>\n",
              "      <td>1</td>\n",
              "      <td>0</td>\n",
              "      <td>96833.00</td>\n",
              "      <td>0</td>\n",
              "    </tr>\n",
              "    <tr>\n",
              "      <th>9999</th>\n",
              "      <td>10000</td>\n",
              "      <td>15628319</td>\n",
              "      <td>Walker</td>\n",
              "      <td>792</td>\n",
              "      <td>France</td>\n",
              "      <td>Female</td>\n",
              "      <td>28</td>\n",
              "      <td>NaN</td>\n",
              "      <td>130142.79</td>\n",
              "      <td>1</td>\n",
              "      <td>1</td>\n",
              "      <td>0</td>\n",
              "      <td>38190.78</td>\n",
              "      <td>0</td>\n",
              "    </tr>\n",
              "  </tbody>\n",
              "</table>\n",
              "<p>909 rows × 14 columns</p>\n",
              "</div>"
            ],
            "text/plain": [
              "      row_number  customer_id    surname  credit_score geography  gender  age  \\\n",
              "30            31     15589475    Azikiwe           591     Spain  Female   39   \n",
              "48            49     15766205        Yin           550   Germany    Male   38   \n",
              "51            52     15768193  Trevisani           585   Germany    Male   36   \n",
              "53            54     15702298   Parkhill           655   Germany    Male   41   \n",
              "60            61     15651280     Hunter           742   Germany    Male   35   \n",
              "...          ...          ...        ...           ...       ...     ...  ...   \n",
              "9944        9945     15703923    Cameron           744   Germany    Male   41   \n",
              "9956        9957     15707861      Nucci           520    France  Female   46   \n",
              "9964        9965     15642785    Douglas           479    France    Male   34   \n",
              "9985        9986     15586914     Nepean           659    France    Male   36   \n",
              "9999       10000     15628319     Walker           792    France  Female   28   \n",
              "\n",
              "      tenure    balance  num_of_products  has_crcard  is_active_member  \\\n",
              "30       NaN       0.00                3           1                 0   \n",
              "48       NaN  103391.38                1           0                 1   \n",
              "51       NaN  146050.97                2           0                 0   \n",
              "53       NaN  125561.97                1           0                 0   \n",
              "60       NaN  136857.00                1           0                 0   \n",
              "...      ...        ...              ...         ...               ...   \n",
              "9944     NaN  190409.34                2           1                 1   \n",
              "9956     NaN   85216.61                1           1                 0   \n",
              "9964     NaN  117593.48                2           0                 0   \n",
              "9985     NaN  123841.49                2           1                 0   \n",
              "9999     NaN  130142.79                1           1                 0   \n",
              "\n",
              "      estimated_salary  exited  \n",
              "30           140469.38       1  \n",
              "48            90878.13       0  \n",
              "51            86424.57       0  \n",
              "53           164040.94       1  \n",
              "60            84509.57       0  \n",
              "...                ...     ...  \n",
              "9944         138361.48       0  \n",
              "9956         117369.52       1  \n",
              "9964         113308.29       0  \n",
              "9985          96833.00       0  \n",
              "9999          38190.78       0  \n",
              "\n",
              "[909 rows x 14 columns]"
            ]
          },
          "metadata": {}
        }
      ]
    },
    {
      "cell_type": "markdown",
      "source": "Особой видимой зависимости обнаружить не удалось, проверим корреляцию ",
      "metadata": {}
    },
    {
      "cell_type": "code",
      "source": "plt.figure(figsize=(10,10))\nsns.heatmap(df.corr(), annot=True, fmt=\".3f\")",
      "metadata": {},
      "execution_count": 16,
      "outputs": [
        {
          "execution_count": 16,
          "output_type": "execute_result",
          "data": {
            "text/plain": [
              "<AxesSubplot:>"
            ]
          },
          "metadata": {}
        },
        {
          "output_type": "display_data",
          "data": {
            "image/png": "[encoded data removed]",
            "text/plain": [
              "<Figure size 720x720 with 2 Axes>"
            ]
          },
          "metadata": {
            "needs_background": "light"
          }
        }
      ]
    },
    {
      "cell_type": "markdown",
      "source": "Явной линейной зависимости нет. Заменим значения на медианные",
      "metadata": {}
    },
    {
      "cell_type": "code",
      "source": "df = df.fillna(df['tenure'].median())\ndf.isna().sum()",
      "metadata": {},
      "execution_count": 17,
      "outputs": [
        {
          "execution_count": 17,
          "output_type": "execute_result",
          "data": {
            "text/plain": [
              "row_number          0\n",
              "customer_id         0\n",
              "surname             0\n",
              "credit_score        0\n",
              "geography           0\n",
              "gender              0\n",
              "age                 0\n",
              "tenure              0\n",
              "balance             0\n",
              "num_of_products     0\n",
              "has_crcard          0\n",
              "is_active_member    0\n",
              "estimated_salary    0\n",
              "exited              0\n",
              "dtype: int64"
            ]
          },
          "metadata": {}
        }
      ]
    },
    {
      "cell_type": "markdown",
      "source": "Взглянем на корреляцию повторно, дабы понять сильно ли повлияла наша замена",
      "metadata": {}
    },
    {
      "cell_type": "code",
      "source": "plt.figure(figsize=(10,10))\nsns.heatmap(df.corr(), annot=True, fmt=\".3f\")",
      "metadata": {},
      "execution_count": 18,
      "outputs": [
        {
          "execution_count": 18,
          "output_type": "execute_result",
          "data": {
            "text/plain": [
              "<AxesSubplot:>"
            ]
          },
          "metadata": {}
        },
        {
          "output_type": "display_data",
          "data": {
            "image/png": "[encoded data removed]",
            "text/plain": [
              "<Figure size 720x720 with 2 Axes>"
            ]
          },
          "metadata": {
            "needs_background": "light"
          }
        }
      ]
    },
    {
      "cell_type": "markdown",
      "source": "Изменения не критичные, поэтому оставим в таком виде.",
      "metadata": {}
    },
    {
      "cell_type": "markdown",
      "source": "### Моделирование",
      "metadata": {}
    },
    {
      "cell_type": "code",
      "source": "df = df.drop(['row_number', 'customer_id', 'surname'], axis=1)",
      "metadata": {},
      "execution_count": 19,
      "outputs": []
    },
    {
      "cell_type": "markdown",
      "source": "Теперь применим OHE",
      "metadata": {}
    },
    {
      "cell_type": "code",
      "source": "df = pd.get_dummies(df, drop_first=True)",
      "metadata": {},
      "execution_count": 20,
      "outputs": []
    },
    {
      "cell_type": "markdown",
      "source": "Выделим признаки и целевое значение",
      "metadata": {}
    },
    {
      "cell_type": "code",
      "source": "features = df.drop('exited', axis=1)\ntarget = df['exited']",
      "metadata": {},
      "execution_count": 21,
      "outputs": []
    },
    {
      "cell_type": "markdown",
      "source": "Разделим выборки на тренировочную, валидационную и тестовую",
      "metadata": {}
    },
    {
      "cell_type": "code",
      "source": "features_train, features_valid, target_train, target_valid = train_test_split(\n    features, target, train_size=0.6, stratify = target, shuffle=True, random_state=12345)\nfeatures_valid, features_test, target_valid, target_test = train_test_split(\n    features_valid, target_valid, test_size=0.5, stratify = target_valid, shuffle=True, random_state=12345)\n\nscaler = StandardScaler()\n## Выделим численные признаки\nnumeric = ['credit_score', 'age', 'balance', 'estimated_salary']\nscaler.fit(features_train[numeric])\nfeatures_train[numeric] = scaler.transform(features_train[numeric])\nfeatures_valid[numeric] = scaler.transform(features_valid[numeric])\nfeatures_test[numeric] = scaler.transform(features_test[numeric])\n\nprint(features_train.shape)\nprint(features_valid.shape)\nprint(features_test.shape)",
      "metadata": {},
      "execution_count": 22,
      "outputs": [
        {
          "name": "stdout",
          "output_type": "stream",
          "text": "(6000, 11)\n\n(2000, 11)\n\n(2000, 11)\n"
        }
      ]
    },
    {
      "cell_type": "markdown",
      "source": "### Вывод",
      "metadata": {}
    },
    {
      "cell_type": "markdown",
      "source": "Изучили данные, выполнили небольшую предобработку в tenure, а также разделили выборки и провели стандартизацию",
      "metadata": {}
    },
    {
      "cell_type": "markdown",
      "source": "## Исследование задачи",
      "metadata": {}
    },
    {
      "cell_type": "markdown",
      "source": "### Начнем с Baseline",
      "metadata": {}
    },
    {
      "cell_type": "code",
      "source": "def roc_auc_curve(m, y_test, y_score):\n    fpr, tpr, thresholds = roc_curve(y_test, y_score)\n\n    roc_auc = auc(fpr, tpr)\n\n    plt.plot(fpr, tpr, color='darkorange', label='ROC curve (area = %0.2f)' % roc_auc)\n    plt.plot([0, 1], [0, 1], color='navy', lw=2, linestyle='--')\n    plt.xlim([0.0, 1.0])\n    plt.ylim([0.0, 1.05])\n\n    plt.xlabel('False Positive Rate')\n    plt.ylabel('True Positive Rate')\n\n    plt.title(f'{str(m)} ROC AUC = %0.3f' % roc_auc)\n    plt.legend(loc=\"lower right\")\n    plt.show()\n    ",
      "metadata": {},
      "execution_count": 23,
      "outputs": []
    },
    {
      "cell_type": "code",
      "source": "models = [DecisionTreeClassifier(random_state=12345), RandomForestClassifier(random_state=12345), LogisticRegression(random_state=12345)]\n\nfor m in models:\n    m.fit(features_train, target_train)\n    pred_valid = m.predict(features_valid)\n    prob_valid = m.predict_proba(features_valid)[:,1]\n    \n    print(f'model: {str(m)}')\n    print('roc-auc:', roc_auc_score(target_valid, prob_valid))\n    print('precision:', precision_score(target_valid, pred_valid))\n    print('recall:', recall_score(target_valid, pred_valid))\n    print('f1:', f1_score(target_valid, pred_valid))\n    print('logloss:', log_loss(target_valid, pred_valid))\n    print('-'*30, '\\n')\n    roc_auc_curve(m, target_valid, prob_valid)",
      "metadata": {},
      "execution_count": 24,
      "outputs": [
        {
          "name": "stdout",
          "output_type": "stream",
          "text": "model: DecisionTreeClassifier(random_state=12345)\n\nroc-auc: 0.6907392353926495\n\nprecision: 0.49414519906323184\n\nrecall: 0.5171568627450981\n\nf1: 0.5053892215568863\n\nlogloss: 7.132343682071518\n\n------------------------------ \n\n\n"
        },
        {
          "output_type": "display_data",
          "data": {
            "image/png": "[encoded data removed]",
            "text/plain": [
              "<Figure size 432x288 with 1 Axes>"
            ]
          },
          "metadata": {
            "needs_background": "light"
          }
        },
        {
          "name": "stdout",
          "output_type": "stream",
          "text": "model: RandomForestClassifier(random_state=12345)\n\nroc-auc: 0.8623401936151345\n\nprecision: 0.7675276752767528\n\nrecall: 0.5098039215686274\n\nf1: 0.6126656848306332\n\nlogloss: 4.541874283249807\n\n------------------------------ \n\n\n"
        },
        {
          "output_type": "display_data",
          "data": {
            "image/png": "[encoded data removed]",
            "text/plain": [
              "<Figure size 432x288 with 1 Axes>"
            ]
          },
          "metadata": {
            "needs_background": "light"
          }
        },
        {
          "name": "stdout",
          "output_type": "stream",
          "text": "model: LogisticRegression(random_state=12345)\n\nroc-auc: 0.7875837520938023\n\nprecision: 0.6058394160583942\n\nrecall: 0.2034313725490196\n\nf1: 0.30458715596330277\n\nlogloss: 6.54511971596619\n\n------------------------------ \n\n\n"
        },
        {
          "output_type": "display_data",
          "data": {
            "image/png": "[encoded data removed]",
            "text/plain": [
              "<Figure size 432x288 with 1 Axes>"
            ]
          },
          "metadata": {
            "needs_background": "light"
          }
        }
      ]
    },
    {
      "cell_type": "markdown",
      "source": "### Вывод",
      "metadata": {}
    },
    {
      "cell_type": "markdown",
      "source": "Не учитывая дисбаланс мы получили приемлемые параметры для модели случайного леса. f1 = 0.61",
      "metadata": {}
    },
    {
      "cell_type": "markdown",
      "source": "## Борьба с дисбалансом",
      "metadata": {}
    },
    {
      "cell_type": "markdown",
      "source": "### Применим параметр class_weight",
      "metadata": {}
    },
    {
      "cell_type": "code",
      "source": "models = [DecisionTreeClassifier(class_weight='balanced', random_state=12345), RandomForestClassifier(class_weight='balanced', random_state=12345), LogisticRegression(class_weight='balanced', random_state=12345)]\n\nfor m in models:\n    m.fit(features_train, target_train)\n    pred_valid = m.predict(features_valid)\n    prob_valid = m.predict_proba(features_valid)[:,1]\n    \n    print(f'model: {str(m)}')\n    print('roc-auc:', roc_auc_score(target_valid, prob_valid))\n    print('precision:', precision_score(target_valid, pred_valid))\n    print('recall:', recall_score(target_valid, pred_valid))\n    print('f1:', f1_score(target_valid, pred_valid))\n    print('logloss:', log_loss(target_valid, pred_valid))\n    print('-'*30, '\\n')",
      "metadata": {},
      "execution_count": 25,
      "outputs": [
        {
          "name": "stdout",
          "output_type": "stream",
          "text": "model: DecisionTreeClassifier(class_weight='balanced', random_state=12345)\n\nroc-auc: 0.696078431372549\n\nprecision: 0.5146341463414634\n\nrecall: 0.5171568627450981\n\nf1: 0.5158924205378974\n\nlogloss: 6.8387572861366195\n\n------------------------------ \n\n\n\nmodel: RandomForestClassifier(class_weight='balanced', random_state=12345)\n\nroc-auc: 0.8621123386540547\n\nprecision: 0.76\n\nrecall: 0.46568627450980393\n\nf1: 0.5775075987841946\n\nlogloss: 4.800913906815491\n\n------------------------------ \n\n\n\nmodel: LogisticRegression(class_weight='balanced', random_state=12345)\n\nroc-auc: 0.7937035052714554\n\nprecision: 0.4117647058823529\n\nrecall: 0.7377450980392157\n\nf1: 0.5285338015803336\n\nlogloss: 9.27383337548101\n\n------------------------------ \n\n\n"
        }
      ]
    },
    {
      "cell_type": "markdown",
      "source": "Значения стали даже хуже, попробуем другие методы",
      "metadata": {}
    },
    {
      "cell_type": "markdown",
      "source": "### Увеличение выборки",
      "metadata": {}
    },
    {
      "cell_type": "code",
      "source": "def upsample(features, target, repeat):\n    features_zeros = features[target == 0]\n    features_ones = features[target == 1]\n    target_zeros = target[target == 0]\n    target_ones = target[target == 1]\n    \n    features_upsampled = pd.concat([features_zeros] + [features_ones] * repeat)\n    target_upsampled = pd.concat([target_zeros] + [target_ones] * repeat)\n    \n    features_upsampled, target_upsampled = shuffle(features_upsampled, target_upsampled, random_state=12345)\n    \n    return features_upsampled, target_upsampled",
      "metadata": {},
      "execution_count": 26,
      "outputs": []
    },
    {
      "cell_type": "markdown",
      "source": "Попробуем увеличить в 4 раза",
      "metadata": {}
    },
    {
      "cell_type": "code",
      "source": "features_train_up, target_train_up = upsample(features_train, target_train, 4)",
      "metadata": {},
      "execution_count": 27,
      "outputs": []
    },
    {
      "cell_type": "code",
      "source": "models = [DecisionTreeClassifier(random_state=12345), RandomForestClassifier(random_state=12345), LogisticRegression(random_state=12345)]\n\nfor m in models:\n    m.fit(features_train_up, target_train_up)\n    pred_valid = m.predict(features_valid)\n    prob_valid = m.predict_proba(features_valid)[:,1]\n    \n    print(f'model: {str(m)}')\n    print('roc-auc:', roc_auc_score(target_valid, prob_valid))\n    print('precision:', precision_score(target_valid, pred_valid))\n    print('recall:', recall_score(target_valid, pred_valid))\n    print('f1:', f1_score(target_valid, pred_valid))\n    print('logloss:', log_loss(target_valid, pred_valid))\n    print('-'*30, '\\n')",
      "metadata": {},
      "execution_count": 28,
      "outputs": [
        {
          "name": "stdout",
          "output_type": "stream",
          "text": "model: DecisionTreeClassifier(random_state=12345)\n\nroc-auc: 0.701639324071337\n\nprecision: 0.5257985257985258\n\nrecall: 0.5245098039215687\n\nf1: 0.5251533742331288\n\nlogloss: 6.68333039356723\n\n------------------------------ \n\n\n\nmodel: RandomForestClassifier(random_state=12345)\n\nroc-auc: 0.8667856746970145\n\nprecision: 0.6903409090909091\n\nrecall: 0.5955882352941176\n\nf1: 0.6394736842105263\n\nlogloss: 4.731855944162709\n\n------------------------------ \n\n\n\nmodel: LogisticRegression(random_state=12345)\n\nroc-auc: 0.7937712459355601\n\nprecision: 0.40562248995983935\n\nrecall: 0.7426470588235294\n\nf1: 0.5246753246753246\n\nlogloss: 9.481071631032487\n\n------------------------------ \n\n\n"
        }
      ]
    },
    {
      "cell_type": "markdown",
      "source": "RandomForest показал еще более хорошие оценки при увеличении выборки. f1=0.63",
      "metadata": {}
    },
    {
      "cell_type": "markdown",
      "source": "### Уменьшение выборки",
      "metadata": {}
    },
    {
      "cell_type": "code",
      "source": "def downsample(features, target, fraction):\n    features_zeros = features[target == 0]\n    features_ones = features[target == 1]\n    target_zeros = target[target == 0]\n    target_ones = target[target == 1]\n    features_downsampled = pd.concat(\n    [features_zeros.sample(frac=fraction, random_state=12345)] + [features_ones])\n    target_downsampled = pd.concat(\n    [target_zeros.sample(frac=fraction, random_state=12345)] + [target_ones])\n    features_downsampled, target_downsampled = shuffle(\n    features_downsampled, target_downsampled, random_state=12345)\n    return features_downsampled, target_downsampled",
      "metadata": {},
      "execution_count": 29,
      "outputs": []
    },
    {
      "cell_type": "code",
      "source": "features_train_down, target_train_down = downsample(features_train, target_train, 0.25)",
      "metadata": {},
      "execution_count": 30,
      "outputs": []
    },
    {
      "cell_type": "code",
      "source": "models = [DecisionTreeClassifier(random_state=12345), RandomForestClassifier(random_state=12345), LogisticRegression(random_state=12345)]\n\nfor m in models:\n    m.fit(features_train_down, target_train_down)\n    pred_valid = m.predict(features_valid)\n    prob_valid = m.predict_proba(features_valid)[:,1]\n    \n    print(f'model: {str(m)}')\n    print('roc-auc:', roc_auc_score(target_valid, prob_valid))\n    print('precision:', precision_score(target_valid, pred_valid))\n    print('recall:', recall_score(target_valid, pred_valid))\n    print('f1:', f1_score(target_valid, pred_valid))\n    print('logloss:', log_loss(target_valid, pred_valid))\n    print('-'*30, '\\n')",
      "metadata": {},
      "execution_count": 31,
      "outputs": [
        {
          "name": "stdout",
          "output_type": "stream",
          "text": "model: DecisionTreeClassifier(random_state=12345)\n\nroc-auc: 0.7048600847374126\n\nprecision: 0.3737244897959184\n\nrecall: 0.7181372549019608\n\nf1: 0.49161073825503354\n\nlogloss: 10.46544554882705\n\n------------------------------ \n\n\n\nmodel: RandomForestClassifier(random_state=12345)\n\nroc-auc: 0.8596944588136762\n\nprecision: 0.4876543209876543\n\nrecall: 0.7745098039215687\n\nf1: 0.5984848484848485\n\nlogloss: 7.3223533288944775\n\n------------------------------ \n\n\n\nmodel: LogisticRegression(random_state=12345)\n\nroc-auc: 0.7926165755246822\n\nprecision: 0.40691489361702127\n\nrecall: 0.75\n\nf1: 0.5275862068965517\n\nlogloss: 9.463803042432462\n\n------------------------------ \n\n\n"
        }
      ]
    },
    {
      "cell_type": "markdown",
      "source": "Уменьшение выборки не привело нас к желаемым улучшениям",
      "metadata": {}
    },
    {
      "cell_type": "markdown",
      "source": "### Вывод",
      "metadata": {}
    },
    {
      "cell_type": "markdown",
      "source": "Наилучшие оценки показала модель случайного леса при увеличенной выборке, будем ее использовать далее и попробуем немного потюнить фичи.",
      "metadata": {}
    },
    {
      "cell_type": "markdown",
      "source": "### Тюнинг",
      "metadata": {}
    },
    {
      "cell_type": "code",
      "source": "parameters_grid = {\n    'n_estimators': [100, 200, 300 , 400, 500],\n    'criterion': ['gini', 'entropy'],\n    'max_depth': [2, 4, 6, 8, 16, 20, None],\n    'max_features': ['sqrt', 'log2']    \n}",
      "metadata": {},
      "execution_count": 32,
      "outputs": []
    },
    {
      "cell_type": "code",
      "source": "best_f1 = 0\nbest_model = None\nfor n_estimators in parameters_grid['n_estimators']:\n    for criterion in parameters_grid['criterion']:\n        for max_depth in parameters_grid['max_depth']:\n            for max_features in parameters_grid['max_features']:\n                model = RandomForestClassifier(n_estimators = n_estimators, criterion = criterion, max_depth = max_depth,\n                                              max_features = max_features, random_state = 12345)\n                model.fit(features_train_up, target_train_up)\n                pred_valid = model.predict(features_valid)\n                if f1_score(target_valid, pred_valid) > best_f1:\n                    best_f1 = f1_score(target_valid, pred_valid)\n                    best_model = model\n\nprint('Best model')                \nprint(best_model)",
      "metadata": {},
      "execution_count": 33,
      "outputs": [
        {
          "name": "stdout",
          "output_type": "stream",
          "text": "Best model\n\nRandomForestClassifier(criterion='entropy', max_depth=8, max_features='sqrt',\n\n                       n_estimators=400, random_state=12345)\n"
        }
      ]
    },
    {
      "cell_type": "markdown",
      "source": "Получили следующую модель",
      "metadata": {}
    },
    {
      "cell_type": "code",
      "source": "model = RandomForestClassifier(criterion='entropy', max_depth=8, max_features='sqrt',\n                       n_estimators=400, random_state=12345)\nmodel.fit(features_train_up, target_train_up)\npred_valid = model.predict(features_valid)\nprob_valid = model.predict_proba(features_valid)[:,1]\nprint('roc-auc:', roc_auc_score(target_valid, prob_valid))\nprint('precision:', precision_score(target_valid, pred_valid))\nprint('recall:', recall_score(target_valid, pred_valid))\nprint('f1:', f1_score(target_valid, pred_valid))\nprint('logloss:', log_loss(target_valid, pred_valid))\nprint('-'*30, '\\n')\nroc_auc_curve(m, target_valid, prob_valid)",
      "metadata": {},
      "execution_count": 36,
      "outputs": [
        {
          "name": "stdout",
          "output_type": "stream",
          "text": "roc-auc: 0.8741563208197851\n\nprecision: 0.5525846702317291\n\nrecall: 0.7598039215686274\n\nf1: 0.6398348813209493\n\nlogloss: 6.027116830389405\n\n------------------------------ \n\n\n"
        },
        {
          "output_type": "display_data",
          "data": {
            "image/png": "[encoded data removed]",
            "text/plain": [
              "<Figure size 432x288 with 1 Axes>"
            ]
          },
          "metadata": {
            "needs_background": "light"
          }
        }
      ]
    },
    {
      "cell_type": "markdown",
      "source": "### Вывод",
      "metadata": {}
    },
    {
      "cell_type": "markdown",
      "source": "В данном разделе мы подобрали оптимальные параметры для модели RandomForestClassifier\nroc-auc: 0.8741809537885507\nprecision: 0.5525846702317291\nrecall: 0.7598039215686274\nf1: 0.6398348813209493\nlogloss: 6.027116830389405",
      "metadata": {}
    },
    {
      "cell_type": "markdown",
      "source": "## Тестирование модели",
      "metadata": {}
    },
    {
      "cell_type": "code",
      "source": "pred_test = model.predict(features_test)\nprob_test = model.predict_proba(features_test)[:,1]\nprint('roc-auc:', roc_auc_score(target_test, prob_test))\nprint('precision:', precision_score(target_test, pred_test))\nprint('recall:', recall_score(target_test, pred_test))\nprint('f1:', f1_score(target_test, pred_test))\nprint('logloss:', log_loss(target_test, pred_test))\nprint('-'*30, '\\n')\nroc_auc_curve(m, target_test, prob_test)",
      "metadata": {},
      "execution_count": 37,
      "outputs": [
        {
          "name": "stdout",
          "output_type": "stream",
          "text": "roc-auc: 0.8578192984972646\n\nprecision: 0.525089605734767\n\nrecall: 0.7199017199017199\n\nf1: 0.6072538860103627\n\nlogloss: 6.545204073495076\n\n------------------------------ \n\n\n"
        },
        {
          "output_type": "display_data",
          "data": {
            "image/png": "[encoded data removed]",
            "text/plain": [
              "<Figure size 432x288 with 1 Axes>"
            ]
          },
          "metadata": {
            "needs_background": "light"
          }
        }
      ]
    },
    {
      "cell_type": "markdown",
      "source": "### Вывод",
      "metadata": {}
    },
    {
      "cell_type": "markdown",
      "source": "Данные значения нас устраивают и более экспериментировать не требуется.",
      "metadata": {}
    },
    {
      "cell_type": "markdown",
      "source": "## Вывод",
      "metadata": {}
    },
    {
      "cell_type": "markdown",
      "source": "В данном проекте:\n- Исследовали данные и выявили дисбаланс\n- Провели предобработку параметров\n- Исследовали базовые модели не учитывая дисбаланс классов\n- Исследовали базовые модели применив методы борьбы с дисбалансом классов (class_weight, upsampling, downsampling)\n- Подобрали оптимальные параметры для модели RandomForestClassifier\n\nПо итогам получили на тестовой выборке следующие оценки:\n- roc-auc: 0.8578192984972646\n- precision: 0.525089605734767\n- recall: 0.7199017199017199\n- f1: 0.6072538860103627\n- logloss: 6.545204073495076",
      "metadata": {}
    }
  ]
}