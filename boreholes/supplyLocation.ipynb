{
  "metadata": {
    "ExecuteTimeLog": [
      {
        "duration": 707,
        "start_time": "2022-11-28T13:15:42.985Z"
      },
      {
        "duration": 764,
        "start_time": "2022-11-28T13:19:21.445Z"
      },
      {
        "duration": 37,
        "start_time": "2022-11-28T13:19:57.160Z"
      },
      {
        "duration": 33,
        "start_time": "2022-11-28T13:20:10.142Z"
      },
      {
        "duration": 33,
        "start_time": "2022-11-28T13:20:22.891Z"
      },
      {
        "duration": 3,
        "start_time": "2022-11-28T13:23:29.426Z"
      },
      {
        "duration": 40,
        "start_time": "2022-11-28T13:23:52.711Z"
      },
      {
        "duration": 89,
        "start_time": "2022-11-28T13:24:04.428Z"
      },
      {
        "duration": 34,
        "start_time": "2022-11-28T13:24:16.123Z"
      },
      {
        "duration": 110,
        "start_time": "2022-11-28T13:24:25.025Z"
      },
      {
        "duration": 64,
        "start_time": "2022-11-28T13:24:31.889Z"
      },
      {
        "duration": 91,
        "start_time": "2022-11-28T13:24:43.346Z"
      },
      {
        "duration": 1016,
        "start_time": "2022-11-28T13:33:25.592Z"
      },
      {
        "duration": 1025,
        "start_time": "2022-11-28T13:35:32.941Z"
      },
      {
        "duration": 1040,
        "start_time": "2022-11-28T13:35:49.501Z"
      },
      {
        "duration": 334,
        "start_time": "2022-11-28T13:35:59.814Z"
      },
      {
        "duration": 307,
        "start_time": "2022-11-28T13:36:07.405Z"
      },
      {
        "duration": 338,
        "start_time": "2022-11-28T13:36:16.374Z"
      },
      {
        "duration": 9,
        "start_time": "2022-11-28T13:38:38.821Z"
      },
      {
        "duration": 44,
        "start_time": "2022-11-28T13:38:44.855Z"
      },
      {
        "duration": 44,
        "start_time": "2022-11-28T13:38:51.213Z"
      },
      {
        "duration": 46,
        "start_time": "2022-11-28T13:38:57.647Z"
      },
      {
        "duration": 149,
        "start_time": "2022-11-28T13:39:29.136Z"
      },
      {
        "duration": 67,
        "start_time": "2022-11-28T13:40:53.054Z"
      },
      {
        "duration": 89,
        "start_time": "2022-11-28T13:40:59.266Z"
      },
      {
        "duration": 18,
        "start_time": "2022-11-28T13:42:42.585Z"
      },
      {
        "duration": 22,
        "start_time": "2022-11-28T13:42:54.049Z"
      },
      {
        "duration": 867,
        "start_time": "2022-11-28T13:46:18.340Z"
      },
      {
        "duration": 94,
        "start_time": "2022-11-28T13:46:39.427Z"
      },
      {
        "duration": 1403,
        "start_time": "2022-11-28T13:46:44.346Z"
      },
      {
        "duration": 411,
        "start_time": "2022-11-28T13:46:45.751Z"
      },
      {
        "duration": 38,
        "start_time": "2022-11-28T13:46:46.163Z"
      },
      {
        "duration": 3,
        "start_time": "2022-11-28T13:46:46.204Z"
      },
      {
        "duration": 141,
        "start_time": "2022-11-28T13:46:46.209Z"
      },
      {
        "duration": 387,
        "start_time": "2022-11-28T13:46:46.352Z"
      },
      {
        "duration": 392,
        "start_time": "2022-11-28T13:46:46.749Z"
      },
      {
        "duration": 471,
        "start_time": "2022-11-28T13:46:47.142Z"
      },
      {
        "duration": 60,
        "start_time": "2022-11-28T13:46:47.616Z"
      },
      {
        "duration": 58,
        "start_time": "2022-11-28T13:46:47.679Z"
      },
      {
        "duration": 50,
        "start_time": "2022-11-28T13:46:47.739Z"
      },
      {
        "duration": 96,
        "start_time": "2022-11-28T13:46:47.791Z"
      },
      {
        "duration": 104,
        "start_time": "2022-11-28T13:46:47.889Z"
      },
      {
        "duration": 96,
        "start_time": "2022-11-28T13:46:47.995Z"
      },
      {
        "duration": 14,
        "start_time": "2022-11-28T13:46:48.094Z"
      },
      {
        "duration": 52,
        "start_time": "2022-11-28T13:46:48.111Z"
      },
      {
        "duration": 3,
        "start_time": "2022-11-28T13:55:13.010Z"
      },
      {
        "duration": 3,
        "start_time": "2022-11-28T14:01:47.619Z"
      },
      {
        "duration": 5,
        "start_time": "2022-11-28T14:28:31.422Z"
      },
      {
        "duration": 136,
        "start_time": "2022-11-28T14:28:48.202Z"
      },
      {
        "duration": 4,
        "start_time": "2022-11-28T14:29:33.021Z"
      },
      {
        "duration": 28,
        "start_time": "2022-11-28T14:29:39.430Z"
      },
      {
        "duration": 41,
        "start_time": "2022-11-28T14:30:02.446Z"
      },
      {
        "duration": 31,
        "start_time": "2022-11-28T14:30:14.516Z"
      },
      {
        "duration": 1395,
        "start_time": "2022-11-28T14:30:20.745Z"
      },
      {
        "duration": 440,
        "start_time": "2022-11-28T14:30:22.143Z"
      },
      {
        "duration": 70,
        "start_time": "2022-11-28T14:30:22.585Z"
      },
      {
        "duration": 5,
        "start_time": "2022-11-28T14:30:22.658Z"
      },
      {
        "duration": 127,
        "start_time": "2022-11-28T14:30:22.665Z"
      },
      {
        "duration": 352,
        "start_time": "2022-11-28T14:30:22.794Z"
      },
      {
        "duration": 347,
        "start_time": "2022-11-28T14:30:23.148Z"
      },
      {
        "duration": 422,
        "start_time": "2022-11-28T14:30:23.496Z"
      },
      {
        "duration": 54,
        "start_time": "2022-11-28T14:30:23.920Z"
      },
      {
        "duration": 47,
        "start_time": "2022-11-28T14:30:23.977Z"
      },
      {
        "duration": 51,
        "start_time": "2022-11-28T14:30:24.025Z"
      },
      {
        "duration": 78,
        "start_time": "2022-11-28T14:30:24.078Z"
      },
      {
        "duration": 88,
        "start_time": "2022-11-28T14:30:24.157Z"
      },
      {
        "duration": 92,
        "start_time": "2022-11-28T14:30:24.247Z"
      },
      {
        "duration": 15,
        "start_time": "2022-11-28T14:30:24.341Z"
      },
      {
        "duration": 28,
        "start_time": "2022-11-28T14:30:24.358Z"
      },
      {
        "duration": 2,
        "start_time": "2022-11-28T14:30:24.388Z"
      },
      {
        "duration": 18,
        "start_time": "2022-11-28T14:30:24.392Z"
      },
      {
        "duration": 8,
        "start_time": "2022-11-28T14:30:24.412Z"
      },
      {
        "duration": 39,
        "start_time": "2022-11-28T14:30:24.421Z"
      },
      {
        "duration": 192,
        "start_time": "2022-11-28T14:30:24.462Z"
      },
      {
        "duration": 199,
        "start_time": "2022-11-28T14:30:24.656Z"
      },
      {
        "duration": 1368,
        "start_time": "2022-11-28T14:34:53.005Z"
      },
      {
        "duration": 394,
        "start_time": "2022-11-28T14:34:54.374Z"
      },
      {
        "duration": 36,
        "start_time": "2022-11-28T14:34:54.769Z"
      },
      {
        "duration": 4,
        "start_time": "2022-11-28T14:34:54.807Z"
      },
      {
        "duration": 104,
        "start_time": "2022-11-28T14:34:54.834Z"
      },
      {
        "duration": 346,
        "start_time": "2022-11-28T14:34:54.940Z"
      },
      {
        "duration": 320,
        "start_time": "2022-11-28T14:34:55.287Z"
      },
      {
        "duration": 397,
        "start_time": "2022-11-28T14:34:55.609Z"
      },
      {
        "duration": 57,
        "start_time": "2022-11-28T14:34:56.008Z"
      },
      {
        "duration": 41,
        "start_time": "2022-11-28T14:34:56.068Z"
      },
      {
        "duration": 60,
        "start_time": "2022-11-28T14:34:56.111Z"
      },
      {
        "duration": 66,
        "start_time": "2022-11-28T14:34:56.172Z"
      },
      {
        "duration": 56,
        "start_time": "2022-11-28T14:34:56.240Z"
      },
      {
        "duration": 76,
        "start_time": "2022-11-28T14:34:56.297Z"
      },
      {
        "duration": 13,
        "start_time": "2022-11-28T14:34:56.375Z"
      },
      {
        "duration": 28,
        "start_time": "2022-11-28T14:34:56.390Z"
      },
      {
        "duration": 17,
        "start_time": "2022-11-28T14:34:56.419Z"
      },
      {
        "duration": 7,
        "start_time": "2022-11-28T14:34:56.437Z"
      },
      {
        "duration": 17,
        "start_time": "2022-11-28T14:34:56.445Z"
      },
      {
        "duration": 74,
        "start_time": "2022-11-28T14:34:56.464Z"
      },
      {
        "duration": 193,
        "start_time": "2022-11-28T14:34:56.541Z"
      },
      {
        "duration": 118,
        "start_time": "2022-11-28T14:34:56.737Z"
      },
      {
        "duration": 1564,
        "start_time": "2022-11-29T12:18:44.601Z"
      },
      {
        "duration": 1682,
        "start_time": "2022-11-29T12:18:46.167Z"
      },
      {
        "duration": 37,
        "start_time": "2022-11-29T12:18:47.850Z"
      },
      {
        "duration": 4,
        "start_time": "2022-11-29T12:18:47.888Z"
      },
      {
        "duration": 109,
        "start_time": "2022-11-29T12:18:47.893Z"
      },
      {
        "duration": 347,
        "start_time": "2022-11-29T12:18:48.004Z"
      },
      {
        "duration": 332,
        "start_time": "2022-11-29T12:18:48.353Z"
      },
      {
        "duration": 395,
        "start_time": "2022-11-29T12:18:48.686Z"
      },
      {
        "duration": 46,
        "start_time": "2022-11-29T12:18:49.082Z"
      },
      {
        "duration": 51,
        "start_time": "2022-11-29T12:18:49.131Z"
      },
      {
        "duration": 41,
        "start_time": "2022-11-29T12:18:49.184Z"
      },
      {
        "duration": 68,
        "start_time": "2022-11-29T12:18:49.227Z"
      },
      {
        "duration": 57,
        "start_time": "2022-11-29T12:18:49.296Z"
      },
      {
        "duration": 70,
        "start_time": "2022-11-29T12:18:49.354Z"
      },
      {
        "duration": 24,
        "start_time": "2022-11-29T12:18:49.426Z"
      },
      {
        "duration": 30,
        "start_time": "2022-11-29T12:18:49.451Z"
      },
      {
        "duration": 3,
        "start_time": "2022-11-29T12:18:49.482Z"
      },
      {
        "duration": 5,
        "start_time": "2022-11-29T12:18:49.486Z"
      },
      {
        "duration": 5,
        "start_time": "2022-11-29T12:18:49.493Z"
      },
      {
        "duration": 87,
        "start_time": "2022-11-29T12:18:49.499Z"
      },
      {
        "duration": 108,
        "start_time": "2022-11-29T12:18:49.677Z"
      },
      {
        "duration": 205,
        "start_time": "2022-11-29T12:18:49.788Z"
      },
      {
        "duration": 829,
        "start_time": "2022-11-29T12:18:49.995Z"
      },
      {
        "duration": 2,
        "start_time": "2022-11-29T12:18:50.826Z"
      },
      {
        "duration": 254,
        "start_time": "2022-11-29T12:19:02.685Z"
      },
      {
        "duration": 15,
        "start_time": "2022-11-29T12:19:20.148Z"
      },
      {
        "duration": 3,
        "start_time": "2022-11-29T12:23:17.641Z"
      },
      {
        "duration": 6,
        "start_time": "2022-11-29T12:23:47.194Z"
      },
      {
        "duration": 3,
        "start_time": "2022-11-29T12:33:14.741Z"
      },
      {
        "duration": 1331,
        "start_time": "2022-11-29T12:46:17.506Z"
      },
      {
        "duration": 411,
        "start_time": "2022-11-29T12:46:18.839Z"
      },
      {
        "duration": 40,
        "start_time": "2022-11-29T12:46:19.251Z"
      },
      {
        "duration": 4,
        "start_time": "2022-11-29T12:46:19.294Z"
      },
      {
        "duration": 110,
        "start_time": "2022-11-29T12:46:19.300Z"
      },
      {
        "duration": 353,
        "start_time": "2022-11-29T12:46:19.412Z"
      },
      {
        "duration": 348,
        "start_time": "2022-11-29T12:46:19.767Z"
      },
      {
        "duration": 431,
        "start_time": "2022-11-29T12:46:20.117Z"
      },
      {
        "duration": 66,
        "start_time": "2022-11-29T12:46:20.549Z"
      },
      {
        "duration": 41,
        "start_time": "2022-11-29T12:46:20.617Z"
      },
      {
        "duration": 71,
        "start_time": "2022-11-29T12:46:20.660Z"
      },
      {
        "duration": 84,
        "start_time": "2022-11-29T12:46:20.733Z"
      },
      {
        "duration": 83,
        "start_time": "2022-11-29T12:46:20.818Z"
      },
      {
        "duration": 61,
        "start_time": "2022-11-29T12:46:20.902Z"
      },
      {
        "duration": 22,
        "start_time": "2022-11-29T12:46:20.977Z"
      },
      {
        "duration": 31,
        "start_time": "2022-11-29T12:46:21.002Z"
      },
      {
        "duration": 3,
        "start_time": "2022-11-29T12:46:21.035Z"
      },
      {
        "duration": 8,
        "start_time": "2022-11-29T12:46:21.040Z"
      },
      {
        "duration": 7,
        "start_time": "2022-11-29T12:46:21.050Z"
      },
      {
        "duration": 101,
        "start_time": "2022-11-29T12:46:21.085Z"
      },
      {
        "duration": 120,
        "start_time": "2022-11-29T12:46:21.190Z"
      },
      {
        "duration": 194,
        "start_time": "2022-11-29T12:46:21.313Z"
      },
      {
        "duration": 355,
        "start_time": "2022-11-29T12:46:21.580Z"
      },
      {
        "duration": 14,
        "start_time": "2022-11-29T12:46:21.937Z"
      },
      {
        "duration": 3,
        "start_time": "2022-11-29T12:46:21.953Z"
      },
      {
        "duration": 7,
        "start_time": "2022-11-29T12:46:21.978Z"
      },
      {
        "duration": 7,
        "start_time": "2022-11-29T12:46:21.987Z"
      },
      {
        "duration": 123,
        "start_time": "2022-11-29T12:46:21.999Z"
      },
      {
        "duration": 0,
        "start_time": "2022-11-29T12:46:22.124Z"
      },
      {
        "duration": 0,
        "start_time": "2022-11-29T12:46:22.125Z"
      },
      {
        "duration": 1354,
        "start_time": "2022-11-29T12:46:49.590Z"
      },
      {
        "duration": 386,
        "start_time": "2022-11-29T12:46:50.946Z"
      },
      {
        "duration": 44,
        "start_time": "2022-11-29T12:46:51.334Z"
      },
      {
        "duration": 4,
        "start_time": "2022-11-29T12:46:51.380Z"
      },
      {
        "duration": 125,
        "start_time": "2022-11-29T12:46:51.385Z"
      },
      {
        "duration": 336,
        "start_time": "2022-11-29T12:46:51.512Z"
      },
      {
        "duration": 396,
        "start_time": "2022-11-29T12:46:51.849Z"
      },
      {
        "duration": 469,
        "start_time": "2022-11-29T12:46:52.247Z"
      },
      {
        "duration": 42,
        "start_time": "2022-11-29T12:46:52.718Z"
      },
      {
        "duration": 70,
        "start_time": "2022-11-29T12:46:52.763Z"
      },
      {
        "duration": 72,
        "start_time": "2022-11-29T12:46:52.835Z"
      },
      {
        "duration": 90,
        "start_time": "2022-11-29T12:46:52.909Z"
      },
      {
        "duration": 93,
        "start_time": "2022-11-29T12:46:53.001Z"
      },
      {
        "duration": 113,
        "start_time": "2022-11-29T12:46:53.096Z"
      },
      {
        "duration": 16,
        "start_time": "2022-11-29T12:46:53.211Z"
      },
      {
        "duration": 35,
        "start_time": "2022-11-29T12:46:53.229Z"
      },
      {
        "duration": 3,
        "start_time": "2022-11-29T12:46:53.265Z"
      },
      {
        "duration": 13,
        "start_time": "2022-11-29T12:46:53.270Z"
      },
      {
        "duration": 27,
        "start_time": "2022-11-29T12:46:53.285Z"
      },
      {
        "duration": 68,
        "start_time": "2022-11-29T12:46:53.314Z"
      },
      {
        "duration": 126,
        "start_time": "2022-11-29T12:46:53.384Z"
      },
      {
        "duration": 120,
        "start_time": "2022-11-29T12:46:53.579Z"
      },
      {
        "duration": 461,
        "start_time": "2022-11-29T12:46:53.703Z"
      },
      {
        "duration": 33,
        "start_time": "2022-11-29T12:46:54.166Z"
      },
      {
        "duration": 8,
        "start_time": "2022-11-29T12:46:54.205Z"
      },
      {
        "duration": 7,
        "start_time": "2022-11-29T12:46:54.215Z"
      },
      {
        "duration": 7,
        "start_time": "2022-11-29T12:46:54.224Z"
      },
      {
        "duration": 142,
        "start_time": "2022-11-29T12:46:54.235Z"
      },
      {
        "duration": 0,
        "start_time": "2022-11-29T12:46:54.381Z"
      },
      {
        "duration": 0,
        "start_time": "2022-11-29T12:46:54.382Z"
      },
      {
        "duration": 1388,
        "start_time": "2022-11-29T12:47:24.810Z"
      },
      {
        "duration": 406,
        "start_time": "2022-11-29T12:47:26.200Z"
      },
      {
        "duration": 35,
        "start_time": "2022-11-29T12:47:26.607Z"
      },
      {
        "duration": 3,
        "start_time": "2022-11-29T12:47:26.643Z"
      },
      {
        "duration": 117,
        "start_time": "2022-11-29T12:47:26.648Z"
      },
      {
        "duration": 350,
        "start_time": "2022-11-29T12:47:26.777Z"
      },
      {
        "duration": 336,
        "start_time": "2022-11-29T12:47:27.128Z"
      },
      {
        "duration": 413,
        "start_time": "2022-11-29T12:47:27.465Z"
      },
      {
        "duration": 50,
        "start_time": "2022-11-29T12:47:27.880Z"
      },
      {
        "duration": 58,
        "start_time": "2022-11-29T12:47:27.933Z"
      },
      {
        "duration": 45,
        "start_time": "2022-11-29T12:47:27.996Z"
      },
      {
        "duration": 75,
        "start_time": "2022-11-29T12:47:28.042Z"
      },
      {
        "duration": 85,
        "start_time": "2022-11-29T12:47:28.119Z"
      },
      {
        "duration": 58,
        "start_time": "2022-11-29T12:47:28.206Z"
      },
      {
        "duration": 16,
        "start_time": "2022-11-29T12:47:28.279Z"
      },
      {
        "duration": 25,
        "start_time": "2022-11-29T12:47:28.297Z"
      },
      {
        "duration": 3,
        "start_time": "2022-11-29T12:47:28.323Z"
      },
      {
        "duration": 6,
        "start_time": "2022-11-29T12:47:28.328Z"
      },
      {
        "duration": 6,
        "start_time": "2022-11-29T12:47:28.335Z"
      },
      {
        "duration": 53,
        "start_time": "2022-11-29T12:47:28.342Z"
      },
      {
        "duration": 191,
        "start_time": "2022-11-29T12:47:28.398Z"
      },
      {
        "duration": 208,
        "start_time": "2022-11-29T12:47:28.593Z"
      },
      {
        "duration": 446,
        "start_time": "2022-11-29T12:47:28.804Z"
      },
      {
        "duration": 13,
        "start_time": "2022-11-29T12:47:29.252Z"
      },
      {
        "duration": 14,
        "start_time": "2022-11-29T12:47:29.266Z"
      },
      {
        "duration": 9,
        "start_time": "2022-11-29T12:47:29.282Z"
      },
      {
        "duration": 15,
        "start_time": "2022-11-29T12:47:29.294Z"
      },
      {
        "duration": 122,
        "start_time": "2022-11-29T12:47:29.313Z"
      },
      {
        "duration": 0,
        "start_time": "2022-11-29T12:47:29.437Z"
      },
      {
        "duration": 0,
        "start_time": "2022-11-29T12:47:29.438Z"
      },
      {
        "duration": 1467,
        "start_time": "2022-11-29T12:52:07.570Z"
      },
      {
        "duration": 368,
        "start_time": "2022-11-29T12:52:09.039Z"
      },
      {
        "duration": 36,
        "start_time": "2022-11-29T12:52:09.409Z"
      },
      {
        "duration": 3,
        "start_time": "2022-11-29T12:52:09.447Z"
      },
      {
        "duration": 107,
        "start_time": "2022-11-29T12:52:09.452Z"
      },
      {
        "duration": 325,
        "start_time": "2022-11-29T12:52:09.561Z"
      },
      {
        "duration": 318,
        "start_time": "2022-11-29T12:52:09.888Z"
      },
      {
        "duration": 405,
        "start_time": "2022-11-29T12:52:10.208Z"
      },
      {
        "duration": 49,
        "start_time": "2022-11-29T12:52:10.614Z"
      },
      {
        "duration": 43,
        "start_time": "2022-11-29T12:52:10.677Z"
      },
      {
        "duration": 61,
        "start_time": "2022-11-29T12:52:10.722Z"
      },
      {
        "duration": 58,
        "start_time": "2022-11-29T12:52:10.785Z"
      },
      {
        "duration": 79,
        "start_time": "2022-11-29T12:52:10.845Z"
      },
      {
        "duration": 76,
        "start_time": "2022-11-29T12:52:10.926Z"
      },
      {
        "duration": 29,
        "start_time": "2022-11-29T12:52:11.004Z"
      },
      {
        "duration": 35,
        "start_time": "2022-11-29T12:52:11.034Z"
      },
      {
        "duration": 5,
        "start_time": "2022-11-29T12:52:11.070Z"
      },
      {
        "duration": 7,
        "start_time": "2022-11-29T12:52:11.076Z"
      },
      {
        "duration": 7,
        "start_time": "2022-11-29T12:52:11.085Z"
      },
      {
        "duration": 36,
        "start_time": "2022-11-29T12:52:11.093Z"
      },
      {
        "duration": 119,
        "start_time": "2022-11-29T12:52:11.181Z"
      },
      {
        "duration": 191,
        "start_time": "2022-11-29T12:52:11.302Z"
      },
      {
        "duration": 453,
        "start_time": "2022-11-29T12:52:11.495Z"
      },
      {
        "duration": 31,
        "start_time": "2022-11-29T12:52:11.949Z"
      },
      {
        "duration": 4,
        "start_time": "2022-11-29T12:52:11.981Z"
      },
      {
        "duration": 9,
        "start_time": "2022-11-29T12:52:11.986Z"
      },
      {
        "duration": 6,
        "start_time": "2022-11-29T12:52:11.996Z"
      },
      {
        "duration": 119,
        "start_time": "2022-11-29T12:52:12.004Z"
      },
      {
        "duration": 0,
        "start_time": "2022-11-29T12:52:12.124Z"
      },
      {
        "duration": 0,
        "start_time": "2022-11-29T12:52:12.125Z"
      },
      {
        "duration": 1326,
        "start_time": "2022-11-29T12:54:10.335Z"
      },
      {
        "duration": 372,
        "start_time": "2022-11-29T12:54:11.662Z"
      },
      {
        "duration": 41,
        "start_time": "2022-11-29T12:54:12.038Z"
      },
      {
        "duration": 3,
        "start_time": "2022-11-29T12:54:12.081Z"
      },
      {
        "duration": 101,
        "start_time": "2022-11-29T12:54:12.085Z"
      },
      {
        "duration": 312,
        "start_time": "2022-11-29T12:54:12.187Z"
      },
      {
        "duration": 322,
        "start_time": "2022-11-29T12:54:12.501Z"
      },
      {
        "duration": 414,
        "start_time": "2022-11-29T12:54:12.826Z"
      },
      {
        "duration": 53,
        "start_time": "2022-11-29T12:54:13.243Z"
      },
      {
        "duration": 40,
        "start_time": "2022-11-29T12:54:13.298Z"
      },
      {
        "duration": 56,
        "start_time": "2022-11-29T12:54:13.339Z"
      },
      {
        "duration": 54,
        "start_time": "2022-11-29T12:54:13.397Z"
      },
      {
        "duration": 68,
        "start_time": "2022-11-29T12:54:13.452Z"
      },
      {
        "duration": 75,
        "start_time": "2022-11-29T12:54:13.521Z"
      },
      {
        "duration": 14,
        "start_time": "2022-11-29T12:54:13.597Z"
      },
      {
        "duration": 64,
        "start_time": "2022-11-29T12:54:13.613Z"
      },
      {
        "duration": 3,
        "start_time": "2022-11-29T12:54:13.679Z"
      },
      {
        "duration": 42,
        "start_time": "2022-11-29T12:54:13.684Z"
      },
      {
        "duration": 75,
        "start_time": "2022-11-29T12:54:13.728Z"
      },
      {
        "duration": 88,
        "start_time": "2022-11-29T12:54:13.805Z"
      },
      {
        "duration": 132,
        "start_time": "2022-11-29T12:54:13.979Z"
      },
      {
        "duration": 116,
        "start_time": "2022-11-29T12:54:14.181Z"
      },
      {
        "duration": 426,
        "start_time": "2022-11-29T12:54:14.300Z"
      },
      {
        "duration": 13,
        "start_time": "2022-11-29T12:54:14.728Z"
      },
      {
        "duration": 5,
        "start_time": "2022-11-29T12:54:14.743Z"
      },
      {
        "duration": 21,
        "start_time": "2022-11-29T12:54:14.750Z"
      },
      {
        "duration": 21,
        "start_time": "2022-11-29T12:54:14.774Z"
      },
      {
        "duration": 33,
        "start_time": "2022-11-29T12:54:14.796Z"
      },
      {
        "duration": 140,
        "start_time": "2022-11-29T12:54:14.830Z"
      },
      {
        "duration": 0,
        "start_time": "2022-11-29T12:54:14.971Z"
      },
      {
        "duration": 0,
        "start_time": "2022-11-29T12:54:14.973Z"
      },
      {
        "duration": 1358,
        "start_time": "2022-11-29T13:00:07.097Z"
      },
      {
        "duration": 391,
        "start_time": "2022-11-29T13:00:08.457Z"
      },
      {
        "duration": 41,
        "start_time": "2022-11-29T13:00:08.849Z"
      },
      {
        "duration": 21,
        "start_time": "2022-11-29T13:00:08.892Z"
      },
      {
        "duration": 118,
        "start_time": "2022-11-29T13:00:08.914Z"
      },
      {
        "duration": 349,
        "start_time": "2022-11-29T13:00:09.034Z"
      },
      {
        "duration": 350,
        "start_time": "2022-11-29T13:00:09.385Z"
      },
      {
        "duration": 412,
        "start_time": "2022-11-29T13:00:09.737Z"
      },
      {
        "duration": 60,
        "start_time": "2022-11-29T13:00:10.151Z"
      },
      {
        "duration": 46,
        "start_time": "2022-11-29T13:00:10.213Z"
      },
      {
        "duration": 59,
        "start_time": "2022-11-29T13:00:10.261Z"
      },
      {
        "duration": 91,
        "start_time": "2022-11-29T13:00:10.322Z"
      },
      {
        "duration": 88,
        "start_time": "2022-11-29T13:00:10.414Z"
      },
      {
        "duration": 83,
        "start_time": "2022-11-29T13:00:10.503Z"
      },
      {
        "duration": 15,
        "start_time": "2022-11-29T13:00:10.587Z"
      },
      {
        "duration": 32,
        "start_time": "2022-11-29T13:00:10.604Z"
      },
      {
        "duration": 3,
        "start_time": "2022-11-29T13:00:10.638Z"
      },
      {
        "duration": 19,
        "start_time": "2022-11-29T13:00:10.642Z"
      },
      {
        "duration": 24,
        "start_time": "2022-11-29T13:00:10.663Z"
      },
      {
        "duration": 66,
        "start_time": "2022-11-29T13:00:10.689Z"
      },
      {
        "duration": 139,
        "start_time": "2022-11-29T13:00:10.757Z"
      },
      {
        "duration": 197,
        "start_time": "2022-11-29T13:00:10.899Z"
      },
      {
        "duration": 450,
        "start_time": "2022-11-29T13:00:11.098Z"
      },
      {
        "duration": 28,
        "start_time": "2022-11-29T13:00:11.550Z"
      },
      {
        "duration": 4,
        "start_time": "2022-11-29T13:00:11.579Z"
      },
      {
        "duration": 13,
        "start_time": "2022-11-29T13:00:11.585Z"
      },
      {
        "duration": 6,
        "start_time": "2022-11-29T13:00:11.599Z"
      },
      {
        "duration": 122,
        "start_time": "2022-11-29T13:00:11.608Z"
      },
      {
        "duration": 0,
        "start_time": "2022-11-29T13:00:11.732Z"
      },
      {
        "duration": 0,
        "start_time": "2022-11-29T13:00:11.733Z"
      },
      {
        "duration": 1421,
        "start_time": "2022-11-29T13:03:15.668Z"
      },
      {
        "duration": 373,
        "start_time": "2022-11-29T13:03:17.091Z"
      },
      {
        "duration": 35,
        "start_time": "2022-11-29T13:03:17.465Z"
      },
      {
        "duration": 4,
        "start_time": "2022-11-29T13:03:17.502Z"
      },
      {
        "duration": 107,
        "start_time": "2022-11-29T13:03:17.507Z"
      },
      {
        "duration": 327,
        "start_time": "2022-11-29T13:03:17.616Z"
      },
      {
        "duration": 316,
        "start_time": "2022-11-29T13:03:17.944Z"
      },
      {
        "duration": 382,
        "start_time": "2022-11-29T13:03:18.262Z"
      },
      {
        "duration": 52,
        "start_time": "2022-11-29T13:03:18.645Z"
      },
      {
        "duration": 39,
        "start_time": "2022-11-29T13:03:18.700Z"
      },
      {
        "duration": 56,
        "start_time": "2022-11-29T13:03:18.740Z"
      },
      {
        "duration": 60,
        "start_time": "2022-11-29T13:03:18.798Z"
      },
      {
        "duration": 80,
        "start_time": "2022-11-29T13:03:18.859Z"
      },
      {
        "duration": 78,
        "start_time": "2022-11-29T13:03:18.941Z"
      },
      {
        "duration": 16,
        "start_time": "2022-11-29T13:03:19.021Z"
      },
      {
        "duration": 39,
        "start_time": "2022-11-29T13:03:19.040Z"
      },
      {
        "duration": 3,
        "start_time": "2022-11-29T13:03:19.081Z"
      },
      {
        "duration": 13,
        "start_time": "2022-11-29T13:03:19.085Z"
      },
      {
        "duration": 15,
        "start_time": "2022-11-29T13:03:19.100Z"
      },
      {
        "duration": 62,
        "start_time": "2022-11-29T13:03:19.117Z"
      },
      {
        "duration": 212,
        "start_time": "2022-11-29T13:03:19.181Z"
      },
      {
        "duration": 194,
        "start_time": "2022-11-29T13:03:19.395Z"
      },
      {
        "duration": 445,
        "start_time": "2022-11-29T13:03:19.591Z"
      },
      {
        "duration": 16,
        "start_time": "2022-11-29T13:03:20.037Z"
      },
      {
        "duration": 4,
        "start_time": "2022-11-29T13:03:20.054Z"
      },
      {
        "duration": 19,
        "start_time": "2022-11-29T13:03:20.060Z"
      },
      {
        "duration": 7,
        "start_time": "2022-11-29T13:03:20.081Z"
      },
      {
        "duration": 123,
        "start_time": "2022-11-29T13:03:20.091Z"
      },
      {
        "duration": 0,
        "start_time": "2022-11-29T13:03:20.216Z"
      },
      {
        "duration": 0,
        "start_time": "2022-11-29T13:03:20.218Z"
      },
      {
        "duration": 1362,
        "start_time": "2022-11-29T13:05:55.314Z"
      },
      {
        "duration": 376,
        "start_time": "2022-11-29T13:05:56.677Z"
      },
      {
        "duration": 39,
        "start_time": "2022-11-29T13:05:57.054Z"
      },
      {
        "duration": 3,
        "start_time": "2022-11-29T13:05:57.096Z"
      },
      {
        "duration": 107,
        "start_time": "2022-11-29T13:05:57.101Z"
      },
      {
        "duration": 315,
        "start_time": "2022-11-29T13:05:57.210Z"
      },
      {
        "duration": 311,
        "start_time": "2022-11-29T13:05:57.527Z"
      },
      {
        "duration": 382,
        "start_time": "2022-11-29T13:05:57.841Z"
      },
      {
        "duration": 42,
        "start_time": "2022-11-29T13:05:58.225Z"
      },
      {
        "duration": 48,
        "start_time": "2022-11-29T13:05:58.270Z"
      },
      {
        "duration": 62,
        "start_time": "2022-11-29T13:05:58.320Z"
      },
      {
        "duration": 60,
        "start_time": "2022-11-29T13:05:58.383Z"
      },
      {
        "duration": 84,
        "start_time": "2022-11-29T13:05:58.444Z"
      },
      {
        "duration": 78,
        "start_time": "2022-11-29T13:05:58.530Z"
      },
      {
        "duration": 13,
        "start_time": "2022-11-29T13:05:58.609Z"
      },
      {
        "duration": 26,
        "start_time": "2022-11-29T13:05:58.623Z"
      },
      {
        "duration": 2,
        "start_time": "2022-11-29T13:05:58.650Z"
      },
      {
        "duration": 15,
        "start_time": "2022-11-29T13:05:58.654Z"
      },
      {
        "duration": 5,
        "start_time": "2022-11-29T13:05:58.678Z"
      },
      {
        "duration": 104,
        "start_time": "2022-11-29T13:05:58.684Z"
      },
      {
        "duration": 101,
        "start_time": "2022-11-29T13:05:58.878Z"
      },
      {
        "duration": 196,
        "start_time": "2022-11-29T13:05:58.982Z"
      },
      {
        "duration": 344,
        "start_time": "2022-11-29T13:05:59.180Z"
      },
      {
        "duration": 15,
        "start_time": "2022-11-29T13:05:59.526Z"
      },
      {
        "duration": 4,
        "start_time": "2022-11-29T13:05:59.542Z"
      },
      {
        "duration": 10,
        "start_time": "2022-11-29T13:05:59.547Z"
      },
      {
        "duration": 22,
        "start_time": "2022-11-29T13:05:59.558Z"
      },
      {
        "duration": 113,
        "start_time": "2022-11-29T13:05:59.583Z"
      },
      {
        "duration": 0,
        "start_time": "2022-11-29T13:05:59.698Z"
      },
      {
        "duration": 0,
        "start_time": "2022-11-29T13:05:59.699Z"
      },
      {
        "duration": 1339,
        "start_time": "2022-11-29T13:11:08.502Z"
      },
      {
        "duration": 385,
        "start_time": "2022-11-29T13:11:09.842Z"
      },
      {
        "duration": 33,
        "start_time": "2022-11-29T13:11:10.229Z"
      },
      {
        "duration": 19,
        "start_time": "2022-11-29T13:11:10.264Z"
      },
      {
        "duration": 117,
        "start_time": "2022-11-29T13:11:10.284Z"
      },
      {
        "duration": 323,
        "start_time": "2022-11-29T13:11:10.402Z"
      },
      {
        "duration": 352,
        "start_time": "2022-11-29T13:11:10.726Z"
      },
      {
        "duration": 399,
        "start_time": "2022-11-29T13:11:11.079Z"
      },
      {
        "duration": 51,
        "start_time": "2022-11-29T13:11:11.480Z"
      },
      {
        "duration": 63,
        "start_time": "2022-11-29T13:11:11.533Z"
      },
      {
        "duration": 47,
        "start_time": "2022-11-29T13:11:11.598Z"
      },
      {
        "duration": 88,
        "start_time": "2022-11-29T13:11:11.647Z"
      },
      {
        "duration": 94,
        "start_time": "2022-11-29T13:11:11.737Z"
      },
      {
        "duration": 81,
        "start_time": "2022-11-29T13:11:11.833Z"
      },
      {
        "duration": 14,
        "start_time": "2022-11-29T13:11:11.916Z"
      },
      {
        "duration": 53,
        "start_time": "2022-11-29T13:11:11.932Z"
      },
      {
        "duration": 4,
        "start_time": "2022-11-29T13:11:11.988Z"
      },
      {
        "duration": 7,
        "start_time": "2022-11-29T13:11:11.994Z"
      },
      {
        "duration": 6,
        "start_time": "2022-11-29T13:11:12.003Z"
      },
      {
        "duration": 78,
        "start_time": "2022-11-29T13:11:12.010Z"
      },
      {
        "duration": 117,
        "start_time": "2022-11-29T13:11:12.090Z"
      },
      {
        "duration": 186,
        "start_time": "2022-11-29T13:11:12.212Z"
      },
      {
        "duration": 445,
        "start_time": "2022-11-29T13:11:12.403Z"
      },
      {
        "duration": 30,
        "start_time": "2022-11-29T13:11:12.850Z"
      },
      {
        "duration": 5,
        "start_time": "2022-11-29T13:11:12.883Z"
      },
      {
        "duration": 22,
        "start_time": "2022-11-29T13:11:12.890Z"
      },
      {
        "duration": 8,
        "start_time": "2022-11-29T13:11:12.914Z"
      },
      {
        "duration": 142,
        "start_time": "2022-11-29T13:11:12.925Z"
      },
      {
        "duration": 0,
        "start_time": "2022-11-29T13:11:13.069Z"
      },
      {
        "duration": 0,
        "start_time": "2022-11-29T13:11:13.071Z"
      },
      {
        "duration": 1467,
        "start_time": "2022-11-29T13:12:53.256Z"
      },
      {
        "duration": 402,
        "start_time": "2022-11-29T13:12:54.725Z"
      },
      {
        "duration": 36,
        "start_time": "2022-11-29T13:12:55.133Z"
      },
      {
        "duration": 6,
        "start_time": "2022-11-29T13:12:55.177Z"
      },
      {
        "duration": 121,
        "start_time": "2022-11-29T13:12:55.185Z"
      },
      {
        "duration": 328,
        "start_time": "2022-11-29T13:12:55.307Z"
      },
      {
        "duration": 392,
        "start_time": "2022-11-29T13:12:55.637Z"
      },
      {
        "duration": 422,
        "start_time": "2022-11-29T13:12:56.030Z"
      },
      {
        "duration": 63,
        "start_time": "2022-11-29T13:12:56.454Z"
      },
      {
        "duration": 37,
        "start_time": "2022-11-29T13:12:56.519Z"
      },
      {
        "duration": 68,
        "start_time": "2022-11-29T13:12:56.558Z"
      },
      {
        "duration": 69,
        "start_time": "2022-11-29T13:12:56.627Z"
      },
      {
        "duration": 62,
        "start_time": "2022-11-29T13:12:56.698Z"
      },
      {
        "duration": 76,
        "start_time": "2022-11-29T13:12:56.762Z"
      },
      {
        "duration": 14,
        "start_time": "2022-11-29T13:12:56.839Z"
      },
      {
        "duration": 43,
        "start_time": "2022-11-29T13:12:56.854Z"
      },
      {
        "duration": 5,
        "start_time": "2022-11-29T13:12:56.899Z"
      },
      {
        "duration": 5,
        "start_time": "2022-11-29T13:12:56.905Z"
      },
      {
        "duration": 9,
        "start_time": "2022-11-29T13:12:56.912Z"
      },
      {
        "duration": 65,
        "start_time": "2022-11-29T13:12:56.922Z"
      },
      {
        "duration": 116,
        "start_time": "2022-11-29T13:12:56.989Z"
      },
      {
        "duration": 198,
        "start_time": "2022-11-29T13:12:57.107Z"
      },
      {
        "duration": 434,
        "start_time": "2022-11-29T13:12:57.307Z"
      },
      {
        "duration": 14,
        "start_time": "2022-11-29T13:12:57.742Z"
      },
      {
        "duration": 21,
        "start_time": "2022-11-29T13:12:57.758Z"
      },
      {
        "duration": 4,
        "start_time": "2022-11-29T13:12:57.781Z"
      },
      {
        "duration": 9,
        "start_time": "2022-11-29T13:12:57.789Z"
      },
      {
        "duration": 1691,
        "start_time": "2022-11-29T13:12:57.803Z"
      },
      {
        "duration": 1516,
        "start_time": "2022-11-29T13:12:59.496Z"
      },
      {
        "duration": 1601,
        "start_time": "2022-11-29T13:13:01.014Z"
      },
      {
        "duration": 1464,
        "start_time": "2022-11-29T13:18:37.955Z"
      },
      {
        "duration": 425,
        "start_time": "2022-11-29T13:18:39.421Z"
      },
      {
        "duration": 46,
        "start_time": "2022-11-29T13:18:39.847Z"
      },
      {
        "duration": 5,
        "start_time": "2022-11-29T13:18:39.896Z"
      },
      {
        "duration": 122,
        "start_time": "2022-11-29T13:18:39.905Z"
      },
      {
        "duration": 328,
        "start_time": "2022-11-29T13:18:40.029Z"
      },
      {
        "duration": 365,
        "start_time": "2022-11-29T13:18:40.359Z"
      },
      {
        "duration": 503,
        "start_time": "2022-11-29T13:18:40.726Z"
      },
      {
        "duration": 48,
        "start_time": "2022-11-29T13:18:41.231Z"
      },
      {
        "duration": 45,
        "start_time": "2022-11-29T13:18:41.283Z"
      },
      {
        "duration": 67,
        "start_time": "2022-11-29T13:18:41.330Z"
      },
      {
        "duration": 65,
        "start_time": "2022-11-29T13:18:41.400Z"
      },
      {
        "duration": 80,
        "start_time": "2022-11-29T13:18:41.467Z"
      },
      {
        "duration": 81,
        "start_time": "2022-11-29T13:18:41.548Z"
      },
      {
        "duration": 15,
        "start_time": "2022-11-29T13:18:41.630Z"
      },
      {
        "duration": 40,
        "start_time": "2022-11-29T13:18:41.646Z"
      },
      {
        "duration": 4,
        "start_time": "2022-11-29T13:18:41.688Z"
      },
      {
        "duration": 10,
        "start_time": "2022-11-29T13:18:41.695Z"
      },
      {
        "duration": 7,
        "start_time": "2022-11-29T13:18:41.707Z"
      },
      {
        "duration": 76,
        "start_time": "2022-11-29T13:18:41.715Z"
      },
      {
        "duration": 115,
        "start_time": "2022-11-29T13:18:41.793Z"
      },
      {
        "duration": 199,
        "start_time": "2022-11-29T13:18:41.910Z"
      },
      {
        "duration": 431,
        "start_time": "2022-11-29T13:18:42.111Z"
      },
      {
        "duration": 14,
        "start_time": "2022-11-29T13:18:42.544Z"
      },
      {
        "duration": 21,
        "start_time": "2022-11-29T13:18:42.559Z"
      },
      {
        "duration": 13,
        "start_time": "2022-11-29T13:18:42.582Z"
      },
      {
        "duration": 8,
        "start_time": "2022-11-29T13:18:42.598Z"
      },
      {
        "duration": 1622,
        "start_time": "2022-11-29T13:18:42.609Z"
      },
      {
        "duration": 1539,
        "start_time": "2022-11-29T13:18:44.233Z"
      },
      {
        "duration": 1572,
        "start_time": "2022-11-29T13:18:45.774Z"
      },
      {
        "duration": 1468,
        "start_time": "2022-11-29T13:19:03.693Z"
      },
      {
        "duration": 396,
        "start_time": "2022-11-29T13:19:05.162Z"
      },
      {
        "duration": 47,
        "start_time": "2022-11-29T13:19:05.560Z"
      },
      {
        "duration": 3,
        "start_time": "2022-11-29T13:19:05.610Z"
      },
      {
        "duration": 118,
        "start_time": "2022-11-29T13:19:05.615Z"
      },
      {
        "duration": 357,
        "start_time": "2022-11-29T13:19:05.735Z"
      },
      {
        "duration": 330,
        "start_time": "2022-11-29T13:19:06.096Z"
      },
      {
        "duration": 408,
        "start_time": "2022-11-29T13:19:06.428Z"
      },
      {
        "duration": 56,
        "start_time": "2022-11-29T13:19:06.837Z"
      },
      {
        "duration": 42,
        "start_time": "2022-11-29T13:19:06.897Z"
      },
      {
        "duration": 75,
        "start_time": "2022-11-29T13:19:06.941Z"
      },
      {
        "duration": 100,
        "start_time": "2022-11-29T13:19:07.018Z"
      },
      {
        "duration": 91,
        "start_time": "2022-11-29T13:19:07.119Z"
      },
      {
        "duration": 76,
        "start_time": "2022-11-29T13:19:07.212Z"
      },
      {
        "duration": 20,
        "start_time": "2022-11-29T13:19:07.290Z"
      },
      {
        "duration": 32,
        "start_time": "2022-11-29T13:19:07.311Z"
      },
      {
        "duration": 3,
        "start_time": "2022-11-29T13:19:07.344Z"
      },
      {
        "duration": 24,
        "start_time": "2022-11-29T13:19:07.348Z"
      },
      {
        "duration": 26,
        "start_time": "2022-11-29T13:19:07.373Z"
      },
      {
        "duration": 48,
        "start_time": "2022-11-29T13:19:07.401Z"
      },
      {
        "duration": 121,
        "start_time": "2022-11-29T13:19:07.484Z"
      },
      {
        "duration": 180,
        "start_time": "2022-11-29T13:19:07.608Z"
      },
      {
        "duration": 462,
        "start_time": "2022-11-29T13:19:07.790Z"
      },
      {
        "duration": 30,
        "start_time": "2022-11-29T13:19:08.253Z"
      },
      {
        "duration": 7,
        "start_time": "2022-11-29T13:19:08.286Z"
      },
      {
        "duration": 30,
        "start_time": "2022-11-29T13:19:08.295Z"
      },
      {
        "duration": 10,
        "start_time": "2022-11-29T13:19:08.327Z"
      },
      {
        "duration": 1723,
        "start_time": "2022-11-29T13:19:08.340Z"
      },
      {
        "duration": 1672,
        "start_time": "2022-11-29T13:19:10.065Z"
      },
      {
        "duration": 1631,
        "start_time": "2022-11-29T13:19:11.738Z"
      },
      {
        "duration": 1603,
        "start_time": "2022-11-29T13:20:02.519Z"
      },
      {
        "duration": 418,
        "start_time": "2022-11-29T13:20:04.124Z"
      },
      {
        "duration": 57,
        "start_time": "2022-11-29T13:20:04.544Z"
      },
      {
        "duration": 3,
        "start_time": "2022-11-29T13:20:04.604Z"
      },
      {
        "duration": 118,
        "start_time": "2022-11-29T13:20:04.609Z"
      },
      {
        "duration": 373,
        "start_time": "2022-11-29T13:20:04.728Z"
      },
      {
        "duration": 338,
        "start_time": "2022-11-29T13:20:05.103Z"
      },
      {
        "duration": 460,
        "start_time": "2022-11-29T13:20:05.443Z"
      },
      {
        "duration": 45,
        "start_time": "2022-11-29T13:20:05.905Z"
      },
      {
        "duration": 76,
        "start_time": "2022-11-29T13:20:05.952Z"
      },
      {
        "duration": 52,
        "start_time": "2022-11-29T13:20:06.029Z"
      },
      {
        "duration": 72,
        "start_time": "2022-11-29T13:20:06.083Z"
      },
      {
        "duration": 89,
        "start_time": "2022-11-29T13:20:06.157Z"
      },
      {
        "duration": 81,
        "start_time": "2022-11-29T13:20:06.248Z"
      },
      {
        "duration": 15,
        "start_time": "2022-11-29T13:20:06.330Z"
      },
      {
        "duration": 38,
        "start_time": "2022-11-29T13:20:06.346Z"
      },
      {
        "duration": 3,
        "start_time": "2022-11-29T13:20:06.386Z"
      },
      {
        "duration": 10,
        "start_time": "2022-11-29T13:20:06.391Z"
      },
      {
        "duration": 5,
        "start_time": "2022-11-29T13:20:06.403Z"
      },
      {
        "duration": 73,
        "start_time": "2022-11-29T13:20:06.410Z"
      },
      {
        "duration": 133,
        "start_time": "2022-11-29T13:20:06.485Z"
      },
      {
        "duration": 204,
        "start_time": "2022-11-29T13:20:06.680Z"
      },
      {
        "duration": 367,
        "start_time": "2022-11-29T13:20:06.886Z"
      },
      {
        "duration": 24,
        "start_time": "2022-11-29T13:20:07.255Z"
      },
      {
        "duration": 5,
        "start_time": "2022-11-29T13:20:07.281Z"
      },
      {
        "duration": 13,
        "start_time": "2022-11-29T13:20:07.288Z"
      },
      {
        "duration": 9,
        "start_time": "2022-11-29T13:20:07.302Z"
      },
      {
        "duration": 1563,
        "start_time": "2022-11-29T13:20:07.314Z"
      },
      {
        "duration": 1536,
        "start_time": "2022-11-29T13:20:08.879Z"
      },
      {
        "duration": 1507,
        "start_time": "2022-11-29T13:20:10.416Z"
      },
      {
        "duration": 2489,
        "start_time": "2022-11-29T18:04:32.592Z"
      },
      {
        "duration": 1727,
        "start_time": "2022-11-29T18:04:35.083Z"
      },
      {
        "duration": 36,
        "start_time": "2022-11-29T18:04:36.812Z"
      },
      {
        "duration": 6,
        "start_time": "2022-11-29T18:04:38.463Z"
      },
      {
        "duration": 92,
        "start_time": "2022-11-29T18:04:39.617Z"
      },
      {
        "duration": 346,
        "start_time": "2022-11-29T18:04:40.580Z"
      },
      {
        "duration": 356,
        "start_time": "2022-11-29T18:04:42.080Z"
      },
      {
        "duration": 461,
        "start_time": "2022-11-29T18:04:43.051Z"
      },
      {
        "duration": 50,
        "start_time": "2022-11-29T18:04:45.995Z"
      },
      {
        "duration": 41,
        "start_time": "2022-11-29T18:04:46.740Z"
      },
      {
        "duration": 60,
        "start_time": "2022-11-29T18:04:47.404Z"
      },
      {
        "duration": 75,
        "start_time": "2022-11-29T18:04:48.424Z"
      },
      {
        "duration": 65,
        "start_time": "2022-11-29T18:04:49.642Z"
      },
      {
        "duration": 67,
        "start_time": "2022-11-29T18:04:50.442Z"
      },
      {
        "duration": 18,
        "start_time": "2022-11-29T18:04:51.649Z"
      },
      {
        "duration": 1013,
        "start_time": "2022-11-29T18:04:59.144Z"
      },
      {
        "duration": 137,
        "start_time": "2022-11-29T18:05:11.205Z"
      },
      {
        "duration": 1661,
        "start_time": "2022-11-30T14:16:10.748Z"
      },
      {
        "duration": 693,
        "start_time": "2022-11-30T14:16:12.411Z"
      },
      {
        "duration": 39,
        "start_time": "2022-11-30T14:16:13.106Z"
      },
      {
        "duration": 4,
        "start_time": "2022-11-30T14:16:13.148Z"
      },
      {
        "duration": 122,
        "start_time": "2022-11-30T14:16:13.154Z"
      },
      {
        "duration": 406,
        "start_time": "2022-11-30T14:16:13.278Z"
      },
      {
        "duration": 386,
        "start_time": "2022-11-30T14:16:13.685Z"
      },
      {
        "duration": 486,
        "start_time": "2022-11-30T14:16:14.073Z"
      },
      {
        "duration": 65,
        "start_time": "2022-11-30T14:16:14.561Z"
      },
      {
        "duration": 47,
        "start_time": "2022-11-30T14:16:14.629Z"
      },
      {
        "duration": 70,
        "start_time": "2022-11-30T14:16:14.677Z"
      },
      {
        "duration": 104,
        "start_time": "2022-11-30T14:16:14.748Z"
      },
      {
        "duration": 102,
        "start_time": "2022-11-30T14:16:14.855Z"
      },
      {
        "duration": 92,
        "start_time": "2022-11-30T14:16:14.959Z"
      },
      {
        "duration": 45,
        "start_time": "2022-11-30T14:16:15.052Z"
      },
      {
        "duration": 37,
        "start_time": "2022-11-30T14:16:15.099Z"
      },
      {
        "duration": 4,
        "start_time": "2022-11-30T14:16:15.139Z"
      },
      {
        "duration": 8,
        "start_time": "2022-11-30T14:16:15.145Z"
      },
      {
        "duration": 11,
        "start_time": "2022-11-30T14:16:15.155Z"
      },
      {
        "duration": 146,
        "start_time": "2022-11-30T14:16:15.168Z"
      },
      {
        "duration": 124,
        "start_time": "2022-11-30T14:16:15.316Z"
      },
      {
        "duration": 182,
        "start_time": "2022-11-30T14:16:15.443Z"
      },
      {
        "duration": 471,
        "start_time": "2022-11-30T14:16:15.627Z"
      },
      {
        "duration": 28,
        "start_time": "2022-11-30T14:16:16.100Z"
      },
      {
        "duration": 5,
        "start_time": "2022-11-30T14:16:16.129Z"
      },
      {
        "duration": 13,
        "start_time": "2022-11-30T14:16:16.136Z"
      },
      {
        "duration": 10,
        "start_time": "2022-11-30T14:16:16.151Z"
      },
      {
        "duration": 1876,
        "start_time": "2022-11-30T14:16:16.164Z"
      },
      {
        "duration": 1819,
        "start_time": "2022-11-30T14:16:18.042Z"
      },
      {
        "duration": 1738,
        "start_time": "2022-11-30T14:16:19.862Z"
      },
      {
        "duration": 1426,
        "start_time": "2022-11-30T14:22:00.419Z"
      },
      {
        "duration": 402,
        "start_time": "2022-11-30T14:22:01.847Z"
      },
      {
        "duration": 37,
        "start_time": "2022-11-30T14:22:02.250Z"
      },
      {
        "duration": 4,
        "start_time": "2022-11-30T14:22:02.289Z"
      },
      {
        "duration": 121,
        "start_time": "2022-11-30T14:22:02.313Z"
      },
      {
        "duration": 474,
        "start_time": "2022-11-30T14:22:02.436Z"
      },
      {
        "duration": 0,
        "start_time": "2022-11-30T14:22:02.912Z"
      },
      {
        "duration": 0,
        "start_time": "2022-11-30T14:22:02.913Z"
      },
      {
        "duration": 0,
        "start_time": "2022-11-30T14:22:02.914Z"
      },
      {
        "duration": 0,
        "start_time": "2022-11-30T14:22:02.915Z"
      },
      {
        "duration": 0,
        "start_time": "2022-11-30T14:22:02.916Z"
      },
      {
        "duration": 0,
        "start_time": "2022-11-30T14:22:02.917Z"
      },
      {
        "duration": 0,
        "start_time": "2022-11-30T14:22:02.918Z"
      },
      {
        "duration": 0,
        "start_time": "2022-11-30T14:22:02.919Z"
      },
      {
        "duration": 0,
        "start_time": "2022-11-30T14:22:02.920Z"
      },
      {
        "duration": 0,
        "start_time": "2022-11-30T14:22:02.921Z"
      },
      {
        "duration": 0,
        "start_time": "2022-11-30T14:22:02.922Z"
      },
      {
        "duration": 0,
        "start_time": "2022-11-30T14:22:02.923Z"
      },
      {
        "duration": 0,
        "start_time": "2022-11-30T14:22:02.924Z"
      },
      {
        "duration": 0,
        "start_time": "2022-11-30T14:22:02.925Z"
      },
      {
        "duration": 0,
        "start_time": "2022-11-30T14:22:02.926Z"
      },
      {
        "duration": 0,
        "start_time": "2022-11-30T14:22:02.927Z"
      },
      {
        "duration": 0,
        "start_time": "2022-11-30T14:22:02.928Z"
      },
      {
        "duration": 0,
        "start_time": "2022-11-30T14:22:02.930Z"
      },
      {
        "duration": 0,
        "start_time": "2022-11-30T14:22:02.931Z"
      },
      {
        "duration": 0,
        "start_time": "2022-11-30T14:22:02.932Z"
      },
      {
        "duration": 0,
        "start_time": "2022-11-30T14:22:02.932Z"
      },
      {
        "duration": 0,
        "start_time": "2022-11-30T14:22:02.933Z"
      },
      {
        "duration": 0,
        "start_time": "2022-11-30T14:22:02.934Z"
      },
      {
        "duration": 0,
        "start_time": "2022-11-30T14:22:02.935Z"
      },
      {
        "duration": 1439,
        "start_time": "2022-11-30T14:22:36.933Z"
      },
      {
        "duration": 408,
        "start_time": "2022-11-30T14:22:38.374Z"
      },
      {
        "duration": 45,
        "start_time": "2022-11-30T14:22:38.784Z"
      },
      {
        "duration": 4,
        "start_time": "2022-11-30T14:22:38.832Z"
      },
      {
        "duration": 125,
        "start_time": "2022-11-30T14:22:38.838Z"
      },
      {
        "duration": 506,
        "start_time": "2022-11-30T14:22:38.965Z"
      },
      {
        "duration": 0,
        "start_time": "2022-11-30T14:22:39.475Z"
      },
      {
        "duration": 0,
        "start_time": "2022-11-30T14:22:39.476Z"
      },
      {
        "duration": 0,
        "start_time": "2022-11-30T14:22:39.477Z"
      },
      {
        "duration": 0,
        "start_time": "2022-11-30T14:22:39.479Z"
      },
      {
        "duration": 0,
        "start_time": "2022-11-30T14:22:39.480Z"
      },
      {
        "duration": 0,
        "start_time": "2022-11-30T14:22:39.481Z"
      },
      {
        "duration": 0,
        "start_time": "2022-11-30T14:22:39.482Z"
      },
      {
        "duration": 0,
        "start_time": "2022-11-30T14:22:39.483Z"
      },
      {
        "duration": 0,
        "start_time": "2022-11-30T14:22:39.484Z"
      },
      {
        "duration": 0,
        "start_time": "2022-11-30T14:22:39.485Z"
      },
      {
        "duration": 0,
        "start_time": "2022-11-30T14:22:39.487Z"
      },
      {
        "duration": 0,
        "start_time": "2022-11-30T14:22:39.513Z"
      },
      {
        "duration": 0,
        "start_time": "2022-11-30T14:22:39.515Z"
      },
      {
        "duration": 0,
        "start_time": "2022-11-30T14:22:39.516Z"
      },
      {
        "duration": 0,
        "start_time": "2022-11-30T14:22:39.517Z"
      },
      {
        "duration": 0,
        "start_time": "2022-11-30T14:22:39.518Z"
      },
      {
        "duration": 0,
        "start_time": "2022-11-30T14:22:39.519Z"
      },
      {
        "duration": 0,
        "start_time": "2022-11-30T14:22:39.520Z"
      },
      {
        "duration": 0,
        "start_time": "2022-11-30T14:22:39.521Z"
      },
      {
        "duration": 0,
        "start_time": "2022-11-30T14:22:39.522Z"
      },
      {
        "duration": 0,
        "start_time": "2022-11-30T14:22:39.524Z"
      },
      {
        "duration": 0,
        "start_time": "2022-11-30T14:22:39.525Z"
      },
      {
        "duration": 0,
        "start_time": "2022-11-30T14:22:39.526Z"
      },
      {
        "duration": 0,
        "start_time": "2022-11-30T14:22:39.527Z"
      },
      {
        "duration": 170,
        "start_time": "2022-11-30T14:27:24.314Z"
      },
      {
        "duration": 150,
        "start_time": "2022-11-30T14:28:00.385Z"
      },
      {
        "duration": 228,
        "start_time": "2022-11-30T14:28:38.701Z"
      },
      {
        "duration": 6,
        "start_time": "2022-11-30T14:32:41.814Z"
      },
      {
        "duration": 363,
        "start_time": "2022-11-30T14:32:54.986Z"
      },
      {
        "duration": 5,
        "start_time": "2022-11-30T14:33:37.900Z"
      },
      {
        "duration": 319,
        "start_time": "2022-11-30T14:33:39.467Z"
      },
      {
        "duration": 5,
        "start_time": "2022-11-30T14:34:41.027Z"
      },
      {
        "duration": 406,
        "start_time": "2022-11-30T14:34:42.043Z"
      },
      {
        "duration": 6,
        "start_time": "2022-11-30T14:35:14.341Z"
      },
      {
        "duration": 430,
        "start_time": "2022-11-30T14:35:15.172Z"
      },
      {
        "duration": 6,
        "start_time": "2022-11-30T14:35:46.044Z"
      },
      {
        "duration": 25,
        "start_time": "2022-11-30T14:35:46.568Z"
      },
      {
        "duration": 6,
        "start_time": "2022-11-30T14:36:12.032Z"
      },
      {
        "duration": 24,
        "start_time": "2022-11-30T14:36:12.490Z"
      },
      {
        "duration": 7,
        "start_time": "2022-11-30T14:37:57.056Z"
      },
      {
        "duration": 24,
        "start_time": "2022-11-30T14:37:57.492Z"
      },
      {
        "duration": 8,
        "start_time": "2022-11-30T14:38:06.777Z"
      },
      {
        "duration": 772,
        "start_time": "2022-11-30T14:38:08.717Z"
      },
      {
        "duration": 1519,
        "start_time": "2022-11-30T14:38:29.073Z"
      },
      {
        "duration": 421,
        "start_time": "2022-11-30T14:38:30.594Z"
      },
      {
        "duration": 39,
        "start_time": "2022-11-30T14:38:31.017Z"
      },
      {
        "duration": 10,
        "start_time": "2022-11-30T14:38:31.058Z"
      },
      {
        "duration": 126,
        "start_time": "2022-11-30T14:38:31.070Z"
      },
      {
        "duration": 164,
        "start_time": "2022-11-30T14:38:31.198Z"
      },
      {
        "duration": 6,
        "start_time": "2022-11-30T14:38:31.363Z"
      },
      {
        "duration": 670,
        "start_time": "2022-11-30T14:38:31.371Z"
      },
      {
        "duration": 617,
        "start_time": "2022-11-30T14:38:32.043Z"
      },
      {
        "duration": 733,
        "start_time": "2022-11-30T14:38:32.663Z"
      },
      {
        "duration": 54,
        "start_time": "2022-11-30T14:38:33.398Z"
      },
      {
        "duration": 59,
        "start_time": "2022-11-30T14:38:33.454Z"
      },
      {
        "duration": 50,
        "start_time": "2022-11-30T14:38:33.515Z"
      },
      {
        "duration": 101,
        "start_time": "2022-11-30T14:38:33.567Z"
      },
      {
        "duration": 97,
        "start_time": "2022-11-30T14:38:33.670Z"
      },
      {
        "duration": 96,
        "start_time": "2022-11-30T14:38:33.769Z"
      },
      {
        "duration": 18,
        "start_time": "2022-11-30T14:38:33.867Z"
      },
      {
        "duration": 46,
        "start_time": "2022-11-30T14:38:33.887Z"
      },
      {
        "duration": 4,
        "start_time": "2022-11-30T14:38:33.935Z"
      },
      {
        "duration": 35,
        "start_time": "2022-11-30T14:38:33.941Z"
      },
      {
        "duration": 36,
        "start_time": "2022-11-30T14:38:33.979Z"
      },
      {
        "duration": 63,
        "start_time": "2022-11-30T14:38:34.017Z"
      },
      {
        "duration": 126,
        "start_time": "2022-11-30T14:38:34.111Z"
      },
      {
        "duration": 125,
        "start_time": "2022-11-30T14:38:34.312Z"
      },
      {
        "duration": 465,
        "start_time": "2022-11-30T14:38:34.441Z"
      },
      {
        "duration": 18,
        "start_time": "2022-11-30T14:38:34.912Z"
      },
      {
        "duration": 8,
        "start_time": "2022-11-30T14:38:34.932Z"
      },
      {
        "duration": 56,
        "start_time": "2022-11-30T14:38:34.944Z"
      },
      {
        "duration": 22,
        "start_time": "2022-11-30T14:38:35.002Z"
      },
      {
        "duration": 1823,
        "start_time": "2022-11-30T14:38:35.026Z"
      },
      {
        "duration": 1712,
        "start_time": "2022-11-30T14:38:36.852Z"
      },
      {
        "duration": 1715,
        "start_time": "2022-11-30T14:38:38.565Z"
      },
      {
        "duration": 1492,
        "start_time": "2022-11-30T14:38:58.519Z"
      },
      {
        "duration": 425,
        "start_time": "2022-11-30T14:39:00.013Z"
      },
      {
        "duration": 39,
        "start_time": "2022-11-30T14:39:00.440Z"
      },
      {
        "duration": 31,
        "start_time": "2022-11-30T14:39:00.482Z"
      },
      {
        "duration": 145,
        "start_time": "2022-11-30T14:39:00.514Z"
      },
      {
        "duration": 7,
        "start_time": "2022-11-30T14:39:00.661Z"
      },
      {
        "duration": 695,
        "start_time": "2022-11-30T14:39:00.670Z"
      },
      {
        "duration": 649,
        "start_time": "2022-11-30T14:39:01.367Z"
      },
      {
        "duration": 750,
        "start_time": "2022-11-30T14:39:02.018Z"
      },
      {
        "duration": 65,
        "start_time": "2022-11-30T14:39:02.771Z"
      },
      {
        "duration": 52,
        "start_time": "2022-11-30T14:39:02.838Z"
      },
      {
        "duration": 69,
        "start_time": "2022-11-30T14:39:02.892Z"
      },
      {
        "duration": 107,
        "start_time": "2022-11-30T14:39:02.963Z"
      },
      {
        "duration": 105,
        "start_time": "2022-11-30T14:39:03.072Z"
      },
      {
        "duration": 105,
        "start_time": "2022-11-30T14:39:03.179Z"
      },
      {
        "duration": 32,
        "start_time": "2022-11-30T14:39:03.286Z"
      },
      {
        "duration": 31,
        "start_time": "2022-11-30T14:39:03.320Z"
      },
      {
        "duration": 4,
        "start_time": "2022-11-30T14:39:03.353Z"
      },
      {
        "duration": 7,
        "start_time": "2022-11-30T14:39:03.358Z"
      },
      {
        "duration": 6,
        "start_time": "2022-11-30T14:39:03.367Z"
      },
      {
        "duration": 56,
        "start_time": "2022-11-30T14:39:03.375Z"
      },
      {
        "duration": 200,
        "start_time": "2022-11-30T14:39:03.433Z"
      },
      {
        "duration": 199,
        "start_time": "2022-11-30T14:39:03.637Z"
      },
      {
        "duration": 450,
        "start_time": "2022-11-30T14:39:03.839Z"
      },
      {
        "duration": 27,
        "start_time": "2022-11-30T14:39:04.291Z"
      },
      {
        "duration": 5,
        "start_time": "2022-11-30T14:39:04.321Z"
      },
      {
        "duration": 13,
        "start_time": "2022-11-30T14:39:04.328Z"
      },
      {
        "duration": 14,
        "start_time": "2022-11-30T14:39:04.345Z"
      },
      {
        "duration": 1764,
        "start_time": "2022-11-30T14:39:04.361Z"
      },
      {
        "duration": 1813,
        "start_time": "2022-11-30T14:39:06.127Z"
      },
      {
        "duration": 1738,
        "start_time": "2022-11-30T14:39:07.943Z"
      },
      {
        "duration": 637,
        "start_time": "2022-11-30T14:39:27.992Z"
      },
      {
        "duration": 723,
        "start_time": "2022-11-30T14:39:36.116Z"
      },
      {
        "duration": 1494,
        "start_time": "2022-11-30T14:39:47.172Z"
      },
      {
        "duration": 418,
        "start_time": "2022-11-30T14:39:48.668Z"
      },
      {
        "duration": 53,
        "start_time": "2022-11-30T14:39:49.088Z"
      },
      {
        "duration": 4,
        "start_time": "2022-11-30T14:39:49.144Z"
      },
      {
        "duration": 129,
        "start_time": "2022-11-30T14:39:49.150Z"
      },
      {
        "duration": 7,
        "start_time": "2022-11-30T14:39:49.281Z"
      },
      {
        "duration": 697,
        "start_time": "2022-11-30T14:39:49.290Z"
      },
      {
        "duration": 684,
        "start_time": "2022-11-30T14:39:49.989Z"
      },
      {
        "duration": 718,
        "start_time": "2022-11-30T14:39:50.675Z"
      },
      {
        "duration": 52,
        "start_time": "2022-11-30T14:39:51.396Z"
      },
      {
        "duration": 63,
        "start_time": "2022-11-30T14:39:51.449Z"
      },
      {
        "duration": 52,
        "start_time": "2022-11-30T14:39:51.514Z"
      },
      {
        "duration": 95,
        "start_time": "2022-11-30T14:39:51.568Z"
      },
      {
        "duration": 97,
        "start_time": "2022-11-30T14:39:51.665Z"
      },
      {
        "duration": 98,
        "start_time": "2022-11-30T14:39:51.764Z"
      },
      {
        "duration": 17,
        "start_time": "2022-11-30T14:39:51.864Z"
      },
      {
        "duration": 46,
        "start_time": "2022-11-30T14:39:51.883Z"
      },
      {
        "duration": 3,
        "start_time": "2022-11-30T14:39:51.931Z"
      },
      {
        "duration": 7,
        "start_time": "2022-11-30T14:39:51.936Z"
      },
      {
        "duration": 6,
        "start_time": "2022-11-30T14:39:51.945Z"
      },
      {
        "duration": 62,
        "start_time": "2022-11-30T14:39:51.953Z"
      },
      {
        "duration": 126,
        "start_time": "2022-11-30T14:39:52.016Z"
      },
      {
        "duration": 191,
        "start_time": "2022-11-30T14:39:52.144Z"
      },
      {
        "duration": 445,
        "start_time": "2022-11-30T14:39:52.337Z"
      },
      {
        "duration": 15,
        "start_time": "2022-11-30T14:39:52.784Z"
      },
      {
        "duration": 4,
        "start_time": "2022-11-30T14:39:52.812Z"
      },
      {
        "duration": 10,
        "start_time": "2022-11-30T14:39:52.817Z"
      },
      {
        "duration": 7,
        "start_time": "2022-11-30T14:39:52.829Z"
      },
      {
        "duration": 1749,
        "start_time": "2022-11-30T14:39:52.838Z"
      },
      {
        "duration": 1711,
        "start_time": "2022-11-30T14:39:54.589Z"
      },
      {
        "duration": 1734,
        "start_time": "2022-11-30T14:39:56.301Z"
      },
      {
        "duration": 1566,
        "start_time": "2022-11-30T14:43:39.701Z"
      },
      {
        "duration": 413,
        "start_time": "2022-11-30T14:43:41.270Z"
      },
      {
        "duration": 55,
        "start_time": "2022-11-30T14:43:41.685Z"
      },
      {
        "duration": 4,
        "start_time": "2022-11-30T14:43:41.743Z"
      },
      {
        "duration": 132,
        "start_time": "2022-11-30T14:43:41.749Z"
      },
      {
        "duration": 6,
        "start_time": "2022-11-30T14:43:41.883Z"
      },
      {
        "duration": 677,
        "start_time": "2022-11-30T14:43:41.891Z"
      },
      {
        "duration": 634,
        "start_time": "2022-11-30T14:43:42.570Z"
      },
      {
        "duration": 756,
        "start_time": "2022-11-30T14:43:43.205Z"
      },
      {
        "duration": 56,
        "start_time": "2022-11-30T14:43:43.964Z"
      },
      {
        "duration": 45,
        "start_time": "2022-11-30T14:43:44.022Z"
      },
      {
        "duration": 66,
        "start_time": "2022-11-30T14:43:44.068Z"
      },
      {
        "duration": 90,
        "start_time": "2022-11-30T14:43:44.136Z"
      },
      {
        "duration": 86,
        "start_time": "2022-11-30T14:43:44.227Z"
      },
      {
        "duration": 77,
        "start_time": "2022-11-30T14:43:44.315Z"
      },
      {
        "duration": 29,
        "start_time": "2022-11-30T14:43:44.394Z"
      },
      {
        "duration": 31,
        "start_time": "2022-11-30T14:43:44.425Z"
      },
      {
        "duration": 3,
        "start_time": "2022-11-30T14:43:44.458Z"
      },
      {
        "duration": 8,
        "start_time": "2022-11-30T14:43:44.462Z"
      },
      {
        "duration": 6,
        "start_time": "2022-11-30T14:43:44.472Z"
      },
      {
        "duration": 55,
        "start_time": "2022-11-30T14:43:44.480Z"
      },
      {
        "duration": 197,
        "start_time": "2022-11-30T14:43:44.538Z"
      },
      {
        "duration": 273,
        "start_time": "2022-11-30T14:43:44.738Z"
      },
      {
        "duration": 369,
        "start_time": "2022-11-30T14:43:45.018Z"
      },
      {
        "duration": 25,
        "start_time": "2022-11-30T14:43:45.389Z"
      },
      {
        "duration": 3,
        "start_time": "2022-11-30T14:43:45.416Z"
      },
      {
        "duration": 7,
        "start_time": "2022-11-30T14:43:45.421Z"
      },
      {
        "duration": 5,
        "start_time": "2022-11-30T14:43:45.431Z"
      },
      {
        "duration": 1778,
        "start_time": "2022-11-30T14:43:45.438Z"
      },
      {
        "duration": 1684,
        "start_time": "2022-11-30T14:43:47.218Z"
      },
      {
        "duration": 1677,
        "start_time": "2022-11-30T14:43:48.904Z"
      },
      {
        "duration": 1477,
        "start_time": "2022-11-30T14:45:13.688Z"
      },
      {
        "duration": 408,
        "start_time": "2022-11-30T14:45:15.167Z"
      },
      {
        "duration": 48,
        "start_time": "2022-11-30T14:45:15.576Z"
      },
      {
        "duration": 4,
        "start_time": "2022-11-30T14:45:15.626Z"
      },
      {
        "duration": 123,
        "start_time": "2022-11-30T14:45:15.632Z"
      },
      {
        "duration": 7,
        "start_time": "2022-11-30T14:45:15.756Z"
      },
      {
        "duration": 648,
        "start_time": "2022-11-30T14:45:15.764Z"
      },
      {
        "duration": 705,
        "start_time": "2022-11-30T14:45:16.414Z"
      },
      {
        "duration": 750,
        "start_time": "2022-11-30T14:45:17.121Z"
      },
      {
        "duration": 59,
        "start_time": "2022-11-30T14:45:17.872Z"
      },
      {
        "duration": 49,
        "start_time": "2022-11-30T14:45:17.933Z"
      },
      {
        "duration": 66,
        "start_time": "2022-11-30T14:45:17.984Z"
      },
      {
        "duration": 81,
        "start_time": "2022-11-30T14:45:18.051Z"
      },
      {
        "duration": 92,
        "start_time": "2022-11-30T14:45:18.135Z"
      },
      {
        "duration": 86,
        "start_time": "2022-11-30T14:45:18.229Z"
      },
      {
        "duration": 15,
        "start_time": "2022-11-30T14:45:18.317Z"
      },
      {
        "duration": 31,
        "start_time": "2022-11-30T14:45:18.334Z"
      },
      {
        "duration": 2,
        "start_time": "2022-11-30T14:45:18.367Z"
      },
      {
        "duration": 6,
        "start_time": "2022-11-30T14:45:18.371Z"
      },
      {
        "duration": 9,
        "start_time": "2022-11-30T14:45:18.378Z"
      },
      {
        "duration": 58,
        "start_time": "2022-11-30T14:45:18.388Z"
      },
      {
        "duration": 188,
        "start_time": "2022-11-30T14:45:18.448Z"
      },
      {
        "duration": 191,
        "start_time": "2022-11-30T14:45:18.639Z"
      },
      {
        "duration": 457,
        "start_time": "2022-11-30T14:45:18.832Z"
      },
      {
        "duration": 31,
        "start_time": "2022-11-30T14:45:19.291Z"
      },
      {
        "duration": 5,
        "start_time": "2022-11-30T14:45:19.324Z"
      },
      {
        "duration": 10,
        "start_time": "2022-11-30T14:45:19.332Z"
      },
      {
        "duration": 7,
        "start_time": "2022-11-30T14:45:19.344Z"
      },
      {
        "duration": 1729,
        "start_time": "2022-11-30T14:45:19.352Z"
      },
      {
        "duration": 1697,
        "start_time": "2022-11-30T14:45:21.083Z"
      },
      {
        "duration": 1763,
        "start_time": "2022-11-30T14:45:22.782Z"
      },
      {
        "duration": 6,
        "start_time": "2022-11-30T14:46:01.799Z"
      },
      {
        "duration": 658,
        "start_time": "2022-11-30T14:46:02.300Z"
      },
      {
        "duration": 5,
        "start_time": "2022-11-30T14:46:18.583Z"
      },
      {
        "duration": 664,
        "start_time": "2022-11-30T14:46:18.998Z"
      },
      {
        "duration": 7,
        "start_time": "2022-11-30T14:47:00.908Z"
      },
      {
        "duration": 638,
        "start_time": "2022-11-30T14:47:01.327Z"
      },
      {
        "duration": 1433,
        "start_time": "2022-11-30T14:47:52.097Z"
      },
      {
        "duration": 433,
        "start_time": "2022-11-30T14:47:53.532Z"
      },
      {
        "duration": 50,
        "start_time": "2022-11-30T14:47:53.967Z"
      },
      {
        "duration": 4,
        "start_time": "2022-11-30T14:47:54.019Z"
      },
      {
        "duration": 123,
        "start_time": "2022-11-30T14:47:54.025Z"
      },
      {
        "duration": 7,
        "start_time": "2022-11-30T14:47:54.149Z"
      },
      {
        "duration": 678,
        "start_time": "2022-11-30T14:47:54.158Z"
      },
      {
        "duration": 635,
        "start_time": "2022-11-30T14:47:54.839Z"
      },
      {
        "duration": 725,
        "start_time": "2022-11-30T14:47:55.476Z"
      },
      {
        "duration": 58,
        "start_time": "2022-11-30T14:47:56.205Z"
      },
      {
        "duration": 62,
        "start_time": "2022-11-30T14:47:56.265Z"
      },
      {
        "duration": 51,
        "start_time": "2022-11-30T14:47:56.329Z"
      },
      {
        "duration": 93,
        "start_time": "2022-11-30T14:47:56.382Z"
      },
      {
        "duration": 84,
        "start_time": "2022-11-30T14:47:56.477Z"
      },
      {
        "duration": 100,
        "start_time": "2022-11-30T14:47:56.562Z"
      },
      {
        "duration": 19,
        "start_time": "2022-11-30T14:47:56.665Z"
      },
      {
        "duration": 46,
        "start_time": "2022-11-30T14:47:56.687Z"
      },
      {
        "duration": 3,
        "start_time": "2022-11-30T14:47:56.735Z"
      },
      {
        "duration": 7,
        "start_time": "2022-11-30T14:47:56.740Z"
      },
      {
        "duration": 9,
        "start_time": "2022-11-30T14:47:56.749Z"
      },
      {
        "duration": 54,
        "start_time": "2022-11-30T14:47:56.760Z"
      },
      {
        "duration": 213,
        "start_time": "2022-11-30T14:47:56.817Z"
      },
      {
        "duration": 211,
        "start_time": "2022-11-30T14:47:57.032Z"
      },
      {
        "duration": 361,
        "start_time": "2022-11-30T14:47:57.313Z"
      },
      {
        "duration": 16,
        "start_time": "2022-11-30T14:47:57.675Z"
      },
      {
        "duration": 25,
        "start_time": "2022-11-30T14:47:57.693Z"
      },
      {
        "duration": 13,
        "start_time": "2022-11-30T14:47:57.720Z"
      },
      {
        "duration": 6,
        "start_time": "2022-11-30T14:47:57.738Z"
      },
      {
        "duration": 1779,
        "start_time": "2022-11-30T14:47:57.746Z"
      },
      {
        "duration": 1680,
        "start_time": "2022-11-30T14:47:59.526Z"
      },
      {
        "duration": 1682,
        "start_time": "2022-11-30T14:48:01.207Z"
      },
      {
        "duration": 1499,
        "start_time": "2022-11-30T14:50:10.292Z"
      },
      {
        "duration": 429,
        "start_time": "2022-11-30T14:50:11.793Z"
      },
      {
        "duration": 40,
        "start_time": "2022-11-30T14:50:12.224Z"
      },
      {
        "duration": 4,
        "start_time": "2022-11-30T14:50:12.266Z"
      },
      {
        "duration": 140,
        "start_time": "2022-11-30T14:50:12.273Z"
      },
      {
        "duration": 6,
        "start_time": "2022-11-30T14:50:12.415Z"
      },
      {
        "duration": 681,
        "start_time": "2022-11-30T14:50:12.423Z"
      },
      {
        "duration": 680,
        "start_time": "2022-11-30T14:50:13.106Z"
      },
      {
        "duration": 753,
        "start_time": "2022-11-30T14:50:13.788Z"
      },
      {
        "duration": 52,
        "start_time": "2022-11-30T14:50:14.543Z"
      },
      {
        "duration": 64,
        "start_time": "2022-11-30T14:50:14.597Z"
      },
      {
        "duration": 71,
        "start_time": "2022-11-30T14:50:14.662Z"
      },
      {
        "duration": 99,
        "start_time": "2022-11-30T14:50:14.735Z"
      },
      {
        "duration": 104,
        "start_time": "2022-11-30T14:50:14.838Z"
      },
      {
        "duration": 89,
        "start_time": "2022-11-30T14:50:14.944Z"
      },
      {
        "duration": 16,
        "start_time": "2022-11-30T14:50:15.034Z"
      },
      {
        "duration": 27,
        "start_time": "2022-11-30T14:50:15.052Z"
      },
      {
        "duration": 3,
        "start_time": "2022-11-30T14:50:15.081Z"
      },
      {
        "duration": 17,
        "start_time": "2022-11-30T14:50:15.085Z"
      },
      {
        "duration": 13,
        "start_time": "2022-11-30T14:50:15.111Z"
      },
      {
        "duration": 89,
        "start_time": "2022-11-30T14:50:15.125Z"
      },
      {
        "duration": 198,
        "start_time": "2022-11-30T14:50:15.216Z"
      },
      {
        "duration": 196,
        "start_time": "2022-11-30T14:50:15.416Z"
      },
      {
        "duration": 367,
        "start_time": "2022-11-30T14:50:15.614Z"
      },
      {
        "duration": 30,
        "start_time": "2022-11-30T14:50:15.983Z"
      },
      {
        "duration": 4,
        "start_time": "2022-11-30T14:50:16.015Z"
      },
      {
        "duration": 9,
        "start_time": "2022-11-30T14:50:16.021Z"
      },
      {
        "duration": 11,
        "start_time": "2022-11-30T14:50:16.032Z"
      },
      {
        "duration": 1797,
        "start_time": "2022-11-30T14:50:16.045Z"
      },
      {
        "duration": 1718,
        "start_time": "2022-11-30T14:50:17.844Z"
      },
      {
        "duration": 1688,
        "start_time": "2022-11-30T14:50:19.564Z"
      }
    ],
    "kernelspec": {
      "name": "python",
      "display_name": "Python (Pyodide)",
      "language": "python"
    },
    "language_info": {
      "codemirror_mode": {
        "name": "python",
        "version": 3
      },
      "file_extension": ".py",
      "mimetype": "text/x-python",
      "name": "python",
      "nbconvert_exporter": "python",
      "pygments_lexer": "ipython3",
      "version": "3.8"
    },
    "toc": {
      "base_numbering": 1,
      "nav_menu": {},
      "number_sections": true,
      "sideBar": true,
      "skip_h1_title": true,
      "title_cell": "Table of Contents",
      "title_sidebar": "Contents",
      "toc_cell": false,
      "toc_position": {},
      "toc_section_display": true,
      "toc_window_display": false
    }
  },
  "nbformat_minor": 4,
  "nbformat": 4,
  "cells": [
    {
      "cell_type": "markdown",
      "source": "# Выбор локации для скважины",
      "metadata": {}
    },
    {
      "cell_type": "markdown",
      "source": "Допустим, вы работаете в добывающей компании «ГлавРосГосНефть». Нужно решить, где бурить новую скважину.\n\nВам предоставлены пробы нефти в трёх регионах: в каждом 10 000 месторождений, где измерили качество нефти и объём её запасов. Постройте модель машинного обучения, которая поможет определить регион, где добыча принесёт наибольшую прибыль. Проанализируйте возможную прибыль и риски техникой *Bootstrap.*\n\nШаги для выбора локации:\n\n- В избранном регионе ищут месторождения, для каждого определяют значения признаков;\n- Строят модель и оценивают объём запасов;\n- Выбирают месторождения с самым высокими оценками значений. Количество месторождений зависит от бюджета компании и стоимости разработки одной скважины;\n- Прибыль равна суммарной прибыли отобранных месторождений.",
      "metadata": {}
    },
    {
      "cell_type": "markdown",
      "source": "## Загрузка и подготовка данных",
      "metadata": {}
    },
    {
      "cell_type": "markdown",
      "source": "### Импортируем необходимые библиотеки, а также изучим данные",
      "metadata": {}
    },
    {
      "cell_type": "code",
      "source": "import pandas as pd\nimport seaborn as sns\nimport matplotlib.pyplot as plt\nfrom sklearn.model_selection import train_test_split, GridSearchCV, StratifiedKFold\nfrom sklearn.preprocessing import StandardScaler\nfrom sklearn.tree import DecisionTreeClassifier\nfrom sklearn.ensemble import RandomForestClassifier\nfrom sklearn.linear_model import LogisticRegression\nfrom sklearn.linear_model import LinearRegression\nfrom sklearn.metrics import mean_squared_error\nimport numpy as np\nfrom sklearn.utils import shuffle\n\nimport warnings\nwarnings.filterwarnings('ignore')",
      "metadata": {},
      "execution_count": 1,
      "outputs": []
    },
    {
      "cell_type": "code",
      "source": "\ndf_0 = pd.read_csv('/datasets/geo_data_0.csv')\ndf_1 = pd.read_csv('/datasets/geo_data_1.csv')\ndf_2 = pd.read_csv('/datasets/geo_data_2.csv')\n\ndisplay(df_0.head())\ndisplay(df_1.head())\ndisplay(df_2.head())\n",
      "metadata": {},
      "execution_count": 2,
      "outputs": [
        {
          "output_type": "display_data",
          "data": {
            "text/html": [
              "<div>\n",
              "<style scoped>\n",
              "    .dataframe tbody tr th:only-of-type {\n",
              "        vertical-align: middle;\n",
              "    }\n",
              "\n",
              "    .dataframe tbody tr th {\n",
              "        vertical-align: top;\n",
              "    }\n",
              "\n",
              "    .dataframe thead th {\n",
              "        text-align: right;\n",
              "    }\n",
              "</style>\n",
              "<table border=\"1\" class=\"dataframe\">\n",
              "  <thead>\n",
              "    <tr style=\"text-align: right;\">\n",
              "      <th></th>\n",
              "      <th>id</th>\n",
              "      <th>f0</th>\n",
              "      <th>f1</th>\n",
              "      <th>f2</th>\n",
              "      <th>product</th>\n",
              "    </tr>\n",
              "  </thead>\n",
              "  <tbody>\n",
              "    <tr>\n",
              "      <th>0</th>\n",
              "      <td>txEyH</td>\n",
              "      <td>0.705745</td>\n",
              "      <td>-0.497823</td>\n",
              "      <td>1.221170</td>\n",
              "      <td>105.280062</td>\n",
              "    </tr>\n",
              "    <tr>\n",
              "      <th>1</th>\n",
              "      <td>2acmU</td>\n",
              "      <td>1.334711</td>\n",
              "      <td>-0.340164</td>\n",
              "      <td>4.365080</td>\n",
              "      <td>73.037750</td>\n",
              "    </tr>\n",
              "    <tr>\n",
              "      <th>2</th>\n",
              "      <td>409Wp</td>\n",
              "      <td>1.022732</td>\n",
              "      <td>0.151990</td>\n",
              "      <td>1.419926</td>\n",
              "      <td>85.265647</td>\n",
              "    </tr>\n",
              "    <tr>\n",
              "      <th>3</th>\n",
              "      <td>iJLyR</td>\n",
              "      <td>-0.032172</td>\n",
              "      <td>0.139033</td>\n",
              "      <td>2.978566</td>\n",
              "      <td>168.620776</td>\n",
              "    </tr>\n",
              "    <tr>\n",
              "      <th>4</th>\n",
              "      <td>Xdl7t</td>\n",
              "      <td>1.988431</td>\n",
              "      <td>0.155413</td>\n",
              "      <td>4.751769</td>\n",
              "      <td>154.036647</td>\n",
              "    </tr>\n",
              "  </tbody>\n",
              "</table>\n",
              "</div>"
            ],
            "text/plain": [
              "      id        f0        f1        f2     product\n",
              "0  txEyH  0.705745 -0.497823  1.221170  105.280062\n",
              "1  2acmU  1.334711 -0.340164  4.365080   73.037750\n",
              "2  409Wp  1.022732  0.151990  1.419926   85.265647\n",
              "3  iJLyR -0.032172  0.139033  2.978566  168.620776\n",
              "4  Xdl7t  1.988431  0.155413  4.751769  154.036647"
            ]
          },
          "metadata": {}
        },
        {
          "output_type": "display_data",
          "data": {
            "text/html": [
              "<div>\n",
              "<style scoped>\n",
              "    .dataframe tbody tr th:only-of-type {\n",
              "        vertical-align: middle;\n",
              "    }\n",
              "\n",
              "    .dataframe tbody tr th {\n",
              "        vertical-align: top;\n",
              "    }\n",
              "\n",
              "    .dataframe thead th {\n",
              "        text-align: right;\n",
              "    }\n",
              "</style>\n",
              "<table border=\"1\" class=\"dataframe\">\n",
              "  <thead>\n",
              "    <tr style=\"text-align: right;\">\n",
              "      <th></th>\n",
              "      <th>id</th>\n",
              "      <th>f0</th>\n",
              "      <th>f1</th>\n",
              "      <th>f2</th>\n",
              "      <th>product</th>\n",
              "    </tr>\n",
              "  </thead>\n",
              "  <tbody>\n",
              "    <tr>\n",
              "      <th>0</th>\n",
              "      <td>kBEdx</td>\n",
              "      <td>-15.001348</td>\n",
              "      <td>-8.276000</td>\n",
              "      <td>-0.005876</td>\n",
              "      <td>3.179103</td>\n",
              "    </tr>\n",
              "    <tr>\n",
              "      <th>1</th>\n",
              "      <td>62mP7</td>\n",
              "      <td>14.272088</td>\n",
              "      <td>-3.475083</td>\n",
              "      <td>0.999183</td>\n",
              "      <td>26.953261</td>\n",
              "    </tr>\n",
              "    <tr>\n",
              "      <th>2</th>\n",
              "      <td>vyE1P</td>\n",
              "      <td>6.263187</td>\n",
              "      <td>-5.948386</td>\n",
              "      <td>5.001160</td>\n",
              "      <td>134.766305</td>\n",
              "    </tr>\n",
              "    <tr>\n",
              "      <th>3</th>\n",
              "      <td>KcrkZ</td>\n",
              "      <td>-13.081196</td>\n",
              "      <td>-11.506057</td>\n",
              "      <td>4.999415</td>\n",
              "      <td>137.945408</td>\n",
              "    </tr>\n",
              "    <tr>\n",
              "      <th>4</th>\n",
              "      <td>AHL4O</td>\n",
              "      <td>12.702195</td>\n",
              "      <td>-8.147433</td>\n",
              "      <td>5.004363</td>\n",
              "      <td>134.766305</td>\n",
              "    </tr>\n",
              "  </tbody>\n",
              "</table>\n",
              "</div>"
            ],
            "text/plain": [
              "      id         f0         f1        f2     product\n",
              "0  kBEdx -15.001348  -8.276000 -0.005876    3.179103\n",
              "1  62mP7  14.272088  -3.475083  0.999183   26.953261\n",
              "2  vyE1P   6.263187  -5.948386  5.001160  134.766305\n",
              "3  KcrkZ -13.081196 -11.506057  4.999415  137.945408\n",
              "4  AHL4O  12.702195  -8.147433  5.004363  134.766305"
            ]
          },
          "metadata": {}
        },
        {
          "output_type": "display_data",
          "data": {
            "text/html": [
              "<div>\n",
              "<style scoped>\n",
              "    .dataframe tbody tr th:only-of-type {\n",
              "        vertical-align: middle;\n",
              "    }\n",
              "\n",
              "    .dataframe tbody tr th {\n",
              "        vertical-align: top;\n",
              "    }\n",
              "\n",
              "    .dataframe thead th {\n",
              "        text-align: right;\n",
              "    }\n",
              "</style>\n",
              "<table border=\"1\" class=\"dataframe\">\n",
              "  <thead>\n",
              "    <tr style=\"text-align: right;\">\n",
              "      <th></th>\n",
              "      <th>id</th>\n",
              "      <th>f0</th>\n",
              "      <th>f1</th>\n",
              "      <th>f2</th>\n",
              "      <th>product</th>\n",
              "    </tr>\n",
              "  </thead>\n",
              "  <tbody>\n",
              "    <tr>\n",
              "      <th>0</th>\n",
              "      <td>fwXo0</td>\n",
              "      <td>-1.146987</td>\n",
              "      <td>0.963328</td>\n",
              "      <td>-0.828965</td>\n",
              "      <td>27.758673</td>\n",
              "    </tr>\n",
              "    <tr>\n",
              "      <th>1</th>\n",
              "      <td>WJtFt</td>\n",
              "      <td>0.262778</td>\n",
              "      <td>0.269839</td>\n",
              "      <td>-2.530187</td>\n",
              "      <td>56.069697</td>\n",
              "    </tr>\n",
              "    <tr>\n",
              "      <th>2</th>\n",
              "      <td>ovLUW</td>\n",
              "      <td>0.194587</td>\n",
              "      <td>0.289035</td>\n",
              "      <td>-5.586433</td>\n",
              "      <td>62.871910</td>\n",
              "    </tr>\n",
              "    <tr>\n",
              "      <th>3</th>\n",
              "      <td>q6cA6</td>\n",
              "      <td>2.236060</td>\n",
              "      <td>-0.553760</td>\n",
              "      <td>0.930038</td>\n",
              "      <td>114.572842</td>\n",
              "    </tr>\n",
              "    <tr>\n",
              "      <th>4</th>\n",
              "      <td>WPMUX</td>\n",
              "      <td>-0.515993</td>\n",
              "      <td>1.716266</td>\n",
              "      <td>5.899011</td>\n",
              "      <td>149.600746</td>\n",
              "    </tr>\n",
              "  </tbody>\n",
              "</table>\n",
              "</div>"
            ],
            "text/plain": [
              "      id        f0        f1        f2     product\n",
              "0  fwXo0 -1.146987  0.963328 -0.828965   27.758673\n",
              "1  WJtFt  0.262778  0.269839 -2.530187   56.069697\n",
              "2  ovLUW  0.194587  0.289035 -5.586433   62.871910\n",
              "3  q6cA6  2.236060 -0.553760  0.930038  114.572842\n",
              "4  WPMUX -0.515993  1.716266  5.899011  149.600746"
            ]
          },
          "metadata": {}
        }
      ]
    },
    {
      "cell_type": "code",
      "source": "df_0.info()\nprint('xxxxxxxxxxxxxxxxxxxxxxxxxxxxxxx')\ndf_1.info()\nprint('xxxxxxxxxxxxxxxxxxxxxxxxxxxxxxx')\ndf_2.info()",
      "metadata": {},
      "execution_count": 3,
      "outputs": [
        {
          "name": "stdout",
          "output_type": "stream",
          "text": "<class 'pandas.core.frame.DataFrame'>\n\nRangeIndex: 100000 entries, 0 to 99999\n\nData columns (total 5 columns):\n\n #   Column   Non-Null Count   Dtype  \n\n---  ------   --------------   -----  \n\n 0   id       100000 non-null  object \n\n 1   f0       100000 non-null  float64\n\n 2   f1       100000 non-null  float64\n\n 3   f2       100000 non-null  float64\n\n 4   product  100000 non-null  float64\n\ndtypes: float64(4), object(1)\n\nmemory usage: 3.8+ MB\n\nxxxxxxxxxxxxxxxxxxxxxxxxxxxxxxx\n\n<class 'pandas.core.frame.DataFrame'>\n\nRangeIndex: 100000 entries, 0 to 99999\n\nData columns (total 5 columns):\n\n #   Column   Non-Null Count   Dtype  \n\n---  ------   --------------   -----  \n\n 0   id       100000 non-null  object \n\n 1   f0       100000 non-null  float64\n\n 2   f1       100000 non-null  float64\n\n 3   f2       100000 non-null  float64\n\n 4   product  100000 non-null  float64\n\ndtypes: float64(4), object(1)\n\nmemory usage: 3.8+ MB\n\nxxxxxxxxxxxxxxxxxxxxxxxxxxxxxxx\n\n<class 'pandas.core.frame.DataFrame'>\n\nRangeIndex: 100000 entries, 0 to 99999\n\nData columns (total 5 columns):\n\n #   Column   Non-Null Count   Dtype  \n\n---  ------   --------------   -----  \n\n 0   id       100000 non-null  object \n\n 1   f0       100000 non-null  float64\n\n 2   f1       100000 non-null  float64\n\n 3   f2       100000 non-null  float64\n\n 4   product  100000 non-null  float64\n\ndtypes: float64(4), object(1)\n\nmemory usage: 3.8+ MB\n"
        }
      ]
    },
    {
      "cell_type": "code",
      "source": "print(f'Размер датасета geo_data_0 = {df_0.shape}')\nprint(f'Размер датасета geo_data_1 = {df_1.shape}')\nprint(f'Размер датасета geo_data_2 = {df_2.shape}')",
      "metadata": {},
      "execution_count": 4,
      "outputs": [
        {
          "name": "stdout",
          "output_type": "stream",
          "text": "Размер датасета geo_data_0 = (100000, 5)\n\nРазмер датасета geo_data_1 = (100000, 5)\n\nРазмер датасета geo_data_2 = (100000, 5)\n"
        }
      ]
    },
    {
      "cell_type": "code",
      "source": "display(df_0.describe())\ndisplay(df_1.describe())\ndisplay(df_2.describe())",
      "metadata": {
        "scrolled": true
      },
      "execution_count": 5,
      "outputs": [
        {
          "output_type": "display_data",
          "data": {
            "text/html": [
              "<div>\n",
              "<style scoped>\n",
              "    .dataframe tbody tr th:only-of-type {\n",
              "        vertical-align: middle;\n",
              "    }\n",
              "\n",
              "    .dataframe tbody tr th {\n",
              "        vertical-align: top;\n",
              "    }\n",
              "\n",
              "    .dataframe thead th {\n",
              "        text-align: right;\n",
              "    }\n",
              "</style>\n",
              "<table border=\"1\" class=\"dataframe\">\n",
              "  <thead>\n",
              "    <tr style=\"text-align: right;\">\n",
              "      <th></th>\n",
              "      <th>f0</th>\n",
              "      <th>f1</th>\n",
              "      <th>f2</th>\n",
              "      <th>product</th>\n",
              "    </tr>\n",
              "  </thead>\n",
              "  <tbody>\n",
              "    <tr>\n",
              "      <th>count</th>\n",
              "      <td>100000.000000</td>\n",
              "      <td>100000.000000</td>\n",
              "      <td>100000.000000</td>\n",
              "      <td>100000.000000</td>\n",
              "    </tr>\n",
              "    <tr>\n",
              "      <th>mean</th>\n",
              "      <td>0.500419</td>\n",
              "      <td>0.250143</td>\n",
              "      <td>2.502647</td>\n",
              "      <td>92.500000</td>\n",
              "    </tr>\n",
              "    <tr>\n",
              "      <th>std</th>\n",
              "      <td>0.871832</td>\n",
              "      <td>0.504433</td>\n",
              "      <td>3.248248</td>\n",
              "      <td>44.288691</td>\n",
              "    </tr>\n",
              "    <tr>\n",
              "      <th>min</th>\n",
              "      <td>-1.408605</td>\n",
              "      <td>-0.848218</td>\n",
              "      <td>-12.088328</td>\n",
              "      <td>0.000000</td>\n",
              "    </tr>\n",
              "    <tr>\n",
              "      <th>25%</th>\n",
              "      <td>-0.072580</td>\n",
              "      <td>-0.200881</td>\n",
              "      <td>0.287748</td>\n",
              "      <td>56.497507</td>\n",
              "    </tr>\n",
              "    <tr>\n",
              "      <th>50%</th>\n",
              "      <td>0.502360</td>\n",
              "      <td>0.250252</td>\n",
              "      <td>2.515969</td>\n",
              "      <td>91.849972</td>\n",
              "    </tr>\n",
              "    <tr>\n",
              "      <th>75%</th>\n",
              "      <td>1.073581</td>\n",
              "      <td>0.700646</td>\n",
              "      <td>4.715088</td>\n",
              "      <td>128.564089</td>\n",
              "    </tr>\n",
              "    <tr>\n",
              "      <th>max</th>\n",
              "      <td>2.362331</td>\n",
              "      <td>1.343769</td>\n",
              "      <td>16.003790</td>\n",
              "      <td>185.364347</td>\n",
              "    </tr>\n",
              "  </tbody>\n",
              "</table>\n",
              "</div>"
            ],
            "text/plain": [
              "                  f0             f1             f2        product\n",
              "count  100000.000000  100000.000000  100000.000000  100000.000000\n",
              "mean        0.500419       0.250143       2.502647      92.500000\n",
              "std         0.871832       0.504433       3.248248      44.288691\n",
              "min        -1.408605      -0.848218     -12.088328       0.000000\n",
              "25%        -0.072580      -0.200881       0.287748      56.497507\n",
              "50%         0.502360       0.250252       2.515969      91.849972\n",
              "75%         1.073581       0.700646       4.715088     128.564089\n",
              "max         2.362331       1.343769      16.003790     185.364347"
            ]
          },
          "metadata": {}
        },
        {
          "output_type": "display_data",
          "data": {
            "text/html": [
              "<div>\n",
              "<style scoped>\n",
              "    .dataframe tbody tr th:only-of-type {\n",
              "        vertical-align: middle;\n",
              "    }\n",
              "\n",
              "    .dataframe tbody tr th {\n",
              "        vertical-align: top;\n",
              "    }\n",
              "\n",
              "    .dataframe thead th {\n",
              "        text-align: right;\n",
              "    }\n",
              "</style>\n",
              "<table border=\"1\" class=\"dataframe\">\n",
              "  <thead>\n",
              "    <tr style=\"text-align: right;\">\n",
              "      <th></th>\n",
              "      <th>f0</th>\n",
              "      <th>f1</th>\n",
              "      <th>f2</th>\n",
              "      <th>product</th>\n",
              "    </tr>\n",
              "  </thead>\n",
              "  <tbody>\n",
              "    <tr>\n",
              "      <th>count</th>\n",
              "      <td>100000.000000</td>\n",
              "      <td>100000.000000</td>\n",
              "      <td>100000.000000</td>\n",
              "      <td>100000.000000</td>\n",
              "    </tr>\n",
              "    <tr>\n",
              "      <th>mean</th>\n",
              "      <td>1.141296</td>\n",
              "      <td>-4.796579</td>\n",
              "      <td>2.494541</td>\n",
              "      <td>68.825000</td>\n",
              "    </tr>\n",
              "    <tr>\n",
              "      <th>std</th>\n",
              "      <td>8.965932</td>\n",
              "      <td>5.119872</td>\n",
              "      <td>1.703572</td>\n",
              "      <td>45.944423</td>\n",
              "    </tr>\n",
              "    <tr>\n",
              "      <th>min</th>\n",
              "      <td>-31.609576</td>\n",
              "      <td>-26.358598</td>\n",
              "      <td>-0.018144</td>\n",
              "      <td>0.000000</td>\n",
              "    </tr>\n",
              "    <tr>\n",
              "      <th>25%</th>\n",
              "      <td>-6.298551</td>\n",
              "      <td>-8.267985</td>\n",
              "      <td>1.000021</td>\n",
              "      <td>26.953261</td>\n",
              "    </tr>\n",
              "    <tr>\n",
              "      <th>50%</th>\n",
              "      <td>1.153055</td>\n",
              "      <td>-4.813172</td>\n",
              "      <td>2.011479</td>\n",
              "      <td>57.085625</td>\n",
              "    </tr>\n",
              "    <tr>\n",
              "      <th>75%</th>\n",
              "      <td>8.621015</td>\n",
              "      <td>-1.332816</td>\n",
              "      <td>3.999904</td>\n",
              "      <td>107.813044</td>\n",
              "    </tr>\n",
              "    <tr>\n",
              "      <th>max</th>\n",
              "      <td>29.421755</td>\n",
              "      <td>18.734063</td>\n",
              "      <td>5.019721</td>\n",
              "      <td>137.945408</td>\n",
              "    </tr>\n",
              "  </tbody>\n",
              "</table>\n",
              "</div>"
            ],
            "text/plain": [
              "                  f0             f1             f2        product\n",
              "count  100000.000000  100000.000000  100000.000000  100000.000000\n",
              "mean        1.141296      -4.796579       2.494541      68.825000\n",
              "std         8.965932       5.119872       1.703572      45.944423\n",
              "min       -31.609576     -26.358598      -0.018144       0.000000\n",
              "25%        -6.298551      -8.267985       1.000021      26.953261\n",
              "50%         1.153055      -4.813172       2.011479      57.085625\n",
              "75%         8.621015      -1.332816       3.999904     107.813044\n",
              "max        29.421755      18.734063       5.019721     137.945408"
            ]
          },
          "metadata": {}
        },
        {
          "output_type": "display_data",
          "data": {
            "text/html": [
              "<div>\n",
              "<style scoped>\n",
              "    .dataframe tbody tr th:only-of-type {\n",
              "        vertical-align: middle;\n",
              "    }\n",
              "\n",
              "    .dataframe tbody tr th {\n",
              "        vertical-align: top;\n",
              "    }\n",
              "\n",
              "    .dataframe thead th {\n",
              "        text-align: right;\n",
              "    }\n",
              "</style>\n",
              "<table border=\"1\" class=\"dataframe\">\n",
              "  <thead>\n",
              "    <tr style=\"text-align: right;\">\n",
              "      <th></th>\n",
              "      <th>f0</th>\n",
              "      <th>f1</th>\n",
              "      <th>f2</th>\n",
              "      <th>product</th>\n",
              "    </tr>\n",
              "  </thead>\n",
              "  <tbody>\n",
              "    <tr>\n",
              "      <th>count</th>\n",
              "      <td>100000.000000</td>\n",
              "      <td>100000.000000</td>\n",
              "      <td>100000.000000</td>\n",
              "      <td>100000.000000</td>\n",
              "    </tr>\n",
              "    <tr>\n",
              "      <th>mean</th>\n",
              "      <td>0.002023</td>\n",
              "      <td>-0.002081</td>\n",
              "      <td>2.495128</td>\n",
              "      <td>95.000000</td>\n",
              "    </tr>\n",
              "    <tr>\n",
              "      <th>std</th>\n",
              "      <td>1.732045</td>\n",
              "      <td>1.730417</td>\n",
              "      <td>3.473445</td>\n",
              "      <td>44.749921</td>\n",
              "    </tr>\n",
              "    <tr>\n",
              "      <th>min</th>\n",
              "      <td>-8.760004</td>\n",
              "      <td>-7.084020</td>\n",
              "      <td>-11.970335</td>\n",
              "      <td>0.000000</td>\n",
              "    </tr>\n",
              "    <tr>\n",
              "      <th>25%</th>\n",
              "      <td>-1.162288</td>\n",
              "      <td>-1.174820</td>\n",
              "      <td>0.130359</td>\n",
              "      <td>59.450441</td>\n",
              "    </tr>\n",
              "    <tr>\n",
              "      <th>50%</th>\n",
              "      <td>0.009424</td>\n",
              "      <td>-0.009482</td>\n",
              "      <td>2.484236</td>\n",
              "      <td>94.925613</td>\n",
              "    </tr>\n",
              "    <tr>\n",
              "      <th>75%</th>\n",
              "      <td>1.158535</td>\n",
              "      <td>1.163678</td>\n",
              "      <td>4.858794</td>\n",
              "      <td>130.595027</td>\n",
              "    </tr>\n",
              "    <tr>\n",
              "      <th>max</th>\n",
              "      <td>7.238262</td>\n",
              "      <td>7.844801</td>\n",
              "      <td>16.739402</td>\n",
              "      <td>190.029838</td>\n",
              "    </tr>\n",
              "  </tbody>\n",
              "</table>\n",
              "</div>"
            ],
            "text/plain": [
              "                  f0             f1             f2        product\n",
              "count  100000.000000  100000.000000  100000.000000  100000.000000\n",
              "mean        0.002023      -0.002081       2.495128      95.000000\n",
              "std         1.732045       1.730417       3.473445      44.749921\n",
              "min        -8.760004      -7.084020     -11.970335       0.000000\n",
              "25%        -1.162288      -1.174820       0.130359      59.450441\n",
              "50%         0.009424      -0.009482       2.484236      94.925613\n",
              "75%         1.158535       1.163678       4.858794     130.595027\n",
              "max         7.238262       7.844801      16.739402     190.029838"
            ]
          },
          "metadata": {}
        }
      ]
    },
    {
      "cell_type": "code",
      "source": "def make_hist(df, name):\n    n_bins=4\n    \n    fig, ((ax0, ax1), (ax2, ax3)) = plt.subplots(nrows=2, ncols=2, figsize=(10,10))\n    \n    fig.suptitle(name, fontsize=16)\n     \n    \n    ax0.hist(df['f0'], n_bins, histtype='bar')\n    ax0.set_title('f0')\n    ax0.set_xlabel('Value')\n    ax0.set_ylabel('Amount')\n    \n    ax1.hist(df['f1'], n_bins, histtype='bar')\n    ax1.set_title('f1')\n    ax1.set_xlabel('Value')\n    ax1.set_ylabel('Amount')\n    \n    ax2.hist(df['f2'], n_bins, histtype='bar')\n    ax2.set_title('f2')\n    ax2.set_xlabel('Value')\n    ax2.set_ylabel('Amount')\n    \n    ax3.hist(df['product'], n_bins, histtype='bar')\n    ax3.set_title('product')\n    ax3.set_xlabel('Value')\n    ax3.set_ylabel('Amount, thousand barrels')\n    \n    fig.tight_layout()\n    plt.show()",
      "metadata": {},
      "execution_count": 6,
      "outputs": []
    },
    {
      "cell_type": "code",
      "source": "make_hist(df_0, \"geo_data_0\")",
      "metadata": {},
      "execution_count": 7,
      "outputs": [
        {
          "output_type": "display_data",
          "data": {
            "image/png": "[encoded data removed]",
            "text/plain": [
              "<Figure size 720x720 with 4 Axes>"
            ]
          },
          "metadata": {
            "needs_background": "light"
          }
        }
      ]
    },
    {
      "cell_type": "code",
      "source": "make_hist(df_1, \"geo_data_1\")",
      "metadata": {},
      "execution_count": 8,
      "outputs": [
        {
          "output_type": "display_data",
          "data": {
            "image/png": "[encoded data removed]",
            "text/plain": [
              "<Figure size 720x720 with 4 Axes>"
            ]
          },
          "metadata": {
            "needs_background": "light"
          }
        }
      ]
    },
    {
      "cell_type": "code",
      "source": "make_hist(df_2, \"geo_data_2\")",
      "metadata": {},
      "execution_count": 9,
      "outputs": [
        {
          "output_type": "display_data",
          "data": {
            "image/png": "[encoded data removed]",
            "text/plain": [
              "<Figure size 720x720 with 4 Axes>"
            ]
          },
          "metadata": {
            "needs_background": "light"
          }
        }
      ]
    },
    {
      "cell_type": "markdown",
      "source": "#### Вывод",
      "metadata": {}
    },
    {
      "cell_type": "markdown",
      "source": "На гистограммах рассмотрим распределение значений для каждого из набора данных. Особых вывыодов относиельно адекватности f0,f1,f2 мы сделать не можем, так как данные синтетические, однако же можем рассмотреть product. Для geo_data_0 и geo_data_2 мы видим нормальное распределение, однако же geo_data_1 существенно отличается от них. Никаких выводов относительно адекватности этого мы делать не будем, однако же возьмем это на заметку.",
      "metadata": {}
    },
    {
      "cell_type": "markdown",
      "source": "### Перейдем к предобработке",
      "metadata": {}
    },
    {
      "cell_type": "code",
      "source": "df_0.duplicated().sum()",
      "metadata": {},
      "execution_count": 10,
      "outputs": [
        {
          "execution_count": 10,
          "output_type": "execute_result",
          "data": {
            "text/plain": [
              "0"
            ]
          },
          "metadata": {}
        }
      ]
    },
    {
      "cell_type": "code",
      "source": "df_1.duplicated().sum()",
      "metadata": {},
      "execution_count": 11,
      "outputs": [
        {
          "execution_count": 11,
          "output_type": "execute_result",
          "data": {
            "text/plain": [
              "0"
            ]
          },
          "metadata": {}
        }
      ]
    },
    {
      "cell_type": "code",
      "source": "df_2.duplicated().sum()",
      "metadata": {},
      "execution_count": 12,
      "outputs": [
        {
          "execution_count": 12,
          "output_type": "execute_result",
          "data": {
            "text/plain": [
              "0"
            ]
          },
          "metadata": {}
        }
      ]
    },
    {
      "cell_type": "code",
      "source": "df_0['id'].value_counts()",
      "metadata": {},
      "execution_count": 13,
      "outputs": [
        {
          "execution_count": 13,
          "output_type": "execute_result",
          "data": {
            "text/plain": [
              "74z30    2\n",
              "AGS9W    2\n",
              "fiKDv    2\n",
              "TtcGQ    2\n",
              "Tdehs    2\n",
              "        ..\n",
              "Qpq5c    1\n",
              "5PGl2    1\n",
              "RUsZb    1\n",
              "LZduu    1\n",
              "7u40q    1\n",
              "Name: id, Length: 99990, dtype: int64"
            ]
          },
          "metadata": {}
        }
      ]
    },
    {
      "cell_type": "code",
      "source": "df_1['id'].value_counts()",
      "metadata": {},
      "execution_count": 14,
      "outputs": [
        {
          "execution_count": 14,
          "output_type": "execute_result",
          "data": {
            "text/plain": [
              "5ltQ6    2\n",
              "LHZR0    2\n",
              "bfPNe    2\n",
              "wt4Uk    2\n",
              "KqYDx    1\n",
              "        ..\n",
              "4FS7u    1\n",
              "L7guQ    1\n",
              "tq0Vb    1\n",
              "gC7dT    1\n",
              "oqmlo    1\n",
              "Name: id, Length: 99996, dtype: int64"
            ]
          },
          "metadata": {}
        }
      ]
    },
    {
      "cell_type": "code",
      "source": "df_2['id'].value_counts()",
      "metadata": {},
      "execution_count": 15,
      "outputs": [
        {
          "execution_count": 15,
          "output_type": "execute_result",
          "data": {
            "text/plain": [
              "VF7Jo    2\n",
              "xCHr8    2\n",
              "Vcm5J    2\n",
              "KUPhW    2\n",
              "Mctkn    1\n",
              "        ..\n",
              "PdFDV    1\n",
              "BdgUq    1\n",
              "Z3Z5w    1\n",
              "oAsuh    1\n",
              "Bdn9F    1\n",
              "Name: id, Length: 99996, dtype: int64"
            ]
          },
          "metadata": {}
        }
      ]
    },
    {
      "cell_type": "markdown",
      "source": "Похоже, что скважины измеряли многократно, либо уникальный id не такой уж и уникальный. В любом случае для обучения данный признак нам никак не поможет, поэтому просто уберем его.",
      "metadata": {}
    },
    {
      "cell_type": "code",
      "source": "df_0.drop(columns='id', inplace=True)\ndf_1.drop(columns='id', inplace=True)\ndf_2.drop(columns='id', inplace=True)",
      "metadata": {},
      "execution_count": 16,
      "outputs": []
    },
    {
      "cell_type": "code",
      "source": "df_0.info()\nprint('xxxxxxxxxxxxxxxxxxxxxxxxxxxxxxx')\ndf_1.info()\nprint('xxxxxxxxxxxxxxxxxxxxxxxxxxxxxxx')\ndf_2.info()",
      "metadata": {},
      "execution_count": 17,
      "outputs": [
        {
          "name": "stdout",
          "output_type": "stream",
          "text": "<class 'pandas.core.frame.DataFrame'>\n\nRangeIndex: 100000 entries, 0 to 99999\n\nData columns (total 4 columns):\n\n #   Column   Non-Null Count   Dtype  \n\n---  ------   --------------   -----  \n\n 0   f0       100000 non-null  float64\n\n 1   f1       100000 non-null  float64\n\n 2   f2       100000 non-null  float64\n\n 3   product  100000 non-null  float64\n\ndtypes: float64(4)\n\nmemory usage: 3.1 MB\n\nxxxxxxxxxxxxxxxxxxxxxxxxxxxxxxx\n\n<class 'pandas.core.frame.DataFrame'>\n\nRangeIndex: 100000 entries, 0 to 99999\n\nData columns (total 4 columns):\n\n #   Column   Non-Null Count   Dtype  \n\n---  ------   --------------   -----  \n\n 0   f0       100000 non-null  float64\n\n 1   f1       100000 non-null  float64\n\n 2   f2       100000 non-null  float64\n\n 3   product  100000 non-null  float64\n\ndtypes: float64(4)\n\nmemory usage: 3.1 MB\n\nxxxxxxxxxxxxxxxxxxxxxxxxxxxxxxx\n\n<class 'pandas.core.frame.DataFrame'>\n\nRangeIndex: 100000 entries, 0 to 99999\n\nData columns (total 4 columns):\n\n #   Column   Non-Null Count   Dtype  \n\n---  ------   --------------   -----  \n\n 0   f0       100000 non-null  float64\n\n 1   f1       100000 non-null  float64\n\n 2   f2       100000 non-null  float64\n\n 3   product  100000 non-null  float64\n\ndtypes: float64(4)\n\nmemory usage: 3.1 MB\n"
        }
      ]
    },
    {
      "cell_type": "code",
      "source": "data = dict()\ndata[0] = df_0\ndata[1] = df_1\ndata[2] = df_2",
      "metadata": {},
      "execution_count": 18,
      "outputs": []
    },
    {
      "cell_type": "markdown",
      "source": "### Вывод",
      "metadata": {}
    },
    {
      "cell_type": "markdown",
      "source": "В данном разделе мы познакомились с данными и устранили ненужный нам признак id, который никак не повлияет на результаты обучения. На данном этапе данный готовы для обучения на модели.",
      "metadata": {}
    },
    {
      "cell_type": "markdown",
      "source": "## Обучение и проверка модели",
      "metadata": {}
    },
    {
      "cell_type": "markdown",
      "source": "### Моделирование",
      "metadata": {}
    },
    {
      "cell_type": "markdown",
      "source": "Выделим признаки и целевые значения",
      "metadata": {}
    },
    {
      "cell_type": "code",
      "source": "features = dict()\ntarget = dict()\nfeatures_train = dict()\nfeatures_valid = dict()\ntarget_train = dict()\ntarget_valid = dict()\nmodel = dict()\npredict_valid = dict()",
      "metadata": {},
      "execution_count": 19,
      "outputs": []
    },
    {
      "cell_type": "code",
      "source": "def fit_model(region_num):\n    features[region_num] = data[region_num].drop('product', axis=1)\n    target[region_num] = data[region_num]['product']\n    \n    features_train[region_num], features_valid[region_num], target_train[region_num], target_valid[region_num] = train_test_split(\n    features[region_num], target[region_num], train_size=0.75, random_state=12345)\n    \n    print(features_train[region_num].shape)\n    print(features_valid[region_num].shape)\n    \n    scaler = StandardScaler()\n    scaler.fit(features_train[region_num])\n    \n    features_train[region_num] = scaler.transform(features_train[region_num])\n    features_valid[region_num] = scaler.transform(features_valid[region_num])\n    \n    model[region_num] = LinearRegression()\n    \n    model[region_num].fit(features_train[region_num], target_train[region_num])\n    \n    predict_valid[region_num] = model[region_num].predict(features_valid[region_num])\n    \n    print('rmse: ', mean_squared_error(target_valid[region_num], predict_valid[region_num], squared=False))",
      "metadata": {},
      "execution_count": 20,
      "outputs": []
    },
    {
      "cell_type": "code",
      "source": "fit_model(0)",
      "metadata": {},
      "execution_count": 21,
      "outputs": [
        {
          "name": "stdout",
          "output_type": "stream",
          "text": "(75000, 3)\n\n(25000, 3)\n\nrmse:  37.5794217150813\n"
        }
      ]
    },
    {
      "cell_type": "code",
      "source": "fit_model(1)",
      "metadata": {},
      "execution_count": 22,
      "outputs": [
        {
          "name": "stdout",
          "output_type": "stream",
          "text": "(75000, 3)\n\n(25000, 3)\n\nrmse:  0.893099286775617\n"
        }
      ]
    },
    {
      "cell_type": "code",
      "source": "fit_model(2)",
      "metadata": {},
      "execution_count": 23,
      "outputs": [
        {
          "name": "stdout",
          "output_type": "stream",
          "text": "(75000, 3)\n\n(25000, 3)\n\nrmse:  40.02970873393434\n"
        }
      ]
    },
    {
      "cell_type": "code",
      "source": "sns.heatmap(df_1.corr())",
      "metadata": {},
      "execution_count": 24,
      "outputs": [
        {
          "execution_count": 24,
          "output_type": "execute_result",
          "data": {
            "text/plain": [
              "<AxesSubplot:>"
            ]
          },
          "metadata": {}
        },
        {
          "output_type": "display_data",
          "data": {
            "image/png": "[encoded data removed]",
            "text/plain": [
              "<Figure size 432x288 with 2 Axes>"
            ]
          },
          "metadata": {
            "needs_background": "light"
          }
        }
      ]
    },
    {
      "cell_type": "code",
      "source": "df_1.corr()",
      "metadata": {},
      "execution_count": 25,
      "outputs": [
        {
          "execution_count": 25,
          "output_type": "execute_result",
          "data": {
            "text/html": [
              "<div>\n",
              "<style scoped>\n",
              "    .dataframe tbody tr th:only-of-type {\n",
              "        vertical-align: middle;\n",
              "    }\n",
              "\n",
              "    .dataframe tbody tr th {\n",
              "        vertical-align: top;\n",
              "    }\n",
              "\n",
              "    .dataframe thead th {\n",
              "        text-align: right;\n",
              "    }\n",
              "</style>\n",
              "<table border=\"1\" class=\"dataframe\">\n",
              "  <thead>\n",
              "    <tr style=\"text-align: right;\">\n",
              "      <th></th>\n",
              "      <th>f0</th>\n",
              "      <th>f1</th>\n",
              "      <th>f2</th>\n",
              "      <th>product</th>\n",
              "    </tr>\n",
              "  </thead>\n",
              "  <tbody>\n",
              "    <tr>\n",
              "      <th>f0</th>\n",
              "      <td>1.000000</td>\n",
              "      <td>0.182287</td>\n",
              "      <td>-0.001777</td>\n",
              "      <td>-0.030491</td>\n",
              "    </tr>\n",
              "    <tr>\n",
              "      <th>f1</th>\n",
              "      <td>0.182287</td>\n",
              "      <td>1.000000</td>\n",
              "      <td>-0.002595</td>\n",
              "      <td>-0.010155</td>\n",
              "    </tr>\n",
              "    <tr>\n",
              "      <th>f2</th>\n",
              "      <td>-0.001777</td>\n",
              "      <td>-0.002595</td>\n",
              "      <td>1.000000</td>\n",
              "      <td>0.999397</td>\n",
              "    </tr>\n",
              "    <tr>\n",
              "      <th>product</th>\n",
              "      <td>-0.030491</td>\n",
              "      <td>-0.010155</td>\n",
              "      <td>0.999397</td>\n",
              "      <td>1.000000</td>\n",
              "    </tr>\n",
              "  </tbody>\n",
              "</table>\n",
              "</div>"
            ],
            "text/plain": [
              "               f0        f1        f2   product\n",
              "f0       1.000000  0.182287 -0.001777 -0.030491\n",
              "f1       0.182287  1.000000 -0.002595 -0.010155\n",
              "f2      -0.001777 -0.002595  1.000000  0.999397\n",
              "product -0.030491 -0.010155  0.999397  1.000000"
            ]
          },
          "metadata": {}
        }
      ]
    },
    {
      "cell_type": "markdown",
      "source": "### Вывод",
      "metadata": {}
    },
    {
      "cell_type": "markdown",
      "source": "В данном разделе было произведено моделирование и обучение модели. В ходе данных этапов было произведено разделение выборки на тернировочную и валидационную в отношении 75:25, данные были промастштабированны. Получили следующие rmse у трех моделей регрессии:\n- Регион 0, rmse:  37.5794217150813\n- Регион 1, rmse:  0.893099286775617\n- Регион 2, rmse:  40.02970873393434\n\nОднако данные результаты неудивительны при такой кореляции.",
      "metadata": {}
    },
    {
      "cell_type": "markdown",
      "source": "## Подготовка к расчёту прибыли",
      "metadata": {}
    },
    {
      "cell_type": "markdown",
      "source": "Выделим константы",
      "metadata": {}
    },
    {
      "cell_type": "code",
      "source": "budget = 10000000000\namount_total = 500\namount_research = 200\nrevenue_product = 450000\nmin_product_hole = budget / (amount_research * revenue_product)\n\nprint('Минимальное количество продукта для выхода в 0:', min_product_hole)",
      "metadata": {},
      "execution_count": 26,
      "outputs": [
        {
          "name": "stdout",
          "output_type": "stream",
          "text": "Минимальное количество продукта для выхода в 0: 111.11111111111111\n"
        }
      ]
    },
    {
      "cell_type": "markdown",
      "source": "Выпишем функцию для рассчета прибыли",
      "metadata": {}
    },
    {
      "cell_type": "code",
      "source": "def revenue(target,probabilities,count):\n    probs_sorted = probabilities.sort_values(ascending=False)\n    \n    selected = target[probs_sorted.index][:count]\n    \n    return revenue_product * selected.sum() - budget",
      "metadata": {},
      "execution_count": 27,
      "outputs": []
    },
    {
      "cell_type": "markdown",
      "source": "## Расчёт прибыли и рисков ",
      "metadata": {}
    },
    {
      "cell_type": "code",
      "source": "def result_region(region_num, target, predictions):\n    state = np.random.RandomState(12345)\n    \n    values = []\n    for i in range(1000):\n        target_subsample = target.reset_index(drop=True).sample(n=amount_total, replace=True, random_state=state)\n        probs_subsample = pd.Series(predictions)[target_subsample.index]\n        \n        values.append(revenue(target_subsample, probs_subsample, amount_research))\n        \n    values = pd.Series(values)\n    lower = values.quantile(0.025)\n    upper = values.quantile(0.975)\n    \n    risk = (values < 0).mean() * 100\n    \n    print(f'Средняя прибыль в регионе: {round(values.mean())} руб. ')\n    print(f'95% доверительный интервал: ({lower}, {upper})')\n    print(f'Риск убытка: {risk} ')",
      "metadata": {},
      "execution_count": 28,
      "outputs": []
    },
    {
      "cell_type": "code",
      "source": "result_region(0, target_valid[0], predict_valid[0])",
      "metadata": {},
      "execution_count": 29,
      "outputs": [
        {
          "name": "stdout",
          "output_type": "stream",
          "text": "Средняя прибыль в регионе: 425938527 руб. \n\n95% доверительный интервал: (-102090094.83793654, 947976353.3583689)\n\nРиск убытка: 6.0 \n"
        }
      ]
    },
    {
      "cell_type": "code",
      "source": "result_region(1, target_valid[1], predict_valid[1])",
      "metadata": {},
      "execution_count": 30,
      "outputs": [
        {
          "name": "stdout",
          "output_type": "stream",
          "text": "Средняя прибыль в регионе: 515222773 руб. \n\n95% доверительный интервал: (68873225.37050176, 931547591.2570494)\n\nРиск убытка: 1.0 \n"
        }
      ]
    },
    {
      "cell_type": "code",
      "source": "result_region(2,target_valid[2], predict_valid[2])",
      "metadata": {},
      "execution_count": 31,
      "outputs": [
        {
          "name": "stdout",
          "output_type": "stream",
          "text": "Средняя прибыль в регионе: 435008363 руб. \n\n95% доверительный интервал: (-128880547.32978901, 969706954.1802661)\n\nРиск убытка: 6.4 \n"
        }
      ]
    },
    {
      "cell_type": "markdown",
      "source": "### Вывод",
      "metadata": {}
    },
    {
      "cell_type": "markdown",
      "source": "Подходящим для нас является второй регион, однако помним, что в исходных данных слишком высокая корреляция между product и f2.",
      "metadata": {}
    },
    {
      "cell_type": "markdown",
      "source": "## Общий вывод",
      "metadata": {}
    },
    {
      "cell_type": "markdown",
      "source": "В ходе данной работы были изучены данные добывающей компании «ГлавРосГосНефть» в трех регионах.\n\nБыла выполнена предобработка данных, в ходе которой:\n-  Устранили ненужный нам признак id, который никак не повлияет на результаты обучения\n\nБыло произведено обучение модели линейной регрессии, которая дала наилучшие результаты на втором регионе, однако позже была также обнаружена высокая корреляция между признаком f2 и product.\n\nБыла произведена подготовка и рассчет прибыли во всех регионах. Самым лучшим оказался второй регион со следующими результатами:\n- Средняя прибыль в регионе: 515222773. \n- 95% доверительный интервал: (68873225.37050176, 931547591.2570494)\n- Риск убытка: 1.0 ",
      "metadata": {}
    },
    {
      "cell_type": "code",
      "source": "",
      "metadata": {},
      "execution_count": null,
      "outputs": []
    }
  ]
}